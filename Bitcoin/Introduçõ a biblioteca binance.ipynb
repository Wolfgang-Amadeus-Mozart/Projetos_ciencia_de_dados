{
 "cells": [
  {
   "cell_type": "markdown",
   "id": "caff1649-251d-463a-a719-ae7db2758960",
   "metadata": {},
   "source": [
    "## Importações"
   ]
  },
  {
   "cell_type": "markdown",
   "id": "6b8ffa1e-6178-4073-8d5a-25be3ceadc4f",
   "metadata": {},
   "source": [
    "Nessa primeira sessão importarei de antemão todas as bibliotecas de python necessário para a execução dos códigos abaixo, evitando importações separadas em células, exceto quando parecer por bem deixar claro qual biblioteca esta sendo utilizada "
   ]
  },
  {
   "cell_type": "code",
   "execution_count": 1,
   "id": "bf7a8c13-144d-41b3-b288-58ab3b33b01c",
   "metadata": {},
   "outputs": [],
   "source": [
    "import matplotlib.pyplot as plt\n",
    "import plotly.express as px\n",
    "from binance.client import Client\n",
    "import seaborn as sns\n",
    "import numpy as np"
   ]
  },
  {
   "cell_type": "markdown",
   "id": "79a70149-0ad6-4ce5-ad41-4189a91eb0f3",
   "metadata": {},
   "source": [
    "# Criando a primeira chamana na API da binance"
   ]
  },
  {
   "cell_type": "code",
   "execution_count": 4,
   "id": "3512a42a-ca99-4b29-ac75-abc2a53dfbed",
   "metadata": {},
   "outputs": [
    {
     "name": "stdout",
     "output_type": "stream",
     "text": [
      "Preço do BTC/USDT: 109643.56000000\n"
     ]
    }
   ],
   "source": [
    "#Realizando o primeiro teste, preço do BTC\n",
    "\n",
    "\n",
    "# Sem autenticação (somente leitura pública)\n",
    "client = Client()\n",
    "\n",
    "# Preço atual do BTC em USDT\n",
    "ticker = client.get_symbol_ticker(symbol=\"BTCUSDT\")\n",
    "print(f\"Preço do BTC/USDT: {ticker['price']}\")"
   ]
  },
  {
   "cell_type": "code",
   "execution_count": 5,
   "id": "d04bbbdf-d657-4ff7-ac29-91f302e76b8f",
   "metadata": {},
   "outputs": [],
   "source": [
    "#Verificnado todos os tickers/symbls disponivei\n",
    "import pandas as pd\n",
    "\n",
    "client = Client()\n",
    "\n",
    "# Pega todas as informações da exchange\n",
    "exchange_info = client.get_exchange_info()\n",
    "\n",
    "# Extrai os símbolos\n",
    "symbols = [s['symbol'] for s in exchange_info['symbols']]"
   ]
  },
  {
   "cell_type": "code",
   "execution_count": 6,
   "id": "124882f2-bc97-4faf-8fa3-82d89eb111cd",
   "metadata": {},
   "outputs": [
    {
     "data": {
      "text/plain": [
       "3111"
      ]
     },
     "execution_count": 6,
     "metadata": {},
     "output_type": "execute_result"
    }
   ],
   "source": [
    "#quantidade de symbols (pares de trading)\n",
    "len(symbols)"
   ]
  },
  {
   "cell_type": "code",
   "execution_count": 7,
   "id": "45cb64be-5cc2-4c10-b5b8-426450847c6a",
   "metadata": {},
   "outputs": [
    {
     "data": {
      "text/html": [
       "<div>\n",
       "<style scoped>\n",
       "    .dataframe tbody tr th:only-of-type {\n",
       "        vertical-align: middle;\n",
       "    }\n",
       "\n",
       "    .dataframe tbody tr th {\n",
       "        vertical-align: top;\n",
       "    }\n",
       "\n",
       "    .dataframe thead th {\n",
       "        text-align: right;\n",
       "    }\n",
       "</style>\n",
       "<table border=\"1\" class=\"dataframe\">\n",
       "  <thead>\n",
       "    <tr style=\"text-align: right;\">\n",
       "      <th></th>\n",
       "      <th>Symbol</th>\n",
       "    </tr>\n",
       "  </thead>\n",
       "  <tbody>\n",
       "    <tr>\n",
       "      <th>2857</th>\n",
       "      <td>1000CATBNB</td>\n",
       "    </tr>\n",
       "    <tr>\n",
       "      <th>2858</th>\n",
       "      <td>1000CATFDUSD</td>\n",
       "    </tr>\n",
       "    <tr>\n",
       "      <th>2859</th>\n",
       "      <td>1000CATTRY</td>\n",
       "    </tr>\n",
       "    <tr>\n",
       "      <th>2867</th>\n",
       "      <td>1000CATUSDC</td>\n",
       "    </tr>\n",
       "    <tr>\n",
       "      <th>2856</th>\n",
       "      <td>1000CATUSDT</td>\n",
       "    </tr>\n",
       "    <tr>\n",
       "      <th>2924</th>\n",
       "      <td>1000CHEEMSUSDC</td>\n",
       "    </tr>\n",
       "    <tr>\n",
       "      <th>2923</th>\n",
       "      <td>1000CHEEMSUSDT</td>\n",
       "    </tr>\n",
       "    <tr>\n",
       "      <th>2385</th>\n",
       "      <td>1000SATSFDUSD</td>\n",
       "    </tr>\n",
       "    <tr>\n",
       "      <th>2386</th>\n",
       "      <td>1000SATSTRY</td>\n",
       "    </tr>\n",
       "    <tr>\n",
       "      <th>2679</th>\n",
       "      <td>1000SATSUSDC</td>\n",
       "    </tr>\n",
       "    <tr>\n",
       "      <th>2384</th>\n",
       "      <td>1000SATSUSDT</td>\n",
       "    </tr>\n",
       "    <tr>\n",
       "      <th>1221</th>\n",
       "      <td>1INCHBTC</td>\n",
       "    </tr>\n",
       "    <tr>\n",
       "      <th>1290</th>\n",
       "      <td>1INCHBUSD</td>\n",
       "    </tr>\n",
       "    <tr>\n",
       "      <th>1387</th>\n",
       "      <td>1INCHDOWNUSDT</td>\n",
       "    </tr>\n",
       "    <tr>\n",
       "      <th>1386</th>\n",
       "      <td>1INCHUPUSDT</td>\n",
       "    </tr>\n",
       "    <tr>\n",
       "      <th>1222</th>\n",
       "      <td>1INCHUSDT</td>\n",
       "    </tr>\n",
       "    <tr>\n",
       "      <th>2741</th>\n",
       "      <td>1MBABYDOGEFDUSD</td>\n",
       "    </tr>\n",
       "    <tr>\n",
       "      <th>2742</th>\n",
       "      <td>1MBABYDOGETRY</td>\n",
       "    </tr>\n",
       "    <tr>\n",
       "      <th>2809</th>\n",
       "      <td>1MBABYDOGEUSDC</td>\n",
       "    </tr>\n",
       "    <tr>\n",
       "      <th>2736</th>\n",
       "      <td>1MBABYDOGEUSDT</td>\n",
       "    </tr>\n",
       "    <tr>\n",
       "      <th>1093</th>\n",
       "      <td>AAVEBKRW</td>\n",
       "    </tr>\n",
       "    <tr>\n",
       "      <th>1086</th>\n",
       "      <td>AAVEBNB</td>\n",
       "    </tr>\n",
       "    <tr>\n",
       "      <th>1532</th>\n",
       "      <td>AAVEBRL</td>\n",
       "    </tr>\n",
       "    <tr>\n",
       "      <th>1089</th>\n",
       "      <td>AAVEBTC</td>\n",
       "    </tr>\n",
       "    <tr>\n",
       "      <th>1091</th>\n",
       "      <td>AAVEBUSD</td>\n",
       "    </tr>\n",
       "    <tr>\n",
       "      <th>1179</th>\n",
       "      <td>AAVEDOWNUSDT</td>\n",
       "    </tr>\n",
       "    <tr>\n",
       "      <th>1090</th>\n",
       "      <td>AAVEETH</td>\n",
       "    </tr>\n",
       "    <tr>\n",
       "      <th>2706</th>\n",
       "      <td>AAVEFDUSD</td>\n",
       "    </tr>\n",
       "    <tr>\n",
       "      <th>2544</th>\n",
       "      <td>AAVETRY</td>\n",
       "    </tr>\n",
       "    <tr>\n",
       "      <th>1178</th>\n",
       "      <td>AAVEUPUSDT</td>\n",
       "    </tr>\n",
       "  </tbody>\n",
       "</table>\n",
       "</div>"
      ],
      "text/plain": [
       "               Symbol\n",
       "2857       1000CATBNB\n",
       "2858     1000CATFDUSD\n",
       "2859       1000CATTRY\n",
       "2867      1000CATUSDC\n",
       "2856      1000CATUSDT\n",
       "2924   1000CHEEMSUSDC\n",
       "2923   1000CHEEMSUSDT\n",
       "2385    1000SATSFDUSD\n",
       "2386      1000SATSTRY\n",
       "2679     1000SATSUSDC\n",
       "2384     1000SATSUSDT\n",
       "1221         1INCHBTC\n",
       "1290        1INCHBUSD\n",
       "1387    1INCHDOWNUSDT\n",
       "1386      1INCHUPUSDT\n",
       "1222        1INCHUSDT\n",
       "2741  1MBABYDOGEFDUSD\n",
       "2742    1MBABYDOGETRY\n",
       "2809   1MBABYDOGEUSDC\n",
       "2736   1MBABYDOGEUSDT\n",
       "1093         AAVEBKRW\n",
       "1086          AAVEBNB\n",
       "1532          AAVEBRL\n",
       "1089          AAVEBTC\n",
       "1091         AAVEBUSD\n",
       "1179     AAVEDOWNUSDT\n",
       "1090          AAVEETH\n",
       "2706        AAVEFDUSD\n",
       "2544          AAVETRY\n",
       "1178       AAVEUPUSDT"
      ]
     },
     "execution_count": 7,
     "metadata": {},
     "output_type": "execute_result"
    }
   ],
   "source": [
    "# Exibindo todos os simbolos (par de trading) disponíveis\n",
    "df_symbols = pd.DataFrame({\n",
    "        'Symbol':symbols,\n",
    "    }).sort_values(by='Symbol')\n",
    "\n",
    "df_symbols.head(30)"
   ]
  },
  {
   "cell_type": "code",
   "execution_count": 8,
   "id": "6f75f8b2-60da-47d2-8867-516fad8cd300",
   "metadata": {},
   "outputs": [
    {
     "data": {
      "text/html": [
       "<div>\n",
       "<style scoped>\n",
       "    .dataframe tbody tr th:only-of-type {\n",
       "        vertical-align: middle;\n",
       "    }\n",
       "\n",
       "    .dataframe tbody tr th {\n",
       "        vertical-align: top;\n",
       "    }\n",
       "\n",
       "    .dataframe thead th {\n",
       "        text-align: right;\n",
       "    }\n",
       "</style>\n",
       "<table border=\"1\" class=\"dataframe\">\n",
       "  <thead>\n",
       "    <tr style=\"text-align: right;\">\n",
       "      <th></th>\n",
       "      <th>Symbol</th>\n",
       "    </tr>\n",
       "  </thead>\n",
       "  <tbody>\n",
       "    <tr>\n",
       "      <th>1221</th>\n",
       "      <td>1INCHBTC</td>\n",
       "    </tr>\n",
       "    <tr>\n",
       "      <th>1089</th>\n",
       "      <td>AAVEBTC</td>\n",
       "    </tr>\n",
       "    <tr>\n",
       "      <th>1910</th>\n",
       "      <td>ACABTC</td>\n",
       "    </tr>\n",
       "    <tr>\n",
       "      <th>2399</th>\n",
       "      <td>ACEBTC</td>\n",
       "    </tr>\n",
       "    <tr>\n",
       "      <th>1872</th>\n",
       "      <td>ACHBTC</td>\n",
       "    </tr>\n",
       "    <tr>\n",
       "      <th>...</th>\n",
       "      <td>...</td>\n",
       "    </tr>\n",
       "    <tr>\n",
       "      <th>317</th>\n",
       "      <td>ZENBTC</td>\n",
       "    </tr>\n",
       "    <tr>\n",
       "      <th>269</th>\n",
       "      <td>ZILBTC</td>\n",
       "    </tr>\n",
       "    <tr>\n",
       "      <th>2661</th>\n",
       "      <td>ZKBTC</td>\n",
       "    </tr>\n",
       "    <tr>\n",
       "      <th>2669</th>\n",
       "      <td>ZROBTC</td>\n",
       "    </tr>\n",
       "    <tr>\n",
       "      <th>27</th>\n",
       "      <td>ZRXBTC</td>\n",
       "    </tr>\n",
       "  </tbody>\n",
       "</table>\n",
       "<p>523 rows × 1 columns</p>\n",
       "</div>"
      ],
      "text/plain": [
       "        Symbol\n",
       "1221  1INCHBTC\n",
       "1089   AAVEBTC\n",
       "1910    ACABTC\n",
       "2399    ACEBTC\n",
       "1872    ACHBTC\n",
       "...        ...\n",
       "317     ZENBTC\n",
       "269     ZILBTC\n",
       "2661     ZKBTC\n",
       "2669    ZROBTC\n",
       "27      ZRXBTC\n",
       "\n",
       "[523 rows x 1 columns]"
      ]
     },
     "execution_count": 8,
     "metadata": {},
     "output_type": "execute_result"
    }
   ],
   "source": [
    "#Pares de BTC\n",
    "#Aqui eu filtro apenas para os parece de bitcon\n",
    "\n",
    "df_symbols[\n",
    "    df_symbols['Symbol'].str.contains('BTC')\n",
    "]"
   ]
  },
  {
   "cell_type": "markdown",
   "id": "eb430592-0ba8-469e-b6cb-2d58786fd133",
   "metadata": {},
   "source": [
    "# Historico de Preço"
   ]
  },
  {
   "cell_type": "markdown",
   "id": "3ed173b5-3c94-4723-ade0-1e35db16d9e8",
   "metadata": {},
   "source": [
    "Aqui estarei realizando a primeira consulta na base de dados da binance, observando como os dados são puxados de forma crua, sem formatação"
   ]
  },
  {
   "cell_type": "code",
   "execution_count": 10,
   "id": "34c85046-1a7f-414f-bcee-8da6ef1f8766",
   "metadata": {},
   "outputs": [
    {
     "data": {
      "text/plain": [
       "[[1714521600000,\n",
       "  '317807.00000000',\n",
       "  '318588.00000000',\n",
       "  '296109.00000000',\n",
       "  '304714.00000000',\n",
       "  '342.57879000',\n",
       "  1714607999999,\n",
       "  '103659824.50895000',\n",
       "  54261,\n",
       "  '163.69585000',\n",
       "  '49547822.87591000',\n",
       "  '0'],\n",
       " [1714608000000,\n",
       "  '304706.00000000',\n",
       "  '307000.00000000',\n",
       "  '297392.00000000',\n",
       "  '304418.00000000',\n",
       "  '255.28507000',\n",
       "  1714694399999,\n",
       "  '77440669.22404000',\n",
       "  29023,\n",
       "  '129.32894000',\n",
       "  '39241599.27295000',\n",
       "  '0'],\n",
       " [1714694400000,\n",
       "  '304378.00000000',\n",
       "  '323428.00000000',\n",
       "  '303025.00000000',\n",
       "  '321196.00000000',\n",
       "  '239.96462000',\n",
       "  1714780799999,\n",
       "  '74786807.61199000',\n",
       "  30619,\n",
       "  '122.79795000',\n",
       "  '38265335.27184000',\n",
       "  '0'],\n",
       " [1714780800000,\n",
       "  '321196.00000000',\n",
       "  '329999.00000000',\n",
       "  '319724.00000000',\n",
       "  '326819.00000000',\n",
       "  '95.77485000',\n",
       "  1714867199999,\n",
       "  '31124021.08664000',\n",
       "  18153,\n",
       "  '48.81042000',\n",
       "  '15859295.37828000',\n",
       "  '0'],\n",
       " [1714867200000,\n",
       "  '326866.00000000',\n",
       "  '330204.00000000',\n",
       "  '321340.00000000',\n",
       "  '327115.00000000',\n",
       "  '94.82260000',\n",
       "  1714953599999,\n",
       "  '30958001.01539000',\n",
       "  17879,\n",
       "  '52.10688000',\n",
       "  '17015845.86716000',\n",
       "  '0'],\n",
       " [1714953600000,\n",
       "  '327116.00000000',\n",
       "  '334453.00000000',\n",
       "  '319784.00000000',\n",
       "  '321640.00000000',\n",
       "  '124.90539000',\n",
       "  1715039999999,\n",
       "  '40627448.29342000',\n",
       "  25875,\n",
       "  '57.89669000',\n",
       "  '18839247.73211000',\n",
       "  '0'],\n",
       " [1715040000000,\n",
       "  '321679.00000000',\n",
       "  '328239.00000000',\n",
       "  '317402.00000000',\n",
       "  '317752.00000000',\n",
       "  '149.36662000',\n",
       "  1715126399999,\n",
       "  '48282544.90158000',\n",
       "  25280,\n",
       "  '75.41747000',\n",
       "  '24395276.48932000',\n",
       "  '0'],\n",
       " [1715126400000,\n",
       "  '317525.00000000',\n",
       "  '322112.00000000',\n",
       "  '312356.00000000',\n",
       "  '313731.00000000',\n",
       "  '121.86567000',\n",
       "  1715212799999,\n",
       "  '38755451.79410000',\n",
       "  22695,\n",
       "  '60.02934000',\n",
       "  '19097493.94179000',\n",
       "  '0'],\n",
       " [1715212800000,\n",
       "  '313599.00000000',\n",
       "  '326843.00000000',\n",
       "  '311261.00000000',\n",
       "  '324409.00000000',\n",
       "  '143.86229000',\n",
       "  1715299199999,\n",
       "  '45877419.58209000',\n",
       "  24472,\n",
       "  '68.85077000',\n",
       "  '21949752.30995000',\n",
       "  '0'],\n",
       " [1715299200000,\n",
       "  '324412.00000000',\n",
       "  '327500.00000000',\n",
       "  '312260.00000000',\n",
       "  '315689.00000000',\n",
       "  '141.63987000',\n",
       "  1715385599999,\n",
       "  '45063085.17522000',\n",
       "  26755,\n",
       "  '71.94845000',\n",
       "  '22881396.49143000',\n",
       "  '0'],\n",
       " [1715385600000,\n",
       "  '315746.00000000',\n",
       "  '319480.00000000',\n",
       "  '314057.00000000',\n",
       "  '316151.00000000',\n",
       "  '60.85055000',\n",
       "  1715471999999,\n",
       "  '19267864.53168000',\n",
       "  18451,\n",
       "  '29.77844000',\n",
       "  '9426882.26470000',\n",
       "  '0'],\n",
       " [1715472000000,\n",
       "  '316119.00000000',\n",
       "  '321448.00000000',\n",
       "  '315010.00000000',\n",
       "  '319366.00000000',\n",
       "  '48.25157000',\n",
       "  1715558399999,\n",
       "  '15349306.09876000',\n",
       "  13791,\n",
       "  '24.28281000',\n",
       "  '7724735.40105000',\n",
       "  '0'],\n",
       " [1715558400000,\n",
       "  '319406.00000000',\n",
       "  '328270.00000000',\n",
       "  '315936.00000000',\n",
       "  '326049.00000000',\n",
       "  '123.50876000',\n",
       "  1715644799999,\n",
       "  '40017303.93614000',\n",
       "  27265,\n",
       "  '60.09310000',\n",
       "  '19474707.58699000',\n",
       "  '0'],\n",
       " [1715644800000,\n",
       "  '326081.00000000',\n",
       "  '326786.00000000',\n",
       "  '315419.00000000',\n",
       "  '318167.00000000',\n",
       "  '92.07815000',\n",
       "  1715731199999,\n",
       "  '29424214.48830000',\n",
       "  21164,\n",
       "  '46.36679000',\n",
       "  '14815274.91076000',\n",
       "  '0'],\n",
       " [1715731200000,\n",
       "  '318167.00000000',\n",
       "  '342199.00000000',\n",
       "  '316909.00000000',\n",
       "  '340181.00000000',\n",
       "  '170.44794000',\n",
       "  1715817599999,\n",
       "  '56628416.33003000',\n",
       "  35800,\n",
       "  '84.98054000',\n",
       "  '28219810.38622000',\n",
       "  '0'],\n",
       " [1715817600000,\n",
       "  '340181.00000000',\n",
       "  '342590.00000000',\n",
       "  '332300.00000000',\n",
       "  '336084.00000000',\n",
       "  '122.01072000',\n",
       "  1715903999999,\n",
       "  '41219198.17964000',\n",
       "  31443,\n",
       "  '62.29349000',\n",
       "  '21047169.95564000',\n",
       "  '0'],\n",
       " [1715904000000,\n",
       "  '336085.00000000',\n",
       "  '345909.00000000',\n",
       "  '335381.00000000',\n",
       "  '343407.00000000',\n",
       "  '128.82699000',\n",
       "  1715990399999,\n",
       "  '44048022.06681000',\n",
       "  27441,\n",
       "  '69.87102000',\n",
       "  '23894372.01428000',\n",
       "  '0'],\n",
       " [1715990400000,\n",
       "  '343393.00000000',\n",
       "  '345350.00000000',\n",
       "  '341837.00000000',\n",
       "  '343855.00000000',\n",
       "  '56.30525000',\n",
       "  1716076799999,\n",
       "  '19345714.62111000',\n",
       "  17715,\n",
       "  '28.58186000',\n",
       "  '9822186.96824000',\n",
       "  '0'],\n",
       " [1716076800000,\n",
       "  '343889.00000000',\n",
       "  '347153.00000000',\n",
       "  '339158.00000000',\n",
       "  '340982.00000000',\n",
       "  '82.72884000',\n",
       "  1716163199999,\n",
       "  '28406503.69791000',\n",
       "  16364,\n",
       "  '41.22097000',\n",
       "  '14164719.84802000',\n",
       "  '0'],\n",
       " [1716163200000,\n",
       "  '340977.00000000',\n",
       "  '362077.00000000',\n",
       "  '340042.00000000',\n",
       "  '360963.00000000',\n",
       "  '222.19134000',\n",
       "  1716249599999,\n",
       "  '78039386.37087000',\n",
       "  46290,\n",
       "  '117.73962000',\n",
       "  '41371119.50881000',\n",
       "  '0']]"
      ]
     },
     "execution_count": 10,
     "metadata": {},
     "output_type": "execute_result"
    }
   ],
   "source": [
    "klines = client.get_historical_klines(\"BTCBRL\", '1d', \"1 May, 2024\")\n",
    "klines[0:20]"
   ]
  },
  {
   "cell_type": "markdown",
   "id": "ab7b8df0-2b81-4d04-a33e-e3c7584d39cb",
   "metadata": {},
   "source": [
    "Como se pode observer, os dados é uma lista de lista, sem nome de colunas, por isso se faz necessário uma formatação"
   ]
  },
  {
   "cell_type": "code",
   "execution_count": 282,
   "id": "94a98649-4a92-46fb-bcbd-eb7f1f8d41ae",
   "metadata": {},
   "outputs": [
    {
     "data": {
      "text/html": [
       "<div>\n",
       "<style scoped>\n",
       "    .dataframe tbody tr th:only-of-type {\n",
       "        vertical-align: middle;\n",
       "    }\n",
       "\n",
       "    .dataframe tbody tr th {\n",
       "        vertical-align: top;\n",
       "    }\n",
       "\n",
       "    .dataframe thead th {\n",
       "        text-align: right;\n",
       "    }\n",
       "</style>\n",
       "<table border=\"1\" class=\"dataframe\">\n",
       "  <thead>\n",
       "    <tr style=\"text-align: right;\">\n",
       "      <th></th>\n",
       "      <th>timestamp</th>\n",
       "      <th>open</th>\n",
       "      <th>high</th>\n",
       "      <th>low</th>\n",
       "      <th>close</th>\n",
       "      <th>volume</th>\n",
       "      <th>close_time</th>\n",
       "      <th>quote_asset_volume</th>\n",
       "      <th>number_of_trades</th>\n",
       "      <th>taker_buy_base_asset_volume</th>\n",
       "      <th>taker_buy_quote_asset_volume</th>\n",
       "      <th>ignore</th>\n",
       "    </tr>\n",
       "  </thead>\n",
       "  <tbody>\n",
       "    <tr>\n",
       "      <th>0</th>\n",
       "      <td>2025-01-01</td>\n",
       "      <td>93576.0000R$</td>\n",
       "      <td>95151.1500R$</td>\n",
       "      <td>92888.0000R$</td>\n",
       "      <td>94591.7900R$</td>\n",
       "      <td>10373.3261R$</td>\n",
       "      <td>1735775999999</td>\n",
       "      <td>975444194.13799830</td>\n",
       "      <td>1516556</td>\n",
       "      <td>5347.73648000</td>\n",
       "      <td>502914035.64059070</td>\n",
       "      <td>0</td>\n",
       "    </tr>\n",
       "    <tr>\n",
       "      <th>1</th>\n",
       "      <td>2025-01-02</td>\n",
       "      <td>94591.7800R$</td>\n",
       "      <td>97839.5000R$</td>\n",
       "      <td>94392.0000R$</td>\n",
       "      <td>96984.7900R$</td>\n",
       "      <td>21970.4894R$</td>\n",
       "      <td>1735862399999</td>\n",
       "      <td>2118411852.68127950</td>\n",
       "      <td>3569079</td>\n",
       "      <td>10915.96986000</td>\n",
       "      <td>1052226710.33367170</td>\n",
       "      <td>0</td>\n",
       "    </tr>\n",
       "    <tr>\n",
       "      <th>2</th>\n",
       "      <td>2025-01-03</td>\n",
       "      <td>96984.7900R$</td>\n",
       "      <td>98976.9100R$</td>\n",
       "      <td>96100.0100R$</td>\n",
       "      <td>98174.1800R$</td>\n",
       "      <td>15253.8293R$</td>\n",
       "      <td>1735948799999</td>\n",
       "      <td>1486610768.59079170</td>\n",
       "      <td>2851164</td>\n",
       "      <td>7468.60797000</td>\n",
       "      <td>727787246.89655880</td>\n",
       "      <td>0</td>\n",
       "    </tr>\n",
       "    <tr>\n",
       "      <th>3</th>\n",
       "      <td>2025-01-04</td>\n",
       "      <td>98174.1700R$</td>\n",
       "      <td>98778.4300R$</td>\n",
       "      <td>97514.7900R$</td>\n",
       "      <td>98220.5000R$</td>\n",
       "      <td>8990.05651R$</td>\n",
       "      <td>1736035199999</td>\n",
       "      <td>881223751.63536030</td>\n",
       "      <td>1559982</td>\n",
       "      <td>4350.80221000</td>\n",
       "      <td>426524714.13055390</td>\n",
       "      <td>0</td>\n",
       "    </tr>\n",
       "    <tr>\n",
       "      <th>4</th>\n",
       "      <td>2025-01-05</td>\n",
       "      <td>98220.5100R$</td>\n",
       "      <td>98836.8500R$</td>\n",
       "      <td>97276.7900R$</td>\n",
       "      <td>98363.6100R$</td>\n",
       "      <td>8095.63723R$</td>\n",
       "      <td>1736121599999</td>\n",
       "      <td>793931715.95463240</td>\n",
       "      <td>1685799</td>\n",
       "      <td>3877.90985000</td>\n",
       "      <td>380355340.46860360</td>\n",
       "      <td>0</td>\n",
       "    </tr>\n",
       "    <tr>\n",
       "      <th>...</th>\n",
       "      <td>...</td>\n",
       "      <td>...</td>\n",
       "      <td>...</td>\n",
       "      <td>...</td>\n",
       "      <td>...</td>\n",
       "      <td>...</td>\n",
       "      <td>...</td>\n",
       "      <td>...</td>\n",
       "      <td>...</td>\n",
       "      <td>...</td>\n",
       "      <td>...</td>\n",
       "      <td>...</td>\n",
       "    </tr>\n",
       "    <tr>\n",
       "      <th>141</th>\n",
       "      <td>2025-05-22</td>\n",
       "      <td>109643.990R$</td>\n",
       "      <td>111980.000R$</td>\n",
       "      <td>109177.370R$</td>\n",
       "      <td>111696.210R$</td>\n",
       "      <td>31630.7731R$</td>\n",
       "      <td>1747958399999</td>\n",
       "      <td>3509432834.57341730</td>\n",
       "      <td>5794216</td>\n",
       "      <td>16584.56293000</td>\n",
       "      <td>1840083098.58278590</td>\n",
       "      <td>0</td>\n",
       "    </tr>\n",
       "    <tr>\n",
       "      <th>142</th>\n",
       "      <td>2025-05-23</td>\n",
       "      <td>111696.220R$</td>\n",
       "      <td>111800.000R$</td>\n",
       "      <td>106800.000R$</td>\n",
       "      <td>107318.300R$</td>\n",
       "      <td>31737.7230R$</td>\n",
       "      <td>1748044799999</td>\n",
       "      <td>3469704446.39040470</td>\n",
       "      <td>5251192</td>\n",
       "      <td>14309.31652000</td>\n",
       "      <td>1565622441.18751700</td>\n",
       "      <td>0</td>\n",
       "    </tr>\n",
       "    <tr>\n",
       "      <th>143</th>\n",
       "      <td>2025-05-24</td>\n",
       "      <td>107318.300R$</td>\n",
       "      <td>109506.030R$</td>\n",
       "      <td>106875.410R$</td>\n",
       "      <td>107761.910R$</td>\n",
       "      <td>16782.5312R$</td>\n",
       "      <td>1748131199999</td>\n",
       "      <td>1819958819.77485860</td>\n",
       "      <td>2805418</td>\n",
       "      <td>8786.90747000</td>\n",
       "      <td>953683093.32165700</td>\n",
       "      <td>0</td>\n",
       "    </tr>\n",
       "    <tr>\n",
       "      <th>144</th>\n",
       "      <td>2025-05-25</td>\n",
       "      <td>107761.900R$</td>\n",
       "      <td>109299.990R$</td>\n",
       "      <td>106600.640R$</td>\n",
       "      <td>109004.190R$</td>\n",
       "      <td>17710.0469R$</td>\n",
       "      <td>1748217599999</td>\n",
       "      <td>1904366455.42585800</td>\n",
       "      <td>3151168</td>\n",
       "      <td>7867.16712000</td>\n",
       "      <td>846688135.00971360</td>\n",
       "      <td>0</td>\n",
       "    </tr>\n",
       "    <tr>\n",
       "      <th>145</th>\n",
       "      <td>2025-05-26</td>\n",
       "      <td>109004.200R$</td>\n",
       "      <td>110228.110R$</td>\n",
       "      <td>108670.580R$</td>\n",
       "      <td>109620.930R$</td>\n",
       "      <td>7098.59196R$</td>\n",
       "      <td>1748303999999</td>\n",
       "      <td>778032538.80484750</td>\n",
       "      <td>1252522</td>\n",
       "      <td>3493.67355000</td>\n",
       "      <td>382942965.52082440</td>\n",
       "      <td>0</td>\n",
       "    </tr>\n",
       "  </tbody>\n",
       "</table>\n",
       "<p>146 rows × 12 columns</p>\n",
       "</div>"
      ],
      "text/plain": [
       "     timestamp          open          high           low         close  \\\n",
       "0   2025-01-01  93576.0000R$  95151.1500R$  92888.0000R$  94591.7900R$   \n",
       "1   2025-01-02  94591.7800R$  97839.5000R$  94392.0000R$  96984.7900R$   \n",
       "2   2025-01-03  96984.7900R$  98976.9100R$  96100.0100R$  98174.1800R$   \n",
       "3   2025-01-04  98174.1700R$  98778.4300R$  97514.7900R$  98220.5000R$   \n",
       "4   2025-01-05  98220.5100R$  98836.8500R$  97276.7900R$  98363.6100R$   \n",
       "..         ...           ...           ...           ...           ...   \n",
       "141 2025-05-22  109643.990R$  111980.000R$  109177.370R$  111696.210R$   \n",
       "142 2025-05-23  111696.220R$  111800.000R$  106800.000R$  107318.300R$   \n",
       "143 2025-05-24  107318.300R$  109506.030R$  106875.410R$  107761.910R$   \n",
       "144 2025-05-25  107761.900R$  109299.990R$  106600.640R$  109004.190R$   \n",
       "145 2025-05-26  109004.200R$  110228.110R$  108670.580R$  109620.930R$   \n",
       "\n",
       "           volume     close_time   quote_asset_volume  number_of_trades  \\\n",
       "0    10373.3261R$  1735775999999   975444194.13799830           1516556   \n",
       "1    21970.4894R$  1735862399999  2118411852.68127950           3569079   \n",
       "2    15253.8293R$  1735948799999  1486610768.59079170           2851164   \n",
       "3    8990.05651R$  1736035199999   881223751.63536030           1559982   \n",
       "4    8095.63723R$  1736121599999   793931715.95463240           1685799   \n",
       "..            ...            ...                  ...               ...   \n",
       "141  31630.7731R$  1747958399999  3509432834.57341730           5794216   \n",
       "142  31737.7230R$  1748044799999  3469704446.39040470           5251192   \n",
       "143  16782.5312R$  1748131199999  1819958819.77485860           2805418   \n",
       "144  17710.0469R$  1748217599999  1904366455.42585800           3151168   \n",
       "145  7098.59196R$  1748303999999   778032538.80484750           1252522   \n",
       "\n",
       "    taker_buy_base_asset_volume taker_buy_quote_asset_volume ignore  \n",
       "0                 5347.73648000           502914035.64059070      0  \n",
       "1                10915.96986000          1052226710.33367170      0  \n",
       "2                 7468.60797000           727787246.89655880      0  \n",
       "3                 4350.80221000           426524714.13055390      0  \n",
       "4                 3877.90985000           380355340.46860360      0  \n",
       "..                          ...                          ...    ...  \n",
       "141              16584.56293000          1840083098.58278590      0  \n",
       "142              14309.31652000          1565622441.18751700      0  \n",
       "143               8786.90747000           953683093.32165700      0  \n",
       "144               7867.16712000           846688135.00971360      0  \n",
       "145               3493.67355000           382942965.52082440      0  \n",
       "\n",
       "[146 rows x 12 columns]"
      ]
     },
     "execution_count": 282,
     "metadata": {},
     "output_type": "execute_result"
    }
   ],
   "source": [
    "#Criando o nome das colunas\n",
    "df = pd.DataFrame(klines, columns=[\n",
    "    \"timestamp\", \"open\", \"high\", \"low\", \"close\", \"volume\",\n",
    "    \"close_time\", \"quote_asset_volume\", \"number_of_trades\",\n",
    "    \"taker_buy_base_asset_volume\", \"taker_buy_quote_asset_volume\", \"ignore\"\n",
    "])\n",
    "\n",
    "# Converter timestamp para datetime\n",
    "df[\"timestamp\"] = pd.to_datetime(df[\"timestamp\"], unit=\"ms\")\n",
    "\n",
    "\n",
    "cols = [\"open\", \"high\", \"low\", \"close\", \"volume\"]\n",
    "\n",
    "#Aplicando o cifrão para melhor visualização\n",
    "df[cols] = df[cols].apply(lambda col: col.str.slice(0, 10)) + \"R$\" \n",
    "\n",
    "\n",
    "\n",
    "#Visulizando o DataFrame\n",
    "df"
   ]
  },
  {
   "cell_type": "markdown",
   "id": "dddeb033-4da1-4428-ad1f-d0b1f992e6cd",
   "metadata": {},
   "source": [
    "# Convertendo a coluna para float"
   ]
  },
  {
   "cell_type": "markdown",
   "id": "fd3644d5-f0c5-4261-930a-1d3aa22cfa8f",
   "metadata": {},
   "source": [
    "###  O que é um dado do tipo float?"
   ]
  },
  {
   "cell_type": "markdown",
   "id": "7ba06d60-8ae4-4d72-a3dc-f14500112b17",
   "metadata": {},
   "source": [
    "Quando programamos, o computador precisa saber que tipo de informação estamos usando. Um desses tipos é o float.\n",
    "\n",
    "📌 Explicando de forma simples:\n",
    "Imagine que você está anotando preços de Bitcoin. Alguns valores são assim:\n",
    "\n",
    "45000\n",
    "\n",
    "46782.55\n",
    "\n",
    "43870.90\n",
    "\n",
    "Esses números têm casas decimais, ou seja, não são inteiros. Eles representam valores com vírgula, como fazemos no dia a dia com dinheiro, peso ou temperatura.\n",
    "\n",
    "No Python (e em muitas linguagens de programação), esses números com vírgula são chamados de float — que vem de “floating point number” (número de ponto flutuante)."
   ]
  },
  {
   "cell_type": "code",
   "execution_count": 284,
   "id": "b0fc358c-963c-48d4-80eb-62bff4368913",
   "metadata": {},
   "outputs": [
    {
     "data": {
      "text/html": [
       "<div>\n",
       "<style scoped>\n",
       "    .dataframe tbody tr th:only-of-type {\n",
       "        vertical-align: middle;\n",
       "    }\n",
       "\n",
       "    .dataframe tbody tr th {\n",
       "        vertical-align: top;\n",
       "    }\n",
       "\n",
       "    .dataframe thead th {\n",
       "        text-align: right;\n",
       "    }\n",
       "</style>\n",
       "<table border=\"1\" class=\"dataframe\">\n",
       "  <thead>\n",
       "    <tr style=\"text-align: right;\">\n",
       "      <th></th>\n",
       "      <th>timestamp</th>\n",
       "      <th>open</th>\n",
       "      <th>high</th>\n",
       "      <th>low</th>\n",
       "      <th>close</th>\n",
       "      <th>volume</th>\n",
       "      <th>close_time</th>\n",
       "      <th>quote_asset_volume</th>\n",
       "      <th>number_of_trades</th>\n",
       "      <th>taker_buy_base_asset_volume</th>\n",
       "      <th>taker_buy_quote_asset_volume</th>\n",
       "      <th>ignore</th>\n",
       "    </tr>\n",
       "  </thead>\n",
       "  <tbody>\n",
       "    <tr>\n",
       "      <th>0</th>\n",
       "      <td>2025-01-01</td>\n",
       "      <td>93576.00</td>\n",
       "      <td>95151.15</td>\n",
       "      <td>92888.00</td>\n",
       "      <td>94591.79</td>\n",
       "      <td>10373.32610</td>\n",
       "      <td>1735775999999</td>\n",
       "      <td>975444194.13799830</td>\n",
       "      <td>1516556</td>\n",
       "      <td>5347.73648000</td>\n",
       "      <td>502914035.64059070</td>\n",
       "      <td>0</td>\n",
       "    </tr>\n",
       "    <tr>\n",
       "      <th>1</th>\n",
       "      <td>2025-01-02</td>\n",
       "      <td>94591.78</td>\n",
       "      <td>97839.50</td>\n",
       "      <td>94392.00</td>\n",
       "      <td>96984.79</td>\n",
       "      <td>21970.48940</td>\n",
       "      <td>1735862399999</td>\n",
       "      <td>2118411852.68127950</td>\n",
       "      <td>3569079</td>\n",
       "      <td>10915.96986000</td>\n",
       "      <td>1052226710.33367170</td>\n",
       "      <td>0</td>\n",
       "    </tr>\n",
       "    <tr>\n",
       "      <th>2</th>\n",
       "      <td>2025-01-03</td>\n",
       "      <td>96984.79</td>\n",
       "      <td>98976.91</td>\n",
       "      <td>96100.01</td>\n",
       "      <td>98174.18</td>\n",
       "      <td>15253.82930</td>\n",
       "      <td>1735948799999</td>\n",
       "      <td>1486610768.59079170</td>\n",
       "      <td>2851164</td>\n",
       "      <td>7468.60797000</td>\n",
       "      <td>727787246.89655880</td>\n",
       "      <td>0</td>\n",
       "    </tr>\n",
       "    <tr>\n",
       "      <th>3</th>\n",
       "      <td>2025-01-04</td>\n",
       "      <td>98174.17</td>\n",
       "      <td>98778.43</td>\n",
       "      <td>97514.79</td>\n",
       "      <td>98220.50</td>\n",
       "      <td>8990.05651</td>\n",
       "      <td>1736035199999</td>\n",
       "      <td>881223751.63536030</td>\n",
       "      <td>1559982</td>\n",
       "      <td>4350.80221000</td>\n",
       "      <td>426524714.13055390</td>\n",
       "      <td>0</td>\n",
       "    </tr>\n",
       "    <tr>\n",
       "      <th>4</th>\n",
       "      <td>2025-01-05</td>\n",
       "      <td>98220.51</td>\n",
       "      <td>98836.85</td>\n",
       "      <td>97276.79</td>\n",
       "      <td>98363.61</td>\n",
       "      <td>8095.63723</td>\n",
       "      <td>1736121599999</td>\n",
       "      <td>793931715.95463240</td>\n",
       "      <td>1685799</td>\n",
       "      <td>3877.90985000</td>\n",
       "      <td>380355340.46860360</td>\n",
       "      <td>0</td>\n",
       "    </tr>\n",
       "  </tbody>\n",
       "</table>\n",
       "</div>"
      ],
      "text/plain": [
       "   timestamp      open      high       low     close       volume  \\\n",
       "0 2025-01-01  93576.00  95151.15  92888.00  94591.79  10373.32610   \n",
       "1 2025-01-02  94591.78  97839.50  94392.00  96984.79  21970.48940   \n",
       "2 2025-01-03  96984.79  98976.91  96100.01  98174.18  15253.82930   \n",
       "3 2025-01-04  98174.17  98778.43  97514.79  98220.50   8990.05651   \n",
       "4 2025-01-05  98220.51  98836.85  97276.79  98363.61   8095.63723   \n",
       "\n",
       "      close_time   quote_asset_volume  number_of_trades  \\\n",
       "0  1735775999999   975444194.13799830           1516556   \n",
       "1  1735862399999  2118411852.68127950           3569079   \n",
       "2  1735948799999  1486610768.59079170           2851164   \n",
       "3  1736035199999   881223751.63536030           1559982   \n",
       "4  1736121599999   793931715.95463240           1685799   \n",
       "\n",
       "  taker_buy_base_asset_volume taker_buy_quote_asset_volume ignore  \n",
       "0               5347.73648000           502914035.64059070      0  \n",
       "1              10915.96986000          1052226710.33367170      0  \n",
       "2               7468.60797000           727787246.89655880      0  \n",
       "3               4350.80221000           426524714.13055390      0  \n",
       "4               3877.90985000           380355340.46860360      0  "
      ]
     },
     "execution_count": 284,
     "metadata": {},
     "output_type": "execute_result"
    }
   ],
   "source": [
    "#Primeiro eu devo remover o cifrão, afinal, para converter os dados para o flot, eu preciso remover os cracteres de texto\n",
    "df[cols] = df[cols].apply(lambda col: col.str.replace(\"R$\", ''))\n",
    "\n",
    "#Agora sim realizo a conversõ\n",
    "df[cols] = df[cols].astype(float)\n",
    "df.head(5)"
   ]
  },
  {
   "cell_type": "markdown",
   "id": "6c95b20c-2246-4b8f-93fa-32ce040d2f5d",
   "metadata": {},
   "source": [
    "### Verificando os tipos de dados"
   ]
  },
  {
   "cell_type": "markdown",
   "id": "2e676d17-8c2a-4482-8efe-59983d522034",
   "metadata": {},
   "source": [
    "Aqui irei usar um comando intrinsico da biblioteca pandas para verificar se de fato o tipo de dado foi alterado"
   ]
  },
  {
   "cell_type": "code",
   "execution_count": 288,
   "id": "d4f5d608-eac3-4363-9f4e-5c0965413d62",
   "metadata": {},
   "outputs": [
    {
     "name": "stdout",
     "output_type": "stream",
     "text": [
      "<class 'pandas.core.frame.DataFrame'>\n",
      "RangeIndex: 146 entries, 0 to 145\n",
      "Data columns (total 12 columns):\n",
      " #   Column                        Non-Null Count  Dtype         \n",
      "---  ------                        --------------  -----         \n",
      " 0   timestamp                     146 non-null    datetime64[ns]\n",
      " 1   open                          146 non-null    float64       \n",
      " 2   high                          146 non-null    float64       \n",
      " 3   low                           146 non-null    float64       \n",
      " 4   close                         146 non-null    float64       \n",
      " 5   volume                        146 non-null    float64       \n",
      " 6   close_time                    146 non-null    int64         \n",
      " 7   quote_asset_volume            146 non-null    object        \n",
      " 8   number_of_trades              146 non-null    int64         \n",
      " 9   taker_buy_base_asset_volume   146 non-null    object        \n",
      " 10  taker_buy_quote_asset_volume  146 non-null    object        \n",
      " 11  ignore                        146 non-null    object        \n",
      "dtypes: datetime64[ns](1), float64(5), int64(2), object(4)\n",
      "memory usage: 13.8+ KB\n"
     ]
    }
   ],
   "source": [
    "df.info()"
   ]
  },
  {
   "cell_type": "markdown",
   "id": "914138cf-0b47-4a52-84a4-0d9f59ff67bd",
   "metadata": {},
   "source": [
    "### Ordenando"
   ]
  },
  {
   "cell_type": "markdown",
   "id": "78176b48-a98c-457c-889e-e7c76e2d6f02",
   "metadata": {},
   "source": [
    "Pode-se utilizar uma outra propriedade do pandas para ordenar o DataFrame com base em um coluna, no exemplo abaixo, estou ordenndo pela data, que é o que faz mais sentido a princípio"
   ]
  },
  {
   "cell_type": "code",
   "execution_count": 321,
   "id": "f4bdc3d0-465b-4e4f-a7fd-dcaece88d94f",
   "metadata": {},
   "outputs": [
    {
     "data": {
      "text/html": [
       "<div>\n",
       "<style scoped>\n",
       "    .dataframe tbody tr th:only-of-type {\n",
       "        vertical-align: middle;\n",
       "    }\n",
       "\n",
       "    .dataframe tbody tr th {\n",
       "        vertical-align: top;\n",
       "    }\n",
       "\n",
       "    .dataframe thead th {\n",
       "        text-align: right;\n",
       "    }\n",
       "</style>\n",
       "<table border=\"1\" class=\"dataframe\">\n",
       "  <thead>\n",
       "    <tr style=\"text-align: right;\">\n",
       "      <th></th>\n",
       "      <th>timestamp</th>\n",
       "      <th>open</th>\n",
       "      <th>high</th>\n",
       "      <th>low</th>\n",
       "      <th>close</th>\n",
       "      <th>volume</th>\n",
       "      <th>close_time</th>\n",
       "      <th>quote_asset_volume</th>\n",
       "      <th>number_of_trades</th>\n",
       "      <th>taker_buy_base_asset_volume</th>\n",
       "      <th>taker_buy_quote_asset_volume</th>\n",
       "      <th>ignore</th>\n",
       "    </tr>\n",
       "  </thead>\n",
       "  <tbody>\n",
       "    <tr>\n",
       "      <th>145</th>\n",
       "      <td>2025-05-26</td>\n",
       "      <td>109004.20</td>\n",
       "      <td>110228.11</td>\n",
       "      <td>108670.58</td>\n",
       "      <td>109620.93</td>\n",
       "      <td>7098.59196</td>\n",
       "      <td>1748303999999</td>\n",
       "      <td>778032538.80484750</td>\n",
       "      <td>1252522</td>\n",
       "      <td>3493.67355000</td>\n",
       "      <td>382942965.52082440</td>\n",
       "      <td>0</td>\n",
       "    </tr>\n",
       "    <tr>\n",
       "      <th>144</th>\n",
       "      <td>2025-05-25</td>\n",
       "      <td>107761.90</td>\n",
       "      <td>109299.99</td>\n",
       "      <td>106600.64</td>\n",
       "      <td>109004.19</td>\n",
       "      <td>17710.04690</td>\n",
       "      <td>1748217599999</td>\n",
       "      <td>1904366455.42585800</td>\n",
       "      <td>3151168</td>\n",
       "      <td>7867.16712000</td>\n",
       "      <td>846688135.00971360</td>\n",
       "      <td>0</td>\n",
       "    </tr>\n",
       "    <tr>\n",
       "      <th>143</th>\n",
       "      <td>2025-05-24</td>\n",
       "      <td>107318.30</td>\n",
       "      <td>109506.03</td>\n",
       "      <td>106875.41</td>\n",
       "      <td>107761.91</td>\n",
       "      <td>16782.53120</td>\n",
       "      <td>1748131199999</td>\n",
       "      <td>1819958819.77485860</td>\n",
       "      <td>2805418</td>\n",
       "      <td>8786.90747000</td>\n",
       "      <td>953683093.32165700</td>\n",
       "      <td>0</td>\n",
       "    </tr>\n",
       "    <tr>\n",
       "      <th>142</th>\n",
       "      <td>2025-05-23</td>\n",
       "      <td>111696.22</td>\n",
       "      <td>111800.00</td>\n",
       "      <td>106800.00</td>\n",
       "      <td>107318.30</td>\n",
       "      <td>31737.72300</td>\n",
       "      <td>1748044799999</td>\n",
       "      <td>3469704446.39040470</td>\n",
       "      <td>5251192</td>\n",
       "      <td>14309.31652000</td>\n",
       "      <td>1565622441.18751700</td>\n",
       "      <td>0</td>\n",
       "    </tr>\n",
       "    <tr>\n",
       "      <th>141</th>\n",
       "      <td>2025-05-22</td>\n",
       "      <td>109643.99</td>\n",
       "      <td>111980.00</td>\n",
       "      <td>109177.37</td>\n",
       "      <td>111696.21</td>\n",
       "      <td>31630.77310</td>\n",
       "      <td>1747958399999</td>\n",
       "      <td>3509432834.57341730</td>\n",
       "      <td>5794216</td>\n",
       "      <td>16584.56293000</td>\n",
       "      <td>1840083098.58278590</td>\n",
       "      <td>0</td>\n",
       "    </tr>\n",
       "    <tr>\n",
       "      <th>...</th>\n",
       "      <td>...</td>\n",
       "      <td>...</td>\n",
       "      <td>...</td>\n",
       "      <td>...</td>\n",
       "      <td>...</td>\n",
       "      <td>...</td>\n",
       "      <td>...</td>\n",
       "      <td>...</td>\n",
       "      <td>...</td>\n",
       "      <td>...</td>\n",
       "      <td>...</td>\n",
       "      <td>...</td>\n",
       "    </tr>\n",
       "    <tr>\n",
       "      <th>4</th>\n",
       "      <td>2025-01-05</td>\n",
       "      <td>98220.51</td>\n",
       "      <td>98836.85</td>\n",
       "      <td>97276.79</td>\n",
       "      <td>98363.61</td>\n",
       "      <td>8095.63723</td>\n",
       "      <td>1736121599999</td>\n",
       "      <td>793931715.95463240</td>\n",
       "      <td>1685799</td>\n",
       "      <td>3877.90985000</td>\n",
       "      <td>380355340.46860360</td>\n",
       "      <td>0</td>\n",
       "    </tr>\n",
       "    <tr>\n",
       "      <th>3</th>\n",
       "      <td>2025-01-04</td>\n",
       "      <td>98174.17</td>\n",
       "      <td>98778.43</td>\n",
       "      <td>97514.79</td>\n",
       "      <td>98220.50</td>\n",
       "      <td>8990.05651</td>\n",
       "      <td>1736035199999</td>\n",
       "      <td>881223751.63536030</td>\n",
       "      <td>1559982</td>\n",
       "      <td>4350.80221000</td>\n",
       "      <td>426524714.13055390</td>\n",
       "      <td>0</td>\n",
       "    </tr>\n",
       "    <tr>\n",
       "      <th>2</th>\n",
       "      <td>2025-01-03</td>\n",
       "      <td>96984.79</td>\n",
       "      <td>98976.91</td>\n",
       "      <td>96100.01</td>\n",
       "      <td>98174.18</td>\n",
       "      <td>15253.82930</td>\n",
       "      <td>1735948799999</td>\n",
       "      <td>1486610768.59079170</td>\n",
       "      <td>2851164</td>\n",
       "      <td>7468.60797000</td>\n",
       "      <td>727787246.89655880</td>\n",
       "      <td>0</td>\n",
       "    </tr>\n",
       "    <tr>\n",
       "      <th>1</th>\n",
       "      <td>2025-01-02</td>\n",
       "      <td>94591.78</td>\n",
       "      <td>97839.50</td>\n",
       "      <td>94392.00</td>\n",
       "      <td>96984.79</td>\n",
       "      <td>21970.48940</td>\n",
       "      <td>1735862399999</td>\n",
       "      <td>2118411852.68127950</td>\n",
       "      <td>3569079</td>\n",
       "      <td>10915.96986000</td>\n",
       "      <td>1052226710.33367170</td>\n",
       "      <td>0</td>\n",
       "    </tr>\n",
       "    <tr>\n",
       "      <th>0</th>\n",
       "      <td>2025-01-01</td>\n",
       "      <td>93576.00</td>\n",
       "      <td>95151.15</td>\n",
       "      <td>92888.00</td>\n",
       "      <td>94591.79</td>\n",
       "      <td>10373.32610</td>\n",
       "      <td>1735775999999</td>\n",
       "      <td>975444194.13799830</td>\n",
       "      <td>1516556</td>\n",
       "      <td>5347.73648000</td>\n",
       "      <td>502914035.64059070</td>\n",
       "      <td>0</td>\n",
       "    </tr>\n",
       "  </tbody>\n",
       "</table>\n",
       "<p>146 rows × 12 columns</p>\n",
       "</div>"
      ],
      "text/plain": [
       "     timestamp       open       high        low      close       volume  \\\n",
       "145 2025-05-26  109004.20  110228.11  108670.58  109620.93   7098.59196   \n",
       "144 2025-05-25  107761.90  109299.99  106600.64  109004.19  17710.04690   \n",
       "143 2025-05-24  107318.30  109506.03  106875.41  107761.91  16782.53120   \n",
       "142 2025-05-23  111696.22  111800.00  106800.00  107318.30  31737.72300   \n",
       "141 2025-05-22  109643.99  111980.00  109177.37  111696.21  31630.77310   \n",
       "..         ...        ...        ...        ...        ...          ...   \n",
       "4   2025-01-05   98220.51   98836.85   97276.79   98363.61   8095.63723   \n",
       "3   2025-01-04   98174.17   98778.43   97514.79   98220.50   8990.05651   \n",
       "2   2025-01-03   96984.79   98976.91   96100.01   98174.18  15253.82930   \n",
       "1   2025-01-02   94591.78   97839.50   94392.00   96984.79  21970.48940   \n",
       "0   2025-01-01   93576.00   95151.15   92888.00   94591.79  10373.32610   \n",
       "\n",
       "        close_time   quote_asset_volume  number_of_trades  \\\n",
       "145  1748303999999   778032538.80484750           1252522   \n",
       "144  1748217599999  1904366455.42585800           3151168   \n",
       "143  1748131199999  1819958819.77485860           2805418   \n",
       "142  1748044799999  3469704446.39040470           5251192   \n",
       "141  1747958399999  3509432834.57341730           5794216   \n",
       "..             ...                  ...               ...   \n",
       "4    1736121599999   793931715.95463240           1685799   \n",
       "3    1736035199999   881223751.63536030           1559982   \n",
       "2    1735948799999  1486610768.59079170           2851164   \n",
       "1    1735862399999  2118411852.68127950           3569079   \n",
       "0    1735775999999   975444194.13799830           1516556   \n",
       "\n",
       "    taker_buy_base_asset_volume taker_buy_quote_asset_volume ignore  \n",
       "145               3493.67355000           382942965.52082440      0  \n",
       "144               7867.16712000           846688135.00971360      0  \n",
       "143               8786.90747000           953683093.32165700      0  \n",
       "142              14309.31652000          1565622441.18751700      0  \n",
       "141              16584.56293000          1840083098.58278590      0  \n",
       "..                          ...                          ...    ...  \n",
       "4                 3877.90985000           380355340.46860360      0  \n",
       "3                 4350.80221000           426524714.13055390      0  \n",
       "2                 7468.60797000           727787246.89655880      0  \n",
       "1                10915.96986000          1052226710.33367170      0  \n",
       "0                 5347.73648000           502914035.64059070      0  \n",
       "\n",
       "[146 rows x 12 columns]"
      ]
     },
     "execution_count": 321,
     "metadata": {},
     "output_type": "execute_result"
    }
   ],
   "source": [
    "df = df.sort_values(\n",
    "    by = 'timestamp', #Aqui defino o nome da coluna pela qual quero ordenar\n",
    "    ascending = False\n",
    ")\n",
    "\n",
    "df"
   ]
  },
  {
   "cell_type": "markdown",
   "id": "c99f8220-639e-4fa6-a3f5-f3a040365973",
   "metadata": {},
   "source": [
    "No entando eu posso ordenar por qualquer coluna que eu queira, a exemplo abaixo, irei ordenar pelo valor de fechamento (close) do bitcoin"
   ]
  },
  {
   "cell_type": "code",
   "execution_count": 326,
   "id": "2cb85f3b-0afc-49d4-8d5d-e274ca904ef1",
   "metadata": {},
   "outputs": [
    {
     "data": {
      "text/html": [
       "<div>\n",
       "<style scoped>\n",
       "    .dataframe tbody tr th:only-of-type {\n",
       "        vertical-align: middle;\n",
       "    }\n",
       "\n",
       "    .dataframe tbody tr th {\n",
       "        vertical-align: top;\n",
       "    }\n",
       "\n",
       "    .dataframe thead th {\n",
       "        text-align: right;\n",
       "    }\n",
       "</style>\n",
       "<table border=\"1\" class=\"dataframe\">\n",
       "  <thead>\n",
       "    <tr style=\"text-align: right;\">\n",
       "      <th></th>\n",
       "      <th>timestamp</th>\n",
       "      <th>open</th>\n",
       "      <th>high</th>\n",
       "      <th>low</th>\n",
       "      <th>close</th>\n",
       "      <th>volume</th>\n",
       "      <th>close_time</th>\n",
       "      <th>quote_asset_volume</th>\n",
       "      <th>number_of_trades</th>\n",
       "      <th>taker_buy_base_asset_volume</th>\n",
       "      <th>taker_buy_quote_asset_volume</th>\n",
       "      <th>ignore</th>\n",
       "    </tr>\n",
       "  </thead>\n",
       "  <tbody>\n",
       "    <tr>\n",
       "      <th>141</th>\n",
       "      <td>2025-05-22</td>\n",
       "      <td>109643.99</td>\n",
       "      <td>111980.00</td>\n",
       "      <td>109177.37</td>\n",
       "      <td>111696.21</td>\n",
       "      <td>31630.77310</td>\n",
       "      <td>1747958399999</td>\n",
       "      <td>3509432834.57341730</td>\n",
       "      <td>5794216</td>\n",
       "      <td>16584.56293000</td>\n",
       "      <td>1840083098.58278590</td>\n",
       "      <td>0</td>\n",
       "    </tr>\n",
       "    <tr>\n",
       "      <th>140</th>\n",
       "      <td>2025-05-21</td>\n",
       "      <td>106850.00</td>\n",
       "      <td>110797.38</td>\n",
       "      <td>106100.01</td>\n",
       "      <td>109643.99</td>\n",
       "      <td>45531.04030</td>\n",
       "      <td>1747871999999</td>\n",
       "      <td>4914709514.32002680</td>\n",
       "      <td>6835279</td>\n",
       "      <td>23661.64939500</td>\n",
       "      <td>2555528481.09872580</td>\n",
       "      <td>0</td>\n",
       "    </tr>\n",
       "    <tr>\n",
       "      <th>145</th>\n",
       "      <td>2025-05-26</td>\n",
       "      <td>109004.20</td>\n",
       "      <td>110228.11</td>\n",
       "      <td>108670.58</td>\n",
       "      <td>109620.93</td>\n",
       "      <td>7098.59196</td>\n",
       "      <td>1748303999999</td>\n",
       "      <td>778032538.80484750</td>\n",
       "      <td>1252522</td>\n",
       "      <td>3493.67355000</td>\n",
       "      <td>382942965.52082440</td>\n",
       "      <td>0</td>\n",
       "    </tr>\n",
       "    <tr>\n",
       "      <th>144</th>\n",
       "      <td>2025-05-25</td>\n",
       "      <td>107761.90</td>\n",
       "      <td>109299.99</td>\n",
       "      <td>106600.64</td>\n",
       "      <td>109004.19</td>\n",
       "      <td>17710.04690</td>\n",
       "      <td>1748217599999</td>\n",
       "      <td>1904366455.42585800</td>\n",
       "      <td>3151168</td>\n",
       "      <td>7867.16712000</td>\n",
       "      <td>846688135.00971360</td>\n",
       "      <td>0</td>\n",
       "    </tr>\n",
       "    <tr>\n",
       "      <th>143</th>\n",
       "      <td>2025-05-24</td>\n",
       "      <td>107318.30</td>\n",
       "      <td>109506.03</td>\n",
       "      <td>106875.41</td>\n",
       "      <td>107761.91</td>\n",
       "      <td>16782.53120</td>\n",
       "      <td>1748131199999</td>\n",
       "      <td>1819958819.77485860</td>\n",
       "      <td>2805418</td>\n",
       "      <td>8786.90747000</td>\n",
       "      <td>953683093.32165700</td>\n",
       "      <td>0</td>\n",
       "    </tr>\n",
       "    <tr>\n",
       "      <th>...</th>\n",
       "      <td>...</td>\n",
       "      <td>...</td>\n",
       "      <td>...</td>\n",
       "      <td>...</td>\n",
       "      <td>...</td>\n",
       "      <td>...</td>\n",
       "      <td>...</td>\n",
       "      <td>...</td>\n",
       "      <td>...</td>\n",
       "      <td>...</td>\n",
       "      <td>...</td>\n",
       "      <td>...</td>\n",
       "    </tr>\n",
       "    <tr>\n",
       "      <th>99</th>\n",
       "      <td>2025-04-10</td>\n",
       "      <td>82615.22</td>\n",
       "      <td>82753.21</td>\n",
       "      <td>78464.36</td>\n",
       "      <td>79607.30</td>\n",
       "      <td>33284.80710</td>\n",
       "      <td>1744329599999</td>\n",
       "      <td>2690294353.84784260</td>\n",
       "      <td>4529545</td>\n",
       "      <td>16339.91910000</td>\n",
       "      <td>1321475356.02008490</td>\n",
       "      <td>0</td>\n",
       "    </tr>\n",
       "    <tr>\n",
       "      <th>96</th>\n",
       "      <td>2025-04-07</td>\n",
       "      <td>78430.00</td>\n",
       "      <td>81243.58</td>\n",
       "      <td>74508.00</td>\n",
       "      <td>79163.24</td>\n",
       "      <td>78387.53080</td>\n",
       "      <td>1744070399999</td>\n",
       "      <td>6084614024.15064720</td>\n",
       "      <td>9736596</td>\n",
       "      <td>39075.84274000</td>\n",
       "      <td>3034375055.68439650</td>\n",
       "      <td>0</td>\n",
       "    </tr>\n",
       "    <tr>\n",
       "      <th>68</th>\n",
       "      <td>2025-03-10</td>\n",
       "      <td>80734.48</td>\n",
       "      <td>84123.46</td>\n",
       "      <td>77459.91</td>\n",
       "      <td>78595.86</td>\n",
       "      <td>47633.38400</td>\n",
       "      <td>1741651199999</td>\n",
       "      <td>3834924947.75818610</td>\n",
       "      <td>8701538</td>\n",
       "      <td>22898.57072000</td>\n",
       "      <td>1846606255.35214860</td>\n",
       "      <td>0</td>\n",
       "    </tr>\n",
       "    <tr>\n",
       "      <th>95</th>\n",
       "      <td>2025-04-06</td>\n",
       "      <td>83537.99</td>\n",
       "      <td>83817.63</td>\n",
       "      <td>77153.83</td>\n",
       "      <td>78430.00</td>\n",
       "      <td>27942.71430</td>\n",
       "      <td>1743983999999</td>\n",
       "      <td>2239085051.15296450</td>\n",
       "      <td>3948493</td>\n",
       "      <td>12493.84490000</td>\n",
       "      <td>1001459573.49446610</td>\n",
       "      <td>0</td>\n",
       "    </tr>\n",
       "    <tr>\n",
       "      <th>97</th>\n",
       "      <td>2025-04-08</td>\n",
       "      <td>79163.24</td>\n",
       "      <td>80867.99</td>\n",
       "      <td>76239.90</td>\n",
       "      <td>76322.42</td>\n",
       "      <td>35317.32060</td>\n",
       "      <td>1744156799999</td>\n",
       "      <td>2775277777.10246080</td>\n",
       "      <td>5512751</td>\n",
       "      <td>15704.73031000</td>\n",
       "      <td>1235370767.11535030</td>\n",
       "      <td>0</td>\n",
       "    </tr>\n",
       "  </tbody>\n",
       "</table>\n",
       "<p>146 rows × 12 columns</p>\n",
       "</div>"
      ],
      "text/plain": [
       "     timestamp       open       high        low      close       volume  \\\n",
       "141 2025-05-22  109643.99  111980.00  109177.37  111696.21  31630.77310   \n",
       "140 2025-05-21  106850.00  110797.38  106100.01  109643.99  45531.04030   \n",
       "145 2025-05-26  109004.20  110228.11  108670.58  109620.93   7098.59196   \n",
       "144 2025-05-25  107761.90  109299.99  106600.64  109004.19  17710.04690   \n",
       "143 2025-05-24  107318.30  109506.03  106875.41  107761.91  16782.53120   \n",
       "..         ...        ...        ...        ...        ...          ...   \n",
       "99  2025-04-10   82615.22   82753.21   78464.36   79607.30  33284.80710   \n",
       "96  2025-04-07   78430.00   81243.58   74508.00   79163.24  78387.53080   \n",
       "68  2025-03-10   80734.48   84123.46   77459.91   78595.86  47633.38400   \n",
       "95  2025-04-06   83537.99   83817.63   77153.83   78430.00  27942.71430   \n",
       "97  2025-04-08   79163.24   80867.99   76239.90   76322.42  35317.32060   \n",
       "\n",
       "        close_time   quote_asset_volume  number_of_trades  \\\n",
       "141  1747958399999  3509432834.57341730           5794216   \n",
       "140  1747871999999  4914709514.32002680           6835279   \n",
       "145  1748303999999   778032538.80484750           1252522   \n",
       "144  1748217599999  1904366455.42585800           3151168   \n",
       "143  1748131199999  1819958819.77485860           2805418   \n",
       "..             ...                  ...               ...   \n",
       "99   1744329599999  2690294353.84784260           4529545   \n",
       "96   1744070399999  6084614024.15064720           9736596   \n",
       "68   1741651199999  3834924947.75818610           8701538   \n",
       "95   1743983999999  2239085051.15296450           3948493   \n",
       "97   1744156799999  2775277777.10246080           5512751   \n",
       "\n",
       "    taker_buy_base_asset_volume taker_buy_quote_asset_volume ignore  \n",
       "141              16584.56293000          1840083098.58278590      0  \n",
       "140              23661.64939500          2555528481.09872580      0  \n",
       "145               3493.67355000           382942965.52082440      0  \n",
       "144               7867.16712000           846688135.00971360      0  \n",
       "143               8786.90747000           953683093.32165700      0  \n",
       "..                          ...                          ...    ...  \n",
       "99               16339.91910000          1321475356.02008490      0  \n",
       "96               39075.84274000          3034375055.68439650      0  \n",
       "68               22898.57072000          1846606255.35214860      0  \n",
       "95               12493.84490000          1001459573.49446610      0  \n",
       "97               15704.73031000          1235370767.11535030      0  \n",
       "\n",
       "[146 rows x 12 columns]"
      ]
     },
     "execution_count": 326,
     "metadata": {},
     "output_type": "execute_result"
    }
   ],
   "source": [
    "df.sort_values(\n",
    "    by = 'close', #Aqui defino o nome da coluna pela qual quero ordenar\n",
    "    ascending = False\n",
    ")"
   ]
  },
  {
   "cell_type": "markdown",
   "id": "fc91afb9-531c-478d-afcc-b43d868a8520",
   "metadata": {},
   "source": [
    "# Criando uma função "
   ]
  },
  {
   "cell_type": "markdown",
   "id": "78fe3e26-e493-4f80-93d7-c60297f2bac0",
   "metadata": {},
   "source": [
    "Como visto anteriormente, formar o dataframe da um certo trabalho, então mas facil é criar uma função que facilite essa tarefa, onde eu apenas tenha que passar o Par de trading, intervalo e data para puxar os dados da biblioteca da binance"
   ]
  },
  {
   "cell_type": "code",
   "execution_count": 330,
   "id": "19d70062-0242-438a-ae43-46eb2e2e68f0",
   "metadata": {},
   "outputs": [],
   "source": [
    "def pegar_historico(par, intervalo, data_inicio):\n",
    "    \n",
    "    klines = client.get_historical_klines(par, intervalo, data_inicio)\n",
    "    \n",
    "    df = pd.DataFrame(klines, columns=[\n",
    "    \"timestamp\", \"open\", \"high\", \"low\", \"close\", \"volume\",\n",
    "    \"close_time\", \"quote_asset_volume\", \"number_of_trades\",\n",
    "    \"taker_buy_base_asset_volume\", \"taker_buy_quote_asset_volume\", \"ignore\"\n",
    "    ])\n",
    "\n",
    "    # Converter timestamp para datetime\n",
    "    df[\"timestamp\"] = pd.to_datetime(df[\"timestamp\"], unit=\"ms\")\n",
    "\n",
    "    cols = [\"open\", \"high\", \"low\", \"close\", \"volume\"]\n",
    "    df[cols] = df[cols].astype(float)\n",
    "    return df"
   ]
  },
  {
   "cell_type": "code",
   "execution_count": 334,
   "id": "c9f968b6-c7bc-45de-8602-e1d6d0394b5e",
   "metadata": {},
   "outputs": [
    {
     "data": {
      "text/html": [
       "<div>\n",
       "<style scoped>\n",
       "    .dataframe tbody tr th:only-of-type {\n",
       "        vertical-align: middle;\n",
       "    }\n",
       "\n",
       "    .dataframe tbody tr th {\n",
       "        vertical-align: top;\n",
       "    }\n",
       "\n",
       "    .dataframe thead th {\n",
       "        text-align: right;\n",
       "    }\n",
       "</style>\n",
       "<table border=\"1\" class=\"dataframe\">\n",
       "  <thead>\n",
       "    <tr style=\"text-align: right;\">\n",
       "      <th></th>\n",
       "      <th>timestamp</th>\n",
       "      <th>open</th>\n",
       "      <th>high</th>\n",
       "      <th>low</th>\n",
       "      <th>close</th>\n",
       "      <th>volume</th>\n",
       "      <th>close_time</th>\n",
       "      <th>quote_asset_volume</th>\n",
       "      <th>number_of_trades</th>\n",
       "      <th>taker_buy_base_asset_volume</th>\n",
       "      <th>taker_buy_quote_asset_volume</th>\n",
       "      <th>ignore</th>\n",
       "    </tr>\n",
       "  </thead>\n",
       "  <tbody>\n",
       "    <tr>\n",
       "      <th>0</th>\n",
       "      <td>2025-01-01</td>\n",
       "      <td>583135.0</td>\n",
       "      <td>591233.0</td>\n",
       "      <td>579057.0</td>\n",
       "      <td>588693.0</td>\n",
       "      <td>72.14957</td>\n",
       "      <td>1735775999999</td>\n",
       "      <td>42310167.57540000</td>\n",
       "      <td>21358</td>\n",
       "      <td>41.00811000</td>\n",
       "      <td>24046544.55393000</td>\n",
       "      <td>0</td>\n",
       "    </tr>\n",
       "    <tr>\n",
       "      <th>1</th>\n",
       "      <td>2025-01-02</td>\n",
       "      <td>588635.0</td>\n",
       "      <td>607111.0</td>\n",
       "      <td>587263.0</td>\n",
       "      <td>599306.0</td>\n",
       "      <td>166.56756</td>\n",
       "      <td>1735862399999</td>\n",
       "      <td>99793602.55375000</td>\n",
       "      <td>47531</td>\n",
       "      <td>78.05491000</td>\n",
       "      <td>46770433.42530000</td>\n",
       "      <td>0</td>\n",
       "    </tr>\n",
       "    <tr>\n",
       "      <th>2</th>\n",
       "      <td>2025-01-03</td>\n",
       "      <td>599363.0</td>\n",
       "      <td>613793.0</td>\n",
       "      <td>594140.0</td>\n",
       "      <td>607582.0</td>\n",
       "      <td>128.54397</td>\n",
       "      <td>1735948799999</td>\n",
       "      <td>77592339.31612000</td>\n",
       "      <td>39792</td>\n",
       "      <td>61.49631000</td>\n",
       "      <td>37100120.06508000</td>\n",
       "      <td>0</td>\n",
       "    </tr>\n",
       "    <tr>\n",
       "      <th>3</th>\n",
       "      <td>2025-01-04</td>\n",
       "      <td>607593.0</td>\n",
       "      <td>612902.0</td>\n",
       "      <td>604369.0</td>\n",
       "      <td>609413.0</td>\n",
       "      <td>64.64526</td>\n",
       "      <td>1736035199999</td>\n",
       "      <td>39296764.14958000</td>\n",
       "      <td>27377</td>\n",
       "      <td>31.38893000</td>\n",
       "      <td>19078907.64598000</td>\n",
       "      <td>0</td>\n",
       "    </tr>\n",
       "    <tr>\n",
       "      <th>4</th>\n",
       "      <td>2025-01-05</td>\n",
       "      <td>609412.0</td>\n",
       "      <td>613000.0</td>\n",
       "      <td>604300.0</td>\n",
       "      <td>611273.0</td>\n",
       "      <td>58.20556</td>\n",
       "      <td>1736121599999</td>\n",
       "      <td>35453798.90673000</td>\n",
       "      <td>22973</td>\n",
       "      <td>27.81086000</td>\n",
       "      <td>16944045.55734000</td>\n",
       "      <td>0</td>\n",
       "    </tr>\n",
       "  </tbody>\n",
       "</table>\n",
       "</div>"
      ],
      "text/plain": [
       "   timestamp      open      high       low     close     volume  \\\n",
       "0 2025-01-01  583135.0  591233.0  579057.0  588693.0   72.14957   \n",
       "1 2025-01-02  588635.0  607111.0  587263.0  599306.0  166.56756   \n",
       "2 2025-01-03  599363.0  613793.0  594140.0  607582.0  128.54397   \n",
       "3 2025-01-04  607593.0  612902.0  604369.0  609413.0   64.64526   \n",
       "4 2025-01-05  609412.0  613000.0  604300.0  611273.0   58.20556   \n",
       "\n",
       "      close_time quote_asset_volume  number_of_trades  \\\n",
       "0  1735775999999  42310167.57540000             21358   \n",
       "1  1735862399999  99793602.55375000             47531   \n",
       "2  1735948799999  77592339.31612000             39792   \n",
       "3  1736035199999  39296764.14958000             27377   \n",
       "4  1736121599999  35453798.90673000             22973   \n",
       "\n",
       "  taker_buy_base_asset_volume taker_buy_quote_asset_volume ignore  \n",
       "0                 41.00811000            24046544.55393000      0  \n",
       "1                 78.05491000            46770433.42530000      0  \n",
       "2                 61.49631000            37100120.06508000      0  \n",
       "3                 31.38893000            19078907.64598000      0  \n",
       "4                 27.81086000            16944045.55734000      0  "
      ]
     },
     "execution_count": 334,
     "metadata": {},
     "output_type": "execute_result"
    }
   ],
   "source": [
    "#Testando a função para o par de trding BTCBRL\n",
    "par = \"BTCBRL\"\n",
    "intervalo = \"1d\"\n",
    "data_inicio = \"1 Jan 2025\"\n",
    "\n",
    "df_btcbrl = pegar_historico(\n",
    "        par,\n",
    "        intervalo,\n",
    "        data_inicio\n",
    "    )\n",
    "\n",
    "df_btcbrl.head(5)"
   ]
  },
  {
   "cell_type": "code",
   "execution_count": 336,
   "id": "8108ce2f-4268-4c09-8ce4-fc87dbd5135d",
   "metadata": {},
   "outputs": [
    {
     "data": {
      "text/html": [
       "<div>\n",
       "<style scoped>\n",
       "    .dataframe tbody tr th:only-of-type {\n",
       "        vertical-align: middle;\n",
       "    }\n",
       "\n",
       "    .dataframe tbody tr th {\n",
       "        vertical-align: top;\n",
       "    }\n",
       "\n",
       "    .dataframe thead th {\n",
       "        text-align: right;\n",
       "    }\n",
       "</style>\n",
       "<table border=\"1\" class=\"dataframe\">\n",
       "  <thead>\n",
       "    <tr style=\"text-align: right;\">\n",
       "      <th></th>\n",
       "      <th>timestamp</th>\n",
       "      <th>open</th>\n",
       "      <th>high</th>\n",
       "      <th>low</th>\n",
       "      <th>close</th>\n",
       "      <th>volume</th>\n",
       "      <th>close_time</th>\n",
       "      <th>quote_asset_volume</th>\n",
       "      <th>number_of_trades</th>\n",
       "      <th>taker_buy_base_asset_volume</th>\n",
       "      <th>taker_buy_quote_asset_volume</th>\n",
       "      <th>ignore</th>\n",
       "    </tr>\n",
       "  </thead>\n",
       "  <tbody>\n",
       "    <tr>\n",
       "      <th>0</th>\n",
       "      <td>2025-01-01</td>\n",
       "      <td>20803.00</td>\n",
       "      <td>21009.86</td>\n",
       "      <td>20654.09</td>\n",
       "      <td>20911.17</td>\n",
       "      <td>585.7911</td>\n",
       "      <td>1735775999999</td>\n",
       "      <td>12215739.72054000</td>\n",
       "      <td>6336</td>\n",
       "      <td>405.06440000</td>\n",
       "      <td>8449878.43802700</td>\n",
       "      <td>0</td>\n",
       "    </tr>\n",
       "    <tr>\n",
       "      <th>1</th>\n",
       "      <td>2025-01-02</td>\n",
       "      <td>20914.39</td>\n",
       "      <td>21886.69</td>\n",
       "      <td>20871.46</td>\n",
       "      <td>21356.75</td>\n",
       "      <td>973.6267</td>\n",
       "      <td>1735862399999</td>\n",
       "      <td>20871615.22898300</td>\n",
       "      <td>13247</td>\n",
       "      <td>504.75730000</td>\n",
       "      <td>10818566.95203500</td>\n",
       "      <td>0</td>\n",
       "    </tr>\n",
       "    <tr>\n",
       "      <th>2</th>\n",
       "      <td>2025-01-03</td>\n",
       "      <td>21357.14</td>\n",
       "      <td>22512.12</td>\n",
       "      <td>21170.34</td>\n",
       "      <td>22332.58</td>\n",
       "      <td>1234.5078</td>\n",
       "      <td>1735948799999</td>\n",
       "      <td>27109384.99640100</td>\n",
       "      <td>13595</td>\n",
       "      <td>606.88440000</td>\n",
       "      <td>13331542.71594100</td>\n",
       "      <td>0</td>\n",
       "    </tr>\n",
       "    <tr>\n",
       "      <th>3</th>\n",
       "      <td>2025-01-04</td>\n",
       "      <td>22336.05</td>\n",
       "      <td>22773.18</td>\n",
       "      <td>22148.35</td>\n",
       "      <td>22687.00</td>\n",
       "      <td>592.4939</td>\n",
       "      <td>1736035199999</td>\n",
       "      <td>13314175.66013600</td>\n",
       "      <td>8765</td>\n",
       "      <td>320.90460000</td>\n",
       "      <td>7212519.16903200</td>\n",
       "      <td>0</td>\n",
       "    </tr>\n",
       "    <tr>\n",
       "      <th>4</th>\n",
       "      <td>2025-01-05</td>\n",
       "      <td>22686.33</td>\n",
       "      <td>22793.78</td>\n",
       "      <td>22307.44</td>\n",
       "      <td>22593.04</td>\n",
       "      <td>459.6876</td>\n",
       "      <td>1736121599999</td>\n",
       "      <td>10365797.12512300</td>\n",
       "      <td>6601</td>\n",
       "      <td>241.72320000</td>\n",
       "      <td>5450638.75970500</td>\n",
       "      <td>0</td>\n",
       "    </tr>\n",
       "  </tbody>\n",
       "</table>\n",
       "</div>"
      ],
      "text/plain": [
       "   timestamp      open      high       low     close     volume  \\\n",
       "0 2025-01-01  20803.00  21009.86  20654.09  20911.17   585.7911   \n",
       "1 2025-01-02  20914.39  21886.69  20871.46  21356.75   973.6267   \n",
       "2 2025-01-03  21357.14  22512.12  21170.34  22332.58  1234.5078   \n",
       "3 2025-01-04  22336.05  22773.18  22148.35  22687.00   592.4939   \n",
       "4 2025-01-05  22686.33  22793.78  22307.44  22593.04   459.6876   \n",
       "\n",
       "      close_time quote_asset_volume  number_of_trades  \\\n",
       "0  1735775999999  12215739.72054000              6336   \n",
       "1  1735862399999  20871615.22898300             13247   \n",
       "2  1735948799999  27109384.99640100             13595   \n",
       "3  1736035199999  13314175.66013600              8765   \n",
       "4  1736121599999  10365797.12512300              6601   \n",
       "\n",
       "  taker_buy_base_asset_volume taker_buy_quote_asset_volume ignore  \n",
       "0                405.06440000             8449878.43802700      0  \n",
       "1                504.75730000            10818566.95203500      0  \n",
       "2                606.88440000            13331542.71594100      0  \n",
       "3                320.90460000             7212519.16903200      0  \n",
       "4                241.72320000             5450638.75970500      0  "
      ]
     },
     "execution_count": 336,
     "metadata": {},
     "output_type": "execute_result"
    }
   ],
   "source": [
    "#Criando Par de ETHBRL\n",
    "# Utilizando ethereum como exeplo para se certificar que a função consegue puxar valores de par de trading diferentes de bitcoin\n",
    "par = \"ETHBRL\"\n",
    "intervalo = \"1d\"\n",
    "data_inicio = \"1 Jan 2025\"\n",
    "\n",
    "df_ethbrl = pegar_historico(\n",
    "        par,\n",
    "        intervalo,\n",
    "        data_inicio\n",
    "    )\n",
    "\n",
    "df_ethbrl.head(5)"
   ]
  },
  {
   "cell_type": "markdown",
   "id": "7df9ef65-1816-4923-85c2-86f5d8417887",
   "metadata": {},
   "source": [
    "A função criada nessa introdução irá auxilar no estudos dos demais estudos, sendo exportado para um arquivo diferente"
   ]
  },
  {
   "cell_type": "code",
   "execution_count": 24,
   "id": "64ea6ce6-a919-4b4c-b84f-92176fcc2aaf",
   "metadata": {},
   "outputs": [
    {
     "data": {
      "text/plain": [
       "<matplotlib.legend.Legend at 0x123166caed0>"
      ]
     },
     "execution_count": 24,
     "metadata": {},
     "output_type": "execute_result"
    },
    {
     "data": {
      "image/png": "[encoded data removed]",
      "text/plain": [
       "<Figure size 1200x600 with 1 Axes>"
      ]
     },
     "metadata": {},
     "output_type": "display_data"
    }
   ],
   "source": [
    "plt.figure(figsize=(12,6))\n",
    "\n",
    "plt.plot(df_btceth_close['BTC_close'], label=\"BTC\")\n",
    "plt.plot(df_btceth_close['ETH_close'], label=\"ETH\")\n",
    "plt.legend()"
   ]
  },
  {
   "cell_type": "code",
   "execution_count": 25,
   "id": "ee8b6e2a-437d-466a-b981-10384c1433e3",
   "metadata": {},
   "outputs": [
    {
     "data": {
      "text/plain": [
       "0      100.000000\n",
       "1      101.802807\n",
       "2      103.208633\n",
       "3      103.519661\n",
       "4      103.835616\n",
       "          ...    \n",
       "141    108.017082\n",
       "142    103.865682\n",
       "143    104.254510\n",
       "144    105.487240\n",
       "145    105.773977\n",
       "Name: BTC_close, Length: 146, dtype: float64"
      ]
     },
     "execution_count": 25,
     "metadata": {},
     "output_type": "execute_result"
    }
   ],
   "source": [
    "df_btceth_close['BTC_close'] / df_btceth_close['BTC_close'].iloc[0] * 100"
   ]
  },
  {
   "cell_type": "markdown",
   "id": "28eefd14-5b57-4f9c-8334-3ca804e79081",
   "metadata": {},
   "source": [
    "## Meme Coins / Alt Coins"
   ]
  },
  {
   "cell_type": "code",
   "execution_count": 28,
   "id": "01663ab1-1542-4caa-a055-7350b6c56275",
   "metadata": {},
   "outputs": [],
   "source": [
    "#Criando uma lista com o par de trading para cada alt coin desejada\n",
    "pares = [\"SOLBRL\", \"SHIBBRL\",\"POLBRL\",\"XRPBRL\",\"BNBBRL\"]\n",
    "\n",
    "#O resto segue o mesmo\n",
    "intervalo = \"1d\"\n",
    "data_inicio = \"1 Jan 2025\"\n",
    "\n",
    "df_memecoins = pd.DataFrame()\n",
    "\n",
    "for token in pares:\n",
    "    df_memecoins[token] = pegar_historico(token, intervalo, data_inicio)['close']"
   ]
  },
  {
   "cell_type": "code",
   "execution_count": 29,
   "id": "c1f608aa-0c21-4f5c-a171-6c5850db4b7c",
   "metadata": {},
   "outputs": [
    {
     "data": {
      "text/html": [
       "<div>\n",
       "<style scoped>\n",
       "    .dataframe tbody tr th:only-of-type {\n",
       "        vertical-align: middle;\n",
       "    }\n",
       "\n",
       "    .dataframe tbody tr th {\n",
       "        vertical-align: top;\n",
       "    }\n",
       "\n",
       "    .dataframe thead th {\n",
       "        text-align: right;\n",
       "    }\n",
       "</style>\n",
       "<table border=\"1\" class=\"dataframe\">\n",
       "  <thead>\n",
       "    <tr style=\"text-align: right;\">\n",
       "      <th></th>\n",
       "      <th>SOLBRL</th>\n",
       "      <th>SHIBBRL</th>\n",
       "      <th>POLBRL</th>\n",
       "      <th>XRPBRL</th>\n",
       "      <th>BNBBRL</th>\n",
       "    </tr>\n",
       "  </thead>\n",
       "  <tbody>\n",
       "    <tr>\n",
       "      <th>Quantidade</th>\n",
       "      <td>146.000</td>\n",
       "      <td>146.0</td>\n",
       "      <td>146.000</td>\n",
       "      <td>146.000</td>\n",
       "      <td>146.000</td>\n",
       "    </tr>\n",
       "    <tr>\n",
       "      <th>Média</th>\n",
       "      <td>976.514</td>\n",
       "      <td>0.0</td>\n",
       "      <td>1.690</td>\n",
       "      <td>14.146</td>\n",
       "      <td>3692.260</td>\n",
       "    </tr>\n",
       "    <tr>\n",
       "      <th>Desvio Padrao</th>\n",
       "      <td>239.429</td>\n",
       "      <td>0.0</td>\n",
       "      <td>0.620</td>\n",
       "      <td>2.017</td>\n",
       "      <td>314.147</td>\n",
       "    </tr>\n",
       "    <tr>\n",
       "      <th>Minimo</th>\n",
       "      <td>624.200</td>\n",
       "      <td>0.0</td>\n",
       "      <td>1.006</td>\n",
       "      <td>10.830</td>\n",
       "      <td>3128.000</td>\n",
       "    </tr>\n",
       "    <tr>\n",
       "      <th>25%</th>\n",
       "      <td>786.900</td>\n",
       "      <td>0.0</td>\n",
       "      <td>1.248</td>\n",
       "      <td>12.659</td>\n",
       "      <td>3456.250</td>\n",
       "    </tr>\n",
       "    <tr>\n",
       "      <th>50%</th>\n",
       "      <td>940.050</td>\n",
       "      <td>0.0</td>\n",
       "      <td>1.426</td>\n",
       "      <td>13.646</td>\n",
       "      <td>3601.500</td>\n",
       "    </tr>\n",
       "    <tr>\n",
       "      <th>75%</th>\n",
       "      <td>1140.000</td>\n",
       "      <td>0.0</td>\n",
       "      <td>1.845</td>\n",
       "      <td>14.819</td>\n",
       "      <td>3843.750</td>\n",
       "    </tr>\n",
       "    <tr>\n",
       "      <th>Maximo</th>\n",
       "      <td>1600.600</td>\n",
       "      <td>0.0</td>\n",
       "      <td>3.252</td>\n",
       "      <td>19.988</td>\n",
       "      <td>4448.000</td>\n",
       "    </tr>\n",
       "  </tbody>\n",
       "</table>\n",
       "</div>"
      ],
      "text/plain": [
       "                 SOLBRL  SHIBBRL   POLBRL   XRPBRL    BNBBRL\n",
       "Quantidade      146.000    146.0  146.000  146.000   146.000\n",
       "Média           976.514      0.0    1.690   14.146  3692.260\n",
       "Desvio Padrao   239.429      0.0    0.620    2.017   314.147\n",
       "Minimo          624.200      0.0    1.006   10.830  3128.000\n",
       "25%             786.900      0.0    1.248   12.659  3456.250\n",
       "50%             940.050      0.0    1.426   13.646  3601.500\n",
       "75%            1140.000      0.0    1.845   14.819  3843.750\n",
       "Maximo         1600.600      0.0    3.252   19.988  4448.000"
      ]
     },
     "execution_count": 29,
     "metadata": {},
     "output_type": "execute_result"
    }
   ],
   "source": [
    "memecoins_describe = df_memecoins.describe()\n",
    "memecoins_describe.index=['Quantidade', 'Média', 'Desvio Padrao', 'Minimo', '25%', '50%', '75%', 'Maximo']\n",
    "\n",
    "np.round(memecoins_describe, 3)"
   ]
  },
  {
   "cell_type": "code",
   "execution_count": 30,
   "id": "ed90b812-88c2-4b36-b8ce-0f5106664f1b",
   "metadata": {},
   "outputs": [
    {
     "data": {
      "text/html": [
       "<div>\n",
       "<style scoped>\n",
       "    .dataframe tbody tr th:only-of-type {\n",
       "        vertical-align: middle;\n",
       "    }\n",
       "\n",
       "    .dataframe tbody tr th {\n",
       "        vertical-align: top;\n",
       "    }\n",
       "\n",
       "    .dataframe thead th {\n",
       "        text-align: right;\n",
       "    }\n",
       "</style>\n",
       "<table border=\"1\" class=\"dataframe\">\n",
       "  <thead>\n",
       "    <tr style=\"text-align: right;\">\n",
       "      <th></th>\n",
       "      <th>SOLBRL</th>\n",
       "      <th>SHIBBRL</th>\n",
       "      <th>POLBRL</th>\n",
       "      <th>XRPBRL</th>\n",
       "      <th>BNBBRL</th>\n",
       "    </tr>\n",
       "  </thead>\n",
       "  <tbody>\n",
       "    <tr>\n",
       "      <th>0</th>\n",
       "      <td>1209.1</td>\n",
       "      <td>0.000135</td>\n",
       "      <td>2.945</td>\n",
       "      <td>14.514</td>\n",
       "      <td>4408.0</td>\n",
       "    </tr>\n",
       "    <tr>\n",
       "      <th>1</th>\n",
       "      <td>1286.9</td>\n",
       "      <td>0.000142</td>\n",
       "      <td>2.996</td>\n",
       "      <td>14.848</td>\n",
       "      <td>4366.0</td>\n",
       "    </tr>\n",
       "    <tr>\n",
       "      <th>2</th>\n",
       "      <td>1349.1</td>\n",
       "      <td>0.000151</td>\n",
       "      <td>3.211</td>\n",
       "      <td>15.186</td>\n",
       "      <td>4423.0</td>\n",
       "    </tr>\n",
       "    <tr>\n",
       "      <th>3</th>\n",
       "      <td>1344.0</td>\n",
       "      <td>0.000151</td>\n",
       "      <td>3.252</td>\n",
       "      <td>15.011</td>\n",
       "      <td>4427.0</td>\n",
       "    </tr>\n",
       "    <tr>\n",
       "      <th>4</th>\n",
       "      <td>1325.8</td>\n",
       "      <td>0.000149</td>\n",
       "      <td>3.209</td>\n",
       "      <td>14.911</td>\n",
       "      <td>4408.0</td>\n",
       "    </tr>\n",
       "    <tr>\n",
       "      <th>5</th>\n",
       "      <td>1331.3</td>\n",
       "      <td>0.000147</td>\n",
       "      <td>3.199</td>\n",
       "      <td>14.761</td>\n",
       "      <td>4448.0</td>\n",
       "    </tr>\n",
       "    <tr>\n",
       "      <th>6</th>\n",
       "      <td>1242.0</td>\n",
       "      <td>0.000134</td>\n",
       "      <td>2.884</td>\n",
       "      <td>13.950</td>\n",
       "      <td>4289.0</td>\n",
       "    </tr>\n",
       "    <tr>\n",
       "      <th>7</th>\n",
       "      <td>1215.0</td>\n",
       "      <td>0.000131</td>\n",
       "      <td>2.863</td>\n",
       "      <td>14.594</td>\n",
       "      <td>4280.0</td>\n",
       "    </tr>\n",
       "    <tr>\n",
       "      <th>8</th>\n",
       "      <td>1124.3</td>\n",
       "      <td>0.000128</td>\n",
       "      <td>2.723</td>\n",
       "      <td>13.819</td>\n",
       "      <td>4167.0</td>\n",
       "    </tr>\n",
       "    <tr>\n",
       "      <th>9</th>\n",
       "      <td>1152.1</td>\n",
       "      <td>0.000132</td>\n",
       "      <td>2.812</td>\n",
       "      <td>14.379</td>\n",
       "      <td>4257.0</td>\n",
       "    </tr>\n",
       "    <tr>\n",
       "      <th>10</th>\n",
       "      <td>1156.1</td>\n",
       "      <td>0.000136</td>\n",
       "      <td>2.822</td>\n",
       "      <td>15.839</td>\n",
       "      <td>4284.0</td>\n",
       "    </tr>\n",
       "    <tr>\n",
       "      <th>11</th>\n",
       "      <td>1152.1</td>\n",
       "      <td>0.000132</td>\n",
       "      <td>2.753</td>\n",
       "      <td>15.314</td>\n",
       "      <td>4237.0</td>\n",
       "    </tr>\n",
       "    <tr>\n",
       "      <th>12</th>\n",
       "      <td>1116.5</td>\n",
       "      <td>0.000129</td>\n",
       "      <td>2.681</td>\n",
       "      <td>15.404</td>\n",
       "      <td>4203.0</td>\n",
       "    </tr>\n",
       "    <tr>\n",
       "      <th>13</th>\n",
       "      <td>1136.9</td>\n",
       "      <td>0.000131</td>\n",
       "      <td>2.758</td>\n",
       "      <td>16.191</td>\n",
       "      <td>4236.0</td>\n",
       "    </tr>\n",
       "    <tr>\n",
       "      <th>14</th>\n",
       "      <td>1233.4</td>\n",
       "      <td>0.000136</td>\n",
       "      <td>2.922</td>\n",
       "      <td>18.844</td>\n",
       "      <td>4280.0</td>\n",
       "    </tr>\n",
       "    <tr>\n",
       "      <th>15</th>\n",
       "      <td>1269.2</td>\n",
       "      <td>0.000132</td>\n",
       "      <td>2.848</td>\n",
       "      <td>19.494</td>\n",
       "      <td>4257.0</td>\n",
       "    </tr>\n",
       "    <tr>\n",
       "      <th>16</th>\n",
       "      <td>1331.5</td>\n",
       "      <td>0.000147</td>\n",
       "      <td>3.080</td>\n",
       "      <td>19.969</td>\n",
       "      <td>4377.0</td>\n",
       "    </tr>\n",
       "    <tr>\n",
       "      <th>17</th>\n",
       "      <td>1600.6</td>\n",
       "      <td>0.000139</td>\n",
       "      <td>2.963</td>\n",
       "      <td>19.988</td>\n",
       "      <td>4338.0</td>\n",
       "    </tr>\n",
       "    <tr>\n",
       "      <th>18</th>\n",
       "      <td>1549.9</td>\n",
       "      <td>0.000125</td>\n",
       "      <td>2.737</td>\n",
       "      <td>18.183</td>\n",
       "      <td>4193.0</td>\n",
       "    </tr>\n",
       "    <tr>\n",
       "      <th>19</th>\n",
       "      <td>1464.6</td>\n",
       "      <td>0.000123</td>\n",
       "      <td>2.671</td>\n",
       "      <td>18.808</td>\n",
       "      <td>4127.0</td>\n",
       "    </tr>\n",
       "    <tr>\n",
       "      <th>20</th>\n",
       "      <td>1514.3</td>\n",
       "      <td>0.000126</td>\n",
       "      <td>2.739</td>\n",
       "      <td>19.182</td>\n",
       "      <td>4186.0</td>\n",
       "    </tr>\n",
       "    <tr>\n",
       "      <th>21</th>\n",
       "      <td>1537.1</td>\n",
       "      <td>0.000120</td>\n",
       "      <td>2.639</td>\n",
       "      <td>18.985</td>\n",
       "      <td>4149.0</td>\n",
       "    </tr>\n",
       "    <tr>\n",
       "      <th>22</th>\n",
       "      <td>1503.2</td>\n",
       "      <td>0.000120</td>\n",
       "      <td>2.621</td>\n",
       "      <td>18.520</td>\n",
       "      <td>4093.0</td>\n",
       "    </tr>\n",
       "    <tr>\n",
       "      <th>23</th>\n",
       "      <td>1500.4</td>\n",
       "      <td>0.000118</td>\n",
       "      <td>2.563</td>\n",
       "      <td>18.362</td>\n",
       "      <td>4029.0</td>\n",
       "    </tr>\n",
       "    <tr>\n",
       "      <th>24</th>\n",
       "      <td>1517.6</td>\n",
       "      <td>0.000118</td>\n",
       "      <td>2.579</td>\n",
       "      <td>18.399</td>\n",
       "      <td>4065.0</td>\n",
       "    </tr>\n",
       "    <tr>\n",
       "      <th>25</th>\n",
       "      <td>1434.2</td>\n",
       "      <td>0.000114</td>\n",
       "      <td>2.587</td>\n",
       "      <td>18.005</td>\n",
       "      <td>3975.0</td>\n",
       "    </tr>\n",
       "    <tr>\n",
       "      <th>26</th>\n",
       "      <td>1390.0</td>\n",
       "      <td>0.000112</td>\n",
       "      <td>2.459</td>\n",
       "      <td>18.079</td>\n",
       "      <td>4022.0</td>\n",
       "    </tr>\n",
       "    <tr>\n",
       "      <th>27</th>\n",
       "      <td>1334.2</td>\n",
       "      <td>0.000106</td>\n",
       "      <td>2.303</td>\n",
       "      <td>17.970</td>\n",
       "      <td>3886.0</td>\n",
       "    </tr>\n",
       "    <tr>\n",
       "      <th>28</th>\n",
       "      <td>1326.8</td>\n",
       "      <td>0.000106</td>\n",
       "      <td>2.294</td>\n",
       "      <td>17.854</td>\n",
       "      <td>3886.0</td>\n",
       "    </tr>\n",
       "    <tr>\n",
       "      <th>29</th>\n",
       "      <td>1395.5</td>\n",
       "      <td>0.000109</td>\n",
       "      <td>2.414</td>\n",
       "      <td>18.305</td>\n",
       "      <td>3967.0</td>\n",
       "    </tr>\n",
       "  </tbody>\n",
       "</table>\n",
       "</div>"
      ],
      "text/plain": [
       "    SOLBRL   SHIBBRL  POLBRL  XRPBRL  BNBBRL\n",
       "0   1209.1  0.000135   2.945  14.514  4408.0\n",
       "1   1286.9  0.000142   2.996  14.848  4366.0\n",
       "2   1349.1  0.000151   3.211  15.186  4423.0\n",
       "3   1344.0  0.000151   3.252  15.011  4427.0\n",
       "4   1325.8  0.000149   3.209  14.911  4408.0\n",
       "5   1331.3  0.000147   3.199  14.761  4448.0\n",
       "6   1242.0  0.000134   2.884  13.950  4289.0\n",
       "7   1215.0  0.000131   2.863  14.594  4280.0\n",
       "8   1124.3  0.000128   2.723  13.819  4167.0\n",
       "9   1152.1  0.000132   2.812  14.379  4257.0\n",
       "10  1156.1  0.000136   2.822  15.839  4284.0\n",
       "11  1152.1  0.000132   2.753  15.314  4237.0\n",
       "12  1116.5  0.000129   2.681  15.404  4203.0\n",
       "13  1136.9  0.000131   2.758  16.191  4236.0\n",
       "14  1233.4  0.000136   2.922  18.844  4280.0\n",
       "15  1269.2  0.000132   2.848  19.494  4257.0\n",
       "16  1331.5  0.000147   3.080  19.969  4377.0\n",
       "17  1600.6  0.000139   2.963  19.988  4338.0\n",
       "18  1549.9  0.000125   2.737  18.183  4193.0\n",
       "19  1464.6  0.000123   2.671  18.808  4127.0\n",
       "20  1514.3  0.000126   2.739  19.182  4186.0\n",
       "21  1537.1  0.000120   2.639  18.985  4149.0\n",
       "22  1503.2  0.000120   2.621  18.520  4093.0\n",
       "23  1500.4  0.000118   2.563  18.362  4029.0\n",
       "24  1517.6  0.000118   2.579  18.399  4065.0\n",
       "25  1434.2  0.000114   2.587  18.005  3975.0\n",
       "26  1390.0  0.000112   2.459  18.079  4022.0\n",
       "27  1334.2  0.000106   2.303  17.970  3886.0\n",
       "28  1326.8  0.000106   2.294  17.854  3886.0\n",
       "29  1395.5  0.000109   2.414  18.305  3967.0"
      ]
     },
     "execution_count": 30,
     "metadata": {},
     "output_type": "execute_result"
    }
   ],
   "source": [
    "df_memecoins.head(30)"
   ]
  },
  {
   "cell_type": "code",
   "execution_count": 31,
   "id": "3784593f-8c6d-4097-8560-75aa0fdbad8b",
   "metadata": {},
   "outputs": [
    {
     "data": {
      "text/plain": [
       "Index(['SOLBRL', 'SHIBBRL', 'POLBRL', 'XRPBRL', 'BNBBRL'], dtype='object')"
      ]
     },
     "execution_count": 31,
     "metadata": {},
     "output_type": "execute_result"
    }
   ],
   "source": [
    "df_memecoins.columns"
   ]
  },
  {
   "cell_type": "code",
   "execution_count": 32,
   "id": "2aad2f78-359a-4887-9dfe-2ac3345c9e0a",
   "metadata": {},
   "outputs": [
    {
     "data": {
      "text/plain": [
       "<matplotlib.legend.Legend at 0x12315f19910>"
      ]
     },
     "execution_count": 32,
     "metadata": {},
     "output_type": "execute_result"
    },
    {
     "data": {
      "image/png": "[encoded data removed]",
      "text/plain": [
       "<Figure size 640x480 with 1 Axes>"
      ]
     },
     "metadata": {},
     "output_type": "display_data"
    }
   ],
   "source": [
    "for i in df_memecoins.columns:\n",
    "    plt.plot(df_memecoins[i] / df_memecoins[i].iloc[0] * 100, label=i)\n",
    "\n",
    "plt.legend()"
   ]
  },
  {
   "cell_type": "code",
   "execution_count": 33,
   "id": "00ec4047-aa34-434d-9151-94aabd2ef96d",
   "metadata": {},
   "outputs": [
    {
     "name": "stderr",
     "output_type": "stream",
     "text": [
      "<>:4: SyntaxWarning: invalid escape sequence '\\P'\n",
      "<>:4: SyntaxWarning: invalid escape sequence '\\P'\n",
      "C:\\Users\\FilipeQueirozdeAbreu\\AppData\\Local\\Temp\\ipykernel_5608\\2784098329.py:4: SyntaxWarning: invalid escape sequence '\\P'\n",
      "  plt.savefig('C:\\Personal\\python_bitcoin\\post6.png')\n"
     ]
    },
    {
     "data": {
      "image/png": "[encoded data removed]",
      "text/plain": [
       "<Figure size 1200x800 with 2 Axes>"
      ]
     },
     "metadata": {},
     "output_type": "display_data"
    }
   ],
   "source": [
    "plt.figure(figsize=(12, 8))\n",
    "sns.heatmap(df_memecoins.corr(), annot=True, cmap='coolwarm', linewidths=0.5)\n",
    "plt.title('Mapa de Calor - altcoins - últimos 5 meses')\n",
    "plt.savefig('C:\\Personal\\python_bitcoin\\post6.png')"
   ]
  },
  {
   "cell_type": "code",
   "execution_count": 34,
   "id": "217f019d-bd33-4e7c-bdf9-2e4ab51e59b5",
   "metadata": {},
   "outputs": [
    {
     "data": {
      "text/html": [
       "<div>\n",
       "<style scoped>\n",
       "    .dataframe tbody tr th:only-of-type {\n",
       "        vertical-align: middle;\n",
       "    }\n",
       "\n",
       "    .dataframe tbody tr th {\n",
       "        vertical-align: top;\n",
       "    }\n",
       "\n",
       "    .dataframe thead th {\n",
       "        text-align: right;\n",
       "    }\n",
       "</style>\n",
       "<table border=\"1\" class=\"dataframe\">\n",
       "  <thead>\n",
       "    <tr style=\"text-align: right;\">\n",
       "      <th></th>\n",
       "      <th>BTC_close</th>\n",
       "      <th>ETH_close</th>\n",
       "    </tr>\n",
       "  </thead>\n",
       "  <tbody>\n",
       "    <tr>\n",
       "      <th>Quantidade</th>\n",
       "      <td>146.0</td>\n",
       "      <td>146.0</td>\n",
       "    </tr>\n",
       "    <tr>\n",
       "      <th>Média</th>\n",
       "      <td>546720.0</td>\n",
       "      <td>14105.0</td>\n",
       "    </tr>\n",
       "    <tr>\n",
       "      <th>Desvio Padrao</th>\n",
       "      <td>50767.0</td>\n",
       "      <td>3836.0</td>\n",
       "    </tr>\n",
       "    <tr>\n",
       "      <th>Minimo</th>\n",
       "      <td>460241.0</td>\n",
       "      <td>8888.0</td>\n",
       "    </tr>\n",
       "    <tr>\n",
       "      <th>25%</th>\n",
       "      <td>496143.0</td>\n",
       "      <td>10616.0</td>\n",
       "    </tr>\n",
       "    <tr>\n",
       "      <th>50%</th>\n",
       "      <td>552778.0</td>\n",
       "      <td>14160.0</td>\n",
       "    </tr>\n",
       "    <tr>\n",
       "      <th>75%</th>\n",
       "      <td>589721.0</td>\n",
       "      <td>15885.0</td>\n",
       "    </tr>\n",
       "    <tr>\n",
       "      <th>Maximo</th>\n",
       "      <td>641806.0</td>\n",
       "      <td>22687.0</td>\n",
       "    </tr>\n",
       "  </tbody>\n",
       "</table>\n",
       "</div>"
      ],
      "text/plain": [
       "               BTC_close  ETH_close\n",
       "Quantidade         146.0      146.0\n",
       "Média           546720.0    14105.0\n",
       "Desvio Padrao    50767.0     3836.0\n",
       "Minimo          460241.0     8888.0\n",
       "25%             496143.0    10616.0\n",
       "50%             552778.0    14160.0\n",
       "75%             589721.0    15885.0\n",
       "Maximo          641806.0    22687.0"
      ]
     },
     "execution_count": 34,
     "metadata": {},
     "output_type": "execute_result"
    }
   ],
   "source": [
    "describe = pd.DataFrame(\n",
    "    df_btceth_close.describe(),\n",
    ")\n",
    "\n",
    "describe.index = index=['Quantidade', 'Média', 'Desvio Padrao', 'Minimo', '25%', '50%', '75%', 'Maximo']\n",
    "\n",
    "np.round(\n",
    "    describe\n",
    ")\n"
   ]
  },
  {
   "cell_type": "code",
   "execution_count": null,
   "id": "7e17456a-2def-40e1-b46c-e256c2b432f8",
   "metadata": {},
   "outputs": [],
   "source": []
  },
  {
   "cell_type": "code",
   "execution_count": 35,
   "id": "d0e3ceaf-967a-4089-b714-5dc073f40249",
   "metadata": {},
   "outputs": [
    {
     "data": {
      "text/html": [
       "<div>\n",
       "<style scoped>\n",
       "    .dataframe tbody tr th:only-of-type {\n",
       "        vertical-align: middle;\n",
       "    }\n",
       "\n",
       "    .dataframe tbody tr th {\n",
       "        vertical-align: top;\n",
       "    }\n",
       "\n",
       "    .dataframe thead th {\n",
       "        text-align: right;\n",
       "    }\n",
       "</style>\n",
       "<table border=\"1\" class=\"dataframe\">\n",
       "  <thead>\n",
       "    <tr style=\"text-align: right;\">\n",
       "      <th></th>\n",
       "      <th>BTC_close</th>\n",
       "      <th>ETH_close</th>\n",
       "    </tr>\n",
       "  </thead>\n",
       "  <tbody>\n",
       "    <tr>\n",
       "      <th>0</th>\n",
       "      <td>588693.0</td>\n",
       "      <td>20911.17</td>\n",
       "    </tr>\n",
       "    <tr>\n",
       "      <th>1</th>\n",
       "      <td>599306.0</td>\n",
       "      <td>21356.75</td>\n",
       "    </tr>\n",
       "    <tr>\n",
       "      <th>2</th>\n",
       "      <td>607582.0</td>\n",
       "      <td>22332.58</td>\n",
       "    </tr>\n",
       "    <tr>\n",
       "      <th>3</th>\n",
       "      <td>609413.0</td>\n",
       "      <td>22687.00</td>\n",
       "    </tr>\n",
       "    <tr>\n",
       "      <th>4</th>\n",
       "      <td>611273.0</td>\n",
       "      <td>22593.04</td>\n",
       "    </tr>\n",
       "    <tr>\n",
       "      <th>...</th>\n",
       "      <td>...</td>\n",
       "      <td>...</td>\n",
       "    </tr>\n",
       "    <tr>\n",
       "      <th>141</th>\n",
       "      <td>635889.0</td>\n",
       "      <td>15165.55</td>\n",
       "    </tr>\n",
       "    <tr>\n",
       "      <th>142</th>\n",
       "      <td>611450.0</td>\n",
       "      <td>14398.50</td>\n",
       "    </tr>\n",
       "    <tr>\n",
       "      <th>143</th>\n",
       "      <td>613739.0</td>\n",
       "      <td>14408.60</td>\n",
       "    </tr>\n",
       "    <tr>\n",
       "      <th>144</th>\n",
       "      <td>620996.0</td>\n",
       "      <td>14537.04</td>\n",
       "    </tr>\n",
       "    <tr>\n",
       "      <th>145</th>\n",
       "      <td>622684.0</td>\n",
       "      <td>14539.63</td>\n",
       "    </tr>\n",
       "  </tbody>\n",
       "</table>\n",
       "<p>146 rows × 2 columns</p>\n",
       "</div>"
      ],
      "text/plain": [
       "     BTC_close  ETH_close\n",
       "0     588693.0   20911.17\n",
       "1     599306.0   21356.75\n",
       "2     607582.0   22332.58\n",
       "3     609413.0   22687.00\n",
       "4     611273.0   22593.04\n",
       "..         ...        ...\n",
       "141   635889.0   15165.55\n",
       "142   611450.0   14398.50\n",
       "143   613739.0   14408.60\n",
       "144   620996.0   14537.04\n",
       "145   622684.0   14539.63\n",
       "\n",
       "[146 rows x 2 columns]"
      ]
     },
     "execution_count": 35,
     "metadata": {},
     "output_type": "execute_result"
    }
   ],
   "source": [
    "df_btceth_close"
   ]
  },
  {
   "cell_type": "code",
   "execution_count": 36,
   "id": "ea3bfe8b-2871-4778-befc-7ff594bd1cf9",
   "metadata": {},
   "outputs": [
    {
     "name": "stdout",
     "output_type": "stream",
     "text": [
      "146 \n",
      " 146\n"
     ]
    }
   ],
   "source": [
    "ha = df_btceth_close['BTC_close'].rolling(window=20).mean()\n",
    "\n",
    "print(\n",
    "    len(ha),'\\n',\n",
    "    len(df_btceth_close)\n",
    ")"
   ]
  },
  {
   "cell_type": "code",
   "execution_count": 37,
   "id": "88fcd65b-b2ed-4237-8cdb-88bdaccedca2",
   "metadata": {},
   "outputs": [
    {
     "name": "stderr",
     "output_type": "stream",
     "text": [
      "<>:12: SyntaxWarning: invalid escape sequence '\\P'\n",
      "<>:12: SyntaxWarning: invalid escape sequence '\\P'\n",
      "C:\\Users\\FilipeQueirozdeAbreu\\AppData\\Local\\Temp\\ipykernel_5608\\284643300.py:12: SyntaxWarning: invalid escape sequence '\\P'\n",
      "  plt.savefig('C:\\Personal\\python_bitcoin\\post7.png')\n"
     ]
    },
    {
     "data": {
      "image/png": "[encoded data removed]",
      "text/plain": [
       "<Figure size 1400x600 with 1 Axes>"
      ]
     },
     "metadata": {},
     "output_type": "display_data"
    }
   ],
   "source": [
    "\n",
    "df_btceth_close['BTC_SMA20'] = df_btceth_close['BTC_close'].rolling(window=20).mean()\n",
    "\n",
    "plt.figure(figsize=(14,6))\n",
    "plt.plot(df_btceth_close['BTC_close'], label='Preço BTC')\n",
    "plt.plot(df_btceth_close['BTC_SMA20'], label='Média Móvel 20', color='orange')\n",
    "plt.title('Preço do BTC e Média Móvel de 20 Períodos (1h)')\n",
    "plt.xlabel('Tempo')\n",
    "plt.ylabel('Preço (USDT)')\n",
    "plt.legend()\n",
    "plt.grid(True)\n",
    "\n",
    "plt.savefig('C:\\Personal\\python_bitcoin\\post7.png')\n",
    "plt.show()"
   ]
  },
  {
   "cell_type": "code",
   "execution_count": 38,
   "id": "be0998ae-ce26-476e-9c0d-b785994f800a",
   "metadata": {},
   "outputs": [
    {
     "data": {
      "text/html": [
       "<div>\n",
       "<style scoped>\n",
       "    .dataframe tbody tr th:only-of-type {\n",
       "        vertical-align: middle;\n",
       "    }\n",
       "\n",
       "    .dataframe tbody tr th {\n",
       "        vertical-align: top;\n",
       "    }\n",
       "\n",
       "    .dataframe thead th {\n",
       "        text-align: right;\n",
       "    }\n",
       "</style>\n",
       "<table border=\"1\" class=\"dataframe\">\n",
       "  <thead>\n",
       "    <tr style=\"text-align: right;\">\n",
       "      <th></th>\n",
       "      <th>BTC_close</th>\n",
       "      <th>ETH_close</th>\n",
       "      <th>BTC_SMA20</th>\n",
       "      <th>retorno_btc</th>\n",
       "    </tr>\n",
       "  </thead>\n",
       "  <tbody>\n",
       "    <tr>\n",
       "      <th>0</th>\n",
       "      <td>588693.0</td>\n",
       "      <td>20911.17</td>\n",
       "      <td>NaN</td>\n",
       "      <td>NaN</td>\n",
       "    </tr>\n",
       "    <tr>\n",
       "      <th>1</th>\n",
       "      <td>599306.0</td>\n",
       "      <td>21356.75</td>\n",
       "      <td>NaN</td>\n",
       "      <td>0.018028</td>\n",
       "    </tr>\n",
       "    <tr>\n",
       "      <th>2</th>\n",
       "      <td>607582.0</td>\n",
       "      <td>22332.58</td>\n",
       "      <td>NaN</td>\n",
       "      <td>0.013809</td>\n",
       "    </tr>\n",
       "    <tr>\n",
       "      <th>3</th>\n",
       "      <td>609413.0</td>\n",
       "      <td>22687.00</td>\n",
       "      <td>NaN</td>\n",
       "      <td>0.003014</td>\n",
       "    </tr>\n",
       "    <tr>\n",
       "      <th>4</th>\n",
       "      <td>611273.0</td>\n",
       "      <td>22593.04</td>\n",
       "      <td>NaN</td>\n",
       "      <td>0.003052</td>\n",
       "    </tr>\n",
       "    <tr>\n",
       "      <th>...</th>\n",
       "      <td>...</td>\n",
       "      <td>...</td>\n",
       "      <td>...</td>\n",
       "      <td>...</td>\n",
       "    </tr>\n",
       "    <tr>\n",
       "      <th>141</th>\n",
       "      <td>635889.0</td>\n",
       "      <td>15165.55</td>\n",
       "      <td>584531.00</td>\n",
       "      <td>0.024872</td>\n",
       "    </tr>\n",
       "    <tr>\n",
       "      <th>142</th>\n",
       "      <td>611450.0</td>\n",
       "      <td>14398.50</td>\n",
       "      <td>587813.35</td>\n",
       "      <td>-0.038433</td>\n",
       "    </tr>\n",
       "    <tr>\n",
       "      <th>143</th>\n",
       "      <td>613739.0</td>\n",
       "      <td>14408.60</td>\n",
       "      <td>591629.50</td>\n",
       "      <td>0.003744</td>\n",
       "    </tr>\n",
       "    <tr>\n",
       "      <th>144</th>\n",
       "      <td>620996.0</td>\n",
       "      <td>14537.04</td>\n",
       "      <td>595691.95</td>\n",
       "      <td>0.011824</td>\n",
       "    </tr>\n",
       "    <tr>\n",
       "      <th>145</th>\n",
       "      <td>622684.0</td>\n",
       "      <td>14539.63</td>\n",
       "      <td>599126.95</td>\n",
       "      <td>0.002718</td>\n",
       "    </tr>\n",
       "  </tbody>\n",
       "</table>\n",
       "<p>146 rows × 4 columns</p>\n",
       "</div>"
      ],
      "text/plain": [
       "     BTC_close  ETH_close  BTC_SMA20  retorno_btc\n",
       "0     588693.0   20911.17        NaN          NaN\n",
       "1     599306.0   21356.75        NaN     0.018028\n",
       "2     607582.0   22332.58        NaN     0.013809\n",
       "3     609413.0   22687.00        NaN     0.003014\n",
       "4     611273.0   22593.04        NaN     0.003052\n",
       "..         ...        ...        ...          ...\n",
       "141   635889.0   15165.55  584531.00     0.024872\n",
       "142   611450.0   14398.50  587813.35    -0.038433\n",
       "143   613739.0   14408.60  591629.50     0.003744\n",
       "144   620996.0   14537.04  595691.95     0.011824\n",
       "145   622684.0   14539.63  599126.95     0.002718\n",
       "\n",
       "[146 rows x 4 columns]"
      ]
     },
     "execution_count": 38,
     "metadata": {},
     "output_type": "execute_result"
    }
   ],
   "source": [
    "df_btceth_close['retorno_btc'] = df_btceth_close['BTC_close'].pct_change()\n",
    "df_btceth_close"
   ]
  },
  {
   "cell_type": "code",
   "execution_count": 39,
   "id": "ca0b3ed4-8dcc-4b31-9864-bdbb2bc34403",
   "metadata": {},
   "outputs": [
    {
     "data": {
      "text/plain": [
       "0.37831258126635336"
      ]
     },
     "execution_count": 39,
     "metadata": {},
     "output_type": "execute_result"
    }
   ],
   "source": [
    "vol_daily = df_btceth_close['retorno_btc'].std()\n",
    "vol_annual = vol_daily * (252 ** 0.5)\n",
    "\n",
    "vol_annual"
   ]
  },
  {
   "cell_type": "code",
   "execution_count": 40,
   "id": "b40b0671-1a33-4023-b4fd-f8e77523af16",
   "metadata": {},
   "outputs": [],
   "source": [
    "df_btceth_close['Cumulative'] = (1 + df_btceth_close['retorno_btc']).cumprod()\n",
    "df_btceth_close['Peak'] = df_btceth_close['Cumulative'].cummax()\n",
    "df_btceth_close['Drawdown'] = (df_btceth_close['Cumulative'] - df_btceth_close['Peak']) / df_btceth_close['Peak']\n",
    "max_dd = df_btceth_close['Drawdown'].min()"
   ]
  },
  {
   "cell_type": "code",
   "execution_count": 41,
   "id": "7f85a7bb-e8ae-44ee-8d30-fc6b8ef85ea6",
   "metadata": {},
   "outputs": [],
   "source": [
    "df_btceth_close.drop('ETH_close', axis=1, inplace=True)"
   ]
  },
  {
   "cell_type": "code",
   "execution_count": 42,
   "id": "1670825b-c9f8-4e6d-80f4-c025dad59f4a",
   "metadata": {},
   "outputs": [
    {
     "data": {
      "text/html": [
       "<div>\n",
       "<style scoped>\n",
       "    .dataframe tbody tr th:only-of-type {\n",
       "        vertical-align: middle;\n",
       "    }\n",
       "\n",
       "    .dataframe tbody tr th {\n",
       "        vertical-align: top;\n",
       "    }\n",
       "\n",
       "    .dataframe thead th {\n",
       "        text-align: right;\n",
       "    }\n",
       "</style>\n",
       "<table border=\"1\" class=\"dataframe\">\n",
       "  <thead>\n",
       "    <tr style=\"text-align: right;\">\n",
       "      <th></th>\n",
       "      <th>BTC_close</th>\n",
       "      <th>BTC_SMA20</th>\n",
       "      <th>retorno_btc</th>\n",
       "      <th>Cumulative</th>\n",
       "      <th>Peak</th>\n",
       "      <th>Drawdown</th>\n",
       "    </tr>\n",
       "  </thead>\n",
       "  <tbody>\n",
       "    <tr>\n",
       "      <th>0</th>\n",
       "      <td>588693.0</td>\n",
       "      <td>NaN</td>\n",
       "      <td>NaN</td>\n",
       "      <td>NaN</td>\n",
       "      <td>NaN</td>\n",
       "      <td>NaN</td>\n",
       "    </tr>\n",
       "    <tr>\n",
       "      <th>1</th>\n",
       "      <td>599306.0</td>\n",
       "      <td>NaN</td>\n",
       "      <td>0.018028</td>\n",
       "      <td>1.018028</td>\n",
       "      <td>1.018028</td>\n",
       "      <td>0.000000</td>\n",
       "    </tr>\n",
       "    <tr>\n",
       "      <th>2</th>\n",
       "      <td>607582.0</td>\n",
       "      <td>NaN</td>\n",
       "      <td>0.013809</td>\n",
       "      <td>1.032086</td>\n",
       "      <td>1.032086</td>\n",
       "      <td>0.000000</td>\n",
       "    </tr>\n",
       "    <tr>\n",
       "      <th>3</th>\n",
       "      <td>609413.0</td>\n",
       "      <td>NaN</td>\n",
       "      <td>0.003014</td>\n",
       "      <td>1.035197</td>\n",
       "      <td>1.035197</td>\n",
       "      <td>0.000000</td>\n",
       "    </tr>\n",
       "    <tr>\n",
       "      <th>4</th>\n",
       "      <td>611273.0</td>\n",
       "      <td>NaN</td>\n",
       "      <td>0.003052</td>\n",
       "      <td>1.038356</td>\n",
       "      <td>1.038356</td>\n",
       "      <td>0.000000</td>\n",
       "    </tr>\n",
       "    <tr>\n",
       "      <th>...</th>\n",
       "      <td>...</td>\n",
       "      <td>...</td>\n",
       "      <td>...</td>\n",
       "      <td>...</td>\n",
       "      <td>...</td>\n",
       "      <td>...</td>\n",
       "    </tr>\n",
       "    <tr>\n",
       "      <th>141</th>\n",
       "      <td>635889.0</td>\n",
       "      <td>584531.00</td>\n",
       "      <td>0.024872</td>\n",
       "      <td>1.080171</td>\n",
       "      <td>1.090222</td>\n",
       "      <td>-0.009219</td>\n",
       "    </tr>\n",
       "    <tr>\n",
       "      <th>142</th>\n",
       "      <td>611450.0</td>\n",
       "      <td>587813.35</td>\n",
       "      <td>-0.038433</td>\n",
       "      <td>1.038657</td>\n",
       "      <td>1.090222</td>\n",
       "      <td>-0.047298</td>\n",
       "    </tr>\n",
       "    <tr>\n",
       "      <th>143</th>\n",
       "      <td>613739.0</td>\n",
       "      <td>591629.50</td>\n",
       "      <td>0.003744</td>\n",
       "      <td>1.042545</td>\n",
       "      <td>1.090222</td>\n",
       "      <td>-0.043731</td>\n",
       "    </tr>\n",
       "    <tr>\n",
       "      <th>144</th>\n",
       "      <td>620996.0</td>\n",
       "      <td>595691.95</td>\n",
       "      <td>0.011824</td>\n",
       "      <td>1.054872</td>\n",
       "      <td>1.090222</td>\n",
       "      <td>-0.032424</td>\n",
       "    </tr>\n",
       "    <tr>\n",
       "      <th>145</th>\n",
       "      <td>622684.0</td>\n",
       "      <td>599126.95</td>\n",
       "      <td>0.002718</td>\n",
       "      <td>1.057740</td>\n",
       "      <td>1.090222</td>\n",
       "      <td>-0.029794</td>\n",
       "    </tr>\n",
       "  </tbody>\n",
       "</table>\n",
       "<p>146 rows × 6 columns</p>\n",
       "</div>"
      ],
      "text/plain": [
       "     BTC_close  BTC_SMA20  retorno_btc  Cumulative      Peak  Drawdown\n",
       "0     588693.0        NaN          NaN         NaN       NaN       NaN\n",
       "1     599306.0        NaN     0.018028    1.018028  1.018028  0.000000\n",
       "2     607582.0        NaN     0.013809    1.032086  1.032086  0.000000\n",
       "3     609413.0        NaN     0.003014    1.035197  1.035197  0.000000\n",
       "4     611273.0        NaN     0.003052    1.038356  1.038356  0.000000\n",
       "..         ...        ...          ...         ...       ...       ...\n",
       "141   635889.0  584531.00     0.024872    1.080171  1.090222 -0.009219\n",
       "142   611450.0  587813.35    -0.038433    1.038657  1.090222 -0.047298\n",
       "143   613739.0  591629.50     0.003744    1.042545  1.090222 -0.043731\n",
       "144   620996.0  595691.95     0.011824    1.054872  1.090222 -0.032424\n",
       "145   622684.0  599126.95     0.002718    1.057740  1.090222 -0.029794\n",
       "\n",
       "[146 rows x 6 columns]"
      ]
     },
     "execution_count": 42,
     "metadata": {},
     "output_type": "execute_result"
    }
   ],
   "source": [
    "df_btceth_close"
   ]
  },
  {
   "cell_type": "code",
   "execution_count": 43,
   "id": "ae2910da-6fb5-4cee-a181-249ef38c0fed",
   "metadata": {},
   "outputs": [
    {
     "data": {
      "text/plain": [
       "Index(['BTC_close', 'BTC_SMA20', 'retorno_btc', 'Cumulative', 'Peak',\n",
       "       'Drawdown'],\n",
       "      dtype='object')"
      ]
     },
     "execution_count": 43,
     "metadata": {},
     "output_type": "execute_result"
    }
   ],
   "source": [
    "df_btceth_close.columns"
   ]
  },
  {
   "cell_type": "code",
   "execution_count": 45,
   "id": "fecbd67b-1b5f-4699-9543-fa68ed0d6279",
   "metadata": {},
   "outputs": [
    {
     "name": "stdout",
     "output_type": "stream",
     "text": [
      "Requirement already satisfied: kaleido in c:\\users\\filipequeirozdeabreu\\anaconda3\\lib\\site-packages (0.2.1)\n"
     ]
    }
   ],
   "source": [
    "!pip install -U kaleido"
   ]
  },
  {
   "cell_type": "code",
   "execution_count": null,
   "id": "cf5d0e68-5e9d-4e3a-b9d3-355ee2a561ca",
   "metadata": {},
   "outputs": [],
   "source": []
  },
  {
   "cell_type": "code",
   "execution_count": 48,
   "id": "b18e8ab2-a89e-43f4-954d-906f2b3455bf",
   "metadata": {},
   "outputs": [
    {
     "data": {
      "application/vnd.plotly.v1+json": {
       "config": {
        "plotlyServerURL": "https://plot.ly"
       },
       "data": [
        {
         "hovertemplate": "variable=Drawdown<br>index=%{x}<br>value=%{y}<extra></extra>",
         "legendgroup": "Drawdown",
         "line": {
          "color": "#636efa",
          "dash": "solid"
         },
         "marker": {
          "symbol": "circle"
         },
         "mode": "lines",
         "name": "Drawdown",
         "orientation": "v",
         "showlegend": true,
         "type": "scatter",
         "x": [
          0,
          1,
          2,
          3,
          4,
          5,
          6,
          7,
          8,
          9,
          10,
          11,
          12,
          13,
          14,
          15,
          16,
          17,
          18,
          19,
          20,
          21,
          22,
          23,
          24,
          25,
          26,
          27,
          28,
          29,
          30,
          31,
          32,
          33,
          34,
          35,
          36,
          37,
          38,
          39,
          40,
          41,
          42,
          43,
          44,
          45,
          46,
          47,
          48,
          49,
          50,
          51,
          52,
          53,
          54,
          55,
          56,
          57,
          58,
          59,
          60,
          61,
          62,
          63,
          64,
          65,
          66,
          67,
          68,
          69,
          70,
          71,
          72,
          73,
          74,
          75,
          76,
          77,
          78,
          79,
          80,
          81,
          82,
          83,
          84,
          85,
          86,
          87,
          88,
          89,
          90,
          91,
          92,
          93,
          94,
          95,
          96,
          97,
          98,
          99,
          100,
          101,
          102,
          103,
          104,
          105,
          106,
          107,
          108,
          109,
          110,
          111,
          112,
          113,
          114,
          115,
          116,
          117,
          118,
          119,
          120,
          121,
          122,
          123,
          124,
          125,
          126,
          127,
          128,
          129,
          130,
          131,
          132,
          133,
          134,
          135,
          136,
          137,
          138,
          139,
          140,
          141,
          142,
          143,
          144,
          145
         ],
         "xaxis": "x",
         "y": [
          null,
          0,
          0,
          0,
          0,
          0,
          -0.04469901816443904,
          -0.06211609459749877,
          -0.0977024213906076,
          -0.06719687711498798,
          -0.06723376410927528,
          -0.072915965011884,
          -0.0744700301190327,
          -0.06122599538752194,
          -0.034272829040007884,
          -0.03587661140032651,
          0,
          0,
          -0.027074995813306305,
          -0.03119282424181714,
          0,
          -0.03531596775349572,
          -0.03935612942228661,
          -0.032491126602119856,
          -0.033295107867486726,
          -0.047614076527798435,
          -0.059017834049541744,
          -0.07237077870883137,
          -0.05923441039815793,
          -0.04485311760874815,
          -0.06613680769578374,
          -0.07573783978336156,
          -0.10042598542238639,
          -0.08113199315681074,
          -0.11733452164672825,
          -0.1247947198997829,
          -0.129729232821133,
          -0.12163021224482168,
          -0.11937719497792178,
          -0.11955793495230661,
          -0.11934603291337263,
          -0.13870546551450136,
          -0.12085895114723155,
          -0.13210534024300197,
          -0.13211624696559418,
          -0.1262203843529043,
          -0.13872416275323088,
          -0.1402292904709525,
          -0.14916657058363453,
          -0.13846863382392824,
          -0.12462644475121788,
          -0.13840630969483017,
          -0.13404673686441104,
          -0.13762569997787522,
          -0.1724742367631343,
          -0.20159206987781386,
          -0.2346737176031389,
          -0.2276248586021324,
          -0.22145944413109286,
          -0.20583322686294653,
          -0.1300953870795853,
          -0.2025020021626477,
          -0.19880150699744195,
          -0.18386085514937572,
          -0.187382168443424,
          -0.21161378983680454,
          -0.21530649448587297,
          -0.26333035216249173,
          -0.27878829428207297,
          -0.24578766792457554,
          -0.24151846508134883,
          -0.26543067531310116,
          -0.2438836657806256,
          -0.2405041398802757,
          -0.2554323269025223,
          -0.25353767337793687,
          -0.2653231661904067,
          -0.2339040146087762,
          -0.25383682919760836,
          -0.2454573500403553,
          -0.24640935111233037,
          -0.22832133074480504,
          -0.2130690582512479,
          -0.22130363380834767,
          -0.2204155149686983,
          -0.21788982963699363,
          -0.23730847016076562,
          -0.25246569835744803,
          -0.25457537012742215,
          -0.26319323907847597,
          -0.24423268090357578,
          -0.2662595862301074,
          -0.26579059715864345,
          -0.23554937161696887,
          -0.2349666410099007,
          -0.2800659389285864,
          -0.2666833903079752,
          -0.28289701249287214,
          -0.24753118543609798,
          -0.2670339635341525,
          -0.2337575529053955,
          -0.21693627046179104,
          -0.22924684406191317,
          -0.22495894397995683,
          -0.23117889206395725,
          -0.22996668775299722,
          -0.22835093470612647,
          -0.22854258140310343,
          -0.22113535865978223,
          -0.22203438422202385,
          -0.20454934980352352,
          -0.16380027609589226,
          -0.1612854974867799,
          -0.1643471703287291,
          -0.15671246451419948,
          -0.1557526729260871,
          -0.16333596133411063,
          -0.15983646148524655,
          -0.16976781145704492,
          -0.16387194884435505,
          -0.1436991863584947,
          -0.1418107652468192,
          -0.14958258414536488,
          -0.16265039591403022,
          -0.15901845729083247,
          -0.13683574164155526,
          -0.12939112442077502,
          -0.0846268186959921,
          -0.08756851758942723,
          -0.06983107044807917,
          -0.07654026294550052,
          -0.08791441650592219,
          -0.0874672408796426,
          -0.08765109706048234,
          -0.07837103423776005,
          -0.08122080504077536,
          -0.08223824644830342,
          -0.05782432697731075,
          -0.06847863684664816,
          -0.05511322736153913,
          -0.03326394580293728,
          -0.009219296796851401,
          -0.0472977815726247,
          -0.04373128328498025,
          -0.03242412816333926,
          -0.029794049915395155
         ],
         "yaxis": "y"
        }
       ],
       "layout": {
        "height": 600,
        "legend": {
         "title": {
          "text": "variable"
         },
         "tracegroupgap": 0
        },
        "margin": {
         "t": 60
        },
        "template": {
         "data": {
          "bar": [
           {
            "error_x": {
             "color": "#2a3f5f"
            },
            "error_y": {
             "color": "#2a3f5f"
            },
            "marker": {
             "line": {
              "color": "#E5ECF6",
              "width": 0.5
             },
             "pattern": {
              "fillmode": "overlay",
              "size": 10,
              "solidity": 0.2
             }
            },
            "type": "bar"
           }
          ],
          "barpolar": [
           {
            "marker": {
             "line": {
              "color": "#E5ECF6",
              "width": 0.5
             },
             "pattern": {
              "fillmode": "overlay",
              "size": 10,
              "solidity": 0.2
             }
            },
            "type": "barpolar"
           }
          ],
          "carpet": [
           {
            "aaxis": {
             "endlinecolor": "#2a3f5f",
             "gridcolor": "white",
             "linecolor": "white",
             "minorgridcolor": "white",
             "startlinecolor": "#2a3f5f"
            },
            "baxis": {
             "endlinecolor": "#2a3f5f",
             "gridcolor": "white",
             "linecolor": "white",
             "minorgridcolor": "white",
             "startlinecolor": "#2a3f5f"
            },
            "type": "carpet"
           }
          ],
          "choropleth": [
           {
            "colorbar": {
             "outlinewidth": 0,
             "ticks": ""
            },
            "type": "choropleth"
           }
          ],
          "contour": [
           {
            "colorbar": {
             "outlinewidth": 0,
             "ticks": ""
            },
            "colorscale": [
             [
              0,
              "#0d0887"
             ],
             [
              0.1111111111111111,
              "#46039f"
             ],
             [
              0.2222222222222222,
              "#7201a8"
             ],
             [
              0.3333333333333333,
              "#9c179e"
             ],
             [
              0.4444444444444444,
              "#bd3786"
             ],
             [
              0.5555555555555556,
              "#d8576b"
             ],
             [
              0.6666666666666666,
              "#ed7953"
             ],
             [
              0.7777777777777778,
              "#fb9f3a"
             ],
             [
              0.8888888888888888,
              "#fdca26"
             ],
             [
              1,
              "#f0f921"
             ]
            ],
            "type": "contour"
           }
          ],
          "contourcarpet": [
           {
            "colorbar": {
             "outlinewidth": 0,
             "ticks": ""
            },
            "type": "contourcarpet"
           }
          ],
          "heatmap": [
           {
            "colorbar": {
             "outlinewidth": 0,
             "ticks": ""
            },
            "colorscale": [
             [
              0,
              "#0d0887"
             ],
             [
              0.1111111111111111,
              "#46039f"
             ],
             [
              0.2222222222222222,
              "#7201a8"
             ],
             [
              0.3333333333333333,
              "#9c179e"
             ],
             [
              0.4444444444444444,
              "#bd3786"
             ],
             [
              0.5555555555555556,
              "#d8576b"
             ],
             [
              0.6666666666666666,
              "#ed7953"
             ],
             [
              0.7777777777777778,
              "#fb9f3a"
             ],
             [
              0.8888888888888888,
              "#fdca26"
             ],
             [
              1,
              "#f0f921"
             ]
            ],
            "type": "heatmap"
           }
          ],
          "heatmapgl": [
           {
            "colorbar": {
             "outlinewidth": 0,
             "ticks": ""
            },
            "colorscale": [
             [
              0,
              "#0d0887"
             ],
             [
              0.1111111111111111,
              "#46039f"
             ],
             [
              0.2222222222222222,
              "#7201a8"
             ],
             [
              0.3333333333333333,
              "#9c179e"
             ],
             [
              0.4444444444444444,
              "#bd3786"
             ],
             [
              0.5555555555555556,
              "#d8576b"
             ],
             [
              0.6666666666666666,
              "#ed7953"
             ],
             [
              0.7777777777777778,
              "#fb9f3a"
             ],
             [
              0.8888888888888888,
              "#fdca26"
             ],
             [
              1,
              "#f0f921"
             ]
            ],
            "type": "heatmapgl"
           }
          ],
          "histogram": [
           {
            "marker": {
             "pattern": {
              "fillmode": "overlay",
              "size": 10,
              "solidity": 0.2
             }
            },
            "type": "histogram"
           }
          ],
          "histogram2d": [
           {
            "colorbar": {
             "outlinewidth": 0,
             "ticks": ""
            },
            "colorscale": [
             [
              0,
              "#0d0887"
             ],
             [
              0.1111111111111111,
              "#46039f"
             ],
             [
              0.2222222222222222,
              "#7201a8"
             ],
             [
              0.3333333333333333,
              "#9c179e"
             ],
             [
              0.4444444444444444,
              "#bd3786"
             ],
             [
              0.5555555555555556,
              "#d8576b"
             ],
             [
              0.6666666666666666,
              "#ed7953"
             ],
             [
              0.7777777777777778,
              "#fb9f3a"
             ],
             [
              0.8888888888888888,
              "#fdca26"
             ],
             [
              1,
              "#f0f921"
             ]
            ],
            "type": "histogram2d"
           }
          ],
          "histogram2dcontour": [
           {
            "colorbar": {
             "outlinewidth": 0,
             "ticks": ""
            },
            "colorscale": [
             [
              0,
              "#0d0887"
             ],
             [
              0.1111111111111111,
              "#46039f"
             ],
             [
              0.2222222222222222,
              "#7201a8"
             ],
             [
              0.3333333333333333,
              "#9c179e"
             ],
             [
              0.4444444444444444,
              "#bd3786"
             ],
             [
              0.5555555555555556,
              "#d8576b"
             ],
             [
              0.6666666666666666,
              "#ed7953"
             ],
             [
              0.7777777777777778,
              "#fb9f3a"
             ],
             [
              0.8888888888888888,
              "#fdca26"
             ],
             [
              1,
              "#f0f921"
             ]
            ],
            "type": "histogram2dcontour"
           }
          ],
          "mesh3d": [
           {
            "colorbar": {
             "outlinewidth": 0,
             "ticks": ""
            },
            "type": "mesh3d"
           }
          ],
          "parcoords": [
           {
            "line": {
             "colorbar": {
              "outlinewidth": 0,
              "ticks": ""
             }
            },
            "type": "parcoords"
           }
          ],
          "pie": [
           {
            "automargin": true,
            "type": "pie"
           }
          ],
          "scatter": [
           {
            "fillpattern": {
             "fillmode": "overlay",
             "size": 10,
             "solidity": 0.2
            },
            "type": "scatter"
           }
          ],
          "scatter3d": [
           {
            "line": {
             "colorbar": {
              "outlinewidth": 0,
              "ticks": ""
             }
            },
            "marker": {
             "colorbar": {
              "outlinewidth": 0,
              "ticks": ""
             }
            },
            "type": "scatter3d"
           }
          ],
          "scattercarpet": [
           {
            "marker": {
             "colorbar": {
              "outlinewidth": 0,
              "ticks": ""
             }
            },
            "type": "scattercarpet"
           }
          ],
          "scattergeo": [
           {
            "marker": {
             "colorbar": {
              "outlinewidth": 0,
              "ticks": ""
             }
            },
            "type": "scattergeo"
           }
          ],
          "scattergl": [
           {
            "marker": {
             "colorbar": {
              "outlinewidth": 0,
              "ticks": ""
             }
            },
            "type": "scattergl"
           }
          ],
          "scattermapbox": [
           {
            "marker": {
             "colorbar": {
              "outlinewidth": 0,
              "ticks": ""
             }
            },
            "type": "scattermapbox"
           }
          ],
          "scatterpolar": [
           {
            "marker": {
             "colorbar": {
              "outlinewidth": 0,
              "ticks": ""
             }
            },
            "type": "scatterpolar"
           }
          ],
          "scatterpolargl": [
           {
            "marker": {
             "colorbar": {
              "outlinewidth": 0,
              "ticks": ""
             }
            },
            "type": "scatterpolargl"
           }
          ],
          "scatterternary": [
           {
            "marker": {
             "colorbar": {
              "outlinewidth": 0,
              "ticks": ""
             }
            },
            "type": "scatterternary"
           }
          ],
          "surface": [
           {
            "colorbar": {
             "outlinewidth": 0,
             "ticks": ""
            },
            "colorscale": [
             [
              0,
              "#0d0887"
             ],
             [
              0.1111111111111111,
              "#46039f"
             ],
             [
              0.2222222222222222,
              "#7201a8"
             ],
             [
              0.3333333333333333,
              "#9c179e"
             ],
             [
              0.4444444444444444,
              "#bd3786"
             ],
             [
              0.5555555555555556,
              "#d8576b"
             ],
             [
              0.6666666666666666,
              "#ed7953"
             ],
             [
              0.7777777777777778,
              "#fb9f3a"
             ],
             [
              0.8888888888888888,
              "#fdca26"
             ],
             [
              1,
              "#f0f921"
             ]
            ],
            "type": "surface"
           }
          ],
          "table": [
           {
            "cells": {
             "fill": {
              "color": "#EBF0F8"
             },
             "line": {
              "color": "white"
             }
            },
            "header": {
             "fill": {
              "color": "#C8D4E3"
             },
             "line": {
              "color": "white"
             }
            },
            "type": "table"
           }
          ]
         },
         "layout": {
          "annotationdefaults": {
           "arrowcolor": "#2a3f5f",
           "arrowhead": 0,
           "arrowwidth": 1
          },
          "autotypenumbers": "strict",
          "coloraxis": {
           "colorbar": {
            "outlinewidth": 0,
            "ticks": ""
           }
          },
          "colorscale": {
           "diverging": [
            [
             0,
             "#8e0152"
            ],
            [
             0.1,
             "#c51b7d"
            ],
            [
             0.2,
             "#de77ae"
            ],
            [
             0.3,
             "#f1b6da"
            ],
            [
             0.4,
             "#fde0ef"
            ],
            [
             0.5,
             "#f7f7f7"
            ],
            [
             0.6,
             "#e6f5d0"
            ],
            [
             0.7,
             "#b8e186"
            ],
            [
             0.8,
             "#7fbc41"
            ],
            [
             0.9,
             "#4d9221"
            ],
            [
             1,
             "#276419"
            ]
           ],
           "sequential": [
            [
             0,
             "#0d0887"
            ],
            [
             0.1111111111111111,
             "#46039f"
            ],
            [
             0.2222222222222222,
             "#7201a8"
            ],
            [
             0.3333333333333333,
             "#9c179e"
            ],
            [
             0.4444444444444444,
             "#bd3786"
            ],
            [
             0.5555555555555556,
             "#d8576b"
            ],
            [
             0.6666666666666666,
             "#ed7953"
            ],
            [
             0.7777777777777778,
             "#fb9f3a"
            ],
            [
             0.8888888888888888,
             "#fdca26"
            ],
            [
             1,
             "#f0f921"
            ]
           ],
           "sequentialminus": [
            [
             0,
             "#0d0887"
            ],
            [
             0.1111111111111111,
             "#46039f"
            ],
            [
             0.2222222222222222,
             "#7201a8"
            ],
            [
             0.3333333333333333,
             "#9c179e"
            ],
            [
             0.4444444444444444,
             "#bd3786"
            ],
            [
             0.5555555555555556,
             "#d8576b"
            ],
            [
             0.6666666666666666,
             "#ed7953"
            ],
            [
             0.7777777777777778,
             "#fb9f3a"
            ],
            [
             0.8888888888888888,
             "#fdca26"
            ],
            [
             1,
             "#f0f921"
            ]
           ]
          },
          "colorway": [
           "#636efa",
           "#EF553B",
           "#00cc96",
           "#ab63fa",
           "#FFA15A",
           "#19d3f3",
           "#FF6692",
           "#B6E880",
           "#FF97FF",
           "#FECB52"
          ],
          "font": {
           "color": "#2a3f5f"
          },
          "geo": {
           "bgcolor": "white",
           "lakecolor": "white",
           "landcolor": "#E5ECF6",
           "showlakes": true,
           "showland": true,
           "subunitcolor": "white"
          },
          "hoverlabel": {
           "align": "left"
          },
          "hovermode": "closest",
          "mapbox": {
           "style": "light"
          },
          "paper_bgcolor": "white",
          "plot_bgcolor": "#E5ECF6",
          "polar": {
           "angularaxis": {
            "gridcolor": "white",
            "linecolor": "white",
            "ticks": ""
           },
           "bgcolor": "#E5ECF6",
           "radialaxis": {
            "gridcolor": "white",
            "linecolor": "white",
            "ticks": ""
           }
          },
          "scene": {
           "xaxis": {
            "backgroundcolor": "#E5ECF6",
            "gridcolor": "white",
            "gridwidth": 2,
            "linecolor": "white",
            "showbackground": true,
            "ticks": "",
            "zerolinecolor": "white"
           },
           "yaxis": {
            "backgroundcolor": "#E5ECF6",
            "gridcolor": "white",
            "gridwidth": 2,
            "linecolor": "white",
            "showbackground": true,
            "ticks": "",
            "zerolinecolor": "white"
           },
           "zaxis": {
            "backgroundcolor": "#E5ECF6",
            "gridcolor": "white",
            "gridwidth": 2,
            "linecolor": "white",
            "showbackground": true,
            "ticks": "",
            "zerolinecolor": "white"
           }
          },
          "shapedefaults": {
           "line": {
            "color": "#2a3f5f"
           }
          },
          "ternary": {
           "aaxis": {
            "gridcolor": "white",
            "linecolor": "white",
            "ticks": ""
           },
           "baxis": {
            "gridcolor": "white",
            "linecolor": "white",
            "ticks": ""
           },
           "bgcolor": "#E5ECF6",
           "caxis": {
            "gridcolor": "white",
            "linecolor": "white",
            "ticks": ""
           }
          },
          "title": {
           "x": 0.05
          },
          "xaxis": {
           "automargin": true,
           "gridcolor": "white",
           "linecolor": "white",
           "ticks": "",
           "title": {
            "standoff": 15
           },
           "zerolinecolor": "white",
           "zerolinewidth": 2
          },
          "yaxis": {
           "automargin": true,
           "gridcolor": "white",
           "linecolor": "white",
           "ticks": "",
           "title": {
            "standoff": 15
           },
           "zerolinecolor": "white",
           "zerolinewidth": 2
          }
         }
        },
        "width": 1200,
        "xaxis": {
         "anchor": "y",
         "autorange": true,
         "domain": [
          0,
          1
         ],
         "range": [
          0,
          145
         ],
         "title": {
          "text": "index"
         },
         "type": "linear"
        },
        "yaxis": {
         "anchor": "x",
         "autorange": true,
         "domain": [
          0,
          1
         ],
         "range": [
          -0.2986135131869206,
          0.015716500694048452
         ],
         "title": {
          "text": "value"
         },
         "type": "linear"
        }
       }
      },
      "text/html": [
       "<div>                            <div id=\"9a65240a-8a6b-465a-9ce9-cd82b5ca5b91\" class=\"plotly-graph-div\" style=\"height:600px; width:1200px;\"></div>            <script type=\"text/javascript\">                require([\"plotly\"], function(Plotly) {                    window.PLOTLYENV=window.PLOTLYENV || {};                                    if (document.getElementById(\"9a65240a-8a6b-465a-9ce9-cd82b5ca5b91\")) {                    Plotly.newPlot(                        \"9a65240a-8a6b-465a-9ce9-cd82b5ca5b91\",                        [{\"hovertemplate\":\"variable=Drawdown\\u003cbr\\u003eindex=%{x}\\u003cbr\\u003evalue=%{y}\\u003cextra\\u003e\\u003c\\u002fextra\\u003e\",\"legendgroup\":\"Drawdown\",\"line\":{\"color\":\"#636efa\",\"dash\":\"solid\"},\"marker\":{\"symbol\":\"circle\"},\"mode\":\"lines\",\"name\":\"Drawdown\",\"orientation\":\"v\",\"showlegend\":true,\"x\":[0,1,2,3,4,5,6,7,8,9,10,11,12,13,14,15,16,17,18,19,20,21,22,23,24,25,26,27,28,29,30,31,32,33,34,35,36,37,38,39,40,41,42,43,44,45,46,47,48,49,50,51,52,53,54,55,56,57,58,59,60,61,62,63,64,65,66,67,68,69,70,71,72,73,74,75,76,77,78,79,80,81,82,83,84,85,86,87,88,89,90,91,92,93,94,95,96,97,98,99,100,101,102,103,104,105,106,107,108,109,110,111,112,113,114,115,116,117,118,119,120,121,122,123,124,125,126,127,128,129,130,131,132,133,134,135,136,137,138,139,140,141,142,143,144,145],\"xaxis\":\"x\",\"y\":[null,0.0,0.0,0.0,0.0,0.0,-0.04469901816443904,-0.06211609459749877,-0.0977024213906076,-0.06719687711498798,-0.06723376410927528,-0.072915965011884,-0.0744700301190327,-0.06122599538752194,-0.034272829040007884,-0.03587661140032651,0.0,0.0,-0.027074995813306305,-0.03119282424181714,0.0,-0.03531596775349572,-0.03935612942228661,-0.032491126602119856,-0.033295107867486726,-0.047614076527798435,-0.059017834049541744,-0.07237077870883137,-0.05923441039815793,-0.04485311760874815,-0.06613680769578374,-0.07573783978336156,-0.10042598542238639,-0.08113199315681074,-0.11733452164672825,-0.1247947198997829,-0.129729232821133,-0.12163021224482168,-0.11937719497792178,-0.11955793495230661,-0.11934603291337263,-0.13870546551450136,-0.12085895114723155,-0.13210534024300197,-0.13211624696559418,-0.1262203843529043,-0.13872416275323088,-0.1402292904709525,-0.14916657058363453,-0.13846863382392824,-0.12462644475121788,-0.13840630969483017,-0.13404673686441104,-0.13762569997787522,-0.1724742367631343,-0.20159206987781386,-0.2346737176031389,-0.2276248586021324,-0.22145944413109286,-0.20583322686294653,-0.1300953870795853,-0.2025020021626477,-0.19880150699744195,-0.18386085514937572,-0.187382168443424,-0.21161378983680454,-0.21530649448587297,-0.26333035216249173,-0.27878829428207297,-0.24578766792457554,-0.24151846508134883,-0.26543067531310116,-0.2438836657806256,-0.2405041398802757,-0.2554323269025223,-0.25353767337793687,-0.2653231661904067,-0.2339040146087762,-0.25383682919760836,-0.2454573500403553,-0.24640935111233037,-0.22832133074480504,-0.2130690582512479,-0.22130363380834767,-0.2204155149686983,-0.21788982963699363,-0.23730847016076562,-0.25246569835744803,-0.25457537012742215,-0.26319323907847597,-0.24423268090357578,-0.2662595862301074,-0.26579059715864345,-0.23554937161696887,-0.2349666410099007,-0.2800659389285864,-0.2666833903079752,-0.28289701249287214,-0.24753118543609798,-0.2670339635341525,-0.2337575529053955,-0.21693627046179104,-0.22924684406191317,-0.22495894397995683,-0.23117889206395725,-0.22996668775299722,-0.22835093470612647,-0.22854258140310343,-0.22113535865978223,-0.22203438422202385,-0.20454934980352352,-0.16380027609589226,-0.1612854974867799,-0.1643471703287291,-0.15671246451419948,-0.1557526729260871,-0.16333596133411063,-0.15983646148524655,-0.16976781145704492,-0.16387194884435505,-0.1436991863584947,-0.1418107652468192,-0.14958258414536488,-0.16265039591403022,-0.15901845729083247,-0.13683574164155526,-0.12939112442077502,-0.0846268186959921,-0.08756851758942723,-0.06983107044807917,-0.07654026294550052,-0.08791441650592219,-0.0874672408796426,-0.08765109706048234,-0.07837103423776005,-0.08122080504077536,-0.08223824644830342,-0.05782432697731075,-0.06847863684664816,-0.05511322736153913,-0.03326394580293728,-0.009219296796851401,-0.0472977815726247,-0.04373128328498025,-0.03242412816333926,-0.029794049915395155],\"yaxis\":\"y\",\"type\":\"scatter\"}],                        {\"template\":{\"data\":{\"histogram2dcontour\":[{\"type\":\"histogram2dcontour\",\"colorbar\":{\"outlinewidth\":0,\"ticks\":\"\"},\"colorscale\":[[0.0,\"#0d0887\"],[0.1111111111111111,\"#46039f\"],[0.2222222222222222,\"#7201a8\"],[0.3333333333333333,\"#9c179e\"],[0.4444444444444444,\"#bd3786\"],[0.5555555555555556,\"#d8576b\"],[0.6666666666666666,\"#ed7953\"],[0.7777777777777778,\"#fb9f3a\"],[0.8888888888888888,\"#fdca26\"],[1.0,\"#f0f921\"]]}],\"choropleth\":[{\"type\":\"choropleth\",\"colorbar\":{\"outlinewidth\":0,\"ticks\":\"\"}}],\"histogram2d\":[{\"type\":\"histogram2d\",\"colorbar\":{\"outlinewidth\":0,\"ticks\":\"\"},\"colorscale\":[[0.0,\"#0d0887\"],[0.1111111111111111,\"#46039f\"],[0.2222222222222222,\"#7201a8\"],[0.3333333333333333,\"#9c179e\"],[0.4444444444444444,\"#bd3786\"],[0.5555555555555556,\"#d8576b\"],[0.6666666666666666,\"#ed7953\"],[0.7777777777777778,\"#fb9f3a\"],[0.8888888888888888,\"#fdca26\"],[1.0,\"#f0f921\"]]}],\"heatmap\":[{\"type\":\"heatmap\",\"colorbar\":{\"outlinewidth\":0,\"ticks\":\"\"},\"colorscale\":[[0.0,\"#0d0887\"],[0.1111111111111111,\"#46039f\"],[0.2222222222222222,\"#7201a8\"],[0.3333333333333333,\"#9c179e\"],[0.4444444444444444,\"#bd3786\"],[0.5555555555555556,\"#d8576b\"],[0.6666666666666666,\"#ed7953\"],[0.7777777777777778,\"#fb9f3a\"],[0.8888888888888888,\"#fdca26\"],[1.0,\"#f0f921\"]]}],\"heatmapgl\":[{\"type\":\"heatmapgl\",\"colorbar\":{\"outlinewidth\":0,\"ticks\":\"\"},\"colorscale\":[[0.0,\"#0d0887\"],[0.1111111111111111,\"#46039f\"],[0.2222222222222222,\"#7201a8\"],[0.3333333333333333,\"#9c179e\"],[0.4444444444444444,\"#bd3786\"],[0.5555555555555556,\"#d8576b\"],[0.6666666666666666,\"#ed7953\"],[0.7777777777777778,\"#fb9f3a\"],[0.8888888888888888,\"#fdca26\"],[1.0,\"#f0f921\"]]}],\"contourcarpet\":[{\"type\":\"contourcarpet\",\"colorbar\":{\"outlinewidth\":0,\"ticks\":\"\"}}],\"contour\":[{\"type\":\"contour\",\"colorbar\":{\"outlinewidth\":0,\"ticks\":\"\"},\"colorscale\":[[0.0,\"#0d0887\"],[0.1111111111111111,\"#46039f\"],[0.2222222222222222,\"#7201a8\"],[0.3333333333333333,\"#9c179e\"],[0.4444444444444444,\"#bd3786\"],[0.5555555555555556,\"#d8576b\"],[0.6666666666666666,\"#ed7953\"],[0.7777777777777778,\"#fb9f3a\"],[0.8888888888888888,\"#fdca26\"],[1.0,\"#f0f921\"]]}],\"surface\":[{\"type\":\"surface\",\"colorbar\":{\"outlinewidth\":0,\"ticks\":\"\"},\"colorscale\":[[0.0,\"#0d0887\"],[0.1111111111111111,\"#46039f\"],[0.2222222222222222,\"#7201a8\"],[0.3333333333333333,\"#9c179e\"],[0.4444444444444444,\"#bd3786\"],[0.5555555555555556,\"#d8576b\"],[0.6666666666666666,\"#ed7953\"],[0.7777777777777778,\"#fb9f3a\"],[0.8888888888888888,\"#fdca26\"],[1.0,\"#f0f921\"]]}],\"mesh3d\":[{\"type\":\"mesh3d\",\"colorbar\":{\"outlinewidth\":0,\"ticks\":\"\"}}],\"scatter\":[{\"fillpattern\":{\"fillmode\":\"overlay\",\"size\":10,\"solidity\":0.2},\"type\":\"scatter\"}],\"parcoords\":[{\"type\":\"parcoords\",\"line\":{\"colorbar\":{\"outlinewidth\":0,\"ticks\":\"\"}}}],\"scatterpolargl\":[{\"type\":\"scatterpolargl\",\"marker\":{\"colorbar\":{\"outlinewidth\":0,\"ticks\":\"\"}}}],\"bar\":[{\"error_x\":{\"color\":\"#2a3f5f\"},\"error_y\":{\"color\":\"#2a3f5f\"},\"marker\":{\"line\":{\"color\":\"#E5ECF6\",\"width\":0.5},\"pattern\":{\"fillmode\":\"overlay\",\"size\":10,\"solidity\":0.2}},\"type\":\"bar\"}],\"scattergeo\":[{\"type\":\"scattergeo\",\"marker\":{\"colorbar\":{\"outlinewidth\":0,\"ticks\":\"\"}}}],\"scatterpolar\":[{\"type\":\"scatterpolar\",\"marker\":{\"colorbar\":{\"outlinewidth\":0,\"ticks\":\"\"}}}],\"histogram\":[{\"marker\":{\"pattern\":{\"fillmode\":\"overlay\",\"size\":10,\"solidity\":0.2}},\"type\":\"histogram\"}],\"scattergl\":[{\"type\":\"scattergl\",\"marker\":{\"colorbar\":{\"outlinewidth\":0,\"ticks\":\"\"}}}],\"scatter3d\":[{\"type\":\"scatter3d\",\"line\":{\"colorbar\":{\"outlinewidth\":0,\"ticks\":\"\"}},\"marker\":{\"colorbar\":{\"outlinewidth\":0,\"ticks\":\"\"}}}],\"scattermapbox\":[{\"type\":\"scattermapbox\",\"marker\":{\"colorbar\":{\"outlinewidth\":0,\"ticks\":\"\"}}}],\"scatterternary\":[{\"type\":\"scatterternary\",\"marker\":{\"colorbar\":{\"outlinewidth\":0,\"ticks\":\"\"}}}],\"scattercarpet\":[{\"type\":\"scattercarpet\",\"marker\":{\"colorbar\":{\"outlinewidth\":0,\"ticks\":\"\"}}}],\"carpet\":[{\"aaxis\":{\"endlinecolor\":\"#2a3f5f\",\"gridcolor\":\"white\",\"linecolor\":\"white\",\"minorgridcolor\":\"white\",\"startlinecolor\":\"#2a3f5f\"},\"baxis\":{\"endlinecolor\":\"#2a3f5f\",\"gridcolor\":\"white\",\"linecolor\":\"white\",\"minorgridcolor\":\"white\",\"startlinecolor\":\"#2a3f5f\"},\"type\":\"carpet\"}],\"table\":[{\"cells\":{\"fill\":{\"color\":\"#EBF0F8\"},\"line\":{\"color\":\"white\"}},\"header\":{\"fill\":{\"color\":\"#C8D4E3\"},\"line\":{\"color\":\"white\"}},\"type\":\"table\"}],\"barpolar\":[{\"marker\":{\"line\":{\"color\":\"#E5ECF6\",\"width\":0.5},\"pattern\":{\"fillmode\":\"overlay\",\"size\":10,\"solidity\":0.2}},\"type\":\"barpolar\"}],\"pie\":[{\"automargin\":true,\"type\":\"pie\"}]},\"layout\":{\"autotypenumbers\":\"strict\",\"colorway\":[\"#636efa\",\"#EF553B\",\"#00cc96\",\"#ab63fa\",\"#FFA15A\",\"#19d3f3\",\"#FF6692\",\"#B6E880\",\"#FF97FF\",\"#FECB52\"],\"font\":{\"color\":\"#2a3f5f\"},\"hovermode\":\"closest\",\"hoverlabel\":{\"align\":\"left\"},\"paper_bgcolor\":\"white\",\"plot_bgcolor\":\"#E5ECF6\",\"polar\":{\"bgcolor\":\"#E5ECF6\",\"angularaxis\":{\"gridcolor\":\"white\",\"linecolor\":\"white\",\"ticks\":\"\"},\"radialaxis\":{\"gridcolor\":\"white\",\"linecolor\":\"white\",\"ticks\":\"\"}},\"ternary\":{\"bgcolor\":\"#E5ECF6\",\"aaxis\":{\"gridcolor\":\"white\",\"linecolor\":\"white\",\"ticks\":\"\"},\"baxis\":{\"gridcolor\":\"white\",\"linecolor\":\"white\",\"ticks\":\"\"},\"caxis\":{\"gridcolor\":\"white\",\"linecolor\":\"white\",\"ticks\":\"\"}},\"coloraxis\":{\"colorbar\":{\"outlinewidth\":0,\"ticks\":\"\"}},\"colorscale\":{\"sequential\":[[0.0,\"#0d0887\"],[0.1111111111111111,\"#46039f\"],[0.2222222222222222,\"#7201a8\"],[0.3333333333333333,\"#9c179e\"],[0.4444444444444444,\"#bd3786\"],[0.5555555555555556,\"#d8576b\"],[0.6666666666666666,\"#ed7953\"],[0.7777777777777778,\"#fb9f3a\"],[0.8888888888888888,\"#fdca26\"],[1.0,\"#f0f921\"]],\"sequentialminus\":[[0.0,\"#0d0887\"],[0.1111111111111111,\"#46039f\"],[0.2222222222222222,\"#7201a8\"],[0.3333333333333333,\"#9c179e\"],[0.4444444444444444,\"#bd3786\"],[0.5555555555555556,\"#d8576b\"],[0.6666666666666666,\"#ed7953\"],[0.7777777777777778,\"#fb9f3a\"],[0.8888888888888888,\"#fdca26\"],[1.0,\"#f0f921\"]],\"diverging\":[[0,\"#8e0152\"],[0.1,\"#c51b7d\"],[0.2,\"#de77ae\"],[0.3,\"#f1b6da\"],[0.4,\"#fde0ef\"],[0.5,\"#f7f7f7\"],[0.6,\"#e6f5d0\"],[0.7,\"#b8e186\"],[0.8,\"#7fbc41\"],[0.9,\"#4d9221\"],[1,\"#276419\"]]},\"xaxis\":{\"gridcolor\":\"white\",\"linecolor\":\"white\",\"ticks\":\"\",\"title\":{\"standoff\":15},\"zerolinecolor\":\"white\",\"automargin\":true,\"zerolinewidth\":2},\"yaxis\":{\"gridcolor\":\"white\",\"linecolor\":\"white\",\"ticks\":\"\",\"title\":{\"standoff\":15},\"zerolinecolor\":\"white\",\"automargin\":true,\"zerolinewidth\":2},\"scene\":{\"xaxis\":{\"backgroundcolor\":\"#E5ECF6\",\"gridcolor\":\"white\",\"linecolor\":\"white\",\"showbackground\":true,\"ticks\":\"\",\"zerolinecolor\":\"white\",\"gridwidth\":2},\"yaxis\":{\"backgroundcolor\":\"#E5ECF6\",\"gridcolor\":\"white\",\"linecolor\":\"white\",\"showbackground\":true,\"ticks\":\"\",\"zerolinecolor\":\"white\",\"gridwidth\":2},\"zaxis\":{\"backgroundcolor\":\"#E5ECF6\",\"gridcolor\":\"white\",\"linecolor\":\"white\",\"showbackground\":true,\"ticks\":\"\",\"zerolinecolor\":\"white\",\"gridwidth\":2}},\"shapedefaults\":{\"line\":{\"color\":\"#2a3f5f\"}},\"annotationdefaults\":{\"arrowcolor\":\"#2a3f5f\",\"arrowhead\":0,\"arrowwidth\":1},\"geo\":{\"bgcolor\":\"white\",\"landcolor\":\"#E5ECF6\",\"subunitcolor\":\"white\",\"showland\":true,\"showlakes\":true,\"lakecolor\":\"white\"},\"title\":{\"x\":0.05},\"mapbox\":{\"style\":\"light\"}}},\"xaxis\":{\"anchor\":\"y\",\"domain\":[0.0,1.0],\"title\":{\"text\":\"index\"}},\"yaxis\":{\"anchor\":\"x\",\"domain\":[0.0,1.0],\"title\":{\"text\":\"value\"}},\"legend\":{\"title\":{\"text\":\"variable\"},\"tracegroupgap\":0},\"margin\":{\"t\":60},\"height\":600,\"width\":1200},                        {\"responsive\": true}                    ).then(function(){\n",
       "                            \n",
       "var gd = document.getElementById('9a65240a-8a6b-465a-9ce9-cd82b5ca5b91');\n",
       "var x = new MutationObserver(function (mutations, observer) {{\n",
       "        var display = window.getComputedStyle(gd).display;\n",
       "        if (!display || display === 'none') {{\n",
       "            console.log([gd, 'removed!']);\n",
       "            Plotly.purge(gd);\n",
       "            observer.disconnect();\n",
       "        }}\n",
       "}});\n",
       "\n",
       "// Listen for the removal of the full notebook cells\n",
       "var notebookContainer = gd.closest('#notebook-container');\n",
       "if (notebookContainer) {{\n",
       "    x.observe(notebookContainer, {childList: true});\n",
       "}}\n",
       "\n",
       "// Listen for the clearing of the current output cell\n",
       "var outputEl = gd.closest('.output');\n",
       "if (outputEl) {{\n",
       "    x.observe(outputEl, {childList: true});\n",
       "}}\n",
       "\n",
       "                        })                };                });            </script>        </div>"
      ]
     },
     "metadata": {},
     "output_type": "display_data"
    },
    {
     "data": {
      "text/plain": [
       "<Figure size 1200x800 with 0 Axes>"
      ]
     },
     "metadata": {},
     "output_type": "display_data"
    }
   ],
   "source": [
    "import plotly.express as px\n",
    "plt.figure(\n",
    "    figsize=(12,8)\n",
    ")\n",
    "\n",
    "px.line(\n",
    "    df_btceth_close['Drawdown'],\n",
    "    width=1200,    # largura em pixels\n",
    "    height=600     # altura em pixels\n",
    ")\n"
   ]
  }
 ],
 "metadata": {
  "kernelspec": {
   "display_name": "Python 3 (ipykernel)",
   "language": "python",
   "name": "python3"
  },
  "language_info": {
   "codemirror_mode": {
    "name": "ipython",
    "version": 3
   },
   "file_extension": ".py",
   "mimetype": "text/x-python",
   "name": "python",
   "nbconvert_exporter": "python",
   "pygments_lexer": "ipython3",
   "version": "3.12.7"
  }
 },
 "nbformat": 4,
 "nbformat_minor": 5
}
