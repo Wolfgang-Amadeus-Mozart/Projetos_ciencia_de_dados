{
 "cells": [
  {
   "cell_type": "code",
   "execution_count": 72,
   "id": "e9409665-2800-4756-b96f-e275662f4ce1",
   "metadata": {},
   "outputs": [
    {
     "ename": "ImportError",
     "evalue": "cannot import name 'dados_historicos_recentes' from 'pegar_historico' (C:\\MBA-USP\\Projetos_Em_Portugues\\Bitcoin\\pegar_historico.py)",
     "output_type": "error",
     "traceback": [
      "\u001b[1;31m---------------------------------------------------------------------------\u001b[0m",
      "\u001b[1;31mImportError\u001b[0m                               Traceback (most recent call last)",
      "Cell \u001b[1;32mIn[72], line 3\u001b[0m\n\u001b[0;32m      1\u001b[0m \u001b[38;5;28;01mimport\u001b[39;00m \u001b[38;5;21;01mnumpy\u001b[39;00m \u001b[38;5;28;01mas\u001b[39;00m \u001b[38;5;21;01mnp\u001b[39;00m\n\u001b[0;32m      2\u001b[0m \u001b[38;5;28;01mimport\u001b[39;00m \u001b[38;5;21;01mpandas\u001b[39;00m \u001b[38;5;28;01mas\u001b[39;00m \u001b[38;5;21;01mpd\u001b[39;00m\n\u001b[1;32m----> 3\u001b[0m \u001b[38;5;28;01mfrom\u001b[39;00m \u001b[38;5;21;01mpegar_historico\u001b[39;00m \u001b[38;5;28;01mimport\u001b[39;00m dados_historicos_recentes\n\u001b[0;32m      4\u001b[0m \u001b[38;5;28;01mfrom\u001b[39;00m \u001b[38;5;21;01mpegar_historico\u001b[39;00m \u001b[38;5;28;01mimport\u001b[39;00m pegar_historico\n",
      "\u001b[1;31mImportError\u001b[0m: cannot import name 'dados_historicos_recentes' from 'pegar_historico' (C:\\MBA-USP\\Projetos_Em_Portugues\\Bitcoin\\pegar_historico.py)"
     ]
    }
   ],
   "source": [
    "import numpy as np\n",
    "import pandas as pd\n",
    "from pegar_historico import dados_historicos_recentes\n",
    "from pegar_historico import pegar_historico"
   ]
  },
  {
   "cell_type": "code",
   "execution_count": null,
   "id": "5c535e66-731a-4059-9360-ddfca3b083fb",
   "metadata": {},
   "outputs": [],
   "source": [
    "klines = dados_historicos_recentes('BTCBRL', interval=Client.KLINE_INTERVAL_1HOUR, limit=24)\n",
    "\n",
    "klines = client.get_klines(symbol='BTCBRL', interval=Client.KLINE_INTERVAL_1HOUR, limit=24)\n",
    "prices = [float(k[4]) for k in klines]  # preço de fechamento de cada hora\n",
    "#O \"float\" servce para converter o tipo de dado para decimal, visto, o tipo de dado quando vem da binance, vem como tipo texto, mesmo sendo um numero"
   ]
  },
  {
   "cell_type": "code",
   "execution_count": null,
   "id": "6a93e720-57ee-4399-af2e-0a27d581826e",
   "metadata": {},
   "outputs": [],
   "source": [
    "pegar_"
   ]
  },
  {
   "cell_type": "code",
   "execution_count": 42,
   "id": "0e0641ad-9520-4281-bc82-cf8312f7224f",
   "metadata": {},
   "outputs": [
    {
     "name": "stdout",
     "output_type": "stream",
     "text": [
      "\n",
      "    Valor: 613051.00000000,\n",
      "    Tipo: <class 'str'>\n",
      "     \n"
     ]
    }
   ],
   "source": [
    "#Validando o tipo de dados\n",
    "\n",
    "#Acessando o index da lista extraida da biblioteca da binance, pode isolar o primeiro valor extraido\n",
    "valor_isolado = klines[0][4]\n",
    "\n",
    "print(\n",
    "    f\"\"\"\n",
    "    Valor: {valor_isolado},\n",
    "    Tipo: {type(valor_isolado)}\n",
    "     \"\"\"\n",
    ")\n",
    "\n",
    "#Class 'str' significa \"string\", que por enquanto, vamos entender como \"texto\" apesar da tradução literal ser \"corda\", mas isso é assunto pra muito depois"
   ]
  },
  {
   "cell_type": "code",
   "execution_count": 52,
   "id": "b71c3a6a-ea76-4b3f-a047-92702b027c21",
   "metadata": {},
   "outputs": [
    {
     "name": "stdout",
     "output_type": "stream",
     "text": [
      "Volatilidade (desvio padrão) nas últimas 24h: 5466.66 BRL\n"
     ]
    }
   ],
   "source": [
    "volatility = np.std(prices)\n",
    "print(f\"Volatilidade (desvio padrão) nas últimas 24h: {volatility:.2f} BRL\")"
   ]
  },
  {
   "cell_type": "code",
   "execution_count": 64,
   "id": "5a9f49b3-95ec-4ea2-ba19-78c95059e8f4",
   "metadata": {},
   "outputs": [
    {
     "data": {
      "text/html": [
       "<div>\n",
       "<style scoped>\n",
       "    .dataframe tbody tr th:only-of-type {\n",
       "        vertical-align: middle;\n",
       "    }\n",
       "\n",
       "    .dataframe tbody tr th {\n",
       "        vertical-align: top;\n",
       "    }\n",
       "\n",
       "    .dataframe thead th {\n",
       "        text-align: right;\n",
       "    }\n",
       "</style>\n",
       "<table border=\"1\" class=\"dataframe\">\n",
       "  <thead>\n",
       "    <tr style=\"text-align: right;\">\n",
       "      <th></th>\n",
       "      <th>0</th>\n",
       "    </tr>\n",
       "  </thead>\n",
       "  <tbody>\n",
       "    <tr>\n",
       "      <th>count</th>\n",
       "      <td>24.000000</td>\n",
       "    </tr>\n",
       "    <tr>\n",
       "      <th>mean</th>\n",
       "      <td>613709.833333</td>\n",
       "    </tr>\n",
       "    <tr>\n",
       "      <th>std</th>\n",
       "      <td>5584.233634</td>\n",
       "    </tr>\n",
       "    <tr>\n",
       "      <th>min</th>\n",
       "      <td>600941.000000</td>\n",
       "    </tr>\n",
       "    <tr>\n",
       "      <th>25%</th>\n",
       "      <td>611630.500000</td>\n",
       "    </tr>\n",
       "    <tr>\n",
       "      <th>50%</th>\n",
       "      <td>615375.500000</td>\n",
       "    </tr>\n",
       "    <tr>\n",
       "      <th>75%</th>\n",
       "      <td>617280.750000</td>\n",
       "    </tr>\n",
       "    <tr>\n",
       "      <th>max</th>\n",
       "      <td>620928.000000</td>\n",
       "    </tr>\n",
       "  </tbody>\n",
       "</table>\n",
       "</div>"
      ],
      "text/plain": [
       "                   0\n",
       "count      24.000000\n",
       "mean   613709.833333\n",
       "std      5584.233634\n",
       "min    600941.000000\n",
       "25%    611630.500000\n",
       "50%    615375.500000\n",
       "75%    617280.750000\n",
       "max    620928.000000"
      ]
     },
     "execution_count": 64,
     "metadata": {},
     "output_type": "execute_result"
    }
   ],
   "source": [
    "import pandas as pd\n",
    "pd.DataFrame(prices).describe()"
   ]
  },
  {
   "cell_type": "code",
   "execution_count": null,
   "id": "45e893de-914a-4bbf-815d-0075489a78ff",
   "metadata": {},
   "outputs": [],
   "source": [
    "import matplotlib.pyplot as plt\n",
    "import numpy as np\n",
    "from scipy.stats import norm\n",
    "\n",
    "# Simulando dados de preços (exemplo: preços de fechamento por hora)\n",
    "# Substitua isso por dados reais da Binance se desejar\n",
    "np.random.seed(42)\n",
    "prices = np.random.normal(loc=27000, scale=200, size=24)  # média fictícia e desvio padrão\n",
    "\n",
    "# Calculando média e desvio padrão\n",
    "mean_price = np.mean(prices)\n",
    "std_dev = np.std(prices)\n",
    "\n",
    "# Gerando pontos para a curva de Gauss\n",
    "x = np.linspace(mean_price - 4*std_dev, mean_price + 4*std_dev, 1000)\n",
    "y = norm.pdf(x, mean_price, std_dev)\n",
    "\n",
    "# Plotando a curva de distribuição normal\n",
    "plt.figure(figsize=(10, 6))\n",
    "plt.plot(x, y, label='Curva de Gauss (Normal)', color='blue')\n",
    "plt.axvline(mean_price, color='green', linestyle='--', label='Média')\n",
    "plt.axvline(mean_price + std_dev, color='red', linestyle='--', label='+1 Desvio Padrão')\n",
    "plt.axvline(mean_price - std_dev, color='red', linestyle='--', label='-1 Desvio Padrão')\n",
    "\n",
    "# Personalização do gráfico\n",
    "plt.title('Distribuição Normal do Preço do Bitcoin nas Últimas 24h')\n",
    "plt.xlabel('Preço (USDT)')\n",
    "plt.ylabel('Densidade de Probabilidade')\n",
    "plt.legend()\n",
    "plt.grid(True)\n",
    "plt.tight_layout()\n",
    "\n",
    "plt.show()\n"
   ]
  }
 ],
 "metadata": {
  "kernelspec": {
   "display_name": "Python 3 (ipykernel)",
   "language": "python",
   "name": "python3"
  },
  "language_info": {
   "codemirror_mode": {
    "name": "ipython",
    "version": 3
   },
   "file_extension": ".py",
   "mimetype": "text/x-python",
   "name": "python",
   "nbconvert_exporter": "python",
   "pygments_lexer": "ipython3",
   "version": "3.12.7"
  }
 },
 "nbformat": 4,
 "nbformat_minor": 5
}
