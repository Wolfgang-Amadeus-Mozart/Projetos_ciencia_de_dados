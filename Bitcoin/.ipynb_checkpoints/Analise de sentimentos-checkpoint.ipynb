{
 "cells": [
  {
   "cell_type": "code",
   "execution_count": 1,
   "id": "45d13063-8e39-45af-a02f-e750b9e057b8",
   "metadata": {},
   "outputs": [],
   "source": [
    "#importações\n",
    "import matplotlib.pyplot as plt\n",
    "import requests\n",
    "import pandas as pd\n",
    "import os\n",
    "from dotenv import load_dotenv\n",
    "from textblob import TextBlob"
   ]
  },
  {
   "cell_type": "code",
   "execution_count": 64,
   "id": "ec6c8594-9644-49b5-81d2-bcc64074c4d1",
   "metadata": {},
   "outputs": [
    {
     "data": {
      "text/html": [
       "<div>\n",
       "<style scoped>\n",
       "    .dataframe tbody tr th:only-of-type {\n",
       "        vertical-align: middle;\n",
       "    }\n",
       "\n",
       "    .dataframe tbody tr th {\n",
       "        vertical-align: top;\n",
       "    }\n",
       "\n",
       "    .dataframe thead th {\n",
       "        text-align: right;\n",
       "    }\n",
       "</style>\n",
       "<table border=\"1\" class=\"dataframe\">\n",
       "  <thead>\n",
       "    <tr style=\"text-align: right;\">\n",
       "      <th></th>\n",
       "      <th>title</th>\n",
       "      <th>description</th>\n",
       "    </tr>\n",
       "  </thead>\n",
       "  <tbody>\n",
       "    <tr>\n",
       "      <th>0</th>\n",
       "      <td>Is Hong Kong’s New World Too Big to Fail?</td>\n",
       "      <td></td>\n",
       "    </tr>\n",
       "    <tr>\n",
       "      <th>1</th>\n",
       "      <td>Grain Market Bulls Look to Extend Friday’s Ral...</td>\n",
       "      <td></td>\n",
       "    </tr>\n",
       "    <tr>\n",
       "      <th>2</th>\n",
       "      <td>Guatemala seeks 700 megawatts of gas for power...</td>\n",
       "      <td></td>\n",
       "    </tr>\n",
       "    <tr>\n",
       "      <th>3</th>\n",
       "      <td>BTC Becomes the New Favorite of Capital, Sunny...</td>\n",
       "      <td>As a global leader in intelligent cloud mining...</td>\n",
       "    </tr>\n",
       "    <tr>\n",
       "      <th>4</th>\n",
       "      <td>Trump expected to sign proclamation finalizing...</td>\n",
       "      <td></td>\n",
       "    </tr>\n",
       "    <tr>\n",
       "      <th>5</th>\n",
       "      <td>$1 Billion More Bitcoin for Strategy? Of Cours...</td>\n",
       "      <td>The public company made its largest Bitcoin bu...</td>\n",
       "    </tr>\n",
       "    <tr>\n",
       "      <th>6</th>\n",
       "      <td>Strategy Shrugs Off Israel-Iran Tensions, Adds...</td>\n",
       "      <td>Since Strategy added a Bitcoin treasury, other...</td>\n",
       "    </tr>\n",
       "    <tr>\n",
       "      <th>7</th>\n",
       "      <td>Sugar Prices Rebound on Strength in the Brazil...</td>\n",
       "      <td></td>\n",
       "    </tr>\n",
       "    <tr>\n",
       "      <th>8</th>\n",
       "      <td>CoverGirl parent Coty exploring sale, WWD reports</td>\n",
       "      <td></td>\n",
       "    </tr>\n",
       "    <tr>\n",
       "      <th>9</th>\n",
       "      <td>Coffee Prices Retreat on Favorable Growing Con...</td>\n",
       "      <td></td>\n",
       "    </tr>\n",
       "    <tr>\n",
       "      <th>10</th>\n",
       "      <td>The Decline of Coal Isn't a Conspiracy, It's t...</td>\n",
       "      <td></td>\n",
       "    </tr>\n",
       "    <tr>\n",
       "      <th>11</th>\n",
       "      <td>The Daily: Trump makes over $57 million from W...</td>\n",
       "      <td>The following article is adapted from The Bloc...</td>\n",
       "    </tr>\n",
       "    <tr>\n",
       "      <th>12</th>\n",
       "      <td>Federal judge says Trump cuts to NIH grants ar...</td>\n",
       "      <td></td>\n",
       "    </tr>\n",
       "    <tr>\n",
       "      <th>13</th>\n",
       "      <td>In Recent Years There's Been a Sanctuary State...</td>\n",
       "      <td></td>\n",
       "    </tr>\n",
       "    <tr>\n",
       "      <th>14</th>\n",
       "      <td>Cocoa Prices Settle Higher on Dollar Weakness ...</td>\n",
       "      <td></td>\n",
       "    </tr>\n",
       "    <tr>\n",
       "      <th>15</th>\n",
       "      <td>Justin Sun Triggers 647% Stock Rally As Billio...</td>\n",
       "      <td>Billionaire Justin Sun is reportedly gearing u...</td>\n",
       "    </tr>\n",
       "    <tr>\n",
       "      <th>16</th>\n",
       "      <td>Bitcoin Mining Costs Soar as Hashrate Hits Rec...</td>\n",
       "      <td>Public miners race to scale as Bitcoin’s hashr...</td>\n",
       "    </tr>\n",
       "    <tr>\n",
       "      <th>17</th>\n",
       "      <td>Forget DOGE Price: Bitcoin Solaris Presale Off...</td>\n",
       "      <td>Crypto’s next big breakout rarely arrives with...</td>\n",
       "    </tr>\n",
       "    <tr>\n",
       "      <th>18</th>\n",
       "      <td>Moelis’ Incoming CEO Sees M&amp;A Drivers Intact D...</td>\n",
       "      <td></td>\n",
       "    </tr>\n",
       "    <tr>\n",
       "      <th>19</th>\n",
       "      <td>Israeli markets rally as investors sketch post...</td>\n",
       "      <td></td>\n",
       "    </tr>\n",
       "    <tr>\n",
       "      <th>20</th>\n",
       "      <td>Middle East IPOs Remain on Track as Investors ...</td>\n",
       "      <td></td>\n",
       "    </tr>\n",
       "    <tr>\n",
       "      <th>21</th>\n",
       "      <td>Senate Deadlocked on SALT, With Draft Bill Sho...</td>\n",
       "      <td></td>\n",
       "    </tr>\n",
       "    <tr>\n",
       "      <th>22</th>\n",
       "      <td>Israel to Continue Strikes Despite Reports Ira...</td>\n",
       "      <td></td>\n",
       "    </tr>\n",
       "    <tr>\n",
       "      <th>23</th>\n",
       "      <td>MoneyGram settles NY lawsuit over remittance t...</td>\n",
       "      <td></td>\n",
       "    </tr>\n",
       "    <tr>\n",
       "      <th>24</th>\n",
       "      <td>23andMe's former CEO agrees to buy the company...</td>\n",
       "      <td></td>\n",
       "    </tr>\n",
       "    <tr>\n",
       "      <th>25</th>\n",
       "      <td>Senate’s Tax Bill Will Likely Include a Gift f...</td>\n",
       "      <td></td>\n",
       "    </tr>\n",
       "    <tr>\n",
       "      <th>26</th>\n",
       "      <td>This new ransomware could be deadly for your m...</td>\n",
       "      <td>Anubis has added a new destructive capability ...</td>\n",
       "    </tr>\n",
       "    <tr>\n",
       "      <th>27</th>\n",
       "      <td>Law enforcement operation shut down dark web d...</td>\n",
       "      <td>Europol shut down Archetyp Market, a major dar...</td>\n",
       "    </tr>\n",
       "    <tr>\n",
       "      <th>28</th>\n",
       "      <td>CoinShares Solana ETF Joins Growing List of Ap...</td>\n",
       "      <td>The CoinShares Solana ETF would track the sixt...</td>\n",
       "    </tr>\n",
       "    <tr>\n",
       "      <th>29</th>\n",
       "      <td>MGM Stock Is Rising. Its Online Betting Ventur...</td>\n",
       "      <td></td>\n",
       "    </tr>\n",
       "  </tbody>\n",
       "</table>\n",
       "</div>"
      ],
      "text/plain": [
       "                                                title  \\\n",
       "0           Is Hong Kong’s New World Too Big to Fail?   \n",
       "1   Grain Market Bulls Look to Extend Friday’s Ral...   \n",
       "2   Guatemala seeks 700 megawatts of gas for power...   \n",
       "3   BTC Becomes the New Favorite of Capital, Sunny...   \n",
       "4   Trump expected to sign proclamation finalizing...   \n",
       "5   $1 Billion More Bitcoin for Strategy? Of Cours...   \n",
       "6   Strategy Shrugs Off Israel-Iran Tensions, Adds...   \n",
       "7   Sugar Prices Rebound on Strength in the Brazil...   \n",
       "8   CoverGirl parent Coty exploring sale, WWD reports   \n",
       "9   Coffee Prices Retreat on Favorable Growing Con...   \n",
       "10  The Decline of Coal Isn't a Conspiracy, It's t...   \n",
       "11  The Daily: Trump makes over $57 million from W...   \n",
       "12  Federal judge says Trump cuts to NIH grants ar...   \n",
       "13  In Recent Years There's Been a Sanctuary State...   \n",
       "14  Cocoa Prices Settle Higher on Dollar Weakness ...   \n",
       "15  Justin Sun Triggers 647% Stock Rally As Billio...   \n",
       "16  Bitcoin Mining Costs Soar as Hashrate Hits Rec...   \n",
       "17  Forget DOGE Price: Bitcoin Solaris Presale Off...   \n",
       "18  Moelis’ Incoming CEO Sees M&A Drivers Intact D...   \n",
       "19  Israeli markets rally as investors sketch post...   \n",
       "20  Middle East IPOs Remain on Track as Investors ...   \n",
       "21  Senate Deadlocked on SALT, With Draft Bill Sho...   \n",
       "22  Israel to Continue Strikes Despite Reports Ira...   \n",
       "23  MoneyGram settles NY lawsuit over remittance t...   \n",
       "24  23andMe's former CEO agrees to buy the company...   \n",
       "25  Senate’s Tax Bill Will Likely Include a Gift f...   \n",
       "26  This new ransomware could be deadly for your m...   \n",
       "27  Law enforcement operation shut down dark web d...   \n",
       "28  CoinShares Solana ETF Joins Growing List of Ap...   \n",
       "29  MGM Stock Is Rising. Its Online Betting Ventur...   \n",
       "\n",
       "                                          description  \n",
       "0                                                      \n",
       "1                                                      \n",
       "2                                                      \n",
       "3   As a global leader in intelligent cloud mining...  \n",
       "4                                                      \n",
       "5   The public company made its largest Bitcoin bu...  \n",
       "6   Since Strategy added a Bitcoin treasury, other...  \n",
       "7                                                      \n",
       "8                                                      \n",
       "9                                                      \n",
       "10                                                     \n",
       "11  The following article is adapted from The Bloc...  \n",
       "12                                                     \n",
       "13                                                     \n",
       "14                                                     \n",
       "15  Billionaire Justin Sun is reportedly gearing u...  \n",
       "16  Public miners race to scale as Bitcoin’s hashr...  \n",
       "17  Crypto’s next big breakout rarely arrives with...  \n",
       "18                                                     \n",
       "19                                                     \n",
       "20                                                     \n",
       "21                                                     \n",
       "22                                                     \n",
       "23                                                     \n",
       "24                                                     \n",
       "25                                                     \n",
       "26  Anubis has added a new destructive capability ...  \n",
       "27  Europol shut down Archetyp Market, a major dar...  \n",
       "28  The CoinShares Solana ETF would track the sixt...  \n",
       "29                                                     "
      ]
     },
     "execution_count": 64,
     "metadata": {},
     "output_type": "execute_result"
    }
   ],
   "source": [
    "load_dotenv() \n",
    "\n",
    "url = ('https://newsapi.org/v2/everything?'\n",
    "       'q=bitcoin&'\n",
    "       'language=en&'\n",
    "       'sortBy=publishedAt&'\n",
    "       f'apiKey={os.getenv('NEWSAPIKEY')}')\n",
    "\n",
    "response = requests.get(url)\n",
    "data = response.json()\n",
    "\n",
    "# Extraindo título e descrição\n",
    "articles = data['articles']\n",
    "news_df = pd.DataFrame([{\n",
    "    'title': article['title'],\n",
    "    'description': article['description']\n",
    "} for article in articles])\n",
    "\n",
    "news_df.head(30)"
   ]
  },
  {
   "cell_type": "code",
   "execution_count": 66,
   "id": "48eb08b9-691c-4091-827b-dcd2e7c85227",
   "metadata": {},
   "outputs": [
    {
     "data": {
      "text/plain": [
       "(100, 2)"
      ]
     },
     "execution_count": 66,
     "metadata": {},
     "output_type": "execute_result"
    }
   ],
   "source": [
    "#Verificando o formado do dataframe\n",
    "news_df.shape"
   ]
  },
  {
   "cell_type": "code",
   "execution_count": 68,
   "id": "8d33f5ba-eb1a-47b4-979c-0d3abd86ecb8",
   "metadata": {},
   "outputs": [
    {
     "name": "stdout",
     "output_type": "stream",
     "text": [
      "<class 'pandas.core.frame.DataFrame'>\n",
      "RangeIndex: 100 entries, 0 to 99\n",
      "Data columns (total 2 columns):\n",
      " #   Column       Non-Null Count  Dtype \n",
      "---  ------       --------------  ----- \n",
      " 0   title        100 non-null    object\n",
      " 1   description  100 non-null    object\n",
      "dtypes: object(2)\n",
      "memory usage: 1.7+ KB\n"
     ]
    }
   ],
   "source": [
    "news_df.info()"
   ]
  },
  {
   "cell_type": "code",
   "execution_count": 70,
   "id": "39301146-e378-4a21-ab7f-d6645989bd82",
   "metadata": {},
   "outputs": [
    {
     "name": "stdout",
     "output_type": "stream",
     "text": [
      "                                               title  sentiment\n",
      "0          Is Hong Kong’s New World Too Big to Fail?       0.00\n",
      "1  Grain Market Bulls Look to Extend Friday’s Ral...       0.00\n",
      "2  Guatemala seeks 700 megawatts of gas for power...       0.00\n",
      "3  BTC Becomes the New Favorite of Capital, Sunny...       0.35\n",
      "4  Trump expected to sign proclamation finalizing...       0.00\n"
     ]
    }
   ],
   "source": [
    "\n",
    "def get_sentiment(text):\n",
    "    if text:\n",
    "        blob = TextBlob(text)\n",
    "        return blob.sentiment.polarity\n",
    "    return 0\n",
    "\n",
    "# Calcula sentimento com base na descrição\n",
    "news_df['sentiment'] = news_df['description'].apply(get_sentiment)\n",
    "\n",
    "print(news_df[['title', 'sentiment']].head())\n"
   ]
  },
  {
   "cell_type": "code",
   "execution_count": 72,
   "id": "229bf9ce-5852-4c24-98c9-ba18b7d7ed2a",
   "metadata": {},
   "outputs": [
    {
     "data": {
      "image/png": "[encoded data removed]",
      "text/plain": [
       "<Figure size 800x800 with 1 Axes>"
      ]
     },
     "metadata": {},
     "output_type": "display_data"
    }
   ],
   "source": [
    "plt.figure(\n",
    "    figsize=(8,8)\n",
    ")\n",
    "plt.hist(news_df['sentiment'], bins=20, color='skyblue')\n",
    "plt.title('Distribuição do Sentimento das Notícias de Bitcoin')\n",
    "plt.xlabel('Polaridade')\n",
    "plt.ylabel('Número de Notícias')\n",
    "plt.grid(True)\n",
    "plt.show()"
   ]
  },
  {
   "cell_type": "code",
   "execution_count": 11,
   "id": "41868bbe-9420-4b0d-81b3-4e118008a792",
   "metadata": {},
   "outputs": [
    {
     "name": "stderr",
     "output_type": "stream",
     "text": [
      "C:\\Users\\FilipeQueirozdeAbreu\\AppData\\Local\\Temp\\ipykernel_19460\\2192983441.py:3: UserWarning: \n",
      "\n",
      "`distplot` is a deprecated function and will be removed in seaborn v0.14.0.\n",
      "\n",
      "Please adapt your code to use either `displot` (a figure-level function with\n",
      "similar flexibility) or `histplot` (an axes-level function for histograms).\n",
      "\n",
      "For a guide to updating your code to use the new functions, please see\n",
      "https://gist.github.com/mwaskom/de44147ed2974457ad6372750bbe5751\n",
      "\n",
      "  sns.distplot(\n"
     ]
    },
    {
     "data": {
      "text/plain": [
       "<Axes: xlabel='sentiment', ylabel='Density'>"
      ]
     },
     "execution_count": 11,
     "metadata": {},
     "output_type": "execute_result"
    },
    {
     "data": {
      "image/png": "[encoded data removed]",
      "text/plain": [
       "<Figure size 640x480 with 1 Axes>"
      ]
     },
     "metadata": {},
     "output_type": "display_data"
    }
   ],
   "source": [
    "import seaborn as sns\n",
    "\n",
    "sns.distplot(\n",
    "    news_df['sentiment']\n",
    ")"
   ]
  },
  {
   "cell_type": "markdown",
   "id": "dd202b02-9c99-4ec2-93c1-2f4a0ccf08be",
   "metadata": {},
   "source": [
    "## Noticias em português"
   ]
  },
  {
   "cell_type": "code",
   "execution_count": 74,
   "id": "c9ab90ae-9446-480d-be3d-ef22e467274f",
   "metadata": {},
   "outputs": [
    {
     "data": {
      "text/html": [
       "<div>\n",
       "<style scoped>\n",
       "    .dataframe tbody tr th:only-of-type {\n",
       "        vertical-align: middle;\n",
       "    }\n",
       "\n",
       "    .dataframe tbody tr th {\n",
       "        vertical-align: top;\n",
       "    }\n",
       "\n",
       "    .dataframe thead th {\n",
       "        text-align: right;\n",
       "    }\n",
       "</style>\n",
       "<table border=\"1\" class=\"dataframe\">\n",
       "  <thead>\n",
       "    <tr style=\"text-align: right;\">\n",
       "      <th></th>\n",
       "      <th>title</th>\n",
       "      <th>description</th>\n",
       "      <th>publishedAt</th>\n",
       "    </tr>\n",
       "  </thead>\n",
       "  <tbody>\n",
       "    <tr>\n",
       "      <th>0</th>\n",
       "      <td>Minerar bitcoin já não é rentável</td>\n",
       "      <td>Aumento na dificuldade do processo matemático ...</td>\n",
       "      <td>2025-06-16T15:00:01Z</td>\n",
       "    </tr>\n",
       "    <tr>\n",
       "      <th>1</th>\n",
       "      <td>Bitcoin sobe e tenta recuperação depois de que...</td>\n",
       "      <td>Criptomoedas deixam geopolítica de lado e come...</td>\n",
       "      <td>2025-06-16T13:46:33Z</td>\n",
       "    </tr>\n",
       "    <tr>\n",
       "      <th>2</th>\n",
       "      <td>Veja análise do Ibov, S&amp;P 500, Nasdaq, dólar e...</td>\n",
       "      <td>Decisão da Selic, juros nos EUA e dados econôm...</td>\n",
       "      <td>2025-06-16T10:51:45Z</td>\n",
       "    </tr>\n",
       "    <tr>\n",
       "      <th>3</th>\n",
       "      <td>Day Trade hoje: o que esperar dos minicontrato...</td>\n",
       "      <td>Confira os pontos de suporte e resistência do ...</td>\n",
       "      <td>2025-06-16T10:25:30Z</td>\n",
       "    </tr>\n",
       "    <tr>\n",
       "      <th>4</th>\n",
       "      <td>Dow Jones Futuro se recupera mesmo com escalad...</td>\n",
       "      <td>Ataques continuaram ao longo do fim de semana,...</td>\n",
       "      <td>2025-06-16T08:36:21Z</td>\n",
       "    </tr>\n",
       "  </tbody>\n",
       "</table>\n",
       "</div>"
      ],
      "text/plain": [
       "                                               title  \\\n",
       "0                  Minerar bitcoin já não é rentável   \n",
       "1  Bitcoin sobe e tenta recuperação depois de que...   \n",
       "2  Veja análise do Ibov, S&P 500, Nasdaq, dólar e...   \n",
       "3  Day Trade hoje: o que esperar dos minicontrato...   \n",
       "4  Dow Jones Futuro se recupera mesmo com escalad...   \n",
       "\n",
       "                                         description           publishedAt  \n",
       "0  Aumento na dificuldade do processo matemático ...  2025-06-16T15:00:01Z  \n",
       "1  Criptomoedas deixam geopolítica de lado e come...  2025-06-16T13:46:33Z  \n",
       "2  Decisão da Selic, juros nos EUA e dados econôm...  2025-06-16T10:51:45Z  \n",
       "3  Confira os pontos de suporte e resistência do ...  2025-06-16T10:25:30Z  \n",
       "4  Ataques continuaram ao longo do fim de semana,...  2025-06-16T08:36:21Z  "
      ]
     },
     "execution_count": 74,
     "metadata": {},
     "output_type": "execute_result"
    }
   ],
   "source": [
    "load_dotenv() \n",
    "\n",
    "url = ('https://newsapi.org/v2/everything?'\n",
    "       'q=bitcoin&'\n",
    "       'language=pt&'\n",
    "       'sortBy=publishedAt&'\n",
    "       f'apiKey={os.getenv(\"NEWSAPIKEY\")}')\n",
    "\n",
    "response = requests.get(url)\n",
    "data = response.json()\n",
    "\n",
    "\n",
    "articles = data['articles']\n",
    "news_df = pd.DataFrame([{\n",
    "    'title': article['title'],\n",
    "    'description': article['description'],\n",
    "    'publishedAt': article['publishedAt']  # Adicionado campo de data\n",
    "} for article in articles])\n",
    "\n",
    "news_df.head(5)\n"
   ]
  },
  {
   "cell_type": "code",
   "execution_count": 80,
   "id": "d6a3645f-6695-4ff9-94be-4588aed1e821",
   "metadata": {},
   "outputs": [
    {
     "name": "stdout",
     "output_type": "stream",
     "text": [
      "<class 'pandas.core.frame.DataFrame'>\n",
      "RangeIndex: 83 entries, 0 to 82\n",
      "Data columns (total 3 columns):\n",
      " #   Column       Non-Null Count  Dtype \n",
      "---  ------       --------------  ----- \n",
      " 0   title        82 non-null     object\n",
      " 1   description  83 non-null     object\n",
      " 2   publishedAt  83 non-null     object\n",
      "dtypes: object(3)\n",
      "memory usage: 2.1+ KB\n"
     ]
    }
   ],
   "source": [
    "news_df.info()\n",
    "\n",
    "#O campo data nao veio já no formato data"
   ]
  },
  {
   "cell_type": "code",
   "execution_count": 103,
   "id": "1db122fb-f9b8-41b9-afb9-5c87b2a3b5eb",
   "metadata": {},
   "outputs": [
    {
     "data": {
      "text/plain": [
       "0     2025-06-16\n",
       "1     2025-06-16\n",
       "2     2025-06-16\n",
       "3     2025-06-16\n",
       "4     2025-06-16\n",
       "         ...    \n",
       "78    2025-06-05\n",
       "79    2025-06-05\n",
       "80    2025-06-05\n",
       "81    2025-06-05\n",
       "82    2025-06-04\n",
       "Name: publishedAt, Length: 83, dtype: object"
      ]
     },
     "execution_count": 103,
     "metadata": {},
     "output_type": "execute_result"
    }
   ],
   "source": [
    "#Esse codigo divide o texto de cada célula em duas partes\n",
    "#Uma parte antes do T e outra apos o T\n",
    "#Logo apos em seleciono apenas a parte que vem antes do T, assim eu prodronizo a data para algo mais amigavel\n",
    "news_df['publishedAt'] =  news_df['publishedAt'].apply(\n",
    "        lambda x: x.split('T')[0]\n",
    "    )\n",
    "\n",
    "news_df['publishedAt']"
   ]
  },
  {
   "cell_type": "code",
   "execution_count": 109,
   "id": "11291c58-82bd-4741-9412-46dbac15f595",
   "metadata": {},
   "outputs": [
    {
     "name": "stdout",
     "output_type": "stream",
     "text": [
      "<class 'pandas.core.frame.DataFrame'>\n",
      "RangeIndex: 83 entries, 0 to 82\n",
      "Data columns (total 3 columns):\n",
      " #   Column       Non-Null Count  Dtype         \n",
      "---  ------       --------------  -----         \n",
      " 0   title        82 non-null     object        \n",
      " 1   description  83 non-null     object        \n",
      " 2   publishedAt  83 non-null     datetime64[ns]\n",
      "dtypes: datetime64[ns](1), object(2)\n",
      "memory usage: 2.1+ KB\n"
     ]
    }
   ],
   "source": [
    "#Aqui eu converto o tipo do campo para dateime\n",
    "news_df['publishedAt'] = pd.to_datetime(news_df['publishedAt'])\n",
    "news_df.info()"
   ]
  },
  {
   "cell_type": "code",
   "execution_count": 111,
   "id": "031734db-3fab-4152-9dc9-293a42187475",
   "metadata": {},
   "outputs": [
    {
     "data": {
      "image/png": "[encoded data removed]",
      "text/plain": [
       "<Figure size 800x800 with 1 Axes>"
      ]
     },
     "metadata": {},
     "output_type": "display_data"
    }
   ],
   "source": [
    "#utilizo a função que foi criada anteriormente para calcular a polaridade das noticias\n",
    "news_df['sentiment'] = news_df['description'].apply(get_sentiment)\n",
    "\n",
    "#ploto o grafico novamente\n",
    "plt.figure(\n",
    "    figsize=(8,8)\n",
    ")\n",
    "plt.hist(news_df['sentiment'], bins=20, color='skyblue')\n",
    "plt.title('Distribuição do Sentimento das Notícias de Bitcoin')\n",
    "plt.xlabel('Polaridade')\n",
    "plt.ylabel('Número de Notícias')\n",
    "plt.grid(True)\n",
    "plt.show()\n"
   ]
  },
  {
   "cell_type": "markdown",
   "id": "62c6ff9b-d970-430a-be86-0b3c568fb231",
   "metadata": {},
   "source": [
    "Aqui é intesssante notar como as noticas em portugues para ser mais otimistas do que as notificas em ingles\n",
    "Isso me deu a idea de colocar o gráfico de cada um lado a lado para poder ver essa comparação melhor"
   ]
  },
  {
   "cell_type": "code",
   "execution_count": 126,
   "id": "06b1cc4b-2c43-461f-9f4b-be89791cb0e8",
   "metadata": {},
   "outputs": [
    {
     "data": {
      "image/png": "[encoded data removed]",
      "text/plain": [
       "<Figure size 1200x400 with 2 Axes>"
      ]
     },
     "metadata": {},
     "output_type": "display_data"
    }
   ],
   "source": [
    "\n",
    "#ingles\n",
    "url_en = ('https://newsapi.org/v2/everything?'\n",
    "       'q=bitcoin&'\n",
    "       'language=en&'\n",
    "       'sortBy=publishedAt&'\n",
    "       f'apiKey={os.getenv('NEWSAPIKEY')}')\n",
    "\n",
    "#portugues\n",
    "url_pt = ('https://newsapi.org/v2/everything?'\n",
    "       'q=bitcoin&'\n",
    "       'language=pt&'\n",
    "       'sortBy=publishedAt&'\n",
    "       f'apiKey={os.getenv('NEWSAPIKEY')}')\n",
    "\n",
    "response_en = requests.get(url_en)\n",
    "response_pt = requests.get(url_pt)\n",
    "data_en = response_en.json()\n",
    "data_pt = response_pt.json()\n",
    "\n",
    "\n",
    "articles_en = data_en['articles']\n",
    "news_df_en = pd.DataFrame([{\n",
    "    'title': article['title'],\n",
    "    'description': article['description']\n",
    "} for article in articles_en])\n",
    "\n",
    "articles_pt = data_pt['articles']\n",
    "news_df_pt = pd.DataFrame([{\n",
    "    'title': article['title'],\n",
    "    'description': article['description']\n",
    "} for article in articles_pt])\n",
    "\n",
    "\n",
    "news_df_en['sentiment'] = news_df_en['description'].apply(get_sentiment)\n",
    "news_df_pt['sentiment'] = news_df_pt['description'].apply(get_sentiment)\n",
    "\n",
    "fig, axs = plt.subplots(1, 2, figsize=(12, 4))  # 1 linha, 2 colunas\n",
    "\n",
    "# Primeiro gráfico\n",
    "axs[0].hist(news_df_pt['sentiment'], bins=20, color='skyblue')\n",
    "axs[0].set_title('Sentimento do mercado - Notificas em portugues')\n",
    "\n",
    "# Segundo gráfico\n",
    "axs[1].hist(news_df_en['sentiment'], bins=20, color='skyblue')\n",
    "axs[1].set_title('Sentimento do mercado - Notificas em inglês')\n",
    "\n",
    "\n",
    "\n",
    "plt.show()"
   ]
  }
 ],
 "metadata": {
  "kernelspec": {
   "display_name": "Python 3 (ipykernel)",
   "language": "python",
   "name": "python3"
  },
  "language_info": {
   "codemirror_mode": {
    "name": "ipython",
    "version": 3
   },
   "file_extension": ".py",
   "mimetype": "text/x-python",
   "name": "python",
   "nbconvert_exporter": "python",
   "pygments_lexer": "ipython3",
   "version": "3.12.7"
  }
 },
 "nbformat": 4,
 "nbformat_minor": 5
}
