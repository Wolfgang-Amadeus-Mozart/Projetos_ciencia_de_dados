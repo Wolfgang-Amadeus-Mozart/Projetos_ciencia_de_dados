{
 "cells": [
  {
   "cell_type": "code",
   "execution_count": 43,
   "id": "5ef6f79e-2665-443c-a64b-ced29a700908",
   "metadata": {},
   "outputs": [
    {
     "name": "stdout",
     "output_type": "stream",
     "text": [
      "Requirement already satisfied: python-dotenv in c:\\users\\filipequeirozdeabreu\\anaconda3\\lib\\site-packages (0.21.0)\n"
     ]
    }
   ],
   "source": [
    "!pip install python-dotenv"
   ]
  },
  {
   "cell_type": "code",
   "execution_count": 81,
   "id": "d1b8f612-e0fb-4bf5-bc3b-aafd97963500",
   "metadata": {},
   "outputs": [],
   "source": [
    "import requests\n",
    "import pandas as pd\n",
    "import pyodbc\n",
    "from datetime import datetime\n",
    "from pegar_historico import pegar_historico\n",
    "from dotenv import load_dotenv\n",
    "import os\n",
    "import urllib.parse"
   ]
  },
  {
   "cell_type": "code",
   "execution_count": 39,
   "id": "08d3eeae-daf4-42db-bb1b-38a44e32fb94",
   "metadata": {},
   "outputs": [
    {
     "data": {
      "text/html": [
       "<div>\n",
       "<style scoped>\n",
       "    .dataframe tbody tr th:only-of-type {\n",
       "        vertical-align: middle;\n",
       "    }\n",
       "\n",
       "    .dataframe tbody tr th {\n",
       "        vertical-align: top;\n",
       "    }\n",
       "\n",
       "    .dataframe thead th {\n",
       "        text-align: right;\n",
       "    }\n",
       "</style>\n",
       "<table border=\"1\" class=\"dataframe\">\n",
       "  <thead>\n",
       "    <tr style=\"text-align: right;\">\n",
       "      <th></th>\n",
       "      <th>timestamp</th>\n",
       "      <th>open</th>\n",
       "      <th>low</th>\n",
       "      <th>high</th>\n",
       "      <th>close</th>\n",
       "      <th>volume</th>\n",
       "    </tr>\n",
       "  </thead>\n",
       "  <tbody>\n",
       "    <tr>\n",
       "      <th>0</th>\n",
       "      <td>2025-01-01</td>\n",
       "      <td>583135.0</td>\n",
       "      <td>579057.0</td>\n",
       "      <td>591233.0</td>\n",
       "      <td>588693.0</td>\n",
       "      <td>72.14957</td>\n",
       "    </tr>\n",
       "    <tr>\n",
       "      <th>1</th>\n",
       "      <td>2025-01-02</td>\n",
       "      <td>588635.0</td>\n",
       "      <td>587263.0</td>\n",
       "      <td>607111.0</td>\n",
       "      <td>599306.0</td>\n",
       "      <td>166.56756</td>\n",
       "    </tr>\n",
       "    <tr>\n",
       "      <th>2</th>\n",
       "      <td>2025-01-03</td>\n",
       "      <td>599363.0</td>\n",
       "      <td>594140.0</td>\n",
       "      <td>613793.0</td>\n",
       "      <td>607582.0</td>\n",
       "      <td>128.54397</td>\n",
       "    </tr>\n",
       "    <tr>\n",
       "      <th>3</th>\n",
       "      <td>2025-01-04</td>\n",
       "      <td>607593.0</td>\n",
       "      <td>604369.0</td>\n",
       "      <td>612902.0</td>\n",
       "      <td>609413.0</td>\n",
       "      <td>64.64526</td>\n",
       "    </tr>\n",
       "    <tr>\n",
       "      <th>4</th>\n",
       "      <td>2025-01-05</td>\n",
       "      <td>609412.0</td>\n",
       "      <td>604300.0</td>\n",
       "      <td>613000.0</td>\n",
       "      <td>611273.0</td>\n",
       "      <td>58.20556</td>\n",
       "    </tr>\n",
       "  </tbody>\n",
       "</table>\n",
       "</div>"
      ],
      "text/plain": [
       "   timestamp      open       low      high     close     volume\n",
       "0 2025-01-01  583135.0  579057.0  591233.0  588693.0   72.14957\n",
       "1 2025-01-02  588635.0  587263.0  607111.0  599306.0  166.56756\n",
       "2 2025-01-03  599363.0  594140.0  613793.0  607582.0  128.54397\n",
       "3 2025-01-04  607593.0  604369.0  612902.0  609413.0   64.64526\n",
       "4 2025-01-05  609412.0  604300.0  613000.0  611273.0   58.20556"
      ]
     },
     "execution_count": 39,
     "metadata": {},
     "output_type": "execute_result"
    }
   ],
   "source": [
    "par = \"BTCBRL\"\n",
    "intervalo = \"1d\"\n",
    "data_inicio = \"1 Jan 2025\"\n",
    "\n",
    "df_btcbrl = pegar_historico(\n",
    "        par,\n",
    "        intervalo,\n",
    "        data_inicio\n",
    "    )\n",
    "\n",
    "#filtrado as colunas\n",
    "df_btcbrl = df_btcbrl[\n",
    "    ['timestamp','open','low','high','close','volume']\n",
    "]\n",
    "\n",
    "df_btcbrl.head(5)"
   ]
  },
  {
   "cell_type": "code",
   "execution_count": 93,
   "id": "ba9ead7e-ae1a-4883-a1af-335ed38b1199",
   "metadata": {},
   "outputs": [],
   "source": [
    "#for _, row in df_btcbrl.iterrows():\n",
    "    #print(row['close'])"
   ]
  },
  {
   "cell_type": "code",
   "execution_count": 67,
   "id": "bb27a704-19e1-41e3-a5d2-80618b6ef3d5",
   "metadata": {},
   "outputs": [
    {
     "ename": "OperationalError",
     "evalue": "connection to server at \"bitcoin-etl.cdemwvigpaz4.us-east-1.rds.amazonaws.com\" (52.201.94.121), port 1433 failed: server closed the connection unexpectedly\n\tThis probably means the server terminated abnormally\n\tbefore or while processing the request.\n",
     "output_type": "error",
     "traceback": [
      "\u001b[1;31m---------------------------------------------------------------------------\u001b[0m",
      "\u001b[1;31mOperationalError\u001b[0m                          Traceback (most recent call last)",
      "Cell \u001b[1;32mIn[67], line 3\u001b[0m\n\u001b[0;32m      1\u001b[0m load_dotenv()  \u001b[38;5;66;03m# Carrega variáveis do .env\u001b[39;00m\n\u001b[1;32m----> 3\u001b[0m conn \u001b[38;5;241m=\u001b[39m psycopg2\u001b[38;5;241m.\u001b[39mconnect(\n\u001b[0;32m      4\u001b[0m     host\u001b[38;5;241m=\u001b[39mos\u001b[38;5;241m.\u001b[39mgetenv(\u001b[38;5;124m'\u001b[39m\u001b[38;5;124mDB_HOST\u001b[39m\u001b[38;5;124m'\u001b[39m),\n\u001b[0;32m      5\u001b[0m     database\u001b[38;5;241m=\u001b[39mos\u001b[38;5;241m.\u001b[39mgetenv(\u001b[38;5;124m'\u001b[39m\u001b[38;5;124mDB_NAME\u001b[39m\u001b[38;5;124m'\u001b[39m),\n\u001b[0;32m      6\u001b[0m     user\u001b[38;5;241m=\u001b[39mos\u001b[38;5;241m.\u001b[39mgetenv(\u001b[38;5;124m'\u001b[39m\u001b[38;5;124mDB_USER\u001b[39m\u001b[38;5;124m'\u001b[39m),\n\u001b[0;32m      7\u001b[0m     password\u001b[38;5;241m=\u001b[39mos\u001b[38;5;241m.\u001b[39mgetenv(\u001b[38;5;124m'\u001b[39m\u001b[38;5;124mDB_PASSWORD\u001b[39m\u001b[38;5;124m'\u001b[39m),\n\u001b[0;32m      8\u001b[0m     port\u001b[38;5;241m=\u001b[39mos\u001b[38;5;241m.\u001b[39mgetenv(\u001b[38;5;124m'\u001b[39m\u001b[38;5;124mDB_PORT\u001b[39m\u001b[38;5;124m'\u001b[39m)\n\u001b[0;32m      9\u001b[0m )\n",
      "File \u001b[1;32m~\\anaconda3\\Lib\\site-packages\\psycopg2\\__init__.py:122\u001b[0m, in \u001b[0;36mconnect\u001b[1;34m(dsn, connection_factory, cursor_factory, **kwargs)\u001b[0m\n\u001b[0;32m    119\u001b[0m     kwasync[\u001b[38;5;124m'\u001b[39m\u001b[38;5;124masync_\u001b[39m\u001b[38;5;124m'\u001b[39m] \u001b[38;5;241m=\u001b[39m kwargs\u001b[38;5;241m.\u001b[39mpop(\u001b[38;5;124m'\u001b[39m\u001b[38;5;124masync_\u001b[39m\u001b[38;5;124m'\u001b[39m)\n\u001b[0;32m    121\u001b[0m dsn \u001b[38;5;241m=\u001b[39m _ext\u001b[38;5;241m.\u001b[39mmake_dsn(dsn, \u001b[38;5;241m*\u001b[39m\u001b[38;5;241m*\u001b[39mkwargs)\n\u001b[1;32m--> 122\u001b[0m conn \u001b[38;5;241m=\u001b[39m _connect(dsn, connection_factory\u001b[38;5;241m=\u001b[39mconnection_factory, \u001b[38;5;241m*\u001b[39m\u001b[38;5;241m*\u001b[39mkwasync)\n\u001b[0;32m    123\u001b[0m \u001b[38;5;28;01mif\u001b[39;00m cursor_factory \u001b[38;5;129;01mis\u001b[39;00m \u001b[38;5;129;01mnot\u001b[39;00m \u001b[38;5;28;01mNone\u001b[39;00m:\n\u001b[0;32m    124\u001b[0m     conn\u001b[38;5;241m.\u001b[39mcursor_factory \u001b[38;5;241m=\u001b[39m cursor_factory\n",
      "\u001b[1;31mOperationalError\u001b[0m: connection to server at \"bitcoin-etl.cdemwvigpaz4.us-east-1.rds.amazonaws.com\" (52.201.94.121), port 1433 failed: server closed the connection unexpectedly\n\tThis probably means the server terminated abnormally\n\tbefore or while processing the request.\n"
     ]
    }
   ],
   "source": [
    "load_dotenv()  # Carrega variáveis do .env\n",
    "\n",
    "conn = psycopg2.connect(\n",
    "    host=os.getenv('DB_HOST'),\n",
    "    database=os.getenv('DB_NAME'),\n",
    "    user=os.getenv('DB_USER'),\n",
    "    password=os.getenv('DB_PASSWORD'),\n",
    "    port=os.getenv('DB_PORT')\n",
    ")\n"
   ]
  },
  {
   "cell_type": "code",
   "execution_count": 129,
   "id": "5708b2ac-a8c6-45b3-8567-786ec7cd8b5b",
   "metadata": {},
   "outputs": [
    {
     "ename": "InterfaceError",
     "evalue": "('28000', '[28000] [Microsoft][ODBC Driver 18 for SQL Server][SQL Server]Login failed for user \\'filipe\\'. (18456) (SQLDriverConnect); [28000] [Microsoft][ODBC Driver 18 for SQL Server][SQL Server]Cannot open database \"bitcoin_etl\" requested by the login. The login failed. (4060); [28000] [Microsoft][ODBC Driver 18 for SQL Server][SQL Server]Login failed for user \\'filipe\\'. (18456); [28000] [Microsoft][ODBC Driver 18 for SQL Server][SQL Server]Cannot open database \"bitcoin_etl\" requested by the login. The login failed. (4060)')",
     "output_type": "error",
     "traceback": [
      "\u001b[1;31m---------------------------------------------------------------------------\u001b[0m",
      "\u001b[1;31mInterfaceError\u001b[0m                            Traceback (most recent call last)",
      "Cell \u001b[1;32mIn[129], line 17\u001b[0m\n\u001b[0;32m      5\u001b[0m password_encoded \u001b[38;5;241m=\u001b[39m urllib\u001b[38;5;241m.\u001b[39mparse\u001b[38;5;241m.\u001b[39mquote_plus(os\u001b[38;5;241m.\u001b[39mgetenv(\u001b[38;5;124m'\u001b[39m\u001b[38;5;124mDB_PASSWORD\u001b[39m\u001b[38;5;124m'\u001b[39m))\n\u001b[0;32m      7\u001b[0m connection_string \u001b[38;5;241m=\u001b[39m \u001b[38;5;124mf\u001b[39m\u001b[38;5;124m\"\"\"\u001b[39m\n\u001b[0;32m      8\u001b[0m \u001b[38;5;124m    DRIVER=\u001b[39m\u001b[38;5;130;01m{{\u001b[39;00m\u001b[38;5;124mODBC Driver 18 for SQL Server\u001b[39m\u001b[38;5;130;01m}}\u001b[39;00m\u001b[38;5;124m;\u001b[39m\n\u001b[0;32m      9\u001b[0m \u001b[38;5;124m    SERVER=\u001b[39m\u001b[38;5;132;01m{\u001b[39;00mos\u001b[38;5;241m.\u001b[39mgetenv(\u001b[38;5;124m'\u001b[39m\u001b[38;5;124mDB_HOST\u001b[39m\u001b[38;5;124m'\u001b[39m)\u001b[38;5;132;01m}\u001b[39;00m\u001b[38;5;124m,\u001b[39m\u001b[38;5;132;01m{\u001b[39;00mos\u001b[38;5;241m.\u001b[39mgetenv(\u001b[38;5;124m'\u001b[39m\u001b[38;5;124mDB_PORT\u001b[39m\u001b[38;5;124m'\u001b[39m)\u001b[38;5;132;01m}\u001b[39;00m\u001b[38;5;124m;\u001b[39m\n\u001b[1;32m   (...)\u001b[0m\n\u001b[0;32m     14\u001b[0m \u001b[38;5;124m    TrustServerCertificate=yes;\u001b[39m\n\u001b[0;32m     15\u001b[0m \u001b[38;5;124m\"\"\"\u001b[39m\n\u001b[1;32m---> 17\u001b[0m conn \u001b[38;5;241m=\u001b[39m pyodbc\u001b[38;5;241m.\u001b[39mconnect(connection_string)\n\u001b[0;32m     19\u001b[0m query \u001b[38;5;241m=\u001b[39m \u001b[38;5;124m\"\u001b[39m\u001b[38;5;124mSELECT * FROM bitcoin_data\u001b[39m\u001b[38;5;124m\"\u001b[39m\n\u001b[0;32m     20\u001b[0m df \u001b[38;5;241m=\u001b[39m pd\u001b[38;5;241m.\u001b[39mread_sql(query, conn)\n",
      "\u001b[1;31mInterfaceError\u001b[0m: ('28000', '[28000] [Microsoft][ODBC Driver 18 for SQL Server][SQL Server]Login failed for user \\'filipe\\'. (18456) (SQLDriverConnect); [28000] [Microsoft][ODBC Driver 18 for SQL Server][SQL Server]Cannot open database \"bitcoin_etl\" requested by the login. The login failed. (4060); [28000] [Microsoft][ODBC Driver 18 for SQL Server][SQL Server]Login failed for user \\'filipe\\'. (18456); [28000] [Microsoft][ODBC Driver 18 for SQL Server][SQL Server]Cannot open database \"bitcoin_etl\" requested by the login. The login failed. (4060)')"
     ]
    }
   ],
   "source": [
    "#tetanddo com pyodbc\n",
    "#Encrypt=yes;\n",
    "#TrustServerCertificate=no;\n",
    "\n",
    "password_encoded = urllib.parse.quote_plus(os.getenv('DB_PASSWORD'))\n",
    "\n",
    "connection_string = f\"\"\"\n",
    "    DRIVER={{ODBC Driver 18 for SQL Server}};\n",
    "    SERVER={os.getenv('DB_HOST')},{os.getenv('DB_PORT')};\n",
    "    DATABASE={os.getenv('DB_NAME')};\n",
    "    UID={os.getenv('DB_USER')};\n",
    "    PWD={os.getenv(\"DB_PASSWORD\")};\n",
    "    Encrypt=yes;\n",
    "    TrustServerCertificate=yes;\n",
    "\"\"\"\n",
    "\n",
    "conn = pyodbc.connect(connection_string)\n",
    "\n",
    "query = \"SELECT * FROM bitcoin_data\"\n",
    "df = pd.read_sql(query, conn)"
   ]
  },
  {
   "cell_type": "code",
   "execution_count": 107,
   "id": "bb70339b-8ef8-40f0-ab4f-cbfaae3c994b",
   "metadata": {},
   "outputs": [
    {
     "name": "stdout",
     "output_type": "stream",
     "text": [
      "🔄 Conectando com pymssql...\n",
      "❌ Erro pymssql: (18456, b'DB-Lib error message 20018, severity 11:\\nGeneral SQL Server error: Check messages from the SQL Server\\nDB-Lib error message 20018, severity 14:\\nGeneral SQL Server error: Check messages from the SQL Server\\nDB-Lib error message 20002, severity 9:\\nAdaptive Server connection failed (bitcoin-etl.cdemwvigpaz4.us-east-1.rds.amazonaws.com)\\nDB-Lib error message 20002, severity 9:\\nAdaptive Server connection failed (bitcoin-etl.cdemwvigpaz4.us-east-1.rds.amazonaws.com)\\n')\n",
      "\n",
      "💡 Verifique:\n",
      "1. Se a instância RDS está rodando\n",
      "2. Se o Security Group permite porta 1433\n",
      "3. Se as credenciais estão corretas\n"
     ]
    }
   ],
   "source": [
    "import pymssql\n",
    "import pandas as pd\n",
    "import os\n",
    "\n",
    "# Configuração com pymssql (mais simples que pyodbc)\n",
    "try:\n",
    "    print(\"🔄 Conectando com pymssql...\")\n",
    "    \n",
    "    conn = pymssql.connect(\n",
    "        server=os.getenv('DB_HOST'),\n",
    "        user=os.getenv('DB_USER'),\n",
    "        password=os.getenv('DB_PASSWORD'),\n",
    "        database=os.getenv('DB_NAME'),\n",
    "        port=os.getenv('DB_PORT'),\n",
    "        timeout=30,\n",
    "        login_timeout=30\n",
    "    )\n",
    "    \n",
    "    print(\"✅ Conexão pymssql estabelecida!\")\n",
    "    \n",
    "    # Consultar dados\n",
    "    df = pd.read_sql(\"SELECT * FROM bitcoin_data\", conn)\n",
    "    \n",
    "    print(f\"📊 Total de registros: {len(df)}\")\n",
    "    print(f\"📋 Colunas: {list(df.columns)}\")\n",
    "    print(\"\\n🔍 Primeiros 5 registros:\")\n",
    "    print(df.head())\n",
    "    \n",
    "    # Estatísticas básicas\n",
    "    print(f\"\\n📏 Shape: {df.shape}\")\n",
    "    print(\"🔢 Tipos de dados:\")\n",
    "    print(df.dtypes)\n",
    "    \n",
    "except Exception as e:\n",
    "    print(f\"❌ Erro pymssql: {e}\")\n",
    "    print(\"\\n💡 Verifique:\")\n",
    "    print(\"1. Se a instância RDS está rodando\")\n",
    "    print(\"2. Se o Security Group permite porta 1433\")\n",
    "    print(\"3. Se as credenciais estão corretas\")\n",
    "    \n",
    "finally:\n",
    "    if 'conn' in locals():\n",
    "        conn.close()\n",
    "        print(\"🔒 Conexão fechada.\")\n",
    "\n",
    "# Função reutilizável para consultas\n",
    "def query_bitcoin_data(sql_query):\n",
    "    \"\"\"Executa uma consulta SQL e retorna DataFrame\"\"\"\n",
    "    try:\n",
    "        conn = pymssql.connect(\n",
    "            server=os.getenv('DB_HOST'),\n",
    "            user=os.getenv('DB_USER'), \n",
    "            password=os.getenv('DB_PASSWORD'),\n",
    "            database=os.getenv('DB_NAME'),\n",
    "            port=int(os.getenv('DB_PORT', '1433'))\n",
    "        )\n",
    "        \n",
    "        df = pd.read_sql(sql_query, conn)\n",
    "        conn.close()\n",
    "        return df\n",
    "        \n",
    "    except Exception as e:\n",
    "        print(f\"Erro na consulta: {e}\")\n",
    "        return None\n",
    "\n",
    "# Exemplo de uso da função\n",
    "# df = query_bitcoin_data(\"SELECT TOP 10 * FROM bitcoin_data ORDER BY timestamp DESC\")"
   ]
  },
  {
   "cell_type": "code",
   "execution_count": 91,
   "id": "59e29959-b139-4ad1-bbcc-1a99b70025ce",
   "metadata": {},
   "outputs": [
    {
     "name": "stdout",
     "output_type": "stream",
     "text": [
      "Drivers ODBC disponíveis:\n",
      "  - SQL Server\n",
      "  - SQL Server Native Client 11.0\n",
      "  - ODBC Driver 11 for SQL Server\n",
      "  - ODBC Driver 18 for SQL Server\n",
      "  - Microsoft Access Driver (*.mdb, *.accdb)\n",
      "  - Microsoft Excel Driver (*.xls, *.xlsx, *.xlsm, *.xlsb)\n",
      "  - Microsoft Access Text Driver (*.txt, *.csv)\n",
      "  - Microsoft Access dBASE Driver (*.dbf, *.ndx, *.mdx)\n",
      "\n",
      "Drivers do SQL Server encontrados: 4\n",
      "  - SQL Server\n",
      "  - SQL Server Native Client 11.0\n",
      "  - ODBC Driver 11 for SQL Server\n",
      "  - ODBC Driver 18 for SQL Server\n",
      "\n",
      "✅ Use um destes drivers na connection string: SQL Server\n"
     ]
    }
   ],
   "source": [
    "# Verificar todos os drivers ODBC disponíveis\n",
    "print(\"Drivers ODBC disponíveis:\")\n",
    "drivers = pyodbc.drivers()\n",
    "for driver in drivers:\n",
    "    print(f\"  - {driver}\")\n",
    "\n",
    "# Verificar especificamente drivers do SQL Server\n",
    "sql_server_drivers = [d for d in drivers if 'SQL Server' in d]\n",
    "print(f\"\\nDrivers do SQL Server encontrados: {len(sql_server_drivers)}\")\n",
    "for driver in sql_server_drivers:\n",
    "    print(f\"  - {driver}\")\n",
    "\n",
    "if not sql_server_drivers:\n",
    "    print(\"\\n❌ Nenhum driver do SQL Server encontrado!\")\n",
    "    print(\"Você precisa instalar o driver ODBC do SQL Server.\")\n",
    "else:\n",
    "    print(f\"\\n✅ Use um destes drivers na connection string: {sql_server_drivers[0]}\")"
   ]
  },
  {
   "cell_type": "code",
   "execution_count": null,
   "id": "a55e5f74-92cc-45a2-a373-3db3a1d4523f",
   "metadata": {},
   "outputs": [],
   "source": [
    "cursor = conn.cursor()\n",
    "\n",
    "cursor.execute(\"\"\"\n",
    "SELECT * FROM bitcoin_data\n",
    "\"\"\")"
   ]
  },
  {
   "cell_type": "code",
   "execution_count": 109,
   "id": "f3ef7aca-1124-42c5-ade1-b59014c6f94b",
   "metadata": {},
   "outputs": [
    {
     "ename": "UnicodeDecodeError",
     "evalue": "'utf-8' codec can't decode byte 0xe3 in position 119: invalid continuation byte",
     "output_type": "error",
     "traceback": [
      "\u001b[1;31m---------------------------------------------------------------------------\u001b[0m",
      "\u001b[1;31mUnicodeDecodeError\u001b[0m                        Traceback (most recent call last)",
      "Cell \u001b[1;32mIn[109], line 1\u001b[0m\n\u001b[1;32m----> 1\u001b[0m conn \u001b[38;5;241m=\u001b[39m psycopg2\u001b[38;5;241m.\u001b[39mconnect(\n\u001b[0;32m      2\u001b[0m     host\u001b[38;5;241m=\u001b[39m\u001b[38;5;124m'\u001b[39m\u001b[38;5;124mbitcoin-etl.cdemwvigpaz4.us-east-1.rds.amazonaws.com.BitCoinETL\u001b[39m\u001b[38;5;124m'\u001b[39m,\n\u001b[0;32m      3\u001b[0m     database\u001b[38;5;241m=\u001b[39m\u001b[38;5;124m'\u001b[39m\u001b[38;5;124mBitCoinETL\u001b[39m\u001b[38;5;124m'\u001b[39m,\n\u001b[0;32m      4\u001b[0m     user\u001b[38;5;241m=\u001b[39m\u001b[38;5;124m'\u001b[39m\u001b[38;5;124mfilipe\u001b[39m\u001b[38;5;124m'\u001b[39m,\n\u001b[0;32m      5\u001b[0m     password\u001b[38;5;241m=\u001b[39m\u001b[38;5;124m'\u001b[39m\u001b[38;5;124m#High!LevelDB\u001b[39m\u001b[38;5;124m'\u001b[39m,\n\u001b[0;32m      6\u001b[0m     port\u001b[38;5;241m=\u001b[39m\u001b[38;5;241m1433\u001b[39m\n\u001b[0;32m      7\u001b[0m )\n\u001b[0;32m      9\u001b[0m cursor \u001b[38;5;241m=\u001b[39m conn\u001b[38;5;241m.\u001b[39mcursor()\n\u001b[0;32m     11\u001b[0m cursor\u001b[38;5;241m.\u001b[39mexecute(\u001b[38;5;124m\"\"\"\u001b[39m\n\u001b[0;32m     12\u001b[0m \u001b[38;5;124mSELECT * FROM bitcoin_data\u001b[39m\n\u001b[0;32m     13\u001b[0m \u001b[38;5;124m\"\"\"\u001b[39m)\n",
      "File \u001b[1;32m~\\anaconda3\\Lib\\site-packages\\psycopg2\\__init__.py:122\u001b[0m, in \u001b[0;36mconnect\u001b[1;34m(dsn, connection_factory, cursor_factory, **kwargs)\u001b[0m\n\u001b[0;32m    119\u001b[0m     kwasync[\u001b[38;5;124m'\u001b[39m\u001b[38;5;124masync_\u001b[39m\u001b[38;5;124m'\u001b[39m] \u001b[38;5;241m=\u001b[39m kwargs\u001b[38;5;241m.\u001b[39mpop(\u001b[38;5;124m'\u001b[39m\u001b[38;5;124masync_\u001b[39m\u001b[38;5;124m'\u001b[39m)\n\u001b[0;32m    121\u001b[0m dsn \u001b[38;5;241m=\u001b[39m _ext\u001b[38;5;241m.\u001b[39mmake_dsn(dsn, \u001b[38;5;241m*\u001b[39m\u001b[38;5;241m*\u001b[39mkwargs)\n\u001b[1;32m--> 122\u001b[0m conn \u001b[38;5;241m=\u001b[39m _connect(dsn, connection_factory\u001b[38;5;241m=\u001b[39mconnection_factory, \u001b[38;5;241m*\u001b[39m\u001b[38;5;241m*\u001b[39mkwasync)\n\u001b[0;32m    123\u001b[0m \u001b[38;5;28;01mif\u001b[39;00m cursor_factory \u001b[38;5;129;01mis\u001b[39;00m \u001b[38;5;129;01mnot\u001b[39;00m \u001b[38;5;28;01mNone\u001b[39;00m:\n\u001b[0;32m    124\u001b[0m     conn\u001b[38;5;241m.\u001b[39mcursor_factory \u001b[38;5;241m=\u001b[39m cursor_factory\n",
      "\u001b[1;31mUnicodeDecodeError\u001b[0m: 'utf-8' codec can't decode byte 0xe3 in position 119: invalid continuation byte"
     ]
    }
   ],
   "source": [
    "conn = psycopg2.connect(\n",
    "    host='bitcoin-etl.cdemwvigpaz4.us-east-1.rds.amazonaws.com.BitCoinETL',\n",
    "    database='BitCoinETL',\n",
    "    user='filipe',\n",
    "    password='#High!LevelDB',\n",
    "    port=1433\n",
    ")\n",
    "\n",
    "cursor = conn.cursor()\n",
    "\n",
    "cursor.execute(\"\"\"\n",
    "SELECT * FROM bitcoin_data\n",
    "\"\"\")"
   ]
  },
  {
   "cell_type": "code",
   "execution_count": 17,
   "id": "22629a34-66fe-4c47-a17e-8d573b2fcf16",
   "metadata": {},
   "outputs": [
    {
     "ename": "NameError",
     "evalue": "name 'conn' is not defined",
     "output_type": "error",
     "traceback": [
      "\u001b[1;31m---------------------------------------------------------------------------\u001b[0m",
      "\u001b[1;31mNameError\u001b[0m                                 Traceback (most recent call last)",
      "Cell \u001b[1;32mIn[17], line 1\u001b[0m\n\u001b[1;32m----> 1\u001b[0m cursor \u001b[38;5;241m=\u001b[39m conn\u001b[38;5;241m.\u001b[39mcursor()\n",
      "\u001b[1;31mNameError\u001b[0m: name 'conn' is not defined"
     ]
    }
   ],
   "source": [
    "cursor = conn.cursor()\n"
   ]
  },
  {
   "cell_type": "code",
   "execution_count": null,
   "id": "90b668a2-35ea-4f32-8bb9-d436d567f29d",
   "metadata": {},
   "outputs": [],
   "source": [
    "cursor = conn.cursor()\n",
    "\n",
    "cursor.execute(\"\"\"\n",
    "CREATE TABLE bitcoin_prices (\n",
    "    id SERIAL PRIMARY KEY,\n",
    "    symbol VARCHAR(10),\n",
    "    timestamp TIMESTAMP,\n",
    "    open DECIMAL(18, 8),\n",
    "    high DECIMAL(18, 8),\n",
    "    low DECIMAL(18, 8),\n",
    "    close DECIMAL(18, 8),\n",
    "    volume DECIMAL(18, 8)\n",
    ");\n",
    "\"\"\")"
   ]
  }
 ],
 "metadata": {
  "kernelspec": {
   "display_name": "Python 3 (ipykernel)",
   "language": "python",
   "name": "python3"
  },
  "language_info": {
   "codemirror_mode": {
    "name": "ipython",
    "version": 3
   },
   "file_extension": ".py",
   "mimetype": "text/x-python",
   "name": "python",
   "nbconvert_exporter": "python",
   "pygments_lexer": "ipython3",
   "version": "3.12.7"
  }
 },
 "nbformat": 4,
 "nbformat_minor": 5
}
