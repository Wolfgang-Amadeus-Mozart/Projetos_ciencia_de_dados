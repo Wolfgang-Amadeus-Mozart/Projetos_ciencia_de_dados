{
 "cells": [
  {
   "cell_type": "markdown",
   "id": "d7138f4d-6f85-443d-b6ff-29dceceaadc8",
   "metadata": {},
   "source": [
    "## Visualização de dados "
   ]
  },
  {
   "cell_type": "markdown",
   "id": "68d9779b-4e46-4f14-afec-eb0795a18c5b",
   "metadata": {},
   "source": [
    "Nesse arquivos iremos trabalhar  visualização de dados com python, através de criação de gráficos utilizando principalemnte a biblioteca matplot entre outras"
   ]
  },
  {
   "cell_type": "code",
   "execution_count": 8,
   "id": "0a0ef179-01e9-4b16-84e8-180481e939bf",
   "metadata": {},
   "outputs": [],
   "source": [
    "from pegar_historico import pegar_historico\n",
    "import pandas as pd\n",
    "import matplotlib.pyplot as plt\n",
    "import plotly.express as px"
   ]
  },
  {
   "cell_type": "code",
   "execution_count": null,
   "id": "4157ff6f-ce48-4ee2-bcae-12f19b4f6e92",
   "metadata": {},
   "outputs": [],
   "source": []
  }
 ],
 "metadata": {
  "kernelspec": {
   "display_name": "Python 3 (ipykernel)",
   "language": "python",
   "name": "python3"
  },
  "language_info": {
   "codemirror_mode": {
    "name": "ipython",
    "version": 3
   },
   "file_extension": ".py",
   "mimetype": "text/x-python",
   "name": "python",
   "nbconvert_exporter": "python",
   "pygments_lexer": "ipython3",
   "version": "3.12.7"
  }
 },
 "nbformat": 4,
 "nbformat_minor": 5
}
