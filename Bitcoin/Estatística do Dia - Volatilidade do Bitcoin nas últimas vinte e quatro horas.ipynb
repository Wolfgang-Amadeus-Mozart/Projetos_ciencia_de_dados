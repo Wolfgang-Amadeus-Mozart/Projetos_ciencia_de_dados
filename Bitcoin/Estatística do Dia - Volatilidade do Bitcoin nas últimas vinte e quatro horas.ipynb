{
 "cells": [
  {
   "cell_type": "markdown",
   "id": "956c9ff2-d9b7-4be5-9825-ef521c7fe703",
   "metadata": {},
   "source": [
    "Aqui iremos fazer uma bre analise da volatividade diaria do bitcoin, ao invez de dados historios de meses ou anos"
   ]
  },
  {
   "cell_type": "code",
   "execution_count": 29,
   "id": "e9409665-2800-4756-b96f-e275662f4ce1",
   "metadata": {},
   "outputs": [],
   "source": [
    "import numpy as np\n",
    "import pandas as pd\n",
    "import matplotlib.pyplot as plt\n",
    "from binance.client import Client"
   ]
  },
  {
   "cell_type": "code",
   "execution_count": 21,
   "id": "5c535e66-731a-4059-9360-ddfca3b083fb",
   "metadata": {},
   "outputs": [],
   "source": [
    "\n",
    "client = Client()\n",
    "\n",
    "klines = client.get_klines(symbol='BTCBRL', interval=Client.KLINE_INTERVAL_1HOUR, limit=24)\n",
    "prices = [float(k[4]) for k in klines]\n",
    "prices = [float(k[4]) for k in klines]  # preço de fechamento de cada hora\n",
    "#O \"float\" servce para converter o tipo de dado para decimal, visto, o tipo de dado quando vem da binance, vem como tipo texto, mesmo sendo um numero"
   ]
  },
  {
   "cell_type": "code",
   "execution_count": 23,
   "id": "0e0641ad-9520-4281-bc82-cf8312f7224f",
   "metadata": {},
   "outputs": [
    {
     "name": "stdout",
     "output_type": "stream",
     "text": [
      "\n",
      "    Valor: 613051.00000000,\n",
      "    Tipo: <class 'str'>\n",
      "     \n"
     ]
    }
   ],
   "source": [
    "#Validando o tipo de dados\n",
    "\n",
    "#Acessando o index da lista extraida da biblioteca da binance, pode isolar o primeiro valor extraido\n",
    "valor_isolado = klines[0][4]\n",
    "\n",
    "print(\n",
    "    f\"\"\"\n",
    "    Valor: {valor_isolado},\n",
    "    Tipo: {type(valor_isolado)}\n",
    "     \"\"\"\n",
    ")\n",
    "\n",
    "#Class 'str' significa \"string\", que por enquanto, vamos entender como \"texto\" apesar da tradução literal ser \"corda\", mas isso é assunto pra muito depois"
   ]
  },
  {
   "cell_type": "code",
   "execution_count": 25,
   "id": "b71c3a6a-ea76-4b3f-a047-92702b027c21",
   "metadata": {},
   "outputs": [
    {
     "name": "stdout",
     "output_type": "stream",
     "text": [
      "Volatilidade (desvio padrão) nas últimas 24h: 5549.89 BRL\n"
     ]
    }
   ],
   "source": [
    "volatility = np.std(prices)\n",
    "print(f\"Volatilidade (desvio padrão) nas últimas 24h: {volatility:.2f} BRL\")"
   ]
  },
  {
   "cell_type": "code",
   "execution_count": null,
   "id": "79cb6750-5588-4202-b306-887fbbca4837",
   "metadata": {},
   "outputs": [],
   "source": []
  }
 ],
 "metadata": {
  "kernelspec": {
   "display_name": "Python 3 (ipykernel)",
   "language": "python",
   "name": "python3"
  },
  "language_info": {
   "codemirror_mode": {
    "name": "ipython",
    "version": 3
   },
   "file_extension": ".py",
   "mimetype": "text/x-python",
   "name": "python",
   "nbconvert_exporter": "python",
   "pygments_lexer": "ipython3",
   "version": "3.12.7"
  }
 },
 "nbformat": 4,
 "nbformat_minor": 5
}
