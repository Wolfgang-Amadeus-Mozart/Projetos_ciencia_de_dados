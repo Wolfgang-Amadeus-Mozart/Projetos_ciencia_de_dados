{
 "cells": [
  {
   "cell_type": "markdown",
   "id": "28b6175f-d8f0-40e2-ae33-b7e6cea0fc46",
   "metadata": {},
   "source": [
    "### Banco maquina local\n",
    "\n",
    "Nesse notebook, ao invez de utilizar uma VPS da AWS, esse banco está instalado em uma maquina física"
   ]
  },
  {
   "cell_type": "code",
   "execution_count": 1,
   "id": "e99ad0bc-b04f-49bc-9464-eec16acc5461",
   "metadata": {},
   "outputs": [],
   "source": [
    "#importações\n",
    "\n",
    "import pandas as pd\n",
    "import pyodbc\n",
    "from datetime import datetime\n",
    "from pegar_historico import pegar_historico\n",
    "from dotenv import load_dotenv\n",
    "import os\n",
    "from datetime import date"
   ]
  },
  {
   "cell_type": "code",
   "execution_count": 15,
   "id": "74df7879-81cd-4f6b-8e53-cb8545aa2633",
   "metadata": {},
   "outputs": [
    {
     "name": "stdout",
     "output_type": "stream",
     "text": [
      "      Cod_Categoria    Desc_Categoria\n",
      "0   Ãguas Minerais   Ãguas Minerais\n",
      "1    Suco de Frutas    Suco de Frutas\n",
      "2   Ãguas Minerais   Ãguas Minerais\n",
      "3  ÃguasÂ Minerais  ÃguasÂ Minerais\n",
      "4              Mate              Mate\n",
      "5    Suco de Frutas    Suco de Frutas\n"
     ]
    },
    {
     "name": "stderr",
     "output_type": "stream",
     "text": [
      "C:\\Users\\FilipeQueirozdeAbreu\\AppData\\Local\\Temp\\ipykernel_20832\\1195107787.py:19: UserWarning: pandas only supports SQLAlchemy connectable (engine/connection) or database string URI or sqlite3 DBAPI2 connection. Other DBAPI2 objects are not tested. Please consider using SQLAlchemy.\n",
      "  df = pd.read_sql(query, conn)\n"
     ]
    }
   ],
   "source": [
    "\n",
    "\n",
    "#Parametros para estabecer a conexão com o banco\n",
    "load_dotenv() \n",
    "\n",
    "connection_string = f\"\"\"\n",
    "    DRIVER={{ODBC Driver 18 for SQL Server}};\n",
    "    SERVER={os.getenv('DB_HOST')},{os.getenv('DB_PORT')};\n",
    "    DATABASE={os.getenv('DB_NAME')};\n",
    "    UID={os.getenv('DB_USER')};\n",
    "    PWD={os.getenv(\"DB_PASSWORD\")};\n",
    "    Encrypt=yes;\n",
    "    TrustServerCertificate=yes;\n",
    "\"\"\"\n",
    "\n",
    "\n",
    "\n",
    "conn = pyodbc.connect(connection_string)\n",
    "\n",
    "#Para checar a conexao, estou puxando dados de um banco e tabela que já existem nesse servidor\n",
    "query = \"SELECT * FROM Dim_Categoria;\"\n",
    "df = pd.read_sql(query, conn)\n",
    "\n",
    "# Mostrando o DataFrame\n",
    "print(df)\n",
    "\n",
    "conn.close()"
   ]
  },
  {
   "cell_type": "markdown",
   "id": "69fd93a0-9ae5-4f78-ad22-87636d611bc9",
   "metadata": {},
   "source": [
    "## Todavia é interessante criar um banco e tabela nova utilizando essa conexao "
   ]
  },
  {
   "cell_type": "code",
   "execution_count": 20,
   "id": "eb7e0693-41b7-4f6e-9a6e-6440ca728087",
   "metadata": {},
   "outputs": [
    {
     "name": "stdout",
     "output_type": "stream",
     "text": [
      "Banco de dados 'bitcoin_stats' criado com sucesso!\n"
     ]
    }
   ],
   "source": [
    "# Conectando ao servidor, usando o banco 'master' (obrigatório para criar novos databases)\n",
    "\n",
    "# Abrir conexão\n",
    "conn = pyodbc.connect(connection_string, autocommit=True)\n",
    "cursor = conn.cursor()\n",
    "\n",
    "# Nome do novo banco de dados\n",
    "new_db_name = 'bitcoin_stats'\n",
    "\n",
    "# Comando para criar o banco\n",
    "create_db_query = f\"CREATE DATABASE {new_db_name};\"\n",
    "\n",
    "try:\n",
    "    cursor.execute(create_db_query)\n",
    "    print(f\"Banco de dados '{new_db_name}' criado com sucesso!\")\n",
    "except Exception as e:\n",
    "    print(\"Erro ao criar banco de dados:\", e)\n",
    "\n",
    "# Fechar conexão\n",
    "cursor.close()\n",
    "conn.close()\n"
   ]
  },
  {
   "cell_type": "markdown",
   "id": "0d17d79b-e320-4a9a-aba4-4cfb2ab05230",
   "metadata": {},
   "source": [
    "## Criando uma tabela no novo banco"
   ]
  },
  {
   "cell_type": "code",
   "execution_count": 65,
   "id": "9590f188-5b0e-48b2-bf44-872e629cb067",
   "metadata": {},
   "outputs": [
    {
     "name": "stderr",
     "output_type": "stream",
     "text": [
      "C:\\Users\\FilipeQueirozdeAbreu\\AppData\\Local\\Temp\\ipykernel_20832\\4279729226.py:10: UserWarning: pandas only supports SQLAlchemy connectable (engine/connection) or database string URI or sqlite3 DBAPI2 connection. Other DBAPI2 objects are not tested. Please consider using SQLAlchemy.\n",
      "  df = pd.read_sql(query, conn)\n"
     ]
    },
    {
     "data": {
      "text/html": [
       "<div>\n",
       "<style scoped>\n",
       "    .dataframe tbody tr th:only-of-type {\n",
       "        vertical-align: middle;\n",
       "    }\n",
       "\n",
       "    .dataframe tbody tr th {\n",
       "        vertical-align: top;\n",
       "    }\n",
       "\n",
       "    .dataframe thead th {\n",
       "        text-align: right;\n",
       "    }\n",
       "</style>\n",
       "<table border=\"1\" class=\"dataframe\">\n",
       "  <thead>\n",
       "    <tr style=\"text-align: right;\">\n",
       "      <th></th>\n",
       "      <th>TABLE_CATALOG</th>\n",
       "      <th>TABLE_SCHEMA</th>\n",
       "      <th>TABLE_NAME</th>\n",
       "      <th>TABLE_TYPE</th>\n",
       "    </tr>\n",
       "  </thead>\n",
       "  <tbody>\n",
       "    <tr>\n",
       "      <th>0</th>\n",
       "      <td>master</td>\n",
       "      <td>dbo</td>\n",
       "      <td>spt_fallback_db</td>\n",
       "      <td>BASE TABLE</td>\n",
       "    </tr>\n",
       "    <tr>\n",
       "      <th>1</th>\n",
       "      <td>master</td>\n",
       "      <td>dbo</td>\n",
       "      <td>spt_fallback_dev</td>\n",
       "      <td>BASE TABLE</td>\n",
       "    </tr>\n",
       "    <tr>\n",
       "      <th>2</th>\n",
       "      <td>master</td>\n",
       "      <td>dbo</td>\n",
       "      <td>spt_fallback_usg</td>\n",
       "      <td>BASE TABLE</td>\n",
       "    </tr>\n",
       "    <tr>\n",
       "      <th>3</th>\n",
       "      <td>master</td>\n",
       "      <td>dbo</td>\n",
       "      <td>spt_values</td>\n",
       "      <td>VIEW</td>\n",
       "    </tr>\n",
       "    <tr>\n",
       "      <th>4</th>\n",
       "      <td>master</td>\n",
       "      <td>dbo</td>\n",
       "      <td>spt_monitor</td>\n",
       "      <td>BASE TABLE</td>\n",
       "    </tr>\n",
       "    <tr>\n",
       "      <th>5</th>\n",
       "      <td>master</td>\n",
       "      <td>dbo</td>\n",
       "      <td>MSreplication_options</td>\n",
       "      <td>BASE TABLE</td>\n",
       "    </tr>\n",
       "  </tbody>\n",
       "</table>\n",
       "</div>"
      ],
      "text/plain": [
       "  TABLE_CATALOG TABLE_SCHEMA             TABLE_NAME  TABLE_TYPE\n",
       "0        master          dbo        spt_fallback_db  BASE TABLE\n",
       "1        master          dbo       spt_fallback_dev  BASE TABLE\n",
       "2        master          dbo       spt_fallback_usg  BASE TABLE\n",
       "3        master          dbo             spt_values        VIEW\n",
       "4        master          dbo            spt_monitor  BASE TABLE\n",
       "5        master          dbo  MSreplication_options  BASE TABLE"
      ]
     },
     "execution_count": 65,
     "metadata": {},
     "output_type": "execute_result"
    }
   ],
   "source": [
    "#Primeiro, checo quais tabelas já existem no banco\n",
    "def checa_tabelas_existentes():\n",
    "    conn = pyodbc.connect(connection_string, autocommit=True)\n",
    "    \n",
    "    query = \"\"\"\n",
    "    SELECT *\n",
    "    FROM INFORMATION_SCHEMA.TABLES;\n",
    "    \"\"\"\n",
    "    \n",
    "    df = pd.read_sql(query, conn)\n",
    "    \n",
    "    conn.close()\n",
    "    \n",
    "    return df\n",
    "\n",
    "checa_tabelas_existentes()"
   ]
  },
  {
   "cell_type": "code",
   "execution_count": 67,
   "id": "abf8aa50-089c-4a7a-ac33-a03664b32cb3",
   "metadata": {},
   "outputs": [
    {
     "name": "stdout",
     "output_type": "stream",
     "text": [
      "Tabela crada com sucesso\n"
     ]
    }
   ],
   "source": [
    "#Crio a nova tabela\n",
    "conn = pyodbc.connect(connection_string, autocommit=True)\n",
    "cursor = conn.cursor()\n",
    "\n",
    "crate_table_query = \"\"\"\n",
    "CREATE TABLE bitcoin_prices (\n",
    "    id INT IDENTITY(1,1) PRIMARY KEY,\n",
    "    symbol VARCHAR(10),\n",
    "    timestamp DATETIME,\n",
    "    [open] DECIMAL(18, 8),\n",
    "    [high] DECIMAL(18, 8),\n",
    "    [low] DECIMAL(18, 8),\n",
    "    [close] DECIMAL(18, 8),\n",
    "    volume DECIMAL(18, 8)\n",
    ");\n",
    "\"\"\"\n",
    "\n",
    "try:\n",
    "    cursor.execute(crate_table_query)\n",
    "    print(\"Tabela crada com sucesso\")\n",
    "except Exception as e:\n",
    "    print(\"Erro ao criar tabela\", e)\n",
    "\n",
    "cursor.close()\n",
    "conn.close()"
   ]
  },
  {
   "cell_type": "code",
   "execution_count": 73,
   "id": "f7ca1905-6a57-490d-ba75-f7806e7839ac",
   "metadata": {},
   "outputs": [
    {
     "name": "stderr",
     "output_type": "stream",
     "text": [
      "C:\\Users\\FilipeQueirozdeAbreu\\AppData\\Local\\Temp\\ipykernel_20832\\4279729226.py:10: UserWarning: pandas only supports SQLAlchemy connectable (engine/connection) or database string URI or sqlite3 DBAPI2 connection. Other DBAPI2 objects are not tested. Please consider using SQLAlchemy.\n",
      "  df = pd.read_sql(query, conn)\n"
     ]
    },
    {
     "data": {
      "text/html": [
       "<div>\n",
       "<style scoped>\n",
       "    .dataframe tbody tr th:only-of-type {\n",
       "        vertical-align: middle;\n",
       "    }\n",
       "\n",
       "    .dataframe tbody tr th {\n",
       "        vertical-align: top;\n",
       "    }\n",
       "\n",
       "    .dataframe thead th {\n",
       "        text-align: right;\n",
       "    }\n",
       "</style>\n",
       "<table border=\"1\" class=\"dataframe\">\n",
       "  <thead>\n",
       "    <tr style=\"text-align: right;\">\n",
       "      <th></th>\n",
       "      <th>TABLE_CATALOG</th>\n",
       "      <th>TABLE_SCHEMA</th>\n",
       "      <th>TABLE_NAME</th>\n",
       "      <th>TABLE_TYPE</th>\n",
       "    </tr>\n",
       "  </thead>\n",
       "  <tbody>\n",
       "    <tr>\n",
       "      <th>5</th>\n",
       "      <td>master</td>\n",
       "      <td>dbo</td>\n",
       "      <td>bitcoin_prices</td>\n",
       "      <td>BASE TABLE</td>\n",
       "    </tr>\n",
       "  </tbody>\n",
       "</table>\n",
       "</div>"
      ],
      "text/plain": [
       "  TABLE_CATALOG TABLE_SCHEMA      TABLE_NAME  TABLE_TYPE\n",
       "5        master          dbo  bitcoin_prices  BASE TABLE"
      ]
     },
     "execution_count": 73,
     "metadata": {},
     "output_type": "execute_result"
    }
   ],
   "source": [
    "#Checo novamente se a tabela foi criada\n",
    "df = checa_tabelas_existentes()\n",
    "\n",
    "df[\n",
    "    df['TABLE_NAME'] == 'bitcoin_prices' #Aplico um filtro para verificar se existe uma tabela com o nome qe eu criei\n",
    "]"
   ]
  },
  {
   "cell_type": "code",
   "execution_count": null,
   "id": "41fc4ed9-c574-495e-a802-7b0262da8c6f",
   "metadata": {},
   "outputs": [],
   "source": []
  }
 ],
 "metadata": {
  "kernelspec": {
   "display_name": "Python 3 (ipykernel)",
   "language": "python",
   "name": "python3"
  },
  "language_info": {
   "codemirror_mode": {
    "name": "ipython",
    "version": 3
   },
   "file_extension": ".py",
   "mimetype": "text/x-python",
   "name": "python",
   "nbconvert_exporter": "python",
   "pygments_lexer": "ipython3",
   "version": "3.12.7"
  }
 },
 "nbformat": 4,
 "nbformat_minor": 5
}
