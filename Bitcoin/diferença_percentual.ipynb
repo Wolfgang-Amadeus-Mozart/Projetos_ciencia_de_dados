{
 "cells": [
  {
   "cell_type": "markdown",
   "id": "2c1e0bbd-5e3c-42dc-93b8-a411b46fc36c",
   "metadata": {},
   "source": [
    "# Calculando a diferença percentual do valor do bitcoin entre os dias"
   ]
  },
  {
   "cell_type": "code",
   "execution_count": 2,
   "id": "8bb5edad-66b4-401d-b616-732e16f040e6",
   "metadata": {},
   "outputs": [],
   "source": [
    "#Importando a função criada no arquivo #pegar_historico.py\n",
    "from pegar_historico import pegar_historico\n",
    "import pandas as pd\n",
    "import matplotlib.pyplot as plt\n",
    "import seaborn as sns\n",
    "import plotly.express as px"
   ]
  },
  {
   "cell_type": "code",
   "execution_count": 12,
   "id": "fb240df0-f753-40dd-833a-04e8736e9338",
   "metadata": {},
   "outputs": [
    {
     "data": {
      "text/html": [
       "<div>\n",
       "<style scoped>\n",
       "    .dataframe tbody tr th:only-of-type {\n",
       "        vertical-align: middle;\n",
       "    }\n",
       "\n",
       "    .dataframe tbody tr th {\n",
       "        vertical-align: top;\n",
       "    }\n",
       "\n",
       "    .dataframe thead th {\n",
       "        text-align: right;\n",
       "    }\n",
       "</style>\n",
       "<table border=\"1\" class=\"dataframe\">\n",
       "  <thead>\n",
       "    <tr style=\"text-align: right;\">\n",
       "      <th></th>\n",
       "      <th>timestamp</th>\n",
       "      <th>open</th>\n",
       "      <th>high</th>\n",
       "      <th>low</th>\n",
       "      <th>close</th>\n",
       "      <th>volume</th>\n",
       "      <th>close_time</th>\n",
       "      <th>quote_asset_volume</th>\n",
       "      <th>number_of_trades</th>\n",
       "      <th>taker_buy_base_asset_volume</th>\n",
       "      <th>taker_buy_quote_asset_volume</th>\n",
       "      <th>ignore</th>\n",
       "    </tr>\n",
       "  </thead>\n",
       "  <tbody>\n",
       "    <tr>\n",
       "      <th>0</th>\n",
       "      <td>2025-07-22</td>\n",
       "      <td>655658.0</td>\n",
       "      <td>669702.0</td>\n",
       "      <td>648684.0</td>\n",
       "      <td>667462.0</td>\n",
       "      <td>124.10984</td>\n",
       "      <td>1753228799999</td>\n",
       "      <td>82149815.01137000</td>\n",
       "      <td>28345</td>\n",
       "      <td>61.19086000</td>\n",
       "      <td>40508724.34780000</td>\n",
       "      <td>0</td>\n",
       "    </tr>\n",
       "    <tr>\n",
       "      <th>1</th>\n",
       "      <td>2025-07-23</td>\n",
       "      <td>667414.0</td>\n",
       "      <td>668314.0</td>\n",
       "      <td>650000.0</td>\n",
       "      <td>650460.0</td>\n",
       "      <td>57.41674</td>\n",
       "      <td>1753315199999</td>\n",
       "      <td>37772818.58681000</td>\n",
       "      <td>15220</td>\n",
       "      <td>26.96314000</td>\n",
       "      <td>17733743.15988000</td>\n",
       "      <td>0</td>\n",
       "    </tr>\n",
       "  </tbody>\n",
       "</table>\n",
       "</div>"
      ],
      "text/plain": [
       "   timestamp      open      high       low     close     volume  \\\n",
       "0 2025-07-22  655658.0  669702.0  648684.0  667462.0  124.10984   \n",
       "1 2025-07-23  667414.0  668314.0  650000.0  650460.0   57.41674   \n",
       "\n",
       "      close_time quote_asset_volume  number_of_trades  \\\n",
       "0  1753228799999  82149815.01137000             28345   \n",
       "1  1753315199999  37772818.58681000             15220   \n",
       "\n",
       "  taker_buy_base_asset_volume taker_buy_quote_asset_volume ignore  \n",
       "0                 61.19086000            40508724.34780000      0  \n",
       "1                 26.96314000            17733743.15988000      0  "
      ]
     },
     "execution_count": 12,
     "metadata": {},
     "output_type": "execute_result"
    }
   ],
   "source": [
    "\n",
    "\n",
    "#Testando a função para o par de trding BTCBRL\n",
    "par = \"BTCBRL\"\n",
    "intervalo = \"1d\"\n",
    "data_inicio = \"22 Jul 2025\"\n",
    "\n",
    "df_btcbrl = pegar_historico(\n",
    "        par,\n",
    "        intervalo,\n",
    "        data_inicio\n",
    "    )\n",
    "\n",
    "df_btcbrl"
   ]
  },
  {
   "cell_type": "code",
   "execution_count": 18,
   "id": "80ff755f-602e-42af-bd7b-db3907bd1c8a",
   "metadata": {},
   "outputs": [
    {
     "name": "stderr",
     "output_type": "stream",
     "text": [
      "C:\\Users\\FilipeQueirozdeAbreu\\AppData\\Local\\Temp\\ipykernel_4084\\624293516.py:5: SettingWithCopyWarning: \n",
      "A value is trying to be set on a copy of a slice from a DataFrame.\n",
      "Try using .loc[row_indexer,col_indexer] = value instead\n",
      "\n",
      "See the caveats in the documentation: https://pandas.pydata.org/pandas-docs/stable/user_guide/indexing.html#returning-a-view-versus-a-copy\n",
      "  oqueinteressa['diferença_percentual'] = oqueinteressa['close'].pct_change() * 100\n"
     ]
    },
    {
     "data": {
      "text/html": [
       "<div>\n",
       "<style scoped>\n",
       "    .dataframe tbody tr th:only-of-type {\n",
       "        vertical-align: middle;\n",
       "    }\n",
       "\n",
       "    .dataframe tbody tr th {\n",
       "        vertical-align: top;\n",
       "    }\n",
       "\n",
       "    .dataframe thead th {\n",
       "        text-align: right;\n",
       "    }\n",
       "</style>\n",
       "<table border=\"1\" class=\"dataframe\">\n",
       "  <thead>\n",
       "    <tr style=\"text-align: right;\">\n",
       "      <th></th>\n",
       "      <th>timestamp</th>\n",
       "      <th>close</th>\n",
       "      <th>diferença_percentual</th>\n",
       "    </tr>\n",
       "  </thead>\n",
       "  <tbody>\n",
       "    <tr>\n",
       "      <th>0</th>\n",
       "      <td>2025-07-22</td>\n",
       "      <td>667462.0</td>\n",
       "      <td>NaN</td>\n",
       "    </tr>\n",
       "    <tr>\n",
       "      <th>1</th>\n",
       "      <td>2025-07-23</td>\n",
       "      <td>650460.0</td>\n",
       "      <td>-2.547261</td>\n",
       "    </tr>\n",
       "  </tbody>\n",
       "</table>\n",
       "</div>"
      ],
      "text/plain": [
       "   timestamp     close  diferença_percentual\n",
       "0 2025-07-22  667462.0                   NaN\n",
       "1 2025-07-23  650460.0             -2.547261"
      ]
     },
     "execution_count": 18,
     "metadata": {},
     "output_type": "execute_result"
    }
   ],
   "source": [
    "oqueinteressa = df_btcbrl[\n",
    "    ['timestamp','close']\n",
    "]\n",
    "\n",
    "oqueinteressa['diferença_percentual'] = oqueinteressa['close'].pct_change() * 100\n",
    "oqueinteressa"
   ]
  },
  {
   "cell_type": "code",
   "execution_count": null,
   "id": "945feb2a-4370-48d7-8777-d5d1f49c3ca9",
   "metadata": {},
   "outputs": [],
   "source": []
  }
 ],
 "metadata": {
  "kernelspec": {
   "display_name": "Python 3 (ipykernel)",
   "language": "python",
   "name": "python3"
  },
  "language_info": {
   "codemirror_mode": {
    "name": "ipython",
    "version": 3
   },
   "file_extension": ".py",
   "mimetype": "text/x-python",
   "name": "python",
   "nbconvert_exporter": "python",
   "pygments_lexer": "ipython3",
   "version": "3.12.7"
  }
 },
 "nbformat": 4,
 "nbformat_minor": 5
}
