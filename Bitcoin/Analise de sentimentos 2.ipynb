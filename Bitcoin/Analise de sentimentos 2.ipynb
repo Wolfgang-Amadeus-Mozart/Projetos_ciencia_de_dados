{
 "cells": [
  {
   "cell_type": "code",
   "execution_count": 1,
   "id": "c380e718-ca31-4506-815b-45be2b493448",
   "metadata": {},
   "outputs": [],
   "source": [
    "#importações\n",
    "import matplotlib.pyplot as plt\n",
    "import requests\n",
    "import pandas as pd\n",
    "import os\n",
    "from dotenv import load_dotenv\n",
    "from textblob import TextBlob"
   ]
  },
  {
   "cell_type": "code",
   "execution_count": 2,
   "id": "ca491788-ebac-4d77-9662-c4fc52b7b0aa",
   "metadata": {},
   "outputs": [
    {
     "ename": "SyntaxError",
     "evalue": "unmatched ')' (3412069080.py, line 3)",
     "output_type": "error",
     "traceback": [
      "\u001b[1;36m  Cell \u001b[1;32mIn[2], line 3\u001b[1;36m\u001b[0m\n\u001b[1;33m    f'apiKey={os.getenv('NEWSAPIKEY')}')\u001b[0m\n\u001b[1;37m                                       ^\u001b[0m\n\u001b[1;31mSyntaxError\u001b[0m\u001b[1;31m:\u001b[0m unmatched ')'\n"
     ]
    }
   ],
   "source": [
    "load_dotenv()\n",
    "\n",
    "f'apiKey={os.getenv('NEWSAPIKEY')}')"
   ]
  },
  {
   "cell_type": "code",
   "execution_count": 24,
   "id": "13d725c3-4439-4aa0-9789-6fdf28306263",
   "metadata": {},
   "outputs": [],
   "source": [
    "class AnaliseSentimento:\n",
    "    def __init__(self, api_key, assunto, idioma):\n",
    "        self.api_key = api_key\n",
    "        self.assunto = assunto\n",
    "        self.idioma = idioma\n",
    "        self.url = None\n",
    "        self.data = None\n",
    "        self.news_df = None\n",
    "\n",
    "    def faz_pesquisa(self):\n",
    "        self.url = (\n",
    "            'https://newsapi.org/v2/everything?'\n",
    "            f'q={self.assunto}&'\n",
    "            f'language={self.idioma}&'\n",
    "            'sortBy=publishedAt&'\n",
    "            f'apiKey={self.api_key}'\n",
    "        )\n",
    "\n",
    "    def get_response(self):\n",
    "        if self.url is None:\n",
    "            raise ValueError(\"A URL não foi definida. Execute 'faz_pesquisa()' antes.\")\n",
    "        response = requests.get(self.url)\n",
    "        self.data = response.json()\n",
    "\n",
    "    def extrai_title_description(self):\n",
    "        if self.data is None:\n",
    "            raise ValueError(\"Os dados ainda não foram baixados. Execute 'get_response()' antes.\")\n",
    "        articles = self.data.get('articles', [])\n",
    "        self.news_df = pd.DataFrame([{\n",
    "            'title': article.get('title'),\n",
    "            'description': article.get('description')\n",
    "        } for article in articles])\n",
    "\n",
    "    def get_sentiment(self, text):\n",
    "        if text:\n",
    "            blob = TextBlob(text)\n",
    "            return blob.sentiment.polarity\n",
    "        return 0\n",
    "\n",
    "    def calcula_sentimento(self):\n",
    "        if self.news_df is None:\n",
    "            raise ValueError(\"O DataFrame de notícias ainda não foi criado. Execute 'extrai_title_description()' antes.\")\n",
    "        self.news_df['sentiment'] = self.news_df['description'].apply(self.get_sentiment)\n",
    "\n",
    "    def gera_grafico(self):\n",
    "        if self.news_df is None or 'sentiment' not in self.news_df:\n",
    "            raise ValueError(\"O sentimento ainda não foi calculado. Execute 'calcula_sentimento()' antes.\")\n",
    "        plt.figure(figsize=(8, 8))\n",
    "        plt.hist(self.news_df['sentiment'], bins=20, color='skyblue')\n",
    "        plt.title(f'Distribuição do Sentimento das Notícias sobre \"{self.assunto}\"')\n",
    "        plt.xlabel('Polaridade')\n",
    "        plt.ylabel('Número de Notícias')\n",
    "        plt.grid(True)\n",
    "        plt.show()"
   ]
  },
  {
   "cell_type": "code",
   "execution_count": null,
   "id": "5387b045-ffe9-4558-9e8c-c18df6c4fadd",
   "metadata": {},
   "outputs": [],
   "source": []
  }
 ],
 "metadata": {
  "kernelspec": {
   "display_name": "Python 3 (ipykernel)",
   "language": "python",
   "name": "python3"
  },
  "language_info": {
   "codemirror_mode": {
    "name": "ipython",
    "version": 3
   },
   "file_extension": ".py",
   "mimetype": "text/x-python",
   "name": "python",
   "nbconvert_exporter": "python",
   "pygments_lexer": "ipython3",
   "version": "3.12.7"
  }
 },
 "nbformat": 4,
 "nbformat_minor": 5
}
