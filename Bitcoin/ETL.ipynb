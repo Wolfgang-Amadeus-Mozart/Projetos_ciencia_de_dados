{
 "cells": [
  {
   "cell_type": "markdown",
   "id": "9b0623c6-fc5f-470b-be28-71062ec98a25",
   "metadata": {},
   "source": [
    "# 🧠 O que é ETL?\n",
    "\n",
    "ETL é a sigla para Extract, Transform, Load, que em português significa Extrair, Transformar e Carregar. Esse é um processo fundamental em projetos de integração de dados e engenharia de dados, utilizado para mover e preparar dados de diferentes fontes para uso em análises, relatórios ou aplicações.\n",
    "\n",
    "\n",
    "Aqui estou criando um processo de ETL que:\n",
    "\n",
    "1. Extrai dados do Bitcoin usando uma API (como a da Binance).\n",
    "\n",
    "2. Transforma os dados se necessário (por exemplo, converte timestamps, filtra colunas, essa parte ja sendo feita separadamente). \n",
    "\n",
    "3. Carrega esses dados em um banco de dados SQL Server (BitCointETL)."
   ]
  },
  {
   "cell_type": "markdown",
   "id": "fcf795c0-b201-4e87-8830-24b0f0b514d6",
   "metadata": {},
   "source": [
    "Um ponto importante é que o banco de dados utlizados aqui foi criado através do AWS RDS, também não irei me aprofundar nesse tópico do que é o RDS ou como se cria"
   ]
  },
  {
   "cell_type": "code",
   "execution_count": 7,
   "id": "d1b8f612-e0fb-4bf5-bc3b-aafd97963500",
   "metadata": {},
   "outputs": [],
   "source": [
    "#importações\n",
    "\n",
    "import pandas as pd\n",
    "import pyodbc\n",
    "from datetime import datetime\n",
    "from pegar_historico import pegar_historico\n",
    "from dotenv import load_dotenv\n",
    "import os\n",
    "from datetime import date"
   ]
  },
  {
   "cell_type": "code",
   "execution_count": 43,
   "id": "953527bb-c927-4b6d-a425-31d6fa1a2c93",
   "metadata": {},
   "outputs": [
    {
     "name": "stderr",
     "output_type": "stream",
     "text": [
      "C:\\Users\\FilipeQueirozdeAbreu\\AppData\\Local\\Temp\\ipykernel_10780\\3430104632.py:23: UserWarning: pandas only supports SQLAlchemy connectable (engine/connection) or database string URI or sqlite3 DBAPI2 connection. Other DBAPI2 objects are not tested. Please consider using SQLAlchemy.\n",
      "  df = pd.read_sql(query, conn)\n"
     ]
    },
    {
     "data": {
      "text/html": [
       "<div>\n",
       "<style scoped>\n",
       "    .dataframe tbody tr th:only-of-type {\n",
       "        vertical-align: middle;\n",
       "    }\n",
       "\n",
       "    .dataframe tbody tr th {\n",
       "        vertical-align: top;\n",
       "    }\n",
       "\n",
       "    .dataframe thead th {\n",
       "        text-align: right;\n",
       "    }\n",
       "</style>\n",
       "<table border=\"1\" class=\"dataframe\">\n",
       "  <thead>\n",
       "    <tr style=\"text-align: right;\">\n",
       "      <th></th>\n",
       "      <th>id</th>\n",
       "      <th>timestamp</th>\n",
       "      <th>open</th>\n",
       "      <th>high</th>\n",
       "      <th>low</th>\n",
       "      <th>close</th>\n",
       "      <th>volume</th>\n",
       "    </tr>\n",
       "  </thead>\n",
       "  <tbody>\n",
       "    <tr>\n",
       "      <th>0</th>\n",
       "      <td>1</td>\n",
       "      <td>2025-01-01</td>\n",
       "      <td>583135.0</td>\n",
       "      <td>579057.0</td>\n",
       "      <td>591233.0</td>\n",
       "      <td>588693.0</td>\n",
       "      <td>72.14957</td>\n",
       "    </tr>\n",
       "  </tbody>\n",
       "</table>\n",
       "</div>"
      ],
      "text/plain": [
       "   id  timestamp      open      high       low     close    volume\n",
       "0   1 2025-01-01  583135.0  579057.0  591233.0  588693.0  72.14957"
      ]
     },
     "execution_count": 43,
     "metadata": {},
     "output_type": "execute_result"
    }
   ],
   "source": [
    "#Para que eu nao colocasse minhas informações de segurança do banco direto no código, eu as coloquei em uma variavel de ambiente e as carrego utilizando\n",
    "# a biblioteca load_dotenv, não irei me aprofunda aqui, mas basicamente, esse arquivo contem as informações de username. password, host, etc\n",
    "\n",
    "#Carrega as informações\n",
    "load_dotenv() \n",
    "\n",
    "#Cria a conexão com o banco de dados\n",
    "connection_string = f\"\"\"\n",
    "    DRIVER={{ODBC Driver 18 for SQL Server}};\n",
    "    SERVER={os.getenv('DB_HOST')},{os.getenv('DB_PORT')};\n",
    "    DATABASE={os.getenv('DB_NAME')};\n",
    "    UID={os.getenv('DB_USER')};\n",
    "    PWD={os.getenv(\"DB_PASSWORD\")};\n",
    "    Encrypt=yes;\n",
    "    TrustServerCertificate=yes;\n",
    "\"\"\"\n",
    "\n",
    "#Estabelece a conexao\n",
    "conn = pyodbc.connect(connection_string)\n",
    "\n",
    "#Faz a consulta no banco de dados\n",
    "query = \"SELECT * FROM bitcoin_data\"\n",
    "df = pd.read_sql(query, conn)\n",
    "df\n",
    "\n",
    "#Apesar de eu nao ter inserido dados por aqui, eu fiz uma inserção manual de dados diretamente pelo SQL, para algo pudesse ser exibido aqui"
   ]
  },
  {
   "cell_type": "code",
   "execution_count": 23,
   "id": "30846338-4b7f-420b-bc3e-094260c1f76c",
   "metadata": {},
   "outputs": [
    {
     "data": {
      "text/plain": [
       "'Jun 2025'"
      ]
     },
     "execution_count": 23,
     "metadata": {},
     "output_type": "execute_result"
    }
   ],
   "source": [
    "date.today().strftime(\"%b %Y\")"
   ]
  },
  {
   "cell_type": "code",
   "execution_count": 19,
   "id": "cc78eb6a-9c93-44b0-9102-d3d591cbbac7",
   "metadata": {},
   "outputs": [
    {
     "data": {
      "text/html": [
       "<div>\n",
       "<style scoped>\n",
       "    .dataframe tbody tr th:only-of-type {\n",
       "        vertical-align: middle;\n",
       "    }\n",
       "\n",
       "    .dataframe tbody tr th {\n",
       "        vertical-align: top;\n",
       "    }\n",
       "\n",
       "    .dataframe thead th {\n",
       "        text-align: right;\n",
       "    }\n",
       "</style>\n",
       "<table border=\"1\" class=\"dataframe\">\n",
       "  <thead>\n",
       "    <tr style=\"text-align: right;\">\n",
       "      <th></th>\n",
       "      <th>timestamp</th>\n",
       "      <th>open</th>\n",
       "      <th>low</th>\n",
       "      <th>high</th>\n",
       "      <th>close</th>\n",
       "      <th>volume</th>\n",
       "    </tr>\n",
       "  </thead>\n",
       "  <tbody>\n",
       "    <tr>\n",
       "      <th>0</th>\n",
       "      <td>2025-06-05</td>\n",
       "      <td>592931.0</td>\n",
       "      <td>570500.0</td>\n",
       "      <td>596717.0</td>\n",
       "      <td>571805.0</td>\n",
       "      <td>163.25379</td>\n",
       "    </tr>\n",
       "  </tbody>\n",
       "</table>\n",
       "</div>"
      ],
      "text/plain": [
       "   timestamp      open       low      high     close     volume\n",
       "0 2025-06-05  592931.0  570500.0  596717.0  571805.0  163.25379"
      ]
     },
     "execution_count": 19,
     "metadata": {},
     "output_type": "execute_result"
    }
   ],
   "source": [
    "#Pegando os dados\n",
    "\n",
    "par = \"BTCBRL\"\n",
    "intervalo = \"1d\"\n",
    "data_inicio = date.today().strftime(\"%#d %b %Y\")\n",
    "\n",
    "df_btcbrl = pegar_historico(\n",
    "        par,\n",
    "        intervalo,\n",
    "        data_inicio\n",
    "    )\n",
    "\n",
    "#filtrado as colunas\n",
    "df_btcbrl = df_btcbrl[\n",
    "    ['timestamp','open','low','high','close','volume']\n",
    "]\n",
    "\n",
    "df_btcbrl.head(5)"
   ]
  },
  {
   "cell_type": "code",
   "execution_count": 37,
   "id": "ba9ead7e-ae1a-4883-a1af-335ed38b1199",
   "metadata": {},
   "outputs": [
    {
     "data": {
      "text/plain": [
       "(Timestamp('2025-06-05 00:00:00'),\n",
       " 592931.0,\n",
       " 570500.0,\n",
       " 596717.0,\n",
       " 571805.0,\n",
       " 163.25379)"
      ]
     },
     "execution_count": 37,
     "metadata": {},
     "output_type": "execute_result"
    }
   ],
   "source": [
    "#Iterando as linhas em uma tupla\n",
    "\n",
    "data_to_insert = [\n",
    "    (\n",
    "        row.timestamp, \n",
    "        row.open, \n",
    "        row.low, \n",
    "        row.high, \n",
    "        row.close, \n",
    "        row.volume\n",
    "    )\n",
    "    for _, row in df_btcbrl.iterrows()\n",
    "]\n",
    "\n",
    "data_to_insert"
   ]
  },
  {
   "cell_type": "code",
   "execution_count": 45,
   "id": "0c8ce8e9-5f9d-4f7e-9fd2-8d18b3d6e461",
   "metadata": {},
   "outputs": [],
   "source": [
    "conn = pyodbc.connect(connection_string)\n",
    "\n",
    "#Construindo a query de inserção\n",
    "insert_query = \"\"\"\n",
    "    INSERT INTO bitcoin_data VALUES (?, ?, ?, ?, ?, ?)\n",
    "\"\"\"\n",
    "\n",
    "cursor =  conn.cursor()\n",
    "cursor.execute(insert_query, data_to_insert[0])\n",
    "conn.commit()"
   ]
  },
  {
   "cell_type": "code",
   "execution_count": 47,
   "id": "7b4bd1d6-b304-45f8-8695-7525948e409c",
   "metadata": {},
   "outputs": [
    {
     "name": "stderr",
     "output_type": "stream",
     "text": [
      "C:\\Users\\FilipeQueirozdeAbreu\\AppData\\Local\\Temp\\ipykernel_10780\\1061802609.py:1: UserWarning: pandas only supports SQLAlchemy connectable (engine/connection) or database string URI or sqlite3 DBAPI2 connection. Other DBAPI2 objects are not tested. Please consider using SQLAlchemy.\n",
      "  df = pd.read_sql(query, conn)\n"
     ]
    },
    {
     "data": {
      "text/html": [
       "<div>\n",
       "<style scoped>\n",
       "    .dataframe tbody tr th:only-of-type {\n",
       "        vertical-align: middle;\n",
       "    }\n",
       "\n",
       "    .dataframe tbody tr th {\n",
       "        vertical-align: top;\n",
       "    }\n",
       "\n",
       "    .dataframe thead th {\n",
       "        text-align: right;\n",
       "    }\n",
       "</style>\n",
       "<table border=\"1\" class=\"dataframe\">\n",
       "  <thead>\n",
       "    <tr style=\"text-align: right;\">\n",
       "      <th></th>\n",
       "      <th>id</th>\n",
       "      <th>timestamp</th>\n",
       "      <th>open</th>\n",
       "      <th>high</th>\n",
       "      <th>low</th>\n",
       "      <th>close</th>\n",
       "      <th>volume</th>\n",
       "    </tr>\n",
       "  </thead>\n",
       "  <tbody>\n",
       "    <tr>\n",
       "      <th>0</th>\n",
       "      <td>1</td>\n",
       "      <td>2025-01-01</td>\n",
       "      <td>583135.0</td>\n",
       "      <td>579057.0</td>\n",
       "      <td>591233.0</td>\n",
       "      <td>588693.0</td>\n",
       "      <td>72.14957</td>\n",
       "    </tr>\n",
       "    <tr>\n",
       "      <th>1</th>\n",
       "      <td>2</td>\n",
       "      <td>2025-06-05</td>\n",
       "      <td>592931.0</td>\n",
       "      <td>570500.0</td>\n",
       "      <td>596717.0</td>\n",
       "      <td>571805.0</td>\n",
       "      <td>163.25379</td>\n",
       "    </tr>\n",
       "  </tbody>\n",
       "</table>\n",
       "</div>"
      ],
      "text/plain": [
       "   id  timestamp      open      high       low     close     volume\n",
       "0   1 2025-01-01  583135.0  579057.0  591233.0  588693.0   72.14957\n",
       "1   2 2025-06-05  592931.0  570500.0  596717.0  571805.0  163.25379"
      ]
     },
     "execution_count": 47,
     "metadata": {},
     "output_type": "execute_result"
    }
   ],
   "source": [
    "#Verificando se a linha foi inserindo\n",
    "df = pd.read_sql(query, conn)\n",
    "df"
   ]
  }
 ],
 "metadata": {
  "kernelspec": {
   "display_name": "Python 3 (ipykernel)",
   "language": "python",
   "name": "python3"
  },
  "language_info": {
   "codemirror_mode": {
    "name": "ipython",
    "version": 3
   },
   "file_extension": ".py",
   "mimetype": "text/x-python",
   "name": "python",
   "nbconvert_exporter": "python",
   "pygments_lexer": "ipython3",
   "version": "3.12.7"
  }
 },
 "nbformat": 4,
 "nbformat_minor": 5
}
