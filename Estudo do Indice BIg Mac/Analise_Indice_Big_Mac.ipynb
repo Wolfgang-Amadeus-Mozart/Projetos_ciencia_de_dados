{
 "cells": [
  {
   "cell_type": "markdown",
   "id": "edb48ceb",
   "metadata": {},
   "source": [
    "# Indice big mac"
   ]
  },
  {
   "cell_type": "code",
   "execution_count": 1,
   "id": "a5afcc44",
   "metadata": {},
   "outputs": [],
   "source": [
    "import pandas as pd"
   ]
  },
  {
   "cell_type": "markdown",
   "id": "53430484",
   "metadata": {},
   "source": [
    "\"O Índice Big Mac, oficialmente Big Mac Index, é um índice calculado sobre o preço do Big Mac, da cadeia de fast food McDonald's, em mais de cem países. Ele foi criado em 1986 pelo The Economist para explicar um conceito econômico chamado Paridade de Poder de Compra\"\n",
    "\n",
    "Texto retirado de: Wikipedia.com\n",
    "Dísponível em: https://www.youtube.com/results?search_query=como+sincronizar+arquivo+de+outro+one+drive+no+meu"
   ]
  },
  {
   "cell_type": "code",
   "execution_count": 23,
   "id": "34f87b0b",
   "metadata": {},
   "outputs": [
    {
     "data": {
      "text/html": [
       "<div>\n",
       "<style scoped>\n",
       "    .dataframe tbody tr th:only-of-type {\n",
       "        vertical-align: middle;\n",
       "    }\n",
       "\n",
       "    .dataframe tbody tr th {\n",
       "        vertical-align: top;\n",
       "    }\n",
       "\n",
       "    .dataframe thead th {\n",
       "        text-align: right;\n",
       "    }\n",
       "</style>\n",
       "<table border=\"1\" class=\"dataframe\">\n",
       "  <thead>\n",
       "    <tr style=\"text-align: right;\">\n",
       "      <th></th>\n",
       "      <th>date</th>\n",
       "      <th>iso_a3</th>\n",
       "      <th>currency_code</th>\n",
       "      <th>name</th>\n",
       "      <th>local_price</th>\n",
       "      <th>dollar_ex</th>\n",
       "      <th>dollar_price</th>\n",
       "      <th>USD_raw</th>\n",
       "      <th>EUR_raw</th>\n",
       "      <th>GBP_raw</th>\n",
       "      <th>JPY_raw</th>\n",
       "      <th>CNY_raw</th>\n",
       "      <th>GDP_dollar</th>\n",
       "      <th>adj_price</th>\n",
       "      <th>USD_adjusted</th>\n",
       "      <th>EUR_adjusted</th>\n",
       "      <th>GBP_adjusted</th>\n",
       "      <th>JPY_adjusted</th>\n",
       "      <th>CNY_adjusted</th>\n",
       "    </tr>\n",
       "  </thead>\n",
       "  <tbody>\n",
       "    <tr>\n",
       "      <th>0</th>\n",
       "      <td>2000-04-01</td>\n",
       "      <td>ARG</td>\n",
       "      <td>ARS</td>\n",
       "      <td>Argentina</td>\n",
       "      <td>2.50</td>\n",
       "      <td>1.000000e+00</td>\n",
       "      <td>2.500000</td>\n",
       "      <td>-0.00398</td>\n",
       "      <td>0.05007</td>\n",
       "      <td>-0.16722</td>\n",
       "      <td>-0.09864</td>\n",
       "      <td>1.09091</td>\n",
       "      <td>NaN</td>\n",
       "      <td>NaN</td>\n",
       "      <td>NaN</td>\n",
       "      <td>NaN</td>\n",
       "      <td>NaN</td>\n",
       "      <td>NaN</td>\n",
       "      <td>NaN</td>\n",
       "    </tr>\n",
       "    <tr>\n",
       "      <th>1</th>\n",
       "      <td>2000-04-01</td>\n",
       "      <td>AUS</td>\n",
       "      <td>AUD</td>\n",
       "      <td>Australia</td>\n",
       "      <td>2.59</td>\n",
       "      <td>1.680000e+00</td>\n",
       "      <td>1.541667</td>\n",
       "      <td>-0.38579</td>\n",
       "      <td>-0.35246</td>\n",
       "      <td>-0.48645</td>\n",
       "      <td>-0.44416</td>\n",
       "      <td>0.28939</td>\n",
       "      <td>NaN</td>\n",
       "      <td>NaN</td>\n",
       "      <td>NaN</td>\n",
       "      <td>NaN</td>\n",
       "      <td>NaN</td>\n",
       "      <td>NaN</td>\n",
       "      <td>NaN</td>\n",
       "    </tr>\n",
       "    <tr>\n",
       "      <th>2</th>\n",
       "      <td>2000-04-01</td>\n",
       "      <td>BRA</td>\n",
       "      <td>BRL</td>\n",
       "      <td>Brazil</td>\n",
       "      <td>2.95</td>\n",
       "      <td>1.790000e+00</td>\n",
       "      <td>1.648045</td>\n",
       "      <td>-0.34341</td>\n",
       "      <td>-0.30778</td>\n",
       "      <td>-0.45102</td>\n",
       "      <td>-0.40581</td>\n",
       "      <td>0.37836</td>\n",
       "      <td>NaN</td>\n",
       "      <td>NaN</td>\n",
       "      <td>NaN</td>\n",
       "      <td>NaN</td>\n",
       "      <td>NaN</td>\n",
       "      <td>NaN</td>\n",
       "      <td>NaN</td>\n",
       "    </tr>\n",
       "    <tr>\n",
       "      <th>3</th>\n",
       "      <td>2000-04-01</td>\n",
       "      <td>CAN</td>\n",
       "      <td>CAD</td>\n",
       "      <td>Canada</td>\n",
       "      <td>2.85</td>\n",
       "      <td>1.470000e+00</td>\n",
       "      <td>1.938776</td>\n",
       "      <td>-0.22758</td>\n",
       "      <td>-0.18566</td>\n",
       "      <td>-0.35417</td>\n",
       "      <td>-0.30099</td>\n",
       "      <td>0.62152</td>\n",
       "      <td>NaN</td>\n",
       "      <td>NaN</td>\n",
       "      <td>NaN</td>\n",
       "      <td>NaN</td>\n",
       "      <td>NaN</td>\n",
       "      <td>NaN</td>\n",
       "      <td>NaN</td>\n",
       "    </tr>\n",
       "    <tr>\n",
       "      <th>4</th>\n",
       "      <td>2000-04-01</td>\n",
       "      <td>CHE</td>\n",
       "      <td>CHF</td>\n",
       "      <td>Switzerland</td>\n",
       "      <td>5.90</td>\n",
       "      <td>1.700000e+00</td>\n",
       "      <td>3.470588</td>\n",
       "      <td>0.38270</td>\n",
       "      <td>0.45774</td>\n",
       "      <td>0.15609</td>\n",
       "      <td>0.25130</td>\n",
       "      <td>1.90267</td>\n",
       "      <td>NaN</td>\n",
       "      <td>NaN</td>\n",
       "      <td>NaN</td>\n",
       "      <td>NaN</td>\n",
       "      <td>NaN</td>\n",
       "      <td>NaN</td>\n",
       "      <td>NaN</td>\n",
       "    </tr>\n",
       "    <tr>\n",
       "      <th>...</th>\n",
       "      <td>...</td>\n",
       "      <td>...</td>\n",
       "      <td>...</td>\n",
       "      <td>...</td>\n",
       "      <td>...</td>\n",
       "      <td>...</td>\n",
       "      <td>...</td>\n",
       "      <td>...</td>\n",
       "      <td>...</td>\n",
       "      <td>...</td>\n",
       "      <td>...</td>\n",
       "      <td>...</td>\n",
       "      <td>...</td>\n",
       "      <td>...</td>\n",
       "      <td>...</td>\n",
       "      <td>...</td>\n",
       "      <td>...</td>\n",
       "      <td>...</td>\n",
       "      <td>...</td>\n",
       "    </tr>\n",
       "    <tr>\n",
       "      <th>1515</th>\n",
       "      <td>2021-07-01</td>\n",
       "      <td>URY</td>\n",
       "      <td>UYU</td>\n",
       "      <td>Uruguay</td>\n",
       "      <td>225.00</td>\n",
       "      <td>4.400000e+01</td>\n",
       "      <td>5.113636</td>\n",
       "      <td>-0.09493</td>\n",
       "      <td>0.01813</td>\n",
       "      <td>0.07646</td>\n",
       "      <td>0.44146</td>\n",
       "      <td>0.47923</td>\n",
       "      <td>15777.96</td>\n",
       "      <td>3.542683</td>\n",
       "      <td>0.38654</td>\n",
       "      <td>0.26986</td>\n",
       "      <td>0.37252</td>\n",
       "      <td>0.83371</td>\n",
       "      <td>0.39178</td>\n",
       "    </tr>\n",
       "    <tr>\n",
       "      <th>1516</th>\n",
       "      <td>2021-07-01</td>\n",
       "      <td>USA</td>\n",
       "      <td>USD</td>\n",
       "      <td>United States</td>\n",
       "      <td>5.65</td>\n",
       "      <td>1.000000e+00</td>\n",
       "      <td>5.650000</td>\n",
       "      <td>0.00000</td>\n",
       "      <td>0.12492</td>\n",
       "      <td>0.18937</td>\n",
       "      <td>0.59265</td>\n",
       "      <td>0.63439</td>\n",
       "      <td>63415.99</td>\n",
       "      <td>5.427311</td>\n",
       "      <td>0.00000</td>\n",
       "      <td>-0.08415</td>\n",
       "      <td>-0.01012</td>\n",
       "      <td>0.32250</td>\n",
       "      <td>0.00378</td>\n",
       "    </tr>\n",
       "    <tr>\n",
       "      <th>1517</th>\n",
       "      <td>2021-07-01</td>\n",
       "      <td>VEN</td>\n",
       "      <td>VES</td>\n",
       "      <td>Venezuela</td>\n",
       "      <td>30164100.00</td>\n",
       "      <td>3.613989e+06</td>\n",
       "      <td>8.346483</td>\n",
       "      <td>0.47725</td>\n",
       "      <td>0.66179</td>\n",
       "      <td>0.75700</td>\n",
       "      <td>1.35275</td>\n",
       "      <td>1.41441</td>\n",
       "      <td>NaN</td>\n",
       "      <td>NaN</td>\n",
       "      <td>NaN</td>\n",
       "      <td>NaN</td>\n",
       "      <td>NaN</td>\n",
       "      <td>NaN</td>\n",
       "      <td>NaN</td>\n",
       "    </tr>\n",
       "    <tr>\n",
       "      <th>1518</th>\n",
       "      <td>2021-07-01</td>\n",
       "      <td>VNM</td>\n",
       "      <td>VND</td>\n",
       "      <td>Vietnam</td>\n",
       "      <td>69000.00</td>\n",
       "      <td>2.302850e+04</td>\n",
       "      <td>2.996287</td>\n",
       "      <td>-0.46968</td>\n",
       "      <td>-0.40344</td>\n",
       "      <td>-0.36926</td>\n",
       "      <td>-0.15539</td>\n",
       "      <td>-0.13326</td>\n",
       "      <td>3498.98</td>\n",
       "      <td>3.056909</td>\n",
       "      <td>-0.05846</td>\n",
       "      <td>-0.13770</td>\n",
       "      <td>-0.06799</td>\n",
       "      <td>0.24518</td>\n",
       "      <td>-0.05491</td>\n",
       "    </tr>\n",
       "    <tr>\n",
       "      <th>1519</th>\n",
       "      <td>2021-07-01</td>\n",
       "      <td>ZAF</td>\n",
       "      <td>ZAR</td>\n",
       "      <td>South Africa</td>\n",
       "      <td>33.50</td>\n",
       "      <td>1.466250e+01</td>\n",
       "      <td>2.284740</td>\n",
       "      <td>-0.59562</td>\n",
       "      <td>-0.54511</td>\n",
       "      <td>-0.51904</td>\n",
       "      <td>-0.35597</td>\n",
       "      <td>-0.33909</td>\n",
       "      <td>5067.15</td>\n",
       "      <td>3.118948</td>\n",
       "      <td>-0.29634</td>\n",
       "      <td>-0.35555</td>\n",
       "      <td>-0.30346</td>\n",
       "      <td>-0.06941</td>\n",
       "      <td>-0.29368</td>\n",
       "    </tr>\n",
       "  </tbody>\n",
       "</table>\n",
       "<p>1520 rows × 19 columns</p>\n",
       "</div>"
      ],
      "text/plain": [
       "            date iso_a3 currency_code           name  local_price  \\\n",
       "0     2000-04-01    ARG           ARS      Argentina         2.50   \n",
       "1     2000-04-01    AUS           AUD      Australia         2.59   \n",
       "2     2000-04-01    BRA           BRL         Brazil         2.95   \n",
       "3     2000-04-01    CAN           CAD         Canada         2.85   \n",
       "4     2000-04-01    CHE           CHF    Switzerland         5.90   \n",
       "...          ...    ...           ...            ...          ...   \n",
       "1515  2021-07-01    URY           UYU        Uruguay       225.00   \n",
       "1516  2021-07-01    USA           USD  United States         5.65   \n",
       "1517  2021-07-01    VEN           VES      Venezuela  30164100.00   \n",
       "1518  2021-07-01    VNM           VND        Vietnam     69000.00   \n",
       "1519  2021-07-01    ZAF           ZAR   South Africa        33.50   \n",
       "\n",
       "         dollar_ex  dollar_price  USD_raw  EUR_raw  GBP_raw  JPY_raw  CNY_raw  \\\n",
       "0     1.000000e+00      2.500000 -0.00398  0.05007 -0.16722 -0.09864  1.09091   \n",
       "1     1.680000e+00      1.541667 -0.38579 -0.35246 -0.48645 -0.44416  0.28939   \n",
       "2     1.790000e+00      1.648045 -0.34341 -0.30778 -0.45102 -0.40581  0.37836   \n",
       "3     1.470000e+00      1.938776 -0.22758 -0.18566 -0.35417 -0.30099  0.62152   \n",
       "4     1.700000e+00      3.470588  0.38270  0.45774  0.15609  0.25130  1.90267   \n",
       "...            ...           ...      ...      ...      ...      ...      ...   \n",
       "1515  4.400000e+01      5.113636 -0.09493  0.01813  0.07646  0.44146  0.47923   \n",
       "1516  1.000000e+00      5.650000  0.00000  0.12492  0.18937  0.59265  0.63439   \n",
       "1517  3.613989e+06      8.346483  0.47725  0.66179  0.75700  1.35275  1.41441   \n",
       "1518  2.302850e+04      2.996287 -0.46968 -0.40344 -0.36926 -0.15539 -0.13326   \n",
       "1519  1.466250e+01      2.284740 -0.59562 -0.54511 -0.51904 -0.35597 -0.33909   \n",
       "\n",
       "      GDP_dollar  adj_price  USD_adjusted  EUR_adjusted  GBP_adjusted  \\\n",
       "0            NaN        NaN           NaN           NaN           NaN   \n",
       "1            NaN        NaN           NaN           NaN           NaN   \n",
       "2            NaN        NaN           NaN           NaN           NaN   \n",
       "3            NaN        NaN           NaN           NaN           NaN   \n",
       "4            NaN        NaN           NaN           NaN           NaN   \n",
       "...          ...        ...           ...           ...           ...   \n",
       "1515    15777.96   3.542683       0.38654       0.26986       0.37252   \n",
       "1516    63415.99   5.427311       0.00000      -0.08415      -0.01012   \n",
       "1517         NaN        NaN           NaN           NaN           NaN   \n",
       "1518     3498.98   3.056909      -0.05846      -0.13770      -0.06799   \n",
       "1519     5067.15   3.118948      -0.29634      -0.35555      -0.30346   \n",
       "\n",
       "      JPY_adjusted  CNY_adjusted  \n",
       "0              NaN           NaN  \n",
       "1              NaN           NaN  \n",
       "2              NaN           NaN  \n",
       "3              NaN           NaN  \n",
       "4              NaN           NaN  \n",
       "...            ...           ...  \n",
       "1515       0.83371       0.39178  \n",
       "1516       0.32250       0.00378  \n",
       "1517           NaN           NaN  \n",
       "1518       0.24518      -0.05491  \n",
       "1519      -0.06941      -0.29368  \n",
       "\n",
       "[1520 rows x 19 columns]"
      ]
     },
     "execution_count": 23,
     "metadata": {},
     "output_type": "execute_result"
    }
   ],
   "source": [
    "data = pd.read_csv('Dataset/big_mac_full.csv')\n",
    "data"
   ]
  },
  {
   "cell_type": "markdown",
   "id": "00cace55",
   "metadata": {},
   "source": [
    "Para simplificar a compreensão do data set acima, iremos consideramos apenas as colunas de paises, preço local e preço em dolar"
   ]
  },
  {
   "cell_type": "code",
   "execution_count": 19,
   "id": "1a8c1826",
   "metadata": {},
   "outputs": [
    {
     "data": {
      "text/plain": [
       "Index(['date', 'iso_a3', 'currency_code', 'name', 'local_price', 'dollar_ex',\n",
       "       'dollar_price', 'USD_raw', 'EUR_raw', 'GBP_raw', 'JPY_raw', 'CNY_raw',\n",
       "       'GDP_dollar', 'adj_price', 'USD_adjusted', 'EUR_adjusted',\n",
       "       'GBP_adjusted', 'JPY_adjusted', 'CNY_adjusted'],\n",
       "      dtype='object')"
      ]
     },
     "execution_count": 19,
     "metadata": {},
     "output_type": "execute_result"
    }
   ],
   "source": [
    "data.columns"
   ]
  },
  {
   "cell_type": "code",
   "execution_count": 27,
   "id": "34c99e25",
   "metadata": {},
   "outputs": [],
   "source": [
    "data.drop(['dollar_ex', 'USD_raw', 'iso_a3','EUR_raw', 'GBP_raw', 'JPY_raw', 'CNY_raw',\n",
    "       'GDP_dollar', 'adj_price', 'USD_adjusted', 'EUR_adjusted',\n",
    "       'GBP_adjusted', 'JPY_adjusted', 'CNY_adjusted'], axis = 1, inplace = True)"
   ]
  },
  {
   "cell_type": "code",
   "execution_count": 34,
   "id": "28f73fc5",
   "metadata": {},
   "outputs": [
    {
     "data": {
      "text/html": [
       "<div>\n",
       "<style scoped>\n",
       "    .dataframe tbody tr th:only-of-type {\n",
       "        vertical-align: middle;\n",
       "    }\n",
       "\n",
       "    .dataframe tbody tr th {\n",
       "        vertical-align: top;\n",
       "    }\n",
       "\n",
       "    .dataframe thead th {\n",
       "        text-align: right;\n",
       "    }\n",
       "</style>\n",
       "<table border=\"1\" class=\"dataframe\">\n",
       "  <thead>\n",
       "    <tr style=\"text-align: right;\">\n",
       "      <th></th>\n",
       "      <th>Data</th>\n",
       "      <th>Codigo_da_moeda</th>\n",
       "      <th>Pais</th>\n",
       "      <th>Preço_local</th>\n",
       "      <th>Preço_em_Dolar</th>\n",
       "    </tr>\n",
       "  </thead>\n",
       "  <tbody>\n",
       "    <tr>\n",
       "      <th>0</th>\n",
       "      <td>2000-04-01</td>\n",
       "      <td>ARS</td>\n",
       "      <td>Argentina</td>\n",
       "      <td>2.50</td>\n",
       "      <td>2.500000</td>\n",
       "    </tr>\n",
       "    <tr>\n",
       "      <th>1</th>\n",
       "      <td>2000-04-01</td>\n",
       "      <td>AUD</td>\n",
       "      <td>Australia</td>\n",
       "      <td>2.59</td>\n",
       "      <td>1.541667</td>\n",
       "    </tr>\n",
       "    <tr>\n",
       "      <th>2</th>\n",
       "      <td>2000-04-01</td>\n",
       "      <td>BRL</td>\n",
       "      <td>Brazil</td>\n",
       "      <td>2.95</td>\n",
       "      <td>1.648045</td>\n",
       "    </tr>\n",
       "    <tr>\n",
       "      <th>3</th>\n",
       "      <td>2000-04-01</td>\n",
       "      <td>CAD</td>\n",
       "      <td>Canada</td>\n",
       "      <td>2.85</td>\n",
       "      <td>1.938776</td>\n",
       "    </tr>\n",
       "    <tr>\n",
       "      <th>4</th>\n",
       "      <td>2000-04-01</td>\n",
       "      <td>CHF</td>\n",
       "      <td>Switzerland</td>\n",
       "      <td>5.90</td>\n",
       "      <td>3.470588</td>\n",
       "    </tr>\n",
       "  </tbody>\n",
       "</table>\n",
       "</div>"
      ],
      "text/plain": [
       "         Data Codigo_da_moeda         Pais  Preço_local  Preço_em_Dolar\n",
       "0  2000-04-01             ARS    Argentina         2.50        2.500000\n",
       "1  2000-04-01             AUD    Australia         2.59        1.541667\n",
       "2  2000-04-01             BRL       Brazil         2.95        1.648045\n",
       "3  2000-04-01             CAD       Canada         2.85        1.938776\n",
       "4  2000-04-01             CHF  Switzerland         5.90        3.470588"
      ]
     },
     "execution_count": 34,
     "metadata": {},
     "output_type": "execute_result"
    }
   ],
   "source": [
    "data.rename(columns = {'date':'Data',\n",
    "                      'currency_code':'Codigo_da_moeda',\n",
    "                       'name':'Pais',\n",
    "                       'local_price':'Preço_local',\n",
    "                       'dollar_price':'Preço_em_Dolar'\n",
    "                      }, inplace = True)\n",
    "\n",
    "data.head(5)"
   ]
  },
  {
   "cell_type": "markdown",
   "id": "11304ace",
   "metadata": {},
   "source": [
    "Pois bem, é de pouco conhecimento que um mero sanduíche tenha relação com a economia."
   ]
  },
  {
   "cell_type": "markdown",
   "id": "8a938bbc",
   "metadata": {},
   "source": [
    "Você em algum momento há deve ter ouvido falar que o o McDonalds possuí lanches diferentes para cada, no entanto, existe um lanche em específico que é padrão para todos os MacDonalds, e esse lanche, é o famose *Big Mac*"
   ]
  },
  {
   "cell_type": "markdown",
   "id": "b008c743",
   "metadata": {},
   "source": [
    "Mas então, o que ele tem haver com a economia ?\n",
    "Existe um conceito no mundo das finanças chamado de PPC (paridade pode de compra) que tenta comparar o pode de compra nas diversas economias ao redor do mundo, que nitidamente, não algo facíl o qual se possa fazer comparações, mas ai que entra o *Big Mac*, para realizar essa comparações, por ser um  produto em comun na maior parte das economias."
   ]
  },
  {
   "cell_type": "markdown",
   "id": "83a76bd8",
   "metadata": {},
   "source": [
    "## Quais são as das analisadas?"
   ]
  },
  {
   "cell_type": "code",
   "execution_count": 91,
   "id": "cdbe12f5",
   "metadata": {},
   "outputs": [
    {
     "data": {
      "text/plain": [
       "array(['2000-04-01', '2001-04-01', '2002-04-01', '2003-04-01',\n",
       "       '2004-05-01', '2005-06-01', '2006-01-01', '2006-05-01',\n",
       "       '2007-01-01', '2007-06-01', '2008-06-01', '2009-07-01',\n",
       "       '2010-01-01', '2010-07-01', '2011-07-01', '2012-01-01',\n",
       "       '2012-07-01', '2013-01-01', '2013-07-01', '2014-01-01',\n",
       "       '2014-07-01', '2015-01-01', '2015-07-01', '2016-01-01',\n",
       "       '2016-07-01', '2017-01-01', '2017-07-01', '2018-01-01',\n",
       "       '2018-07-01', '2019-01-01', '2019-07-09', '2020-01-14',\n",
       "       '2020-07-01', '2021-01-01', '2021-07-01'], dtype=object)"
      ]
     },
     "execution_count": 91,
     "metadata": {},
     "output_type": "execute_result"
    }
   ],
   "source": [
    "data['Data'].unique()"
   ]
  },
  {
   "cell_type": "markdown",
   "id": "41cebaec",
   "metadata": {},
   "source": [
    "### Quantos países foram analisados nesse dataset?"
   ]
  },
  {
   "cell_type": "code",
   "execution_count": 132,
   "id": "e359cc04",
   "metadata": {},
   "outputs": [
    {
     "data": {
      "text/plain": [
       "58"
      ]
     },
     "execution_count": 132,
     "metadata": {},
     "output_type": "execute_result"
    }
   ],
   "source": [
    "len(data['Pais'].unique())"
   ]
  },
  {
   "cell_type": "markdown",
   "id": "d3bb0c0c",
   "metadata": {},
   "source": [
    "(58  país)"
   ]
  },
  {
   "cell_type": "code",
   "execution_count": 86,
   "id": "52237b0d",
   "metadata": {},
   "outputs": [
    {
     "data": {
      "text/html": [
       "<div>\n",
       "<style scoped>\n",
       "    .dataframe tbody tr th:only-of-type {\n",
       "        vertical-align: middle;\n",
       "    }\n",
       "\n",
       "    .dataframe tbody tr th {\n",
       "        vertical-align: top;\n",
       "    }\n",
       "\n",
       "    .dataframe thead th {\n",
       "        text-align: right;\n",
       "    }\n",
       "</style>\n",
       "<table border=\"1\" class=\"dataframe\">\n",
       "  <thead>\n",
       "    <tr style=\"text-align: right;\">\n",
       "      <th></th>\n",
       "      <th>Data</th>\n",
       "      <th>Codigo_da_moeda</th>\n",
       "      <th>Pais</th>\n",
       "      <th>Preço_local</th>\n",
       "      <th>Preço_em_Dolar</th>\n",
       "    </tr>\n",
       "  </thead>\n",
       "  <tbody>\n",
       "    <tr>\n",
       "      <th>688</th>\n",
       "      <td>2013-01-01</td>\n",
       "      <td>VEF</td>\n",
       "      <td>Venezuela</td>\n",
       "      <td>39.0</td>\n",
       "      <td>9.081066</td>\n",
       "    </tr>\n",
       "    <tr>\n",
       "      <th>1517</th>\n",
       "      <td>2021-07-01</td>\n",
       "      <td>VES</td>\n",
       "      <td>Venezuela</td>\n",
       "      <td>30164100.0</td>\n",
       "      <td>8.346483</td>\n",
       "    </tr>\n",
       "    <tr>\n",
       "      <th>545</th>\n",
       "      <td>2011-07-01</td>\n",
       "      <td>NOK</td>\n",
       "      <td>Norway</td>\n",
       "      <td>45.0</td>\n",
       "      <td>8.311708</td>\n",
       "    </tr>\n",
       "  </tbody>\n",
       "</table>\n",
       "</div>"
      ],
      "text/plain": [
       "            Data Codigo_da_moeda       Pais  Preço_local  Preço_em_Dolar\n",
       "688   2013-01-01             VEF  Venezuela         39.0        9.081066\n",
       "1517  2021-07-01             VES  Venezuela   30164100.0        8.346483\n",
       "545   2011-07-01             NOK     Norway         45.0        8.311708"
      ]
     },
     "execution_count": 86,
     "metadata": {},
     "output_type": "execute_result"
    }
   ],
   "source": [
    "data.sort_values(by = 'Preço_em_Dolar', ascending = False).head(3) #ordenando por preço em dolar de forma nao ascendente"
   ]
  },
  {
   "cell_type": "markdown",
   "id": "4b57f1d6",
   "metadata": {},
   "source": [
    "Dos 3 maiores valores para Big mac ja registrados quando considerando o preço em dolar, 2 primeira posições são da venezuela, que. considerando somente esse dataSet, ja podemos afirmar que, a veneluela tem o Big Mac mais caro do mundo"
   ]
  },
  {
   "cell_type": "code",
   "execution_count": 87,
   "id": "011ca1df",
   "metadata": {},
   "outputs": [
    {
     "data": {
      "text/html": [
       "<div>\n",
       "<style scoped>\n",
       "    .dataframe tbody tr th:only-of-type {\n",
       "        vertical-align: middle;\n",
       "    }\n",
       "\n",
       "    .dataframe tbody tr th {\n",
       "        vertical-align: top;\n",
       "    }\n",
       "\n",
       "    .dataframe thead th {\n",
       "        text-align: right;\n",
       "    }\n",
       "</style>\n",
       "<table border=\"1\" class=\"dataframe\">\n",
       "  <thead>\n",
       "    <tr style=\"text-align: right;\">\n",
       "      <th></th>\n",
       "      <th>Data</th>\n",
       "      <th>Codigo_da_moeda</th>\n",
       "      <th>Pais</th>\n",
       "      <th>Preço_local</th>\n",
       "      <th>Preço_em_Dolar</th>\n",
       "    </tr>\n",
       "  </thead>\n",
       "  <tbody>\n",
       "    <tr>\n",
       "      <th>150</th>\n",
       "      <td>2004-05-01</td>\n",
       "      <td>SAR</td>\n",
       "      <td>Saudi Arabia</td>\n",
       "      <td>2.4</td>\n",
       "      <td>0.639966</td>\n",
       "    </tr>\n",
       "    <tr>\n",
       "      <th>949</th>\n",
       "      <td>2016-01-01</td>\n",
       "      <td>VEF</td>\n",
       "      <td>Venezuela</td>\n",
       "      <td>132.0</td>\n",
       "      <td>0.664323</td>\n",
       "    </tr>\n",
       "    <tr>\n",
       "      <th>905</th>\n",
       "      <td>2015-07-01</td>\n",
       "      <td>VEF</td>\n",
       "      <td>Venezuela</td>\n",
       "      <td>132.0</td>\n",
       "      <td>0.670051</td>\n",
       "    </tr>\n",
       "  </tbody>\n",
       "</table>\n",
       "</div>"
      ],
      "text/plain": [
       "           Data Codigo_da_moeda          Pais  Preço_local  Preço_em_Dolar\n",
       "150  2004-05-01             SAR  Saudi Arabia          2.4        0.639966\n",
       "949  2016-01-01             VEF     Venezuela        132.0        0.664323\n",
       "905  2015-07-01             VEF     Venezuela        132.0        0.670051"
      ]
     },
     "execution_count": 87,
     "metadata": {},
     "output_type": "execute_result"
    }
   ],
   "source": [
    "data.sort_values(by = 'Preço_em_Dolar', ascending = True ).head(3) #ordenando por preço em dolar  de forma ascendente"
   ]
  },
  {
   "cell_type": "markdown",
   "id": "780a2b50",
   "metadata": {},
   "source": [
    "Aqui nos 3 mais baratos, vemos que a venezula também aparece, mas note o preço local, o quão elevado também. Da moeda da venuzuela para o dolar, a conversão daria apenas 66 a 67 centavos de dolar"
   ]
  },
  {
   "cell_type": "markdown",
   "id": "0bd07ebe",
   "metadata": {},
   "source": [
    "Entao talvez devessemos também uma olhada por preço local"
   ]
  },
  {
   "cell_type": "code",
   "execution_count": 89,
   "id": "b8958d6b",
   "metadata": {},
   "outputs": [
    {
     "data": {
      "text/html": [
       "<div>\n",
       "<style scoped>\n",
       "    .dataframe tbody tr th:only-of-type {\n",
       "        vertical-align: middle;\n",
       "    }\n",
       "\n",
       "    .dataframe tbody tr th {\n",
       "        vertical-align: top;\n",
       "    }\n",
       "\n",
       "    .dataframe thead th {\n",
       "        text-align: right;\n",
       "    }\n",
       "</style>\n",
       "<table border=\"1\" class=\"dataframe\">\n",
       "  <thead>\n",
       "    <tr style=\"text-align: right;\">\n",
       "      <th></th>\n",
       "      <th>Data</th>\n",
       "      <th>Codigo_da_moeda</th>\n",
       "      <th>Pais</th>\n",
       "      <th>Preço_local</th>\n",
       "      <th>Preço_em_Dolar</th>\n",
       "    </tr>\n",
       "  </thead>\n",
       "  <tbody>\n",
       "    <tr>\n",
       "      <th>1517</th>\n",
       "      <td>2021-07-01</td>\n",
       "      <td>VES</td>\n",
       "      <td>Venezuela</td>\n",
       "      <td>30164100.0</td>\n",
       "      <td>8.346483</td>\n",
       "    </tr>\n",
       "    <tr>\n",
       "      <th>84</th>\n",
       "      <td>2002-04-01</td>\n",
       "      <td>TRY</td>\n",
       "      <td>Turkey</td>\n",
       "      <td>4000000.0</td>\n",
       "      <td>3.020008</td>\n",
       "    </tr>\n",
       "    <tr>\n",
       "      <th>154</th>\n",
       "      <td>2004-05-01</td>\n",
       "      <td>TRY</td>\n",
       "      <td>Turkey</td>\n",
       "      <td>3950000.0</td>\n",
       "      <td>2.580013</td>\n",
       "    </tr>\n",
       "  </tbody>\n",
       "</table>\n",
       "</div>"
      ],
      "text/plain": [
       "            Data Codigo_da_moeda       Pais  Preço_local  Preço_em_Dolar\n",
       "1517  2021-07-01             VES  Venezuela   30164100.0        8.346483\n",
       "84    2002-04-01             TRY     Turkey    4000000.0        3.020008\n",
       "154   2004-05-01             TRY     Turkey    3950000.0        2.580013"
      ]
     },
     "execution_count": 89,
     "metadata": {},
     "output_type": "execute_result"
    }
   ],
   "source": [
    "data.sort_values(by = 'Preço_local', ascending = False ).head(3) #ordenando por preço local de forma nao ascendente"
   ]
  },
  {
   "cell_type": "code",
   "execution_count": 90,
   "id": "72126330",
   "metadata": {},
   "outputs": [
    {
     "data": {
      "text/html": [
       "<div>\n",
       "<style scoped>\n",
       "    .dataframe tbody tr th:only-of-type {\n",
       "        vertical-align: middle;\n",
       "    }\n",
       "\n",
       "    .dataframe tbody tr th {\n",
       "        vertical-align: top;\n",
       "    }\n",
       "\n",
       "    .dataframe thead th {\n",
       "        text-align: right;\n",
       "    }\n",
       "</style>\n",
       "<table border=\"1\" class=\"dataframe\">\n",
       "  <thead>\n",
       "    <tr style=\"text-align: right;\">\n",
       "      <th></th>\n",
       "      <th>Data</th>\n",
       "      <th>Codigo_da_moeda</th>\n",
       "      <th>Pais</th>\n",
       "      <th>Preço_local</th>\n",
       "      <th>Preço_em_Dolar</th>\n",
       "    </tr>\n",
       "  </thead>\n",
       "  <tbody>\n",
       "    <tr>\n",
       "      <th>1155</th>\n",
       "      <td>2018-07-01</td>\n",
       "      <td>KWD</td>\n",
       "      <td>Kuwait</td>\n",
       "      <td>1.05</td>\n",
       "      <td>3.471074</td>\n",
       "    </tr>\n",
       "    <tr>\n",
       "      <th>1220</th>\n",
       "      <td>2019-01-01</td>\n",
       "      <td>OMR</td>\n",
       "      <td>Oman</td>\n",
       "      <td>1.05</td>\n",
       "      <td>2.727981</td>\n",
       "    </tr>\n",
       "    <tr>\n",
       "      <th>1164</th>\n",
       "      <td>2018-07-01</td>\n",
       "      <td>OMR</td>\n",
       "      <td>Oman</td>\n",
       "      <td>1.05</td>\n",
       "      <td>2.727273</td>\n",
       "    </tr>\n",
       "  </tbody>\n",
       "</table>\n",
       "</div>"
      ],
      "text/plain": [
       "            Data Codigo_da_moeda    Pais  Preço_local  Preço_em_Dolar\n",
       "1155  2018-07-01             KWD  Kuwait         1.05        3.471074\n",
       "1220  2019-01-01             OMR    Oman         1.05        2.727981\n",
       "1164  2018-07-01             OMR    Oman         1.05        2.727273"
      ]
     },
     "execution_count": 90,
     "metadata": {},
     "output_type": "execute_result"
    }
   ],
   "source": [
    "data.sort_values(by = 'Preço_local', ascending = True ).head(3) #ordenando por preço local de forma ascendente"
   ]
  },
  {
   "cell_type": "markdown",
   "id": "52949af6",
   "metadata": {},
   "source": [
    "Localmente, a venezuela tambem tem o maior valor mais lato, mas, a história muda quando vemos os menores valor locais. dando a primeira posição para o Kwait, que registrou o menor valor para o Big Mac em 2018 localmente"
   ]
  },
  {
   "cell_type": "markdown",
   "id": "c03c57d6",
   "metadata": {},
   "source": [
    "Para endermos um pouco melhor o caso da venezuela, vejamos pois o quanto o preço do Big Mac disparou por la de 2000 a 2021"
   ]
  },
  {
   "cell_type": "code",
   "execution_count": 96,
   "id": "acf64c0b",
   "metadata": {},
   "outputs": [],
   "source": [
    "DataVenezuela = data.query(\" Pais == 'Venezuela'\").sort_values(by = 'Preço_local', ascending = True )"
   ]
  },
  {
   "cell_type": "code",
   "execution_count": 104,
   "id": "57ae9a69",
   "metadata": {},
   "outputs": [
    {
     "data": {
      "text/plain": [
       "min           28.00\n",
       "max     30164100.00\n",
       "mean     1373793.78\n",
       "Name: Preço_local, dtype: float64"
      ]
     },
     "execution_count": 104,
     "metadata": {},
     "output_type": "execute_result"
    }
   ],
   "source": [
    "DataVenezuela['Preço_local'].aggregate(['min','max','mean']).round(2)"
   ]
  },
  {
   "cell_type": "markdown",
   "id": "fb2a185f",
   "metadata": {},
   "source": [
    "Acima podemos avaliar o salto impressionante de valor localmente, indo de 28 bolivares a a 30 milhoes de bolivares, um aumento de 107,728,828%"
   ]
  },
  {
   "cell_type": "markdown",
   "id": "e9a6bf69",
   "metadata": {},
   "source": [
    "A principal moeada no mundo atualmente é o dollar, portanto, iremos utlizar o que o mesmo como base"
   ]
  },
  {
   "cell_type": "markdown",
   "id": "e68b8e30",
   "metadata": {},
   "source": [
    "o Data Set exibe valore de 2000 a 2021"
   ]
  },
  {
   "cell_type": "code",
   "execution_count": 72,
   "id": "21f107b1",
   "metadata": {
    "scrolled": true
   },
   "outputs": [],
   "source": [
    "dataUSA = data[['Pais','Preço_em_Dolar']].query(\" Pais == 'United States'\")"
   ]
  },
  {
   "cell_type": "code",
   "execution_count": 76,
   "id": "24b7872e",
   "metadata": {},
   "outputs": [
    {
     "data": {
      "text/html": [
       "<div>\n",
       "<style scoped>\n",
       "    .dataframe tbody tr th:only-of-type {\n",
       "        vertical-align: middle;\n",
       "    }\n",
       "\n",
       "    .dataframe tbody tr th {\n",
       "        vertical-align: top;\n",
       "    }\n",
       "\n",
       "    .dataframe thead th {\n",
       "        text-align: right;\n",
       "    }\n",
       "</style>\n",
       "<table border=\"1\" class=\"dataframe\">\n",
       "  <thead>\n",
       "    <tr style=\"text-align: right;\">\n",
       "      <th></th>\n",
       "      <th>Pais</th>\n",
       "      <th>Preço_em_Dolar</th>\n",
       "    </tr>\n",
       "  </thead>\n",
       "  <tbody>\n",
       "    <tr>\n",
       "      <th>26</th>\n",
       "      <td>United States</td>\n",
       "      <td>2.51</td>\n",
       "    </tr>\n",
       "    <tr>\n",
       "      <th>54</th>\n",
       "      <td>United States</td>\n",
       "      <td>2.54</td>\n",
       "    </tr>\n",
       "    <tr>\n",
       "      <th>86</th>\n",
       "      <td>United States</td>\n",
       "      <td>2.49</td>\n",
       "    </tr>\n",
       "    <tr>\n",
       "      <th>118</th>\n",
       "      <td>United States</td>\n",
       "      <td>2.71</td>\n",
       "    </tr>\n",
       "    <tr>\n",
       "      <th>158</th>\n",
       "      <td>United States</td>\n",
       "      <td>2.90</td>\n",
       "    </tr>\n",
       "  </tbody>\n",
       "</table>\n",
       "</div>"
      ],
      "text/plain": [
       "              Pais  Preço_em_Dolar\n",
       "26   United States            2.51\n",
       "54   United States            2.54\n",
       "86   United States            2.49\n",
       "118  United States            2.71\n",
       "158  United States            2.90"
      ]
     },
     "execution_count": 76,
     "metadata": {},
     "output_type": "execute_result"
    }
   ],
   "source": [
    "dataUSA['Preço_em_Dolar'] = dataUSA.apply(lambda x: round(x['Preço_em_Dolar'], 2), axis=1)\n",
    "dataUSA.head(5)"
   ]
  },
  {
   "cell_type": "code",
   "execution_count": 78,
   "id": "9e737946",
   "metadata": {},
   "outputs": [
    {
     "data": {
      "text/plain": [
       "4.26"
      ]
     },
     "execution_count": 78,
     "metadata": {},
     "output_type": "execute_result"
    }
   ],
   "source": [
    "round(dataUSA['Preço_em_Dolar'].mean(), 2)"
   ]
  },
  {
   "cell_type": "markdown",
   "id": "2a478b68",
   "metadata": {},
   "source": [
    "A média do valor do Big Mac nos Estados Unidos, de considerando de 2000 a 2021 é de $4.26"
   ]
  },
  {
   "cell_type": "markdown",
   "id": "49af3a34",
   "metadata": {},
   "source": [
    "# Agrupamento por pais"
   ]
  },
  {
   "cell_type": "code",
   "execution_count": 107,
   "id": "748d4c5e",
   "metadata": {},
   "outputs": [],
   "source": [
    "grupoPais = data.groupby('Pais')"
   ]
  },
  {
   "cell_type": "code",
   "execution_count": 128,
   "id": "a648752d",
   "metadata": {},
   "outputs": [
    {
     "data": {
      "text/html": [
       "<div>\n",
       "<style scoped>\n",
       "    .dataframe tbody tr th:only-of-type {\n",
       "        vertical-align: middle;\n",
       "    }\n",
       "\n",
       "    .dataframe tbody tr th {\n",
       "        vertical-align: top;\n",
       "    }\n",
       "\n",
       "    .dataframe thead th {\n",
       "        text-align: right;\n",
       "    }\n",
       "</style>\n",
       "<table border=\"1\" class=\"dataframe\">\n",
       "  <thead>\n",
       "    <tr style=\"text-align: right;\">\n",
       "      <th></th>\n",
       "      <th>Media</th>\n",
       "      <th>Valor Maximo</th>\n",
       "      <th>Valor MInimo</th>\n",
       "    </tr>\n",
       "    <tr>\n",
       "      <th>Pais</th>\n",
       "      <th></th>\n",
       "      <th></th>\n",
       "      <th></th>\n",
       "    </tr>\n",
       "  </thead>\n",
       "  <tbody>\n",
       "    <tr>\n",
       "      <th>Norway</th>\n",
       "      <td>6.377710</td>\n",
       "      <td>8.311708</td>\n",
       "      <td>4.088785</td>\n",
       "    </tr>\n",
       "    <tr>\n",
       "      <th>Switzerland</th>\n",
       "      <td>6.137853</td>\n",
       "      <td>8.063016</td>\n",
       "      <td>3.470588</td>\n",
       "    </tr>\n",
       "    <tr>\n",
       "      <th>Sweden</th>\n",
       "      <td>5.242570</td>\n",
       "      <td>7.639854</td>\n",
       "      <td>2.334630</td>\n",
       "    </tr>\n",
       "    <tr>\n",
       "      <th>Denmark</th>\n",
       "      <td>4.715777</td>\n",
       "      <td>5.993859</td>\n",
       "      <td>2.925532</td>\n",
       "    </tr>\n",
       "    <tr>\n",
       "      <th>Israel</th>\n",
       "      <td>4.403190</td>\n",
       "      <td>5.347594</td>\n",
       "      <td>2.505219</td>\n",
       "    </tr>\n",
       "    <tr>\n",
       "      <th>Venezuela</th>\n",
       "      <td>4.317168</td>\n",
       "      <td>9.081066</td>\n",
       "      <td>0.664323</td>\n",
       "    </tr>\n",
       "    <tr>\n",
       "      <th>United States</th>\n",
       "      <td>4.262465</td>\n",
       "      <td>5.740000</td>\n",
       "      <td>2.490000</td>\n",
       "    </tr>\n",
       "    <tr>\n",
       "      <th>Euro area</th>\n",
       "      <td>4.223122</td>\n",
       "      <td>5.342705</td>\n",
       "      <td>2.261600</td>\n",
       "    </tr>\n",
       "    <tr>\n",
       "      <th>Canada</th>\n",
       "      <td>4.164800</td>\n",
       "      <td>5.394356</td>\n",
       "      <td>1.938776</td>\n",
       "    </tr>\n",
       "    <tr>\n",
       "      <th>Brazil</th>\n",
       "      <td>4.094811</td>\n",
       "      <td>6.162429</td>\n",
       "      <td>1.482085</td>\n",
       "    </tr>\n",
       "  </tbody>\n",
       "</table>\n",
       "</div>"
      ],
      "text/plain": [
       "                  Media  Valor Maximo  Valor MInimo\n",
       "Pais                                               \n",
       "Norway         6.377710      8.311708      4.088785\n",
       "Switzerland    6.137853      8.063016      3.470588\n",
       "Sweden         5.242570      7.639854      2.334630\n",
       "Denmark        4.715777      5.993859      2.925532\n",
       "Israel         4.403190      5.347594      2.505219\n",
       "Venezuela      4.317168      9.081066      0.664323\n",
       "United States  4.262465      5.740000      2.490000\n",
       "Euro area      4.223122      5.342705      2.261600\n",
       "Canada         4.164800      5.394356      1.938776\n",
       "Brazil         4.094811      6.162429      1.482085"
      ]
     },
     "execution_count": 128,
     "metadata": {},
     "output_type": "execute_result"
    }
   ],
   "source": [
    "pd.DataFrame(grupoPais['Preço_em_Dolar'].aggregate(\n",
    "    ['mean','max','min']).sort_values(\n",
    "    by = 'mean', ascending = False)).rename( #Ordenando pela média da maior para a menor\n",
    "    columns = {'mean':'Media', 'max' : 'Valor Maximo','min':'Valor MInimo'}).head(10) "
   ]
  },
  {
   "cell_type": "markdown",
   "id": "d76bc3d4",
   "metadata": {},
   "source": [
    "Acima se pode avaliar as 10 maiores médias do preço do Big em dolar\n",
    "Não surpreendendo ninguém, o Brasil entrou nessa lista, tendo a décima maior média de preço.\n",
    "Lembrando que ordenamos pela media, mas se ordenarmos pelos maiores avaloresregistrador?"
   ]
  },
  {
   "cell_type": "code",
   "execution_count": 129,
   "id": "61a69dc0",
   "metadata": {},
   "outputs": [
    {
     "data": {
      "text/html": [
       "<div>\n",
       "<style scoped>\n",
       "    .dataframe tbody tr th:only-of-type {\n",
       "        vertical-align: middle;\n",
       "    }\n",
       "\n",
       "    .dataframe tbody tr th {\n",
       "        vertical-align: top;\n",
       "    }\n",
       "\n",
       "    .dataframe thead th {\n",
       "        text-align: right;\n",
       "    }\n",
       "</style>\n",
       "<table border=\"1\" class=\"dataframe\">\n",
       "  <thead>\n",
       "    <tr style=\"text-align: right;\">\n",
       "      <th></th>\n",
       "      <th>Media</th>\n",
       "      <th>Valor Maximo</th>\n",
       "      <th>Valor MInimo</th>\n",
       "    </tr>\n",
       "    <tr>\n",
       "      <th>Pais</th>\n",
       "      <th></th>\n",
       "      <th></th>\n",
       "      <th></th>\n",
       "    </tr>\n",
       "  </thead>\n",
       "  <tbody>\n",
       "    <tr>\n",
       "      <th>Venezuela</th>\n",
       "      <td>4.317168</td>\n",
       "      <td>9.081066</td>\n",
       "      <td>0.664323</td>\n",
       "    </tr>\n",
       "    <tr>\n",
       "      <th>Norway</th>\n",
       "      <td>6.377710</td>\n",
       "      <td>8.311708</td>\n",
       "      <td>4.088785</td>\n",
       "    </tr>\n",
       "    <tr>\n",
       "      <th>Switzerland</th>\n",
       "      <td>6.137853</td>\n",
       "      <td>8.063016</td>\n",
       "      <td>3.470588</td>\n",
       "    </tr>\n",
       "    <tr>\n",
       "      <th>Sweden</th>\n",
       "      <td>5.242570</td>\n",
       "      <td>7.639854</td>\n",
       "      <td>2.334630</td>\n",
       "    </tr>\n",
       "    <tr>\n",
       "      <th>Brazil</th>\n",
       "      <td>4.094811</td>\n",
       "      <td>6.162429</td>\n",
       "      <td>1.482085</td>\n",
       "    </tr>\n",
       "    <tr>\n",
       "      <th>Denmark</th>\n",
       "      <td>4.715777</td>\n",
       "      <td>5.993859</td>\n",
       "      <td>2.925532</td>\n",
       "    </tr>\n",
       "    <tr>\n",
       "      <th>Lebanon</th>\n",
       "      <td>3.803870</td>\n",
       "      <td>5.952381</td>\n",
       "      <td>1.681818</td>\n",
       "    </tr>\n",
       "    <tr>\n",
       "      <th>United States</th>\n",
       "      <td>4.262465</td>\n",
       "      <td>5.740000</td>\n",
       "      <td>2.490000</td>\n",
       "    </tr>\n",
       "    <tr>\n",
       "      <th>Uruguay</th>\n",
       "      <td>3.982612</td>\n",
       "      <td>5.446058</td>\n",
       "      <td>1.002186</td>\n",
       "    </tr>\n",
       "    <tr>\n",
       "      <th>Canada</th>\n",
       "      <td>4.164800</td>\n",
       "      <td>5.394356</td>\n",
       "      <td>1.938776</td>\n",
       "    </tr>\n",
       "  </tbody>\n",
       "</table>\n",
       "</div>"
      ],
      "text/plain": [
       "                  Media  Valor Maximo  Valor MInimo\n",
       "Pais                                               \n",
       "Venezuela      4.317168      9.081066      0.664323\n",
       "Norway         6.377710      8.311708      4.088785\n",
       "Switzerland    6.137853      8.063016      3.470588\n",
       "Sweden         5.242570      7.639854      2.334630\n",
       "Brazil         4.094811      6.162429      1.482085\n",
       "Denmark        4.715777      5.993859      2.925532\n",
       "Lebanon        3.803870      5.952381      1.681818\n",
       "United States  4.262465      5.740000      2.490000\n",
       "Uruguay        3.982612      5.446058      1.002186\n",
       "Canada         4.164800      5.394356      1.938776"
      ]
     },
     "execution_count": 129,
     "metadata": {},
     "output_type": "execute_result"
    }
   ],
   "source": [
    "pd.DataFrame(grupoPais['Preço_em_Dolar'].aggregate(\n",
    "    ['mean','max','min']).sort_values(\n",
    "    by = 'max', ascending = False)).rename( #Ordenando pelo max da maior para a menor\n",
    "    columns = {'mean':'Media', 'max' : 'Valor Maximo','min':'Valor MInimo'}).head(10) "
   ]
  },
  {
   "cell_type": "markdown",
   "id": "2b9ea1ae",
   "metadata": {},
   "source": [
    "Como ja esperado,  maior parte dos países onde se tinha uma média alta, também entraram para esse ponto de vista.\n",
    "O Brasil subiu algumas posições, tendo tido o quinto maior valor para um Big Mac dentre os 58 país analisados"
   ]
  },
  {
   "cell_type": "code",
   "execution_count": 144,
   "id": "6ae6c678",
   "metadata": {},
   "outputs": [
    {
     "data": {
      "text/html": [
       "<div>\n",
       "<style scoped>\n",
       "    .dataframe tbody tr th:only-of-type {\n",
       "        vertical-align: middle;\n",
       "    }\n",
       "\n",
       "    .dataframe tbody tr th {\n",
       "        vertical-align: top;\n",
       "    }\n",
       "\n",
       "    .dataframe thead th {\n",
       "        text-align: right;\n",
       "    }\n",
       "</style>\n",
       "<table border=\"1\" class=\"dataframe\">\n",
       "  <thead>\n",
       "    <tr style=\"text-align: right;\">\n",
       "      <th></th>\n",
       "      <th>Media</th>\n",
       "      <th>Valor Maximo</th>\n",
       "      <th>Valor MInimo</th>\n",
       "    </tr>\n",
       "    <tr>\n",
       "      <th>Pais</th>\n",
       "      <th></th>\n",
       "      <th></th>\n",
       "      <th></th>\n",
       "    </tr>\n",
       "  </thead>\n",
       "  <tbody>\n",
       "    <tr>\n",
       "      <th>Venezuela</th>\n",
       "      <td>4.317168</td>\n",
       "      <td>9.081066</td>\n",
       "      <td>0.664323</td>\n",
       "    </tr>\n",
       "    <tr>\n",
       "      <th>Norway</th>\n",
       "      <td>6.377710</td>\n",
       "      <td>8.311708</td>\n",
       "      <td>4.088785</td>\n",
       "    </tr>\n",
       "    <tr>\n",
       "      <th>Switzerland</th>\n",
       "      <td>6.137853</td>\n",
       "      <td>8.063016</td>\n",
       "      <td>3.470588</td>\n",
       "    </tr>\n",
       "    <tr>\n",
       "      <th>Sweden</th>\n",
       "      <td>5.242570</td>\n",
       "      <td>7.639854</td>\n",
       "      <td>2.334630</td>\n",
       "    </tr>\n",
       "    <tr>\n",
       "      <th>Brazil</th>\n",
       "      <td>4.094811</td>\n",
       "      <td>6.162429</td>\n",
       "      <td>1.482085</td>\n",
       "    </tr>\n",
       "    <tr>\n",
       "      <th>Denmark</th>\n",
       "      <td>4.715777</td>\n",
       "      <td>5.993859</td>\n",
       "      <td>2.925532</td>\n",
       "    </tr>\n",
       "    <tr>\n",
       "      <th>Lebanon</th>\n",
       "      <td>3.803870</td>\n",
       "      <td>5.952381</td>\n",
       "      <td>1.681818</td>\n",
       "    </tr>\n",
       "    <tr>\n",
       "      <th>United States</th>\n",
       "      <td>4.262465</td>\n",
       "      <td>5.740000</td>\n",
       "      <td>2.490000</td>\n",
       "    </tr>\n",
       "    <tr>\n",
       "      <th>Uruguay</th>\n",
       "      <td>3.982612</td>\n",
       "      <td>5.446058</td>\n",
       "      <td>1.002186</td>\n",
       "    </tr>\n",
       "    <tr>\n",
       "      <th>Canada</th>\n",
       "      <td>4.164800</td>\n",
       "      <td>5.394356</td>\n",
       "      <td>1.938776</td>\n",
       "    </tr>\n",
       "  </tbody>\n",
       "</table>\n",
       "</div>"
      ],
      "text/plain": [
       "                  Media  Valor Maximo  Valor MInimo\n",
       "Pais                                               \n",
       "Venezuela      4.317168      9.081066      0.664323\n",
       "Norway         6.377710      8.311708      4.088785\n",
       "Switzerland    6.137853      8.063016      3.470588\n",
       "Sweden         5.242570      7.639854      2.334630\n",
       "Brazil         4.094811      6.162429      1.482085\n",
       "Denmark        4.715777      5.993859      2.925532\n",
       "Lebanon        3.803870      5.952381      1.681818\n",
       "United States  4.262465      5.740000      2.490000\n",
       "Uruguay        3.982612      5.446058      1.002186\n",
       "Canada         4.164800      5.394356      1.938776"
      ]
     },
     "execution_count": 144,
     "metadata": {},
     "output_type": "execute_result"
    }
   ],
   "source": [
    "grafico = pd.DataFrame(grupoPais['Preço_em_Dolar'].aggregate(\n",
    "    ['mean','max','min']).sort_values(\n",
    "    by = 'max', ascending = False)).rename( #Ordenando pelo max da maior para a menor\n",
    "    columns = {'mean':'Media', 'max' : 'Valor Maximo','min':'Valor MInimo'}).head(10) \n",
    "grafico"
   ]
  },
  {
   "cell_type": "markdown",
   "id": "95dbd3a1",
   "metadata": {},
   "source": [
    "## Ainda ficou com duvida ? talvez um estimulante visual ajude"
   ]
  },
  {
   "cell_type": "code",
   "execution_count": 159,
   "id": "79d75149",
   "metadata": {},
   "outputs": [],
   "source": [
    "import seaborn as sns\n",
    "import matplotlib.pyplot as plt"
   ]
  },
  {
   "cell_type": "code",
   "execution_count": 161,
   "id": "243adefb",
   "metadata": {},
   "outputs": [
    {
     "data": {
      "image/png": "[encoded data removed]",
      "text/plain": [
       "<Figure size 1080x576 with 1 Axes>"
      ]
     },
     "metadata": {
      "needs_background": "light"
     },
     "output_type": "display_data"
    }
   ],
   "source": [
    "fig_dims = (15,8)\n",
    "fig, ax = plt.subplots(figsize=fig_dims)\n",
    "ax = sns.barplot(x = grafico.index, y = \"Valor Maximo\", data = grafico)\n"
   ]
  },
  {
   "cell_type": "markdown",
   "id": "ba5779b8",
   "metadata": {},
   "source": [
    "# Regressão técnica de regressão linear"
   ]
  },
  {
   "cell_type": "markdown",
   "id": "b20ef5fb",
   "metadata": {},
   "source": [
    "O que é a regressão linear"
   ]
  },
  {
   "cell_type": "markdown",
   "id": "c88ddf5e",
   "metadata": {},
   "source": [
    "\"A análise de regressão linear gera uma equação que descreve a relação estatística entre uma ou mais variáveis preditoras e a variável resposta. \"\n",
    "\n",
    "Diponível em: https://www.fm2s.com.br/regressao-linear-economizar-milhoes/"
   ]
  },
  {
   "cell_type": "code",
   "execution_count": 163,
   "id": "d01d7e73",
   "metadata": {},
   "outputs": [
    {
     "data": {
      "text/html": [
       "<div>\n",
       "<style scoped>\n",
       "    .dataframe tbody tr th:only-of-type {\n",
       "        vertical-align: middle;\n",
       "    }\n",
       "\n",
       "    .dataframe tbody tr th {\n",
       "        vertical-align: top;\n",
       "    }\n",
       "\n",
       "    .dataframe thead th {\n",
       "        text-align: right;\n",
       "    }\n",
       "</style>\n",
       "<table border=\"1\" class=\"dataframe\">\n",
       "  <thead>\n",
       "    <tr style=\"text-align: right;\">\n",
       "      <th></th>\n",
       "      <th>Data</th>\n",
       "      <th>Codigo_da_moeda</th>\n",
       "      <th>Pais</th>\n",
       "      <th>Preço_local</th>\n",
       "      <th>Preço_em_Dolar</th>\n",
       "    </tr>\n",
       "  </thead>\n",
       "  <tbody>\n",
       "    <tr>\n",
       "      <th>0</th>\n",
       "      <td>2000-04-01</td>\n",
       "      <td>ARS</td>\n",
       "      <td>Argentina</td>\n",
       "      <td>2.50</td>\n",
       "      <td>2.500000</td>\n",
       "    </tr>\n",
       "    <tr>\n",
       "      <th>1</th>\n",
       "      <td>2000-04-01</td>\n",
       "      <td>AUD</td>\n",
       "      <td>Australia</td>\n",
       "      <td>2.59</td>\n",
       "      <td>1.541667</td>\n",
       "    </tr>\n",
       "  </tbody>\n",
       "</table>\n",
       "</div>"
      ],
      "text/plain": [
       "         Data Codigo_da_moeda       Pais  Preço_local  Preço_em_Dolar\n",
       "0  2000-04-01             ARS  Argentina         2.50        2.500000\n",
       "1  2000-04-01             AUD  Australia         2.59        1.541667"
      ]
     },
     "execution_count": 163,
     "metadata": {},
     "output_type": "execute_result"
    }
   ],
   "source": [
    "data.head(2)"
   ]
  },
  {
   "cell_type": "code",
   "execution_count": 167,
   "id": "e08ea753",
   "metadata": {},
   "outputs": [],
   "source": [
    "from sklearn.model_selection import train_test_split\n",
    "from sklearn import linear_model"
   ]
  },
  {
   "cell_type": "code",
   "execution_count": 176,
   "id": "96cd15e1",
   "metadata": {},
   "outputs": [],
   "source": [
    "x = data[['Preço_em_Dolar','Preço_local']]\n",
    "y = data[['Preço_em_Dolar','Preço_local']]"
   ]
  },
  {
   "cell_type": "code",
   "execution_count": 180,
   "id": "f9df64cb",
   "metadata": {},
   "outputs": [],
   "source": [
    "x_train, x_test, y_train, y_test = train_test_split(x, y)"
   ]
  },
  {
   "cell_type": "code",
   "execution_count": 181,
   "id": "c3312c28",
   "metadata": {},
   "outputs": [],
   "source": [
    "rgs = linear_model.LinearRegression(fit_intercept=False, normalize=True)"
   ]
  },
  {
   "cell_type": "code",
   "execution_count": 182,
   "id": "95200953",
   "metadata": {},
   "outputs": [
    {
     "data": {
      "text/plain": [
       "LinearRegression(fit_intercept=False, normalize=True)"
      ]
     },
     "execution_count": 182,
     "metadata": {},
     "output_type": "execute_result"
    }
   ],
   "source": [
    "rgs.fit(x_train, y_train)"
   ]
  },
  {
   "cell_type": "code",
   "execution_count": 185,
   "id": "0326fa9c",
   "metadata": {},
   "outputs": [
    {
     "name": "stdout",
     "output_type": "stream",
     "text": [
      "Tamanho de X_train: (1140, 2)\n",
      "Tamanho de X_test: (380, 2)\n",
      "Tamanho de y_train: (1140, 2)\n",
      "Tamanho de y_test: (380, 2)\n"
     ]
    }
   ],
   "source": [
    "print(f\"Tamanho de X_train: {x_train.shape}\")\n",
    "print(f\"Tamanho de X_test: {x_test.shape}\")\n",
    "print(f\"Tamanho de y_train: {y_train.shape}\")\n",
    "print(f\"Tamanho de y_test: {y_test.shape}\")"
   ]
  },
  {
   "cell_type": "code",
   "execution_count": 183,
   "id": "72fd9514",
   "metadata": {},
   "outputs": [
    {
     "data": {
      "text/plain": [
       "1.0"
      ]
     },
     "execution_count": 183,
     "metadata": {},
     "output_type": "execute_result"
    }
   ],
   "source": [
    "rgs.score(x_train, y_train)"
   ]
  },
  {
   "cell_type": "code",
   "execution_count": 189,
   "id": "4e0f0561",
   "metadata": {},
   "outputs": [
    {
     "data": {
      "image/png": "[encoded data removed]",
      "text/plain": [
       "<Figure size 1080x576 with 1 Axes>"
      ]
     },
     "metadata": {
      "needs_background": "light"
     },
     "output_type": "display_data"
    }
   ],
   "source": [
    "import matplotlib.pyplot as mpt\n",
    "fig_dims = (15,8)\n",
    "fig, ax = plt.subplots(figsize=fig_dims)\n",
    "mpt.scatter(x_train, y_train, color='red')\n",
    "mpt.plot(x_train, rgs.predict(x_train), color = 'blue')\n",
    "mpt.show()"
   ]
  },
  {
   "cell_type": "code",
   "execution_count": 197,
   "id": "9ac31e63",
   "metadata": {},
   "outputs": [
    {
     "name": "stdout",
     "output_type": "stream",
     "text": [
      "Acurácia de Teste: ±0\n"
     ]
    }
   ],
   "source": [
    "from sklearn.metrics import mean_absolute_error, mean_squared_error\n",
    "\n",
    "y_pred = rgs.predict(x_test)\n",
    "\n",
    "print(f\"Acurácia de Teste: ±{mean_absolute_error(y_test, y_pred):1.0f}\")"
   ]
  }
 ],
 "metadata": {
  "kernelspec": {
   "display_name": "Python 3",
   "language": "python",
   "name": "python3"
  },
  "language_info": {
   "codemirror_mode": {
    "name": "ipython",
    "version": 3
   },
   "file_extension": ".py",
   "mimetype": "text/x-python",
   "name": "python",
   "nbconvert_exporter": "python",
   "pygments_lexer": "ipython3",
   "version": "3.8.8"
  }
 },
 "nbformat": 4,
 "nbformat_minor": 5
}
