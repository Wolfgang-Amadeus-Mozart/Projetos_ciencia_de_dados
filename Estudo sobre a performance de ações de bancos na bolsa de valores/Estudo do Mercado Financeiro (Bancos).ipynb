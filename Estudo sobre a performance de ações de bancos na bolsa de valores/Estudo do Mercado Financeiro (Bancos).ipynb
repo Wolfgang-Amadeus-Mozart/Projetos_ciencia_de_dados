{
 "cells": [
  {
   "cell_type": "markdown",
   "id": "7c94c8e7-df7f-452e-826b-87c462d26660",
   "metadata": {},
   "source": [
    "# Estudo do Mercado Financeiro (Bancos) - Este notebook utiliza a biblioteca yfinance e outras para analista algumas ações da bolsa de valores\n",
    "\n",
    "### Site:       https://filipedeabreu.com\n",
    "\n",
    "### Autor:      Filipe de Abreu\n",
    "\n",
    "### Manutenção:  Filipe de Abreu\n",
    "\n",
    "<hr>\n",
    "\n",
    "# Testado em\n",
    "### OS: Windows 11                                      \n",
    "### Versão do python: 3.12.7                                     "
   ]
  },
  {
   "cell_type": "code",
   "execution_count": 2,
   "id": "de50d25f-aaa9-4b20-9f12-0f022671b36d",
   "metadata": {},
   "outputs": [],
   "source": [
    "import pandas as pd\n",
    "import numpy as np\n",
    "import matplotlib.pyplot as plt\n",
    "import seaborn as sns\n",
    "import yfinance as yf"
   ]
  },
  {
   "cell_type": "code",
   "execution_count": 3,
   "id": "e6d80033-f79f-4496-a2c7-2ee5abbc3205",
   "metadata": {},
   "outputs": [],
   "source": [
    "#Função que retorna informações de um papel com base no input de um usuário\n",
    "def cria_dataframe(acao, periodo):\n",
    "    acao_santander =  yf.Ticker(acao)\n",
    "    data = acao_santander.history(period=periodo)\n",
    "    return data"
   ]
  },
  {
   "cell_type": "markdown",
   "id": "b5df7e0b-cd7a-4384-b40a-35d9f6fe7192",
   "metadata": {},
   "source": [
    "### Cnsultando a ação do <font color='red'> Santander </font> ('SANB11.SA') no período de 1 ano ('1y')"
   ]
  },
  {
   "cell_type": "code",
   "execution_count": 4,
   "id": "07bbb995-c8b5-4118-8177-74dc6accbf80",
   "metadata": {},
   "outputs": [
    {
     "data": {
      "text/html": [
       "<div>\n",
       "<style scoped>\n",
       "    .dataframe tbody tr th:only-of-type {\n",
       "        vertical-align: middle;\n",
       "    }\n",
       "\n",
       "    .dataframe tbody tr th {\n",
       "        vertical-align: top;\n",
       "    }\n",
       "\n",
       "    .dataframe thead th {\n",
       "        text-align: right;\n",
       "    }\n",
       "</style>\n",
       "<table border=\"1\" class=\"dataframe\">\n",
       "  <thead>\n",
       "    <tr style=\"text-align: right;\">\n",
       "      <th></th>\n",
       "      <th>Open</th>\n",
       "      <th>High</th>\n",
       "      <th>Low</th>\n",
       "      <th>Close</th>\n",
       "      <th>Volume</th>\n",
       "      <th>Dividends</th>\n",
       "      <th>Stock Splits</th>\n",
       "    </tr>\n",
       "    <tr>\n",
       "      <th>Date</th>\n",
       "      <th></th>\n",
       "      <th></th>\n",
       "      <th></th>\n",
       "      <th></th>\n",
       "      <th></th>\n",
       "      <th></th>\n",
       "      <th></th>\n",
       "    </tr>\n",
       "  </thead>\n",
       "  <tbody>\n",
       "    <tr>\n",
       "      <th>2023-11-01 00:00:00-03:00</th>\n",
       "      <td>25.561931</td>\n",
       "      <td>25.988122</td>\n",
       "      <td>25.495635</td>\n",
       "      <td>25.760820</td>\n",
       "      <td>2652900</td>\n",
       "      <td>0.0</td>\n",
       "      <td>0.0</td>\n",
       "    </tr>\n",
       "    <tr>\n",
       "      <th>2023-11-03 00:00:00-03:00</th>\n",
       "      <td>26.310133</td>\n",
       "      <td>26.480608</td>\n",
       "      <td>26.158599</td>\n",
       "      <td>26.291191</td>\n",
       "      <td>5541900</td>\n",
       "      <td>0.0</td>\n",
       "      <td>0.0</td>\n",
       "    </tr>\n",
       "    <tr>\n",
       "      <th>2023-11-06 00:00:00-03:00</th>\n",
       "      <td>26.376429</td>\n",
       "      <td>26.471139</td>\n",
       "      <td>26.130186</td>\n",
       "      <td>26.291191</td>\n",
       "      <td>1824600</td>\n",
       "      <td>0.0</td>\n",
       "      <td>0.0</td>\n",
       "    </tr>\n",
       "    <tr>\n",
       "      <th>2023-11-07 00:00:00-03:00</th>\n",
       "      <td>26.310133</td>\n",
       "      <td>26.982565</td>\n",
       "      <td>26.243835</td>\n",
       "      <td>26.935211</td>\n",
       "      <td>2709000</td>\n",
       "      <td>0.0</td>\n",
       "      <td>0.0</td>\n",
       "    </tr>\n",
       "    <tr>\n",
       "      <th>2023-11-08 00:00:00-03:00</th>\n",
       "      <td>27.086743</td>\n",
       "      <td>27.645525</td>\n",
       "      <td>27.020447</td>\n",
       "      <td>27.626583</td>\n",
       "      <td>1854200</td>\n",
       "      <td>0.0</td>\n",
       "      <td>0.0</td>\n",
       "    </tr>\n",
       "    <tr>\n",
       "      <th>2023-11-09 00:00:00-03:00</th>\n",
       "      <td>27.844416</td>\n",
       "      <td>27.986479</td>\n",
       "      <td>27.484523</td>\n",
       "      <td>27.664469</td>\n",
       "      <td>1610100</td>\n",
       "      <td>0.0</td>\n",
       "      <td>0.0</td>\n",
       "    </tr>\n",
       "    <tr>\n",
       "      <th>2023-11-10 00:00:00-03:00</th>\n",
       "      <td>27.958067</td>\n",
       "      <td>28.488437</td>\n",
       "      <td>27.541348</td>\n",
       "      <td>28.289549</td>\n",
       "      <td>2451800</td>\n",
       "      <td>0.0</td>\n",
       "      <td>0.0</td>\n",
       "    </tr>\n",
       "    <tr>\n",
       "      <th>2023-11-13 00:00:00-03:00</th>\n",
       "      <td>28.204311</td>\n",
       "      <td>28.478966</td>\n",
       "      <td>27.977010</td>\n",
       "      <td>28.478966</td>\n",
       "      <td>1253600</td>\n",
       "      <td>0.0</td>\n",
       "      <td>0.0</td>\n",
       "    </tr>\n",
       "    <tr>\n",
       "      <th>2023-11-14 00:00:00-03:00</th>\n",
       "      <td>28.639968</td>\n",
       "      <td>29.170338</td>\n",
       "      <td>28.175895</td>\n",
       "      <td>29.170338</td>\n",
       "      <td>2109900</td>\n",
       "      <td>0.0</td>\n",
       "      <td>0.0</td>\n",
       "    </tr>\n",
       "    <tr>\n",
       "      <th>2023-11-16 00:00:00-03:00</th>\n",
       "      <td>29.302933</td>\n",
       "      <td>30.344731</td>\n",
       "      <td>28.971452</td>\n",
       "      <td>30.287905</td>\n",
       "      <td>2510400</td>\n",
       "      <td>0.0</td>\n",
       "      <td>0.0</td>\n",
       "    </tr>\n",
       "  </tbody>\n",
       "</table>\n",
       "</div>"
      ],
      "text/plain": [
       "                                Open       High        Low      Close  \\\n",
       "Date                                                                    \n",
       "2023-11-01 00:00:00-03:00  25.561931  25.988122  25.495635  25.760820   \n",
       "2023-11-03 00:00:00-03:00  26.310133  26.480608  26.158599  26.291191   \n",
       "2023-11-06 00:00:00-03:00  26.376429  26.471139  26.130186  26.291191   \n",
       "2023-11-07 00:00:00-03:00  26.310133  26.982565  26.243835  26.935211   \n",
       "2023-11-08 00:00:00-03:00  27.086743  27.645525  27.020447  27.626583   \n",
       "2023-11-09 00:00:00-03:00  27.844416  27.986479  27.484523  27.664469   \n",
       "2023-11-10 00:00:00-03:00  27.958067  28.488437  27.541348  28.289549   \n",
       "2023-11-13 00:00:00-03:00  28.204311  28.478966  27.977010  28.478966   \n",
       "2023-11-14 00:00:00-03:00  28.639968  29.170338  28.175895  29.170338   \n",
       "2023-11-16 00:00:00-03:00  29.302933  30.344731  28.971452  30.287905   \n",
       "\n",
       "                            Volume  Dividends  Stock Splits  \n",
       "Date                                                         \n",
       "2023-11-01 00:00:00-03:00  2652900        0.0           0.0  \n",
       "2023-11-03 00:00:00-03:00  5541900        0.0           0.0  \n",
       "2023-11-06 00:00:00-03:00  1824600        0.0           0.0  \n",
       "2023-11-07 00:00:00-03:00  2709000        0.0           0.0  \n",
       "2023-11-08 00:00:00-03:00  1854200        0.0           0.0  \n",
       "2023-11-09 00:00:00-03:00  1610100        0.0           0.0  \n",
       "2023-11-10 00:00:00-03:00  2451800        0.0           0.0  \n",
       "2023-11-13 00:00:00-03:00  1253600        0.0           0.0  \n",
       "2023-11-14 00:00:00-03:00  2109900        0.0           0.0  \n",
       "2023-11-16 00:00:00-03:00  2510400        0.0           0.0  "
      ]
     },
     "execution_count": 4,
     "metadata": {},
     "output_type": "execute_result"
    }
   ],
   "source": [
    "df_santander = cria_dataframe('SANB11.SA','1y') #Selecionado a ação do santander, no periodo de 1 ano\n",
    "df_santander.head(10)"
   ]
  },
  {
   "cell_type": "code",
   "execution_count": 57,
   "id": "9d0ec9cb-1c96-4781-8bf5-a1bd1c95fc5d",
   "metadata": {},
   "outputs": [
    {
     "data": {
      "text/html": [
       "<div>\n",
       "<style scoped>\n",
       "    .dataframe tbody tr th:only-of-type {\n",
       "        vertical-align: middle;\n",
       "    }\n",
       "\n",
       "    .dataframe tbody tr th {\n",
       "        vertical-align: top;\n",
       "    }\n",
       "\n",
       "    .dataframe thead th {\n",
       "        text-align: right;\n",
       "    }\n",
       "</style>\n",
       "<table border=\"1\" class=\"dataframe\">\n",
       "  <thead>\n",
       "    <tr style=\"text-align: right;\">\n",
       "      <th></th>\n",
       "      <th>Dividends</th>\n",
       "      <th>Stock Splits</th>\n",
       "    </tr>\n",
       "    <tr>\n",
       "      <th>Date</th>\n",
       "      <th></th>\n",
       "      <th></th>\n",
       "    </tr>\n",
       "  </thead>\n",
       "  <tbody>\n",
       "    <tr>\n",
       "      <th>2023-11-01 00:00:00-03:00</th>\n",
       "      <td>0.000</td>\n",
       "      <td>0.000</td>\n",
       "    </tr>\n",
       "    <tr>\n",
       "      <th>2023-11-03 00:00:00-03:00</th>\n",
       "      <td>0.000</td>\n",
       "      <td>0.000</td>\n",
       "    </tr>\n",
       "    <tr>\n",
       "      <th>2023-11-06 00:00:00-03:00</th>\n",
       "      <td>0.000</td>\n",
       "      <td>0.000</td>\n",
       "    </tr>\n",
       "    <tr>\n",
       "      <th>2023-11-07 00:00:00-03:00</th>\n",
       "      <td>0.000</td>\n",
       "      <td>0.000</td>\n",
       "    </tr>\n",
       "    <tr>\n",
       "      <th>2023-11-08 00:00:00-03:00</th>\n",
       "      <td>0.000</td>\n",
       "      <td>0.000</td>\n",
       "    </tr>\n",
       "    <tr>\n",
       "      <th>2023-11-09 00:00:00-03:00</th>\n",
       "      <td>0.000</td>\n",
       "      <td>0.000</td>\n",
       "    </tr>\n",
       "    <tr>\n",
       "      <th>2023-11-10 00:00:00-03:00</th>\n",
       "      <td>0.000</td>\n",
       "      <td>0.000</td>\n",
       "    </tr>\n",
       "    <tr>\n",
       "      <th>2023-11-13 00:00:00-03:00</th>\n",
       "      <td>0.000</td>\n",
       "      <td>0.000</td>\n",
       "    </tr>\n",
       "    <tr>\n",
       "      <th>2023-11-14 00:00:00-03:00</th>\n",
       "      <td>0.000</td>\n",
       "      <td>0.000</td>\n",
       "    </tr>\n",
       "    <tr>\n",
       "      <th>2023-11-16 00:00:00-03:00</th>\n",
       "      <td>0.000</td>\n",
       "      <td>0.000</td>\n",
       "    </tr>\n",
       "    <tr>\n",
       "      <th>2023-11-17 00:00:00-03:00</th>\n",
       "      <td>0.000</td>\n",
       "      <td>0.000</td>\n",
       "    </tr>\n",
       "    <tr>\n",
       "      <th>2023-11-20 00:00:00-03:00</th>\n",
       "      <td>0.000</td>\n",
       "      <td>0.000</td>\n",
       "    </tr>\n",
       "    <tr>\n",
       "      <th>2023-11-21 00:00:00-03:00</th>\n",
       "      <td>0.000</td>\n",
       "      <td>0.000</td>\n",
       "    </tr>\n",
       "    <tr>\n",
       "      <th>2023-11-22 00:00:00-03:00</th>\n",
       "      <td>0.000</td>\n",
       "      <td>0.000</td>\n",
       "    </tr>\n",
       "    <tr>\n",
       "      <th>2023-11-23 00:00:00-03:00</th>\n",
       "      <td>0.000</td>\n",
       "      <td>0.000</td>\n",
       "    </tr>\n",
       "    <tr>\n",
       "      <th>2023-11-24 00:00:00-03:00</th>\n",
       "      <td>0.000</td>\n",
       "      <td>0.000</td>\n",
       "    </tr>\n",
       "    <tr>\n",
       "      <th>2023-11-27 00:00:00-03:00</th>\n",
       "      <td>0.000</td>\n",
       "      <td>0.000</td>\n",
       "    </tr>\n",
       "    <tr>\n",
       "      <th>2023-11-28 00:00:00-03:00</th>\n",
       "      <td>0.000</td>\n",
       "      <td>0.000</td>\n",
       "    </tr>\n",
       "    <tr>\n",
       "      <th>2023-11-29 00:00:00-03:00</th>\n",
       "      <td>0.000</td>\n",
       "      <td>0.000</td>\n",
       "    </tr>\n",
       "    <tr>\n",
       "      <th>2023-11-30 00:00:00-03:00</th>\n",
       "      <td>0.000</td>\n",
       "      <td>0.000</td>\n",
       "    </tr>\n",
       "    <tr>\n",
       "      <th>2023-12-01 00:00:00-03:00</th>\n",
       "      <td>0.000</td>\n",
       "      <td>0.000</td>\n",
       "    </tr>\n",
       "    <tr>\n",
       "      <th>2023-12-04 00:00:00-03:00</th>\n",
       "      <td>0.000</td>\n",
       "      <td>0.000</td>\n",
       "    </tr>\n",
       "    <tr>\n",
       "      <th>2023-12-05 00:00:00-03:00</th>\n",
       "      <td>0.000</td>\n",
       "      <td>0.000</td>\n",
       "    </tr>\n",
       "    <tr>\n",
       "      <th>2023-12-06 00:00:00-03:00</th>\n",
       "      <td>0.000</td>\n",
       "      <td>0.000</td>\n",
       "    </tr>\n",
       "    <tr>\n",
       "      <th>2023-12-07 00:00:00-03:00</th>\n",
       "      <td>0.000</td>\n",
       "      <td>0.000</td>\n",
       "    </tr>\n",
       "    <tr>\n",
       "      <th>2023-12-08 00:00:00-03:00</th>\n",
       "      <td>0.000</td>\n",
       "      <td>0.000</td>\n",
       "    </tr>\n",
       "    <tr>\n",
       "      <th>2023-12-11 00:00:00-03:00</th>\n",
       "      <td>0.000</td>\n",
       "      <td>0.000</td>\n",
       "    </tr>\n",
       "    <tr>\n",
       "      <th>2023-12-12 00:00:00-03:00</th>\n",
       "      <td>0.000</td>\n",
       "      <td>0.000</td>\n",
       "    </tr>\n",
       "    <tr>\n",
       "      <th>2023-12-13 00:00:00-03:00</th>\n",
       "      <td>0.000</td>\n",
       "      <td>0.000</td>\n",
       "    </tr>\n",
       "    <tr>\n",
       "      <th>2023-12-14 00:00:00-03:00</th>\n",
       "      <td>0.000</td>\n",
       "      <td>0.000</td>\n",
       "    </tr>\n",
       "  </tbody>\n",
       "</table>\n",
       "</div>"
      ],
      "text/plain": [
       "                           Dividends  Stock Splits\n",
       "Date                                              \n",
       "2023-11-01 00:00:00-03:00      0.000         0.000\n",
       "2023-11-03 00:00:00-03:00      0.000         0.000\n",
       "2023-11-06 00:00:00-03:00      0.000         0.000\n",
       "2023-11-07 00:00:00-03:00      0.000         0.000\n",
       "2023-11-08 00:00:00-03:00      0.000         0.000\n",
       "2023-11-09 00:00:00-03:00      0.000         0.000\n",
       "2023-11-10 00:00:00-03:00      0.000         0.000\n",
       "2023-11-13 00:00:00-03:00      0.000         0.000\n",
       "2023-11-14 00:00:00-03:00      0.000         0.000\n",
       "2023-11-16 00:00:00-03:00      0.000         0.000\n",
       "2023-11-17 00:00:00-03:00      0.000         0.000\n",
       "2023-11-20 00:00:00-03:00      0.000         0.000\n",
       "2023-11-21 00:00:00-03:00      0.000         0.000\n",
       "2023-11-22 00:00:00-03:00      0.000         0.000\n",
       "2023-11-23 00:00:00-03:00      0.000         0.000\n",
       "2023-11-24 00:00:00-03:00      0.000         0.000\n",
       "2023-11-27 00:00:00-03:00      0.000         0.000\n",
       "2023-11-28 00:00:00-03:00      0.000         0.000\n",
       "2023-11-29 00:00:00-03:00      0.000         0.000\n",
       "2023-11-30 00:00:00-03:00      0.000         0.000\n",
       "2023-12-01 00:00:00-03:00      0.000         0.000\n",
       "2023-12-04 00:00:00-03:00      0.000         0.000\n",
       "2023-12-05 00:00:00-03:00      0.000         0.000\n",
       "2023-12-06 00:00:00-03:00      0.000         0.000\n",
       "2023-12-07 00:00:00-03:00      0.000         0.000\n",
       "2023-12-08 00:00:00-03:00      0.000         0.000\n",
       "2023-12-11 00:00:00-03:00      0.000         0.000\n",
       "2023-12-12 00:00:00-03:00      0.000         0.000\n",
       "2023-12-13 00:00:00-03:00      0.000         0.000\n",
       "2023-12-14 00:00:00-03:00      0.000         0.000"
      ]
     },
     "execution_count": 57,
     "metadata": {},
     "output_type": "execute_result"
    }
   ],
   "source": [
    "df_santander[['Dividends', 'Stock Splits']].head(30)"
   ]
  },
  {
   "cell_type": "code",
   "execution_count": 64,
   "id": "8e590ef1-3489-4b28-a06b-331f2fb6d675",
   "metadata": {},
   "outputs": [
    {
     "data": {
      "text/plain": [
       "Series([], Name: Stock Splits, dtype: float64)"
      ]
     },
     "execution_count": 64,
     "metadata": {},
     "output_type": "execute_result"
    }
   ],
   "source": [
    "df_santander['Stock Splits'][ df_santander['Stock Splits'] != 0]"
   ]
  },
  {
   "cell_type": "code",
   "execution_count": 66,
   "id": "e74959b5-4bb1-4e20-8921-2a43b143fb0c",
   "metadata": {},
   "outputs": [
    {
     "data": {
      "text/plain": [
       "Date\n",
       "2024-01-22 00:00:00-03:00   0.403\n",
       "2024-04-22 00:00:00-03:00   0.402\n",
       "2024-07-22 00:00:00-03:00   0.403\n",
       "2024-10-18 00:00:00-03:00   0.349\n",
       "Name: Dividends, dtype: float64"
      ]
     },
     "execution_count": 66,
     "metadata": {},
     "output_type": "execute_result"
    }
   ],
   "source": [
    "df_santander['Dividends'][ df_santander['Dividends'] != 0]"
   ]
  },
  {
   "cell_type": "markdown",
   "id": "83f66207-f9ed-4e8c-8216-5dc61d79e73e",
   "metadata": {},
   "source": [
    "### Primeiras impressoes\n",
    "\n",
    "O dataframe apresenta váriaveis quantitativas continuas e não há variaveis categóricas, o index poderia talvez ser reduzido, deixando apenas a data e tirando a hora, já que não pretendo analisar de forma precisa o horário de abertura ou fechamento das ações. Se trata de dados populacionas, portanto, para qualquer analise estatisca, deve se ter em mente que sao dados populacionas, e nao de uma amsotra.\n",
    "\n",
    "As variaveis 'Dividends' e 'Stock Splits' já de ínicio, apresentaram muitos valores iguais a 0, analisando essa variaveis separadamente, observei que apenas a variavel 'Dividends' possui valores diferentes de zero, porém em apenas 4 observações, portanto, irei remover essas variáveis  do dataframe"
   ]
  },
  {
   "cell_type": "code",
   "execution_count": 69,
   "id": "3fe5a48d-38d4-44e4-86d2-704c0b3c2c91",
   "metadata": {},
   "outputs": [],
   "source": [
    "df_santander.drop(['Dividends', 'Stock Splits'], axis = 1, inplace = True)"
   ]
  },
  {
   "cell_type": "markdown",
   "id": "9f75e90a-99ef-47ef-8359-e99db8c4b93d",
   "metadata": {},
   "source": [
    "### Extraindo algumas informações básicas do dataset"
   ]
  },
  {
   "cell_type": "code",
   "execution_count": 70,
   "id": "bba9b6aa-37cf-4925-885e-45c52fb0ba40",
   "metadata": {},
   "outputs": [
    {
     "name": "stdout",
     "output_type": "stream",
     "text": [
      "<class 'pandas.core.frame.DataFrame'>\n",
      "DatetimeIndex: 253 entries, 2023-11-01 00:00:00-03:00 to 2024-11-01 00:00:00-03:00\n",
      "Data columns (total 5 columns):\n",
      " #   Column  Non-Null Count  Dtype  \n",
      "---  ------  --------------  -----  \n",
      " 0   Open    253 non-null    float64\n",
      " 1   High    253 non-null    float64\n",
      " 2   Low     253 non-null    float64\n",
      " 3   Close   253 non-null    float64\n",
      " 4   Volume  253 non-null    int64  \n",
      "dtypes: float64(4), int64(1)\n",
      "memory usage: 11.9 KB\n"
     ]
    }
   ],
   "source": [
    "df_santander.info() #tipos de dados\n",
    "#Não há campos NaN para serem tratados"
   ]
  },
  {
   "cell_type": "code",
   "execution_count": 71,
   "id": "831fb269-13c6-42be-a0c8-53185be4cce0",
   "metadata": {},
   "outputs": [
    {
     "name": "stdout",
     "output_type": "stream",
     "text": [
      "Numero de observações: 253 \n",
      "Número de variáveis: 5\n"
     ]
    }
   ],
   "source": [
    "print(f'Numero de observações: {df_santander.shape[0]} \\nNúmero de variáveis: {df_santander.shape[1]}')  #formato"
   ]
  },
  {
   "cell_type": "markdown",
   "id": "f90ee35f-51da-4698-bcae-0b691e584f51",
   "metadata": {},
   "source": [
    "### Um pouco de estatística descritiva básica"
   ]
  },
  {
   "cell_type": "code",
   "execution_count": 80,
   "id": "b0b56aa1-f46f-4167-a88f-6dfc810d410c",
   "metadata": {},
   "outputs": [
    {
     "data": {
      "text/html": [
       "<div>\n",
       "<style scoped>\n",
       "    .dataframe tbody tr th:only-of-type {\n",
       "        vertical-align: middle;\n",
       "    }\n",
       "\n",
       "    .dataframe tbody tr th {\n",
       "        vertical-align: top;\n",
       "    }\n",
       "\n",
       "    .dataframe thead th {\n",
       "        text-align: right;\n",
       "    }\n",
       "</style>\n",
       "<table border=\"1\" class=\"dataframe\">\n",
       "  <thead>\n",
       "    <tr style=\"text-align: right;\">\n",
       "      <th></th>\n",
       "      <th>Open</th>\n",
       "      <th>High</th>\n",
       "      <th>Low</th>\n",
       "      <th>Close</th>\n",
       "      <th>Volume</th>\n",
       "    </tr>\n",
       "  </thead>\n",
       "  <tbody>\n",
       "    <tr>\n",
       "      <th>Contagem</th>\n",
       "      <td>253.000</td>\n",
       "      <td>253.000</td>\n",
       "      <td>253.000</td>\n",
       "      <td>253.000</td>\n",
       "      <td>253.000</td>\n",
       "    </tr>\n",
       "    <tr>\n",
       "      <th>Média</th>\n",
       "      <td>28.188</td>\n",
       "      <td>28.461</td>\n",
       "      <td>27.921</td>\n",
       "      <td>28.190</td>\n",
       "      <td>2672597.233</td>\n",
       "    </tr>\n",
       "    <tr>\n",
       "      <th>Desvio Padrão</th>\n",
       "      <td>1.340</td>\n",
       "      <td>1.354</td>\n",
       "      <td>1.339</td>\n",
       "      <td>1.346</td>\n",
       "      <td>4538007.966</td>\n",
       "    </tr>\n",
       "    <tr>\n",
       "      <th>Mínimo</th>\n",
       "      <td>25.523</td>\n",
       "      <td>25.888</td>\n",
       "      <td>25.418</td>\n",
       "      <td>25.466</td>\n",
       "      <td>0.000</td>\n",
       "    </tr>\n",
       "    <tr>\n",
       "      <th>1° Quartil</th>\n",
       "      <td>27.174</td>\n",
       "      <td>27.465</td>\n",
       "      <td>26.958</td>\n",
       "      <td>27.146</td>\n",
       "      <td>1462100.000</td>\n",
       "    </tr>\n",
       "    <tr>\n",
       "      <th>2° Quartil</th>\n",
       "      <td>27.981</td>\n",
       "      <td>28.383</td>\n",
       "      <td>27.789</td>\n",
       "      <td>28.040</td>\n",
       "      <td>1966000.000</td>\n",
       "    </tr>\n",
       "    <tr>\n",
       "      <th>3° Quartil</th>\n",
       "      <td>29.028</td>\n",
       "      <td>29.331</td>\n",
       "      <td>28.763</td>\n",
       "      <td>28.981</td>\n",
       "      <td>2940600.000</td>\n",
       "    </tr>\n",
       "    <tr>\n",
       "      <th>Máximo</th>\n",
       "      <td>31.258</td>\n",
       "      <td>31.594</td>\n",
       "      <td>31.130</td>\n",
       "      <td>31.386</td>\n",
       "      <td>71189700.000</td>\n",
       "    </tr>\n",
       "  </tbody>\n",
       "</table>\n",
       "</div>"
      ],
      "text/plain": [
       "                 Open    High     Low   Close       Volume\n",
       "Contagem      253.000 253.000 253.000 253.000      253.000\n",
       "Média          28.188  28.461  27.921  28.190  2672597.233\n",
       "Desvio Padrão   1.340   1.354   1.339   1.346  4538007.966\n",
       "Mínimo         25.523  25.888  25.418  25.466        0.000\n",
       "1° Quartil     27.174  27.465  26.958  27.146  1462100.000\n",
       "2° Quartil     27.981  28.383  27.789  28.040  1966000.000\n",
       "3° Quartil     29.028  29.331  28.763  28.981  2940600.000\n",
       "Máximo         31.258  31.594  31.130  31.386 71189700.000"
      ]
     },
     "execution_count": 80,
     "metadata": {},
     "output_type": "execute_result"
    }
   ],
   "source": [
    "df_santander_descritivo = df_santander.describe()\n",
    "\n",
    "#Renomeando o index\n",
    "df_santander_descritivo.index = ['Contagem','Média','Desvio Padrão', 'Mínimo', '1° Quartil', '2° Quartil', '3° Quartil', 'Máximo']\n",
    "\n",
    "#Defining o numero de casas decimais para 3\n",
    "pd.set_option('float.format','{:.3f}'.format)\n",
    "\n",
    "#Printando o novo data set\n",
    "df_santander_descritivo"
   ]
  },
  {
   "cell_type": "code",
   "execution_count": 81,
   "id": "59f9d6f9-b773-4127-b0f8-5f99d74d2c9e",
   "metadata": {},
   "outputs": [
    {
     "data": {
      "text/plain": [
       "CV_Open:        4.754%\n",
       "CV_High:        4.756%\n",
       "CV_Low:         4.795%\n",
       "CV_Close:       4.775%\n",
       "CV_Volume:    169.798%\n",
       "dtype: object"
      ]
     },
     "execution_count": 81,
     "metadata": {},
     "output_type": "execute_result"
    }
   ],
   "source": [
    "#Utilizando medidadas de dispersao, coeficiente de variancia\n",
    "\n",
    "\n",
    "#Calculando coeficiente de variação para as variaveis Open, High, Low e Close\n",
    "\n",
    "coeficientes_de_variacao = []\n",
    "for i in range (0,5):\n",
    "    coeficientes_de_variacao.append((df_santander_descritivo.iloc[2, i] / df_santander_descritivo.iloc[1, i]) * 100)\n",
    "\n",
    "#Adcionando a porcentagem, tendo em vista que o coeficiente da variação é obsavardo em porcentagem\n",
    "coeficientes_com_porcentagem = [f\"{coeficientes_de_variacao:.3f}%\" for coeficientes_de_variacao in coeficientes_de_variacao]\n",
    "\n",
    "#CV = Coeficiente de variação\n",
    "pd.Series(coeficientes_com_porcentagem, index=['CV_Open:','CV_High:','CV_Low:','CV_Close:', 'CV_Volume:'])"
   ]
  },
  {
   "cell_type": "code",
   "execution_count": 102,
   "id": "fa7f7332-afe2-4790-a63e-ca39405e1a97",
   "metadata": {},
   "outputs": [
    {
     "data": {
      "text/plain": [
       "[1.7958681424363343,\n",
       " 1.832607485248416,\n",
       " 1.7928156036230785,\n",
       " 1.811988590455867,\n",
       " 20593516296222.47]"
      ]
     },
     "execution_count": 102,
     "metadata": {},
     "output_type": "execute_result"
    }
   ],
   "source": [
    "variancias = []\n",
    "\n",
    "for i in range(0,5):\n",
    "    variancias.append(df_santander.iloc[:, i].var())\n",
    "\n",
    "variancias"
   ]
  },
  {
   "cell_type": "code",
   "execution_count": 103,
   "id": "5dd48246-82ba-4806-91ae-10e0ac695655",
   "metadata": {},
   "outputs": [
    {
     "data": {
      "text/html": [
       "<div>\n",
       "<style scoped>\n",
       "    .dataframe tbody tr th:only-of-type {\n",
       "        vertical-align: middle;\n",
       "    }\n",
       "\n",
       "    .dataframe tbody tr th {\n",
       "        vertical-align: top;\n",
       "    }\n",
       "\n",
       "    .dataframe thead th {\n",
       "        text-align: right;\n",
       "    }\n",
       "</style>\n",
       "<table border=\"1\" class=\"dataframe\">\n",
       "  <thead>\n",
       "    <tr style=\"text-align: right;\">\n",
       "      <th></th>\n",
       "      <th>Open</th>\n",
       "      <th>High</th>\n",
       "      <th>Low</th>\n",
       "      <th>Close</th>\n",
       "      <th>Volume</th>\n",
       "    </tr>\n",
       "  </thead>\n",
       "  <tbody>\n",
       "    <tr>\n",
       "      <th>Contagem</th>\n",
       "      <td>253.000</td>\n",
       "      <td>253.000</td>\n",
       "      <td>253.000</td>\n",
       "      <td>253.000</td>\n",
       "      <td>253.000</td>\n",
       "    </tr>\n",
       "    <tr>\n",
       "      <th>Média</th>\n",
       "      <td>28.188</td>\n",
       "      <td>28.461</td>\n",
       "      <td>27.921</td>\n",
       "      <td>28.190</td>\n",
       "      <td>2672597.233</td>\n",
       "    </tr>\n",
       "    <tr>\n",
       "      <th>Desvio Padrão</th>\n",
       "      <td>1.340</td>\n",
       "      <td>1.354</td>\n",
       "      <td>1.339</td>\n",
       "      <td>1.346</td>\n",
       "      <td>4538007.966</td>\n",
       "    </tr>\n",
       "    <tr>\n",
       "      <th>Mínimo</th>\n",
       "      <td>25.523</td>\n",
       "      <td>25.888</td>\n",
       "      <td>25.418</td>\n",
       "      <td>25.466</td>\n",
       "      <td>0.000</td>\n",
       "    </tr>\n",
       "    <tr>\n",
       "      <th>1° Quartil</th>\n",
       "      <td>27.174</td>\n",
       "      <td>27.465</td>\n",
       "      <td>26.958</td>\n",
       "      <td>27.146</td>\n",
       "      <td>1462100.000</td>\n",
       "    </tr>\n",
       "    <tr>\n",
       "      <th>2° Quartil</th>\n",
       "      <td>27.981</td>\n",
       "      <td>28.383</td>\n",
       "      <td>27.789</td>\n",
       "      <td>28.040</td>\n",
       "      <td>1966000.000</td>\n",
       "    </tr>\n",
       "    <tr>\n",
       "      <th>3° Quartil</th>\n",
       "      <td>29.028</td>\n",
       "      <td>29.331</td>\n",
       "      <td>28.763</td>\n",
       "      <td>28.981</td>\n",
       "      <td>2940600.000</td>\n",
       "    </tr>\n",
       "    <tr>\n",
       "      <th>Máximo</th>\n",
       "      <td>31.258</td>\n",
       "      <td>31.594</td>\n",
       "      <td>31.130</td>\n",
       "      <td>31.386</td>\n",
       "      <td>71189700.000</td>\n",
       "    </tr>\n",
       "    <tr>\n",
       "      <th>Coeficiente de Variação</th>\n",
       "      <td>4.754%</td>\n",
       "      <td>4.756%</td>\n",
       "      <td>4.795%</td>\n",
       "      <td>4.775%</td>\n",
       "      <td>169.798%</td>\n",
       "    </tr>\n",
       "    <tr>\n",
       "      <th>Variancia</th>\n",
       "      <td>1.796</td>\n",
       "      <td>1.833</td>\n",
       "      <td>1.793</td>\n",
       "      <td>1.812</td>\n",
       "      <td>20593516296222.469</td>\n",
       "    </tr>\n",
       "  </tbody>\n",
       "</table>\n",
       "</div>"
      ],
      "text/plain": [
       "                           Open    High     Low   Close             Volume\n",
       "Contagem                253.000 253.000 253.000 253.000            253.000\n",
       "Média                    28.188  28.461  27.921  28.190        2672597.233\n",
       "Desvio Padrão             1.340   1.354   1.339   1.346        4538007.966\n",
       "Mínimo                   25.523  25.888  25.418  25.466              0.000\n",
       "1° Quartil               27.174  27.465  26.958  27.146        1462100.000\n",
       "2° Quartil               27.981  28.383  27.789  28.040        1966000.000\n",
       "3° Quartil               29.028  29.331  28.763  28.981        2940600.000\n",
       "Máximo                   31.258  31.594  31.130  31.386       71189700.000\n",
       "Coeficiente de Variação  4.754%  4.756%  4.795%  4.775%           169.798%\n",
       "Variancia                 1.796   1.833   1.793   1.812 20593516296222.469"
      ]
     },
     "execution_count": 103,
     "metadata": {},
     "output_type": "execute_result"
    }
   ],
   "source": [
    "#Adcionando os coeficientes de variação ao datagFrame\n",
    "df_santander_descritivo.loc['Coeficiente de Variação'] = coeficientes_com_porcentagem\n",
    "\n",
    "#Adcionando as variancias o ao datagFrame\n",
    "df_santander_descritivo.loc['Variancia'] = variancias\n",
    "\n",
    "df_santander_descritivo"
   ]
  },
  {
   "cell_type": "code",
   "execution_count": 35,
   "id": "204a71d2-c9b0-49f2-9ad9-06656f77e7cb",
   "metadata": {},
   "outputs": [
    {
     "name": "stdout",
     "output_type": "stream",
     "text": [
      "['4.754091219806265%', '4.756400366581956%', '4.795465915174658%', '4.7751099664268475%']\n"
     ]
    }
   ],
   "source": [
    "# Original list\n",
    "numbers = [4.754091219806265, 4.756400366581956, 4.795465915174658, 4.7751099664268475]\n",
    "\n",
    "# Append '%' to each element\n",
    "numbers_with_percent = [f\"{num}%\" for num in numbers]\n",
    "\n",
    "print(numbers_with_percent)"
   ]
  },
  {
   "cell_type": "markdown",
   "id": "cc1387b2-201b-4ecb-a5ca-005df9d74895",
   "metadata": {},
   "source": [
    "### O que se pode observar das estatiscas acima?\n",
    "\n",
    "Em média, o valor de abertura da ação não é muito diferente do valor de fechamento. Tirando a variavel \"Volume\", o coeficiente de variação foi menor que 10% para todas as variaveis que os dados são significativamente homogêneos, ou seja, não são muitos dispersos"
   ]
  },
  {
   "cell_type": "markdown",
   "id": "2a71595e-a89c-4e52-8272-b11ad8230481",
   "metadata": {},
   "source": [
    "### Algumas informações gráficas simples"
   ]
  },
  {
   "cell_type": "code",
   "execution_count": 9,
   "id": "70946b7d-8cb8-4993-9dc7-7a4849fb7b09",
   "metadata": {},
   "outputs": [
    {
     "data": {
      "text/plain": [
       "31.386415481567383"
      ]
     },
     "execution_count": 9,
     "metadata": {},
     "output_type": "execute_result"
    }
   ],
   "source": [
    "df_santander['Close'].max()"
   ]
  },
  {
   "cell_type": "code",
   "execution_count": 12,
   "id": "94c8e813-7177-4730-ac2b-66c36a67cdd6",
   "metadata": {},
   "outputs": [
    {
     "data": {
      "text/plain": [
       "Text(2024-10-22 00:00:00-03:00, 28.289953008659275, 'Média')"
      ]
     },
     "execution_count": 12,
     "metadata": {},
     "output_type": "execute_result"
    },
    {
     "data": {
      "image/png": "[encoded data removed]",
      "text/plain": [
       "<Figure size 1500x800 with 1 Axes>"
      ]
     },
     "metadata": {},
     "output_type": "display_data"
    }
   ],
   "source": [
    "#Analisando apenas a variable \"Close\"\n",
    "\n",
    "#Plotando um graáfico de linha\n",
    "fig = plt.figure(figsize=(15,8))\n",
    "ax = fig.add_axes([0, 0, 1, 1])\n",
    "ax.plot(df_santander.index, df_santander['Close'], linewidth=4)\n",
    "\n",
    "#Traçando uma linha rente ao valor maximo ja atingido lo papel\n",
    "ax.axhline(df_santander['Close'].max(), c= 'r', ls = '--')\n",
    "ax.annotate(\"Máximo\", \n",
    "            (df_santander['Close'].idxmax(), df_santander['Close'].max() + 0.1),\n",
    "            fontsize=15,\n",
    "            c= 'r'\n",
    "           )\n",
    "\n",
    "#Traçando uma linha rente ao valor mínimo ja atingido lo papel\n",
    "ax.axhline(df_santander['Close'].min(), c='g', ls = '--')\n",
    "ax.annotate(\"Mínimo\", \n",
    "            (df_santander['Close'].idxmin(), df_santander['Close'].min() + 0.1),\n",
    "            fontsize=15,\n",
    "            c='g'\n",
    "           )\n",
    "\n",
    "#Traçando uma linha rente a média ja atingido lo papel\n",
    "ax.axhline(df_santander['Close'].mean(), c='y', ls = '--')\n",
    "ax.annotate(\"Média\", \n",
    "            ((df_santander['Close'] - df_santander['Close'].mean()).abs().idxmin(), df_santander['Close'].mean() + 0.1),\n",
    "            fontsize=20,\n",
    "            c='y'\n",
    "           )\n"
   ]
  },
  {
   "cell_type": "code",
   "execution_count": 11,
   "id": "574c7477-f5af-42e8-9999-fe59bae2ea85",
   "metadata": {},
   "outputs": [
    {
     "data": {
      "text/plain": [
       "<Axes: xlabel='Close', ylabel='Count'>"
      ]
     },
     "execution_count": 11,
     "metadata": {},
     "output_type": "execute_result"
    },
    {
     "data": {
      "image/png": "[encoded data removed]",
      "text/plain": [
       "<Figure size 640x480 with 1 Axes>"
      ]
     },
     "metadata": {},
     "output_type": "display_data"
    }
   ],
   "source": [
    "#Analisando a distribuição\n",
    "sns.histplot(df_santander['Close'])"
   ]
  },
  {
   "cell_type": "markdown",
   "id": "ed3ac504-16c2-4ac3-815e-c0256e22c371",
   "metadata": {},
   "source": [
    "### Tratamento do dataframe santander"
   ]
  },
  {
   "cell_type": "code",
   "execution_count": null,
   "id": "edb18660-f96b-4dab-9e19-1541ca1ea554",
   "metadata": {},
   "outputs": [],
   "source": []
  }
 ],
 "metadata": {
  "kernelspec": {
   "display_name": "Python 3 (ipykernel)",
   "language": "python",
   "name": "python3"
  },
  "language_info": {
   "codemirror_mode": {
    "name": "ipython",
    "version": 3
   },
   "file_extension": ".py",
   "mimetype": "text/x-python",
   "name": "python",
   "nbconvert_exporter": "python",
   "pygments_lexer": "ipython3",
   "version": "3.12.7"
  }
 },
 "nbformat": 4,
 "nbformat_minor": 5
}
