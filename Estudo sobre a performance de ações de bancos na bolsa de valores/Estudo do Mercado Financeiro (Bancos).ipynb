{
 "cells": [
  {
   "cell_type": "markdown",
   "id": "7c94c8e7-df7f-452e-826b-87c462d26660",
   "metadata": {},
   "source": [
    "# Estudo do Mercado Financeiro (Bancos) - Este notebook utiliza a biblioteca yfinance e outras para analista algumas ações da bolsa de valores\n",
    "\n",
    "### Site:       https://filipedeabreu.com\n",
    "\n",
    "### Autor:      Filipe de Abreu\n",
    "\n",
    "### Manutenção:  Filipe de Abreu\n",
    "\n",
    "<hr>\n",
    "\n",
    "# Testado em\n",
    "### OS: Windows 11                                      \n",
    "### Versão do python: 3.12.7    \n",
    "\n",
    "## OBS: Se tratando de dados da bolsa de valores, os valores extraidos podem variar dependendo da data em que forem consultados"
   ]
  },
  {
   "cell_type": "markdown",
   "id": "534b20c7-e295-4c23-b835-7ebcaddbeefa",
   "metadata": {},
   "source": [
    "## Etapa de Datawrangling, ou seja, preparação da base de dados para extração de informação"
   ]
  },
  {
   "cell_type": "code",
   "execution_count": 84,
   "id": "de50d25f-aaa9-4b20-9f12-0f022671b36d",
   "metadata": {},
   "outputs": [],
   "source": [
    "import pandas as pd\n",
    "import numpy as np\n",
    "import matplotlib.pyplot as plt\n",
    "import seaborn as sns\n",
    "import yfinance as yf\n",
    "from sklearn.model_selection import train_test_split\n",
    "from sklearn.ensemble import RandomForestRegressor\n",
    "from sklearn.metrics import mean_absolute_error, mean_squared_error, r2_score\n",
    "import shap"
   ]
  },
  {
   "cell_type": "code",
   "execution_count": 4,
   "id": "e6d80033-f79f-4496-a2c7-2ee5abbc3205",
   "metadata": {},
   "outputs": [],
   "source": [
    "#Função que retorna informações de um papel com base no input de um usuário\n",
    "def cria_dataframe(acao, periodo):\n",
    "    acao_santander =  yf.Ticker(acao)\n",
    "    data = acao_santander.history(period=periodo)\n",
    "    return data"
   ]
  },
  {
   "cell_type": "markdown",
   "id": "b5df7e0b-cd7a-4384-b40a-35d9f6fe7192",
   "metadata": {},
   "source": [
    "### Consultando a ação do <font color='red'> Santander </font> ('SANB11.SA') no período de 1 ano ('1y')"
   ]
  },
  {
   "cell_type": "code",
   "execution_count": 7,
   "id": "07bbb995-c8b5-4118-8177-74dc6accbf80",
   "metadata": {},
   "outputs": [
    {
     "data": {
      "text/html": [
       "<div>\n",
       "<style scoped>\n",
       "    .dataframe tbody tr th:only-of-type {\n",
       "        vertical-align: middle;\n",
       "    }\n",
       "\n",
       "    .dataframe tbody tr th {\n",
       "        vertical-align: top;\n",
       "    }\n",
       "\n",
       "    .dataframe thead th {\n",
       "        text-align: right;\n",
       "    }\n",
       "</style>\n",
       "<table border=\"1\" class=\"dataframe\">\n",
       "  <thead>\n",
       "    <tr style=\"text-align: right;\">\n",
       "      <th></th>\n",
       "      <th>Open</th>\n",
       "      <th>High</th>\n",
       "      <th>Low</th>\n",
       "      <th>Close</th>\n",
       "      <th>Volume</th>\n",
       "      <th>Dividends</th>\n",
       "      <th>Stock Splits</th>\n",
       "    </tr>\n",
       "    <tr>\n",
       "      <th>Date</th>\n",
       "      <th></th>\n",
       "      <th></th>\n",
       "      <th></th>\n",
       "      <th></th>\n",
       "      <th></th>\n",
       "      <th></th>\n",
       "      <th></th>\n",
       "    </tr>\n",
       "  </thead>\n",
       "  <tbody>\n",
       "    <tr>\n",
       "      <th>2024-03-05 00:00:00-03:00</th>\n",
       "      <td>26.932072</td>\n",
       "      <td>26.969857</td>\n",
       "      <td>26.421958</td>\n",
       "      <td>26.733694</td>\n",
       "      <td>2230800</td>\n",
       "      <td>0.0</td>\n",
       "      <td>0.0</td>\n",
       "    </tr>\n",
       "    <tr>\n",
       "      <th>2024-03-06 00:00:00-03:00</th>\n",
       "      <td>26.903733</td>\n",
       "      <td>27.121003</td>\n",
       "      <td>26.544765</td>\n",
       "      <td>26.544765</td>\n",
       "      <td>1470600</td>\n",
       "      <td>0.0</td>\n",
       "      <td>0.0</td>\n",
       "    </tr>\n",
       "    <tr>\n",
       "      <th>2024-03-07 00:00:00-03:00</th>\n",
       "      <td>26.648675</td>\n",
       "      <td>26.733694</td>\n",
       "      <td>26.535318</td>\n",
       "      <td>26.686462</td>\n",
       "      <td>899200</td>\n",
       "      <td>0.0</td>\n",
       "      <td>0.0</td>\n",
       "    </tr>\n",
       "    <tr>\n",
       "      <th>2024-03-08 00:00:00-03:00</th>\n",
       "      <td>26.601445</td>\n",
       "      <td>27.121004</td>\n",
       "      <td>26.582552</td>\n",
       "      <td>26.950968</td>\n",
       "      <td>1146900</td>\n",
       "      <td>0.0</td>\n",
       "      <td>0.0</td>\n",
       "    </tr>\n",
       "    <tr>\n",
       "      <th>2024-03-11 00:00:00-03:00</th>\n",
       "      <td>26.950968</td>\n",
       "      <td>27.054878</td>\n",
       "      <td>26.847055</td>\n",
       "      <td>26.950968</td>\n",
       "      <td>951800</td>\n",
       "      <td>0.0</td>\n",
       "      <td>0.0</td>\n",
       "    </tr>\n",
       "    <tr>\n",
       "      <th>2024-03-12 00:00:00-03:00</th>\n",
       "      <td>27.026539</td>\n",
       "      <td>27.196577</td>\n",
       "      <td>26.818714</td>\n",
       "      <td>27.026539</td>\n",
       "      <td>1644300</td>\n",
       "      <td>0.0</td>\n",
       "      <td>0.0</td>\n",
       "    </tr>\n",
       "    <tr>\n",
       "      <th>2024-03-13 00:00:00-03:00</th>\n",
       "      <td>26.960414</td>\n",
       "      <td>27.206022</td>\n",
       "      <td>26.922627</td>\n",
       "      <td>27.045431</td>\n",
       "      <td>1580100</td>\n",
       "      <td>0.0</td>\n",
       "      <td>0.0</td>\n",
       "    </tr>\n",
       "    <tr>\n",
       "      <th>2024-03-14 00:00:00-03:00</th>\n",
       "      <td>27.007647</td>\n",
       "      <td>27.168238</td>\n",
       "      <td>26.894288</td>\n",
       "      <td>27.017094</td>\n",
       "      <td>1001200</td>\n",
       "      <td>0.0</td>\n",
       "      <td>0.0</td>\n",
       "    </tr>\n",
       "    <tr>\n",
       "      <th>2024-03-15 00:00:00-03:00</th>\n",
       "      <td>27.111558</td>\n",
       "      <td>27.291041</td>\n",
       "      <td>26.762036</td>\n",
       "      <td>27.149343</td>\n",
       "      <td>2933000</td>\n",
       "      <td>0.0</td>\n",
       "      <td>0.0</td>\n",
       "    </tr>\n",
       "    <tr>\n",
       "      <th>2024-03-18 00:00:00-03:00</th>\n",
       "      <td>27.111558</td>\n",
       "      <td>27.281594</td>\n",
       "      <td>26.932073</td>\n",
       "      <td>27.073771</td>\n",
       "      <td>2042000</td>\n",
       "      <td>0.0</td>\n",
       "      <td>0.0</td>\n",
       "    </tr>\n",
       "  </tbody>\n",
       "</table>\n",
       "</div>"
      ],
      "text/plain": [
       "                                Open       High        Low      Close  \\\n",
       "Date                                                                    \n",
       "2024-03-05 00:00:00-03:00  26.932072  26.969857  26.421958  26.733694   \n",
       "2024-03-06 00:00:00-03:00  26.903733  27.121003  26.544765  26.544765   \n",
       "2024-03-07 00:00:00-03:00  26.648675  26.733694  26.535318  26.686462   \n",
       "2024-03-08 00:00:00-03:00  26.601445  27.121004  26.582552  26.950968   \n",
       "2024-03-11 00:00:00-03:00  26.950968  27.054878  26.847055  26.950968   \n",
       "2024-03-12 00:00:00-03:00  27.026539  27.196577  26.818714  27.026539   \n",
       "2024-03-13 00:00:00-03:00  26.960414  27.206022  26.922627  27.045431   \n",
       "2024-03-14 00:00:00-03:00  27.007647  27.168238  26.894288  27.017094   \n",
       "2024-03-15 00:00:00-03:00  27.111558  27.291041  26.762036  27.149343   \n",
       "2024-03-18 00:00:00-03:00  27.111558  27.281594  26.932073  27.073771   \n",
       "\n",
       "                            Volume  Dividends  Stock Splits  \n",
       "Date                                                         \n",
       "2024-03-05 00:00:00-03:00  2230800        0.0           0.0  \n",
       "2024-03-06 00:00:00-03:00  1470600        0.0           0.0  \n",
       "2024-03-07 00:00:00-03:00   899200        0.0           0.0  \n",
       "2024-03-08 00:00:00-03:00  1146900        0.0           0.0  \n",
       "2024-03-11 00:00:00-03:00   951800        0.0           0.0  \n",
       "2024-03-12 00:00:00-03:00  1644300        0.0           0.0  \n",
       "2024-03-13 00:00:00-03:00  1580100        0.0           0.0  \n",
       "2024-03-14 00:00:00-03:00  1001200        0.0           0.0  \n",
       "2024-03-15 00:00:00-03:00  2933000        0.0           0.0  \n",
       "2024-03-18 00:00:00-03:00  2042000        0.0           0.0  "
      ]
     },
     "execution_count": 7,
     "metadata": {},
     "output_type": "execute_result"
    }
   ],
   "source": [
    "df_santander = cria_dataframe('SANB11.SA','1y') #Selecionado a ação do santander, no periodo de 1 ano\n",
    "df_santander.head(10)"
   ]
  },
  {
   "cell_type": "code",
   "execution_count": 9,
   "id": "9d0ec9cb-1c96-4781-8bf5-a1bd1c95fc5d",
   "metadata": {},
   "outputs": [
    {
     "data": {
      "text/html": [
       "<div>\n",
       "<style scoped>\n",
       "    .dataframe tbody tr th:only-of-type {\n",
       "        vertical-align: middle;\n",
       "    }\n",
       "\n",
       "    .dataframe tbody tr th {\n",
       "        vertical-align: top;\n",
       "    }\n",
       "\n",
       "    .dataframe thead th {\n",
       "        text-align: right;\n",
       "    }\n",
       "</style>\n",
       "<table border=\"1\" class=\"dataframe\">\n",
       "  <thead>\n",
       "    <tr style=\"text-align: right;\">\n",
       "      <th></th>\n",
       "      <th>Dividends</th>\n",
       "      <th>Stock Splits</th>\n",
       "    </tr>\n",
       "    <tr>\n",
       "      <th>Date</th>\n",
       "      <th></th>\n",
       "      <th></th>\n",
       "    </tr>\n",
       "  </thead>\n",
       "  <tbody>\n",
       "    <tr>\n",
       "      <th>2024-03-05 00:00:00-03:00</th>\n",
       "      <td>0.0</td>\n",
       "      <td>0.0</td>\n",
       "    </tr>\n",
       "    <tr>\n",
       "      <th>2024-03-06 00:00:00-03:00</th>\n",
       "      <td>0.0</td>\n",
       "      <td>0.0</td>\n",
       "    </tr>\n",
       "    <tr>\n",
       "      <th>2024-03-07 00:00:00-03:00</th>\n",
       "      <td>0.0</td>\n",
       "      <td>0.0</td>\n",
       "    </tr>\n",
       "    <tr>\n",
       "      <th>2024-03-08 00:00:00-03:00</th>\n",
       "      <td>0.0</td>\n",
       "      <td>0.0</td>\n",
       "    </tr>\n",
       "    <tr>\n",
       "      <th>2024-03-11 00:00:00-03:00</th>\n",
       "      <td>0.0</td>\n",
       "      <td>0.0</td>\n",
       "    </tr>\n",
       "    <tr>\n",
       "      <th>2024-03-12 00:00:00-03:00</th>\n",
       "      <td>0.0</td>\n",
       "      <td>0.0</td>\n",
       "    </tr>\n",
       "    <tr>\n",
       "      <th>2024-03-13 00:00:00-03:00</th>\n",
       "      <td>0.0</td>\n",
       "      <td>0.0</td>\n",
       "    </tr>\n",
       "    <tr>\n",
       "      <th>2024-03-14 00:00:00-03:00</th>\n",
       "      <td>0.0</td>\n",
       "      <td>0.0</td>\n",
       "    </tr>\n",
       "    <tr>\n",
       "      <th>2024-03-15 00:00:00-03:00</th>\n",
       "      <td>0.0</td>\n",
       "      <td>0.0</td>\n",
       "    </tr>\n",
       "    <tr>\n",
       "      <th>2024-03-18 00:00:00-03:00</th>\n",
       "      <td>0.0</td>\n",
       "      <td>0.0</td>\n",
       "    </tr>\n",
       "    <tr>\n",
       "      <th>2024-03-19 00:00:00-03:00</th>\n",
       "      <td>0.0</td>\n",
       "      <td>0.0</td>\n",
       "    </tr>\n",
       "    <tr>\n",
       "      <th>2024-03-20 00:00:00-03:00</th>\n",
       "      <td>0.0</td>\n",
       "      <td>0.0</td>\n",
       "    </tr>\n",
       "    <tr>\n",
       "      <th>2024-03-21 00:00:00-03:00</th>\n",
       "      <td>0.0</td>\n",
       "      <td>0.0</td>\n",
       "    </tr>\n",
       "    <tr>\n",
       "      <th>2024-03-22 00:00:00-03:00</th>\n",
       "      <td>0.0</td>\n",
       "      <td>0.0</td>\n",
       "    </tr>\n",
       "    <tr>\n",
       "      <th>2024-03-25 00:00:00-03:00</th>\n",
       "      <td>0.0</td>\n",
       "      <td>0.0</td>\n",
       "    </tr>\n",
       "    <tr>\n",
       "      <th>2024-03-26 00:00:00-03:00</th>\n",
       "      <td>0.0</td>\n",
       "      <td>0.0</td>\n",
       "    </tr>\n",
       "    <tr>\n",
       "      <th>2024-03-27 00:00:00-03:00</th>\n",
       "      <td>0.0</td>\n",
       "      <td>0.0</td>\n",
       "    </tr>\n",
       "    <tr>\n",
       "      <th>2024-03-28 00:00:00-03:00</th>\n",
       "      <td>0.0</td>\n",
       "      <td>0.0</td>\n",
       "    </tr>\n",
       "    <tr>\n",
       "      <th>2024-04-01 00:00:00-03:00</th>\n",
       "      <td>0.0</td>\n",
       "      <td>0.0</td>\n",
       "    </tr>\n",
       "    <tr>\n",
       "      <th>2024-04-02 00:00:00-03:00</th>\n",
       "      <td>0.0</td>\n",
       "      <td>0.0</td>\n",
       "    </tr>\n",
       "    <tr>\n",
       "      <th>2024-04-03 00:00:00-03:00</th>\n",
       "      <td>0.0</td>\n",
       "      <td>0.0</td>\n",
       "    </tr>\n",
       "    <tr>\n",
       "      <th>2024-04-04 00:00:00-03:00</th>\n",
       "      <td>0.0</td>\n",
       "      <td>0.0</td>\n",
       "    </tr>\n",
       "    <tr>\n",
       "      <th>2024-04-05 00:00:00-03:00</th>\n",
       "      <td>0.0</td>\n",
       "      <td>0.0</td>\n",
       "    </tr>\n",
       "    <tr>\n",
       "      <th>2024-04-08 00:00:00-03:00</th>\n",
       "      <td>0.0</td>\n",
       "      <td>0.0</td>\n",
       "    </tr>\n",
       "    <tr>\n",
       "      <th>2024-04-09 00:00:00-03:00</th>\n",
       "      <td>0.0</td>\n",
       "      <td>0.0</td>\n",
       "    </tr>\n",
       "    <tr>\n",
       "      <th>2024-04-10 00:00:00-03:00</th>\n",
       "      <td>0.0</td>\n",
       "      <td>0.0</td>\n",
       "    </tr>\n",
       "    <tr>\n",
       "      <th>2024-04-11 00:00:00-03:00</th>\n",
       "      <td>0.0</td>\n",
       "      <td>0.0</td>\n",
       "    </tr>\n",
       "    <tr>\n",
       "      <th>2024-04-12 00:00:00-03:00</th>\n",
       "      <td>0.0</td>\n",
       "      <td>0.0</td>\n",
       "    </tr>\n",
       "    <tr>\n",
       "      <th>2024-04-15 00:00:00-03:00</th>\n",
       "      <td>0.0</td>\n",
       "      <td>0.0</td>\n",
       "    </tr>\n",
       "    <tr>\n",
       "      <th>2024-04-16 00:00:00-03:00</th>\n",
       "      <td>0.0</td>\n",
       "      <td>0.0</td>\n",
       "    </tr>\n",
       "  </tbody>\n",
       "</table>\n",
       "</div>"
      ],
      "text/plain": [
       "                           Dividends  Stock Splits\n",
       "Date                                              \n",
       "2024-03-05 00:00:00-03:00        0.0           0.0\n",
       "2024-03-06 00:00:00-03:00        0.0           0.0\n",
       "2024-03-07 00:00:00-03:00        0.0           0.0\n",
       "2024-03-08 00:00:00-03:00        0.0           0.0\n",
       "2024-03-11 00:00:00-03:00        0.0           0.0\n",
       "2024-03-12 00:00:00-03:00        0.0           0.0\n",
       "2024-03-13 00:00:00-03:00        0.0           0.0\n",
       "2024-03-14 00:00:00-03:00        0.0           0.0\n",
       "2024-03-15 00:00:00-03:00        0.0           0.0\n",
       "2024-03-18 00:00:00-03:00        0.0           0.0\n",
       "2024-03-19 00:00:00-03:00        0.0           0.0\n",
       "2024-03-20 00:00:00-03:00        0.0           0.0\n",
       "2024-03-21 00:00:00-03:00        0.0           0.0\n",
       "2024-03-22 00:00:00-03:00        0.0           0.0\n",
       "2024-03-25 00:00:00-03:00        0.0           0.0\n",
       "2024-03-26 00:00:00-03:00        0.0           0.0\n",
       "2024-03-27 00:00:00-03:00        0.0           0.0\n",
       "2024-03-28 00:00:00-03:00        0.0           0.0\n",
       "2024-04-01 00:00:00-03:00        0.0           0.0\n",
       "2024-04-02 00:00:00-03:00        0.0           0.0\n",
       "2024-04-03 00:00:00-03:00        0.0           0.0\n",
       "2024-04-04 00:00:00-03:00        0.0           0.0\n",
       "2024-04-05 00:00:00-03:00        0.0           0.0\n",
       "2024-04-08 00:00:00-03:00        0.0           0.0\n",
       "2024-04-09 00:00:00-03:00        0.0           0.0\n",
       "2024-04-10 00:00:00-03:00        0.0           0.0\n",
       "2024-04-11 00:00:00-03:00        0.0           0.0\n",
       "2024-04-12 00:00:00-03:00        0.0           0.0\n",
       "2024-04-15 00:00:00-03:00        0.0           0.0\n",
       "2024-04-16 00:00:00-03:00        0.0           0.0"
      ]
     },
     "execution_count": 9,
     "metadata": {},
     "output_type": "execute_result"
    }
   ],
   "source": [
    "df_santander[['Dividends', 'Stock Splits']].head(30)"
   ]
  },
  {
   "cell_type": "code",
   "execution_count": 11,
   "id": "8e590ef1-3489-4b28-a06b-331f2fb6d675",
   "metadata": {},
   "outputs": [
    {
     "data": {
      "text/plain": [
       "Series([], Name: Stock Splits, dtype: float64)"
      ]
     },
     "execution_count": 11,
     "metadata": {},
     "output_type": "execute_result"
    }
   ],
   "source": [
    "df_santander['Stock Splits'][ df_santander['Stock Splits'] != 0]"
   ]
  },
  {
   "cell_type": "code",
   "execution_count": 13,
   "id": "e74959b5-4bb1-4e20-8921-2a43b143fb0c",
   "metadata": {},
   "outputs": [
    {
     "data": {
      "text/plain": [
       "Date\n",
       "2024-04-22 00:00:00-03:00    0.402399\n",
       "2024-07-22 00:00:00-03:00    0.402500\n",
       "2024-10-18 00:00:00-03:00    0.348813\n",
       "2025-01-23 00:00:00-03:00    0.402522\n",
       "Name: Dividends, dtype: float64"
      ]
     },
     "execution_count": 13,
     "metadata": {},
     "output_type": "execute_result"
    }
   ],
   "source": [
    "df_santander['Dividends'][ df_santander['Dividends'] != 0]"
   ]
  },
  {
   "cell_type": "markdown",
   "id": "83f66207-f9ed-4e8c-8216-5dc61d79e73e",
   "metadata": {},
   "source": [
    "### Primeiras impressoes\n",
    "\n",
    "O dataframe apresenta váriaveis quantitativas continuas e não há variaveis categóricas, o index poderia talvez ser reduzido, deixando apenas a data e tirando a hora, já que não pretendo analisar de forma precisa o horário de abertura ou fechamento das ações. Se trata de dados populacionas, portanto, para qualquer analise estatisca, deve se ter em mente que sao dados populacionas, e nao de uma amsotra.\n",
    "\n",
    "As variaveis 'Dividends' e 'Stock Splits' já de ínicio, apresentaram muitos valores iguais a 0, analisando essa variaveis separadamente, observei que apenas a variavel 'Dividends' possui valores diferentes de zero, porém em apenas 4 observações, portanto, irei remover essas variáveis  do dataframe"
   ]
  },
  {
   "cell_type": "code",
   "execution_count": 16,
   "id": "3fe5a48d-38d4-44e4-86d2-704c0b3c2c91",
   "metadata": {},
   "outputs": [],
   "source": [
    "df_santander.drop(['Dividends', 'Stock Splits'], axis = 1, inplace = True)"
   ]
  },
  {
   "cell_type": "markdown",
   "id": "9f75e90a-99ef-47ef-8359-e99db8c4b93d",
   "metadata": {},
   "source": [
    "### Extraindo algumas informações básicas do dataset"
   ]
  },
  {
   "cell_type": "code",
   "execution_count": 19,
   "id": "bba9b6aa-37cf-4925-885e-45c52fb0ba40",
   "metadata": {},
   "outputs": [
    {
     "name": "stdout",
     "output_type": "stream",
     "text": [
      "<class 'pandas.core.frame.DataFrame'>\n",
      "DatetimeIndex: 251 entries, 2024-03-05 00:00:00-03:00 to 2025-03-05 00:00:00-03:00\n",
      "Data columns (total 5 columns):\n",
      " #   Column  Non-Null Count  Dtype  \n",
      "---  ------  --------------  -----  \n",
      " 0   Open    251 non-null    float64\n",
      " 1   High    251 non-null    float64\n",
      " 2   Low     251 non-null    float64\n",
      " 3   Close   251 non-null    float64\n",
      " 4   Volume  251 non-null    int64  \n",
      "dtypes: float64(4), int64(1)\n",
      "memory usage: 11.8 KB\n"
     ]
    }
   ],
   "source": [
    "df_santander.info() #tipos de dados\n",
    "#Não há campos NaN para serem tratados"
   ]
  },
  {
   "cell_type": "code",
   "execution_count": 21,
   "id": "831fb269-13c6-42be-a0c8-53185be4cce0",
   "metadata": {},
   "outputs": [
    {
     "name": "stdout",
     "output_type": "stream",
     "text": [
      "Numero de observações: 251 \n",
      "Número de variáveis: 5\n"
     ]
    }
   ],
   "source": [
    "print(f'Numero de observações: {df_santander.shape[0]} \\nNúmero de variáveis: {df_santander.shape[1]}')  #formato"
   ]
  },
  {
   "cell_type": "markdown",
   "id": "f90ee35f-51da-4698-bcae-0b691e584f51",
   "metadata": {},
   "source": [
    "## Etapa de estatistica descritiva"
   ]
  },
  {
   "cell_type": "code",
   "execution_count": 24,
   "id": "b0b56aa1-f46f-4167-a88f-6dfc810d410c",
   "metadata": {},
   "outputs": [
    {
     "data": {
      "text/html": [
       "<div>\n",
       "<style scoped>\n",
       "    .dataframe tbody tr th:only-of-type {\n",
       "        vertical-align: middle;\n",
       "    }\n",
       "\n",
       "    .dataframe tbody tr th {\n",
       "        vertical-align: top;\n",
       "    }\n",
       "\n",
       "    .dataframe thead th {\n",
       "        text-align: right;\n",
       "    }\n",
       "</style>\n",
       "<table border=\"1\" class=\"dataframe\">\n",
       "  <thead>\n",
       "    <tr style=\"text-align: right;\">\n",
       "      <th></th>\n",
       "      <th>Open</th>\n",
       "      <th>High</th>\n",
       "      <th>Low</th>\n",
       "      <th>Close</th>\n",
       "      <th>Volume</th>\n",
       "    </tr>\n",
       "  </thead>\n",
       "  <tbody>\n",
       "    <tr>\n",
       "      <th>Contagem</th>\n",
       "      <td>251.000</td>\n",
       "      <td>251.000</td>\n",
       "      <td>251.000</td>\n",
       "      <td>251.000</td>\n",
       "      <td>251.000</td>\n",
       "    </tr>\n",
       "    <tr>\n",
       "      <th>Média</th>\n",
       "      <td>26.767</td>\n",
       "      <td>27.024</td>\n",
       "      <td>26.495</td>\n",
       "      <td>26.754</td>\n",
       "      <td>2990680.478</td>\n",
       "    </tr>\n",
       "    <tr>\n",
       "      <th>Desvio Padrão</th>\n",
       "      <td>1.701</td>\n",
       "      <td>1.720</td>\n",
       "      <td>1.730</td>\n",
       "      <td>1.725</td>\n",
       "      <td>4563830.795</td>\n",
       "    </tr>\n",
       "    <tr>\n",
       "      <th>Mínimo</th>\n",
       "      <td>23.166</td>\n",
       "      <td>23.511</td>\n",
       "      <td>22.822</td>\n",
       "      <td>23.048</td>\n",
       "      <td>480500.000</td>\n",
       "    </tr>\n",
       "    <tr>\n",
       "      <th>1° Quartil</th>\n",
       "      <td>25.805</td>\n",
       "      <td>26.011</td>\n",
       "      <td>25.500</td>\n",
       "      <td>25.728</td>\n",
       "      <td>1732800.000</td>\n",
       "    </tr>\n",
       "    <tr>\n",
       "      <th>2° Quartil</th>\n",
       "      <td>26.655</td>\n",
       "      <td>26.894</td>\n",
       "      <td>26.422</td>\n",
       "      <td>26.670</td>\n",
       "      <td>2315600.000</td>\n",
       "    </tr>\n",
       "    <tr>\n",
       "      <th>3° Quartil</th>\n",
       "      <td>27.811</td>\n",
       "      <td>28.049</td>\n",
       "      <td>27.506</td>\n",
       "      <td>27.777</td>\n",
       "      <td>3503150.000</td>\n",
       "    </tr>\n",
       "    <tr>\n",
       "      <th>Máximo</th>\n",
       "      <td>30.762</td>\n",
       "      <td>31.092</td>\n",
       "      <td>30.635</td>\n",
       "      <td>30.888</td>\n",
       "      <td>71189700.000</td>\n",
       "    </tr>\n",
       "  </tbody>\n",
       "</table>\n",
       "</div>"
      ],
      "text/plain": [
       "                 Open    High     Low   Close       Volume\n",
       "Contagem      251.000 251.000 251.000 251.000      251.000\n",
       "Média          26.767  27.024  26.495  26.754  2990680.478\n",
       "Desvio Padrão   1.701   1.720   1.730   1.725  4563830.795\n",
       "Mínimo         23.166  23.511  22.822  23.048   480500.000\n",
       "1° Quartil     25.805  26.011  25.500  25.728  1732800.000\n",
       "2° Quartil     26.655  26.894  26.422  26.670  2315600.000\n",
       "3° Quartil     27.811  28.049  27.506  27.777  3503150.000\n",
       "Máximo         30.762  31.092  30.635  30.888 71189700.000"
      ]
     },
     "execution_count": 24,
     "metadata": {},
     "output_type": "execute_result"
    }
   ],
   "source": [
    "df_santander_descritivo = df_santander.describe()\n",
    "\n",
    "#Renomeando o index\n",
    "df_santander_descritivo.index = ['Contagem','Média','Desvio Padrão', 'Mínimo', '1° Quartil', '2° Quartil', '3° Quartil', 'Máximo']\n",
    "\n",
    "#Defining o numero de casas decimais para 3\n",
    "pd.set_option('float.format','{:.3f}'.format)\n",
    "\n",
    "#Printando o novo data set\n",
    "df_santander_descritivo"
   ]
  },
  {
   "cell_type": "code",
   "execution_count": 26,
   "id": "59f9d6f9-b773-4127-b0f8-5f99d74d2c9e",
   "metadata": {},
   "outputs": [
    {
     "data": {
      "text/plain": [
       "CV_Open:        6.356%\n",
       "CV_High:        6.363%\n",
       "CV_Low:         6.531%\n",
       "CV_Close:       6.447%\n",
       "CV_Volume:    152.602%\n",
       "dtype: object"
      ]
     },
     "execution_count": 26,
     "metadata": {},
     "output_type": "execute_result"
    }
   ],
   "source": [
    "#Utilizando medidadas de dispersao, coeficiente de variancia\n",
    "\n",
    "\n",
    "#Calculando coeficiente de variação para as variaveis Open, High, Low e Close\n",
    "\n",
    "coeficientes_de_variacao = []\n",
    "for i in range (0,5):\n",
    "    coeficientes_de_variacao.append((df_santander_descritivo.iloc[2, i] / df_santander_descritivo.iloc[1, i]) * 100)\n",
    "\n",
    "#Adcionando a porcentagem, tendo em vista que o coeficiente da variação é obsavardo em porcentagem\n",
    "coeficientes_com_porcentagem = [f\"{coeficientes_de_variacao:.3f}%\" for coeficientes_de_variacao in coeficientes_de_variacao]\n",
    "\n",
    "#CV = Coeficiente de variação\n",
    "pd.Series(coeficientes_com_porcentagem, index=['CV_Open:','CV_High:','CV_Low:','CV_Close:', 'CV_Volume:'])"
   ]
  },
  {
   "cell_type": "code",
   "execution_count": 28,
   "id": "fa7f7332-afe2-4790-a63e-ca39405e1a97",
   "metadata": {},
   "outputs": [
    {
     "data": {
      "text/plain": [
       "[2.8941106575727282,\n",
       " 2.9570974528407525,\n",
       " 2.994268897827804,\n",
       " 2.974782902606963,\n",
       " 20828551521577.367]"
      ]
     },
     "execution_count": 28,
     "metadata": {},
     "output_type": "execute_result"
    }
   ],
   "source": [
    "variancias = []\n",
    "\n",
    "for i in range(0,5):\n",
    "    variancias.append(df_santander.iloc[:, i].var())\n",
    "\n",
    "variancias"
   ]
  },
  {
   "cell_type": "code",
   "execution_count": 30,
   "id": "5dd48246-82ba-4806-91ae-10e0ac695655",
   "metadata": {},
   "outputs": [
    {
     "data": {
      "text/html": [
       "<div>\n",
       "<style scoped>\n",
       "    .dataframe tbody tr th:only-of-type {\n",
       "        vertical-align: middle;\n",
       "    }\n",
       "\n",
       "    .dataframe tbody tr th {\n",
       "        vertical-align: top;\n",
       "    }\n",
       "\n",
       "    .dataframe thead th {\n",
       "        text-align: right;\n",
       "    }\n",
       "</style>\n",
       "<table border=\"1\" class=\"dataframe\">\n",
       "  <thead>\n",
       "    <tr style=\"text-align: right;\">\n",
       "      <th></th>\n",
       "      <th>Open</th>\n",
       "      <th>High</th>\n",
       "      <th>Low</th>\n",
       "      <th>Close</th>\n",
       "      <th>Volume</th>\n",
       "    </tr>\n",
       "  </thead>\n",
       "  <tbody>\n",
       "    <tr>\n",
       "      <th>Contagem</th>\n",
       "      <td>251.000</td>\n",
       "      <td>251.000</td>\n",
       "      <td>251.000</td>\n",
       "      <td>251.000</td>\n",
       "      <td>251.000</td>\n",
       "    </tr>\n",
       "    <tr>\n",
       "      <th>Média</th>\n",
       "      <td>26.767</td>\n",
       "      <td>27.024</td>\n",
       "      <td>26.495</td>\n",
       "      <td>26.754</td>\n",
       "      <td>2990680.478</td>\n",
       "    </tr>\n",
       "    <tr>\n",
       "      <th>Desvio Padrão</th>\n",
       "      <td>1.701</td>\n",
       "      <td>1.720</td>\n",
       "      <td>1.730</td>\n",
       "      <td>1.725</td>\n",
       "      <td>4563830.795</td>\n",
       "    </tr>\n",
       "    <tr>\n",
       "      <th>Mínimo</th>\n",
       "      <td>23.166</td>\n",
       "      <td>23.511</td>\n",
       "      <td>22.822</td>\n",
       "      <td>23.048</td>\n",
       "      <td>480500.000</td>\n",
       "    </tr>\n",
       "    <tr>\n",
       "      <th>1° Quartil</th>\n",
       "      <td>25.805</td>\n",
       "      <td>26.011</td>\n",
       "      <td>25.500</td>\n",
       "      <td>25.728</td>\n",
       "      <td>1732800.000</td>\n",
       "    </tr>\n",
       "    <tr>\n",
       "      <th>2° Quartil</th>\n",
       "      <td>26.655</td>\n",
       "      <td>26.894</td>\n",
       "      <td>26.422</td>\n",
       "      <td>26.670</td>\n",
       "      <td>2315600.000</td>\n",
       "    </tr>\n",
       "    <tr>\n",
       "      <th>3° Quartil</th>\n",
       "      <td>27.811</td>\n",
       "      <td>28.049</td>\n",
       "      <td>27.506</td>\n",
       "      <td>27.777</td>\n",
       "      <td>3503150.000</td>\n",
       "    </tr>\n",
       "    <tr>\n",
       "      <th>Máximo</th>\n",
       "      <td>30.762</td>\n",
       "      <td>31.092</td>\n",
       "      <td>30.635</td>\n",
       "      <td>30.888</td>\n",
       "      <td>71189700.000</td>\n",
       "    </tr>\n",
       "    <tr>\n",
       "      <th>Coeficiente de Variação</th>\n",
       "      <td>6.356%</td>\n",
       "      <td>6.363%</td>\n",
       "      <td>6.531%</td>\n",
       "      <td>6.447%</td>\n",
       "      <td>152.602%</td>\n",
       "    </tr>\n",
       "    <tr>\n",
       "      <th>Variancia</th>\n",
       "      <td>2.894</td>\n",
       "      <td>2.957</td>\n",
       "      <td>2.994</td>\n",
       "      <td>2.975</td>\n",
       "      <td>20828551521577.367</td>\n",
       "    </tr>\n",
       "  </tbody>\n",
       "</table>\n",
       "</div>"
      ],
      "text/plain": [
       "                           Open    High     Low   Close             Volume\n",
       "Contagem                251.000 251.000 251.000 251.000            251.000\n",
       "Média                    26.767  27.024  26.495  26.754        2990680.478\n",
       "Desvio Padrão             1.701   1.720   1.730   1.725        4563830.795\n",
       "Mínimo                   23.166  23.511  22.822  23.048         480500.000\n",
       "1° Quartil               25.805  26.011  25.500  25.728        1732800.000\n",
       "2° Quartil               26.655  26.894  26.422  26.670        2315600.000\n",
       "3° Quartil               27.811  28.049  27.506  27.777        3503150.000\n",
       "Máximo                   30.762  31.092  30.635  30.888       71189700.000\n",
       "Coeficiente de Variação  6.356%  6.363%  6.531%  6.447%           152.602%\n",
       "Variancia                 2.894   2.957   2.994   2.975 20828551521577.367"
      ]
     },
     "execution_count": 30,
     "metadata": {},
     "output_type": "execute_result"
    }
   ],
   "source": [
    "#Adcionando os coeficientes de variação ao datagFrame\n",
    "df_santander_descritivo.loc['Coeficiente de Variação'] = coeficientes_com_porcentagem\n",
    "\n",
    "#Adcionando as variancias o ao datagFrame\n",
    "df_santander_descritivo.loc['Variancia'] = variancias\n",
    "\n",
    "df_santander_descritivo"
   ]
  },
  {
   "cell_type": "markdown",
   "id": "cc1387b2-201b-4ecb-a5ca-005df9d74895",
   "metadata": {},
   "source": [
    "### O que se pode observar das estatiscas acima?\n",
    "\n",
    "Em média, o valor de abertura da ação não é muito diferente do valor de fechamento. Tirando a variavel \"Volume\", o coeficiente de variação foi menor que 10% para todas as variaveis que os dados são significativamente homogêneos, ou seja, não são muitos dispersos"
   ]
  },
  {
   "cell_type": "markdown",
   "id": "2a71595e-a89c-4e52-8272-b11ad8230481",
   "metadata": {},
   "source": [
    "### Algumas informações gráficas simples"
   ]
  },
  {
   "cell_type": "code",
   "execution_count": 34,
   "id": "70946b7d-8cb8-4993-9dc7-7a4849fb7b09",
   "metadata": {},
   "outputs": [
    {
     "data": {
      "text/plain": [
       "30.888240814208984"
      ]
     },
     "execution_count": 34,
     "metadata": {},
     "output_type": "execute_result"
    }
   ],
   "source": [
    "df_santander['Close'].max()"
   ]
  },
  {
   "cell_type": "code",
   "execution_count": 36,
   "id": "94c8e813-7177-4730-ac2b-66c36a67cdd6",
   "metadata": {},
   "outputs": [
    {
     "data": {
      "text/plain": [
       "Text(2024-10-31 00:00:00-03:00, 26.85426733161349, 'Média')"
      ]
     },
     "execution_count": 36,
     "metadata": {},
     "output_type": "execute_result"
    },
    {
     "data": {
      "image/png": "[encoded data removed]",
      "text/plain": [
       "<Figure size 1500x800 with 1 Axes>"
      ]
     },
     "metadata": {},
     "output_type": "display_data"
    }
   ],
   "source": [
    "#Analisando apenas a variable \"Close\"\n",
    "\n",
    "#Plotando um graáfico de linha\n",
    "fig = plt.figure(figsize=(15,8))\n",
    "ax = fig.add_axes([0, 0, 1, 1])\n",
    "ax.plot(df_santander.index, df_santander['Close'], linewidth=4)\n",
    "\n",
    "#Traçando uma linha rente ao valor maximo ja atingido lo papel\n",
    "ax.axhline(df_santander['Close'].max(), c= 'r', ls = '--')\n",
    "ax.annotate(\"Máximo\", \n",
    "            (df_santander['Close'].idxmax(), df_santander['Close'].max() + 0.1),\n",
    "            fontsize=15,\n",
    "            c= 'r'\n",
    "           )\n",
    "\n",
    "#Traçando uma linha rente ao valor mínimo ja atingido lo papel\n",
    "ax.axhline(df_santander['Close'].min(), c='g', ls = '--')\n",
    "ax.annotate(\"Mínimo\", \n",
    "            (df_santander['Close'].idxmin(), df_santander['Close'].min() + 0.1),\n",
    "            fontsize=15,\n",
    "            c='g'\n",
    "           )\n",
    "\n",
    "#Traçando uma linha rente a média ja atingido lo papel\n",
    "ax.axhline(df_santander['Close'].mean(), c='y', ls = '--')\n",
    "ax.annotate(\"Média\", \n",
    "            ((df_santander['Close'] - df_santander['Close'].mean()).abs().idxmin(), df_santander['Close'].mean() + 0.1),\n",
    "            fontsize=20,\n",
    "            c='y'\n",
    "           )\n"
   ]
  },
  {
   "cell_type": "code",
   "execution_count": 38,
   "id": "574c7477-f5af-42e8-9999-fe59bae2ea85",
   "metadata": {},
   "outputs": [
    {
     "data": {
      "text/plain": [
       "<Axes: xlabel='Close', ylabel='Count'>"
      ]
     },
     "execution_count": 38,
     "metadata": {},
     "output_type": "execute_result"
    },
    {
     "data": {
      "image/png": "[encoded data removed]",
      "text/plain": [
       "<Figure size 640x480 with 1 Axes>"
      ]
     },
     "metadata": {},
     "output_type": "display_data"
    }
   ],
   "source": [
    "#Analisando a distribuição\n",
    "sns.histplot(df_santander['Close'])"
   ]
  },
  {
   "cell_type": "markdown",
   "id": "ed3ac504-16c2-4ac3-815e-c0256e22c371",
   "metadata": {},
   "source": [
    "### Tratamento do dataframe santander"
   ]
  },
  {
   "cell_type": "code",
   "execution_count": 40,
   "id": "edb18660-f96b-4dab-9e19-1541ca1ea554",
   "metadata": {},
   "outputs": [
    {
     "data": {
      "text/html": [
       "<div>\n",
       "<style scoped>\n",
       "    .dataframe tbody tr th:only-of-type {\n",
       "        vertical-align: middle;\n",
       "    }\n",
       "\n",
       "    .dataframe tbody tr th {\n",
       "        vertical-align: top;\n",
       "    }\n",
       "\n",
       "    .dataframe thead th {\n",
       "        text-align: right;\n",
       "    }\n",
       "</style>\n",
       "<table border=\"1\" class=\"dataframe\">\n",
       "  <thead>\n",
       "    <tr style=\"text-align: right;\">\n",
       "      <th></th>\n",
       "      <th>Date</th>\n",
       "      <th>Open</th>\n",
       "      <th>High</th>\n",
       "      <th>Low</th>\n",
       "      <th>Close</th>\n",
       "      <th>Volume</th>\n",
       "    </tr>\n",
       "  </thead>\n",
       "  <tbody>\n",
       "    <tr>\n",
       "      <th>0</th>\n",
       "      <td>2024-03-05 00:00:00-03:00</td>\n",
       "      <td>26.932</td>\n",
       "      <td>26.970</td>\n",
       "      <td>26.422</td>\n",
       "      <td>26.734</td>\n",
       "      <td>2230800</td>\n",
       "    </tr>\n",
       "    <tr>\n",
       "      <th>1</th>\n",
       "      <td>2024-03-06 00:00:00-03:00</td>\n",
       "      <td>26.904</td>\n",
       "      <td>27.121</td>\n",
       "      <td>26.545</td>\n",
       "      <td>26.545</td>\n",
       "      <td>1470600</td>\n",
       "    </tr>\n",
       "    <tr>\n",
       "      <th>2</th>\n",
       "      <td>2024-03-07 00:00:00-03:00</td>\n",
       "      <td>26.649</td>\n",
       "      <td>26.734</td>\n",
       "      <td>26.535</td>\n",
       "      <td>26.686</td>\n",
       "      <td>899200</td>\n",
       "    </tr>\n",
       "    <tr>\n",
       "      <th>3</th>\n",
       "      <td>2024-03-08 00:00:00-03:00</td>\n",
       "      <td>26.601</td>\n",
       "      <td>27.121</td>\n",
       "      <td>26.583</td>\n",
       "      <td>26.951</td>\n",
       "      <td>1146900</td>\n",
       "    </tr>\n",
       "    <tr>\n",
       "      <th>4</th>\n",
       "      <td>2024-03-11 00:00:00-03:00</td>\n",
       "      <td>26.951</td>\n",
       "      <td>27.055</td>\n",
       "      <td>26.847</td>\n",
       "      <td>26.951</td>\n",
       "      <td>951800</td>\n",
       "    </tr>\n",
       "  </tbody>\n",
       "</table>\n",
       "</div>"
      ],
      "text/plain": [
       "                       Date   Open   High    Low  Close   Volume\n",
       "0 2024-03-05 00:00:00-03:00 26.932 26.970 26.422 26.734  2230800\n",
       "1 2024-03-06 00:00:00-03:00 26.904 27.121 26.545 26.545  1470600\n",
       "2 2024-03-07 00:00:00-03:00 26.649 26.734 26.535 26.686   899200\n",
       "3 2024-03-08 00:00:00-03:00 26.601 27.121 26.583 26.951  1146900\n",
       "4 2024-03-11 00:00:00-03:00 26.951 27.055 26.847 26.951   951800"
      ]
     },
     "execution_count": 40,
     "metadata": {},
     "output_type": "execute_result"
    }
   ],
   "source": [
    "#adcionando um index\n",
    "df_santander = df_santander.reset_index()\n",
    "df_santander.head()\n"
   ]
  },
  {
   "cell_type": "code",
   "execution_count": 42,
   "id": "4c242d06-8105-48d3-83a9-f3c491e5b61d",
   "metadata": {},
   "outputs": [
    {
     "name": "stdout",
     "output_type": "stream",
     "text": [
      "<class 'pandas.core.frame.DataFrame'>\n",
      "RangeIndex: 251 entries, 0 to 250\n",
      "Data columns (total 6 columns):\n",
      " #   Column  Non-Null Count  Dtype                            \n",
      "---  ------  --------------  -----                            \n",
      " 0   Date    251 non-null    datetime64[ns, America/Sao_Paulo]\n",
      " 1   Open    251 non-null    float64                          \n",
      " 2   High    251 non-null    float64                          \n",
      " 3   Low     251 non-null    float64                          \n",
      " 4   Close   251 non-null    float64                          \n",
      " 5   Volume  251 non-null    int64                            \n",
      "dtypes: datetime64[ns, America/Sao_Paulo](1), float64(4), int64(1)\n",
      "memory usage: 11.9 KB\n"
     ]
    }
   ],
   "source": [
    "#Sem valores nulos, formatods corretos, porem o campo data esta vindo com horário, e sera necessário ser retirado\n",
    "df_santander.info()"
   ]
  },
  {
   "cell_type": "code",
   "execution_count": 44,
   "id": "5d56fdf2-e8be-4640-b48b-7fcf39b99856",
   "metadata": {},
   "outputs": [],
   "source": [
    "#Removendo o timestamp da variavel date\n",
    "\n",
    "df_santander['Date'] = df_santander['Date'].apply(\n",
    "    lambda x: \n",
    "    x.date()\n",
    ")"
   ]
  },
  {
   "cell_type": "code",
   "execution_count": 46,
   "id": "61624b5e-85f4-4a4c-9322-258b6b64d617",
   "metadata": {},
   "outputs": [
    {
     "name": "stdout",
     "output_type": "stream",
     "text": [
      "Diferença entre o máximo e o mínimo\n",
      "    7.6\n"
     ]
    }
   ],
   "source": [
    "print(f'''Diferença entre o máximo e o mínimo\n",
    "    {\n",
    "    np.round(df_santander['Open'].max() - df_santander['Open'].min(), decimals=2)\n",
    "    }'''\n",
    "     )      "
   ]
  },
  {
   "cell_type": "code",
   "execution_count": 48,
   "id": "39d72d80-be92-4028-a7fd-601c76f08f90",
   "metadata": {},
   "outputs": [
    {
     "data": {
      "text/html": [
       "<div>\n",
       "<style scoped>\n",
       "    .dataframe tbody tr th:only-of-type {\n",
       "        vertical-align: middle;\n",
       "    }\n",
       "\n",
       "    .dataframe tbody tr th {\n",
       "        vertical-align: top;\n",
       "    }\n",
       "\n",
       "    .dataframe thead th {\n",
       "        text-align: right;\n",
       "    }\n",
       "</style>\n",
       "<table border=\"1\" class=\"dataframe\">\n",
       "  <thead>\n",
       "    <tr style=\"text-align: right;\">\n",
       "      <th></th>\n",
       "      <th>Date</th>\n",
       "      <th>Open</th>\n",
       "      <th>High</th>\n",
       "      <th>Low</th>\n",
       "      <th>Close</th>\n",
       "      <th>Volume</th>\n",
       "    </tr>\n",
       "  </thead>\n",
       "  <tbody>\n",
       "    <tr>\n",
       "      <th>129</th>\n",
       "      <td>2024-09-05</td>\n",
       "      <td>30.762</td>\n",
       "      <td>30.849</td>\n",
       "      <td>30.480</td>\n",
       "      <td>30.713</td>\n",
       "      <td>1952600</td>\n",
       "    </tr>\n",
       "    <tr>\n",
       "      <th>205</th>\n",
       "      <td>2024-12-26</td>\n",
       "      <td>23.166</td>\n",
       "      <td>23.560</td>\n",
       "      <td>23.157</td>\n",
       "      <td>23.393</td>\n",
       "      <td>1174100</td>\n",
       "    </tr>\n",
       "  </tbody>\n",
       "</table>\n",
       "</div>"
      ],
      "text/plain": [
       "           Date   Open   High    Low  Close   Volume\n",
       "129  2024-09-05 30.762 30.849 30.480 30.713  1952600\n",
       "205  2024-12-26 23.166 23.560 23.157 23.393  1174100"
      ]
     },
     "execution_count": 48,
     "metadata": {},
     "output_type": "execute_result"
    }
   ],
   "source": [
    "#Descobrindo a data do maximo e do minimo para open\n",
    "df_santander.iloc[\n",
    "[\n",
    "    df_santander['Open'].idxmax(),df_santander['Open'].idxmin()\n",
    "],\n",
    "]\n",
    "\n",
    "\n"
   ]
  },
  {
   "cell_type": "code",
   "execution_count": 50,
   "id": "2b6c419a-b8c7-4996-9127-d3230d1fcd85",
   "metadata": {},
   "outputs": [
    {
     "data": {
      "text/html": [
       "<div>\n",
       "<style scoped>\n",
       "    .dataframe tbody tr th:only-of-type {\n",
       "        vertical-align: middle;\n",
       "    }\n",
       "\n",
       "    .dataframe tbody tr th {\n",
       "        vertical-align: top;\n",
       "    }\n",
       "\n",
       "    .dataframe thead th {\n",
       "        text-align: right;\n",
       "    }\n",
       "</style>\n",
       "<table border=\"1\" class=\"dataframe\">\n",
       "  <thead>\n",
       "    <tr style=\"text-align: right;\">\n",
       "      <th></th>\n",
       "      <th>Date</th>\n",
       "      <th>Open</th>\n",
       "    </tr>\n",
       "  </thead>\n",
       "  <tbody>\n",
       "    <tr>\n",
       "      <th>0</th>\n",
       "      <td>2024-03-05</td>\n",
       "      <td>26.932</td>\n",
       "    </tr>\n",
       "    <tr>\n",
       "      <th>1</th>\n",
       "      <td>2024-03-06</td>\n",
       "      <td>26.904</td>\n",
       "    </tr>\n",
       "    <tr>\n",
       "      <th>2</th>\n",
       "      <td>2024-03-07</td>\n",
       "      <td>26.649</td>\n",
       "    </tr>\n",
       "    <tr>\n",
       "      <th>3</th>\n",
       "      <td>2024-03-08</td>\n",
       "      <td>26.601</td>\n",
       "    </tr>\n",
       "    <tr>\n",
       "      <th>4</th>\n",
       "      <td>2024-03-11</td>\n",
       "      <td>26.951</td>\n",
       "    </tr>\n",
       "    <tr>\n",
       "      <th>...</th>\n",
       "      <td>...</td>\n",
       "      <td>...</td>\n",
       "    </tr>\n",
       "    <tr>\n",
       "      <th>246</th>\n",
       "      <td>2025-02-25</td>\n",
       "      <td>26.300</td>\n",
       "    </tr>\n",
       "    <tr>\n",
       "      <th>247</th>\n",
       "      <td>2025-02-26</td>\n",
       "      <td>26.700</td>\n",
       "    </tr>\n",
       "    <tr>\n",
       "      <th>248</th>\n",
       "      <td>2025-02-27</td>\n",
       "      <td>26.300</td>\n",
       "    </tr>\n",
       "    <tr>\n",
       "      <th>249</th>\n",
       "      <td>2025-02-28</td>\n",
       "      <td>26.080</td>\n",
       "    </tr>\n",
       "    <tr>\n",
       "      <th>250</th>\n",
       "      <td>2025-03-05</td>\n",
       "      <td>25.190</td>\n",
       "    </tr>\n",
       "  </tbody>\n",
       "</table>\n",
       "<p>251 rows × 2 columns</p>\n",
       "</div>"
      ],
      "text/plain": [
       "           Date   Open\n",
       "0    2024-03-05 26.932\n",
       "1    2024-03-06 26.904\n",
       "2    2024-03-07 26.649\n",
       "3    2024-03-08 26.601\n",
       "4    2024-03-11 26.951\n",
       "..          ...    ...\n",
       "246  2025-02-25 26.300\n",
       "247  2025-02-26 26.700\n",
       "248  2025-02-27 26.300\n",
       "249  2025-02-28 26.080\n",
       "250  2025-03-05 25.190\n",
       "\n",
       "[251 rows x 2 columns]"
      ]
     },
     "execution_count": 50,
     "metadata": {},
     "output_type": "execute_result"
    }
   ],
   "source": [
    "#por se tratar de um ativo bem estavel, o valor de abertura e fechamento é bem próximo, portanto irei trabalhar apenas com a variavel 'Open'\n",
    "\n",
    "df_open = df_santander.drop(\n",
    "            columns=['High','Low','Close', 'Volume'],\n",
    ")\n",
    "df_open"
   ]
  },
  {
   "cell_type": "code",
   "execution_count": 52,
   "id": "553e57d4-27fd-4dde-8cbe-d7526217e72e",
   "metadata": {},
   "outputs": [
    {
     "name": "stdout",
     "output_type": "stream",
     "text": [
      "<class 'pandas.core.frame.DataFrame'>\n",
      "RangeIndex: 251 entries, 0 to 250\n",
      "Data columns (total 2 columns):\n",
      " #   Column  Non-Null Count  Dtype  \n",
      "---  ------  --------------  -----  \n",
      " 0   Date    251 non-null    object \n",
      " 1   Open    251 non-null    float64\n",
      "dtypes: float64(1), object(1)\n",
      "memory usage: 4.1+ KB\n"
     ]
    }
   ],
   "source": [
    "#Verifiquei que o tipo da variavel date é 'Object' quando deveria ser datetime\n",
    "df_open.info()"
   ]
  },
  {
   "cell_type": "code",
   "execution_count": 54,
   "id": "a70833c5-2aeb-43e2-a3df-5852d88942be",
   "metadata": {},
   "outputs": [
    {
     "name": "stdout",
     "output_type": "stream",
     "text": [
      "<class 'pandas.core.frame.DataFrame'>\n",
      "RangeIndex: 251 entries, 0 to 250\n",
      "Data columns (total 2 columns):\n",
      " #   Column  Non-Null Count  Dtype         \n",
      "---  ------  --------------  -----         \n",
      " 0   Date    251 non-null    datetime64[ns]\n",
      " 1   Open    251 non-null    float64       \n",
      "dtypes: datetime64[ns](1), float64(1)\n",
      "memory usage: 4.1 KB\n"
     ]
    }
   ],
   "source": [
    "df_open['Date'] = pd.to_datetime(\n",
    "                    df_open['Date']\n",
    "                )\n",
    "df_open.info()"
   ]
  },
  {
   "cell_type": "code",
   "execution_count": 56,
   "id": "ad63fb5e-558c-48b2-8bdf-d87fb44b4844",
   "metadata": {},
   "outputs": [
    {
     "data": {
      "text/html": [
       "<div>\n",
       "<style scoped>\n",
       "    .dataframe tbody tr th:only-of-type {\n",
       "        vertical-align: middle;\n",
       "    }\n",
       "\n",
       "    .dataframe tbody tr th {\n",
       "        vertical-align: top;\n",
       "    }\n",
       "\n",
       "    .dataframe thead th {\n",
       "        text-align: right;\n",
       "    }\n",
       "</style>\n",
       "<table border=\"1\" class=\"dataframe\">\n",
       "  <thead>\n",
       "    <tr style=\"text-align: right;\">\n",
       "      <th></th>\n",
       "      <th>Date</th>\n",
       "      <th>Open</th>\n",
       "    </tr>\n",
       "  </thead>\n",
       "  <tbody>\n",
       "    <tr>\n",
       "      <th>0</th>\n",
       "      <td>2024-03-05</td>\n",
       "      <td>26.932</td>\n",
       "    </tr>\n",
       "    <tr>\n",
       "      <th>1</th>\n",
       "      <td>2024-03-06</td>\n",
       "      <td>26.904</td>\n",
       "    </tr>\n",
       "    <tr>\n",
       "      <th>2</th>\n",
       "      <td>2024-03-07</td>\n",
       "      <td>26.649</td>\n",
       "    </tr>\n",
       "    <tr>\n",
       "      <th>3</th>\n",
       "      <td>2024-03-08</td>\n",
       "      <td>26.601</td>\n",
       "    </tr>\n",
       "    <tr>\n",
       "      <th>4</th>\n",
       "      <td>2024-03-11</td>\n",
       "      <td>26.951</td>\n",
       "    </tr>\n",
       "  </tbody>\n",
       "</table>\n",
       "</div>"
      ],
      "text/plain": [
       "        Date   Open\n",
       "0 2024-03-05 26.932\n",
       "1 2024-03-06 26.904\n",
       "2 2024-03-07 26.649\n",
       "3 2024-03-08 26.601\n",
       "4 2024-03-11 26.951"
      ]
     },
     "execution_count": 56,
     "metadata": {},
     "output_type": "execute_result"
    }
   ],
   "source": [
    "df_open.head()"
   ]
  },
  {
   "cell_type": "code",
   "execution_count": 58,
   "id": "312da59a-68c2-4de3-9890-e1d75d89c54b",
   "metadata": {},
   "outputs": [
    {
     "data": {
      "text/html": [
       "<div>\n",
       "<style scoped>\n",
       "    .dataframe tbody tr th:only-of-type {\n",
       "        vertical-align: middle;\n",
       "    }\n",
       "\n",
       "    .dataframe tbody tr th {\n",
       "        vertical-align: top;\n",
       "    }\n",
       "\n",
       "    .dataframe thead th {\n",
       "        text-align: right;\n",
       "    }\n",
       "</style>\n",
       "<table border=\"1\" class=\"dataframe\">\n",
       "  <thead>\n",
       "    <tr style=\"text-align: right;\">\n",
       "      <th></th>\n",
       "      <th>Date</th>\n",
       "      <th>Open</th>\n",
       "      <th>Acima_da_media?</th>\n",
       "    </tr>\n",
       "  </thead>\n",
       "  <tbody>\n",
       "    <tr>\n",
       "      <th>0</th>\n",
       "      <td>2024-03-05</td>\n",
       "      <td>26.932</td>\n",
       "      <td>Sim</td>\n",
       "    </tr>\n",
       "    <tr>\n",
       "      <th>1</th>\n",
       "      <td>2024-03-06</td>\n",
       "      <td>26.904</td>\n",
       "      <td>Sim</td>\n",
       "    </tr>\n",
       "    <tr>\n",
       "      <th>2</th>\n",
       "      <td>2024-03-07</td>\n",
       "      <td>26.649</td>\n",
       "      <td>Nao</td>\n",
       "    </tr>\n",
       "    <tr>\n",
       "      <th>3</th>\n",
       "      <td>2024-03-08</td>\n",
       "      <td>26.601</td>\n",
       "      <td>Nao</td>\n",
       "    </tr>\n",
       "    <tr>\n",
       "      <th>4</th>\n",
       "      <td>2024-03-11</td>\n",
       "      <td>26.951</td>\n",
       "      <td>Sim</td>\n",
       "    </tr>\n",
       "    <tr>\n",
       "      <th>5</th>\n",
       "      <td>2024-03-12</td>\n",
       "      <td>27.027</td>\n",
       "      <td>Sim</td>\n",
       "    </tr>\n",
       "    <tr>\n",
       "      <th>6</th>\n",
       "      <td>2024-03-13</td>\n",
       "      <td>26.960</td>\n",
       "      <td>Sim</td>\n",
       "    </tr>\n",
       "    <tr>\n",
       "      <th>7</th>\n",
       "      <td>2024-03-14</td>\n",
       "      <td>27.008</td>\n",
       "      <td>Sim</td>\n",
       "    </tr>\n",
       "    <tr>\n",
       "      <th>8</th>\n",
       "      <td>2024-03-15</td>\n",
       "      <td>27.112</td>\n",
       "      <td>Sim</td>\n",
       "    </tr>\n",
       "    <tr>\n",
       "      <th>9</th>\n",
       "      <td>2024-03-18</td>\n",
       "      <td>27.112</td>\n",
       "      <td>Sim</td>\n",
       "    </tr>\n",
       "    <tr>\n",
       "      <th>10</th>\n",
       "      <td>2024-03-19</td>\n",
       "      <td>27.027</td>\n",
       "      <td>Sim</td>\n",
       "    </tr>\n",
       "    <tr>\n",
       "      <th>11</th>\n",
       "      <td>2024-03-20</td>\n",
       "      <td>26.753</td>\n",
       "      <td>Nao</td>\n",
       "    </tr>\n",
       "    <tr>\n",
       "      <th>12</th>\n",
       "      <td>2024-03-21</td>\n",
       "      <td>27.017</td>\n",
       "      <td>Sim</td>\n",
       "    </tr>\n",
       "    <tr>\n",
       "      <th>13</th>\n",
       "      <td>2024-03-22</td>\n",
       "      <td>26.696</td>\n",
       "      <td>Nao</td>\n",
       "    </tr>\n",
       "    <tr>\n",
       "      <th>14</th>\n",
       "      <td>2024-03-25</td>\n",
       "      <td>26.460</td>\n",
       "      <td>Nao</td>\n",
       "    </tr>\n",
       "  </tbody>\n",
       "</table>\n",
       "</div>"
      ],
      "text/plain": [
       "         Date   Open Acima_da_media?\n",
       "0  2024-03-05 26.932             Sim\n",
       "1  2024-03-06 26.904             Sim\n",
       "2  2024-03-07 26.649             Nao\n",
       "3  2024-03-08 26.601             Nao\n",
       "4  2024-03-11 26.951             Sim\n",
       "5  2024-03-12 27.027             Sim\n",
       "6  2024-03-13 26.960             Sim\n",
       "7  2024-03-14 27.008             Sim\n",
       "8  2024-03-15 27.112             Sim\n",
       "9  2024-03-18 27.112             Sim\n",
       "10 2024-03-19 27.027             Sim\n",
       "11 2024-03-20 26.753             Nao\n",
       "12 2024-03-21 27.017             Sim\n",
       "13 2024-03-22 26.696             Nao\n",
       "14 2024-03-25 26.460             Nao"
      ]
     },
     "execution_count": 58,
     "metadata": {},
     "output_type": "execute_result"
    }
   ],
   "source": [
    "#Agora criar uma variavel categorica, classificar bom base na media, se maior que media = sim a, se nao, nãp\n",
    "\n",
    "valores = []\n",
    "\n",
    "for valor in df_open['Open']:\n",
    "    if valor > df_open['Open'].mean():\n",
    "        valores.append('Sim')\n",
    "    else:\n",
    "        valores.append('Nao')\n",
    "\n",
    "df_open['Acima_da_media?'] = valores\n",
    "df_open.head(15)\n",
    "        "
   ]
  },
  {
   "cell_type": "code",
   "execution_count": 60,
   "id": "ace5db62-9072-47eb-a452-aa41b162e335",
   "metadata": {},
   "outputs": [
    {
     "data": {
      "text/plain": [
       "Acima_da_media?\n",
       "Nao               55.777\n",
       "Sim               44.223\n",
       "Name: proportion, dtype: float64"
      ]
     },
     "execution_count": 60,
     "metadata": {},
     "output_type": "execute_result"
    }
   ],
   "source": [
    "#Porcentagem de observações acima e abaixo da media\n",
    "df_open[['Acima_da_media?']].value_counts(normalize=True) * 100"
   ]
  },
  {
   "cell_type": "code",
   "execution_count": 62,
   "id": "aea58ace-a0ba-4c1a-8068-8979e19f2c49",
   "metadata": {},
   "outputs": [
    {
     "name": "stderr",
     "output_type": "stream",
     "text": [
      "C:\\Users\\FilipeQueirozdeAbreu\\AppData\\Local\\Temp\\ipykernel_22300\\1157543481.py:37: SettingWithCopyWarning: \n",
      "A value is trying to be set on a copy of a slice from a DataFrame.\n",
      "Try using .loc[row_indexer,col_indexer] = value instead\n",
      "\n",
      "See the caveats in the documentation: https://pandas.pydata.org/pandas-docs/stable/user_guide/indexing.html#returning-a-view-versus-a-copy\n",
      "  df_open_novembro['Mes'] = mes\n"
     ]
    },
    {
     "data": {
      "text/html": [
       "<div>\n",
       "<style scoped>\n",
       "    .dataframe tbody tr th:only-of-type {\n",
       "        vertical-align: middle;\n",
       "    }\n",
       "\n",
       "    .dataframe tbody tr th {\n",
       "        vertical-align: top;\n",
       "    }\n",
       "\n",
       "    .dataframe thead th {\n",
       "        text-align: right;\n",
       "    }\n",
       "</style>\n",
       "<table border=\"1\" class=\"dataframe\">\n",
       "  <thead>\n",
       "    <tr style=\"text-align: right;\">\n",
       "      <th></th>\n",
       "      <th>Open</th>\n",
       "    </tr>\n",
       "    <tr>\n",
       "      <th>Mes</th>\n",
       "      <th></th>\n",
       "    </tr>\n",
       "  </thead>\n",
       "  <tbody>\n",
       "    <tr>\n",
       "      <th>Novembro de 2023</th>\n",
       "      <td>27.860</td>\n",
       "    </tr>\n",
       "    <tr>\n",
       "      <th>Novembro de 2024</th>\n",
       "      <td>25.875</td>\n",
       "    </tr>\n",
       "  </tbody>\n",
       "</table>\n",
       "</div>"
      ],
      "text/plain": [
       "                   Open\n",
       "Mes                    \n",
       "Novembro de 2023 27.860\n",
       "Novembro de 2024 25.875"
      ]
     },
     "execution_count": 62,
     "metadata": {},
     "output_type": "execute_result"
    }
   ],
   "source": [
    "# Hoje é dia 23/11/2024, vou fazeruma comparação com o mesmo periodo do ano passado\n",
    "#Para isso eu primeiramente teria que estrair da biblioteca yfinance um dataframe maior, de 2 anos, para que eu possa pegar todos os dias de novembro de 2023\n",
    "\n",
    "df_santander_2y = cria_dataframe('SANB11.SA','2y')\n",
    "df_santander_2y = df_santander_2y.reset_index()\n",
    "\n",
    "df_santander_2y['Date'] = df_santander_2y['Date'].apply(\n",
    "    lambda x: \n",
    "    x.date()\n",
    ")\n",
    "\n",
    "df_santander_2y['Date'] = pd.to_datetime(df_santander_2y['Date'])\n",
    "\n",
    "df_santander_2y.drop(columns=['High','Low','Close','Volume','Dividends','Stock Splits'], inplace=True)\n",
    "valores_2y = []\n",
    "\n",
    "for valor in df_santander_2y['Open']:\n",
    "    if valor > df_santander_2y['Open'].mean():\n",
    "        valores_2y.append('Sim')\n",
    "    else:\n",
    "        valores_2y.append('Nao')\n",
    "\n",
    "df_santander_2y['Acima_da_media?'] = valores_2y\n",
    "\n",
    "df_open_novembro = df_santander_2y[df_santander_2y['Date'].dt.month == 11]\n",
    "\n",
    "mes = []\n",
    "\n",
    "for data in df_open_novembro['Date']:\n",
    "    if data.year == 2022:\n",
    "        mes.append('Novembro de 2022')\n",
    "    elif data.year == 2023:\n",
    "        mes.append('Novembro de 2023')\n",
    "    else:\n",
    "        mes.append('Novembro de 2024')\n",
    "\n",
    "df_open_novembro['Mes'] = mes\n",
    "\n",
    "#Agrupando por mes e verificando a media\n",
    "pd.DataFrame(\n",
    "    df_open_novembro.groupby('Mes')['Open'].mean()\n",
    ").sort_values(by='Open', ascending=False)\n",
    "\n",
    "#Logo temos que a maior media foi no mes de novemtro foi em 2023"
   ]
  },
  {
   "cell_type": "code",
   "execution_count": 64,
   "id": "3c244f86-02ff-47df-8942-9c1857c23740",
   "metadata": {},
   "outputs": [
    {
     "data": {
      "text/html": [
       "<div>\n",
       "<style scoped>\n",
       "    .dataframe tbody tr th:only-of-type {\n",
       "        vertical-align: middle;\n",
       "    }\n",
       "\n",
       "    .dataframe tbody tr th {\n",
       "        vertical-align: top;\n",
       "    }\n",
       "\n",
       "    .dataframe thead th {\n",
       "        text-align: right;\n",
       "    }\n",
       "</style>\n",
       "<table border=\"1\" class=\"dataframe\">\n",
       "  <thead>\n",
       "    <tr style=\"text-align: right;\">\n",
       "      <th></th>\n",
       "      <th>Open</th>\n",
       "    </tr>\n",
       "    <tr>\n",
       "      <th>Mes</th>\n",
       "      <th></th>\n",
       "    </tr>\n",
       "  </thead>\n",
       "  <tbody>\n",
       "    <tr>\n",
       "      <th>Novembro de 2023</th>\n",
       "      <td>29.686</td>\n",
       "    </tr>\n",
       "    <tr>\n",
       "      <th>Novembro de 2024</th>\n",
       "      <td>26.916</td>\n",
       "    </tr>\n",
       "  </tbody>\n",
       "</table>\n",
       "</div>"
      ],
      "text/plain": [
       "                   Open\n",
       "Mes                    \n",
       "Novembro de 2023 29.686\n",
       "Novembro de 2024 26.916"
      ]
     },
     "execution_count": 64,
     "metadata": {},
     "output_type": "execute_result"
    }
   ],
   "source": [
    "#Agora verificando os valores maximos para o mes de novembro\n",
    "pd.DataFrame(df_open_novembro.groupby('Mes')['Open'].max()).sort_values(by='Open', ascending=False)"
   ]
  },
  {
   "cell_type": "code",
   "execution_count": 66,
   "id": "289b0dd5-2e2f-4440-bf89-5eae8162bdb4",
   "metadata": {},
   "outputs": [
    {
     "data": {
      "text/html": [
       "<div>\n",
       "<style scoped>\n",
       "    .dataframe tbody tr th:only-of-type {\n",
       "        vertical-align: middle;\n",
       "    }\n",
       "\n",
       "    .dataframe tbody tr th {\n",
       "        vertical-align: top;\n",
       "    }\n",
       "\n",
       "    .dataframe thead th {\n",
       "        text-align: right;\n",
       "    }\n",
       "</style>\n",
       "<table border=\"1\" class=\"dataframe\">\n",
       "  <thead>\n",
       "    <tr style=\"text-align: right;\">\n",
       "      <th></th>\n",
       "      <th>Open</th>\n",
       "    </tr>\n",
       "    <tr>\n",
       "      <th>Mes</th>\n",
       "      <th></th>\n",
       "    </tr>\n",
       "  </thead>\n",
       "  <tbody>\n",
       "    <tr>\n",
       "      <th>Novembro de 2023</th>\n",
       "      <td>25.156</td>\n",
       "    </tr>\n",
       "    <tr>\n",
       "      <th>Novembro de 2024</th>\n",
       "      <td>24.652</td>\n",
       "    </tr>\n",
       "  </tbody>\n",
       "</table>\n",
       "</div>"
      ],
      "text/plain": [
       "                   Open\n",
       "Mes                    \n",
       "Novembro de 2023 25.156\n",
       "Novembro de 2024 24.652"
      ]
     },
     "execution_count": 66,
     "metadata": {},
     "output_type": "execute_result"
    }
   ],
   "source": [
    "#Agora verificando os valores minimos para o mes de novembro\n",
    "pd.DataFrame(df_open_novembro.groupby('Mes')['Open'].min()).sort_values(by='Open', ascending=False)"
   ]
  },
  {
   "cell_type": "markdown",
   "id": "0e193621-dd5f-4b1c-9e12-36e5bc29f882",
   "metadata": {},
   "source": [
    "# Machine Learning"
   ]
  },
  {
   "cell_type": "code",
   "execution_count": 80,
   "id": "5089f451-e80d-4ded-b95c-eba443176f4f",
   "metadata": {},
   "outputs": [
    {
     "name": "stdout",
     "output_type": "stream",
     "text": [
      "MEAN ABSOLUTE ERROR: 0.17356896149484732\n",
      "MEAN SQUARED ERROR: 0.05669078677492542\n",
      "ROOT MEAN SQUARED: 0.2380982712556423\n",
      "R2: 0.9826958265746696\n"
     ]
    }
   ],
   "source": [
    "#Testando adcionar uma coluna com o valor de close anterior + a media de Low high e Close_anterior do dia\n",
    "#Tambem vou adcionar o uma coluna com o desvios em relação a media \n",
    "\n",
    "#df_santander = df_santander.drop(columns=['Date'])\n",
    "\n",
    "medias = []\n",
    "\n",
    "for item in range(0, len(df_santander)):\n",
    "    medias.append(df_santander.iloc[item, 0:3].mean())\n",
    "\n",
    "media_open = df_santander['Open'].mean()\n",
    "media_high = df_santander['High'].mean()\n",
    "media_low = df_santander['Low'].mean()\n",
    "\n",
    "df_santander['Close_Anterior'] = df_santander['Close'].shift(1)\n",
    "df_santander['Desvio_Open'] = (df_santander['Open'] - media_open).abs() #valores absolutos\n",
    "df_santander['Desvio_High'] = (df_santander['High'] - media_high).abs()\n",
    "df_santander['Desvio_Low'] = (df_santander['Low'] - media_low).abs()\n",
    "\n",
    "df_santander['Medias'] = medias\n",
    "\n",
    "X = df_santander.drop(columns=['Close'])\n",
    "y = df_santander['Close']\n",
    "\n",
    "X_train, X_test, y_train, y_test = train_test_split(X, y, test_size=0.3, random_state=42)\n",
    "\n",
    "model_rf = RandomForestRegressor()\n",
    "model_rf.fit(X_train, y_train)\n",
    "y_pred = model_rf.predict(X_test)\n",
    "\n",
    "mae = mean_absolute_error(y_test, y_pred)\n",
    "mse = mean_squared_error(y_test, y_pred)\n",
    "rmse = np.sqrt(mse)  # Raiz quadrada do MSE\n",
    "r2 = r2_score(y_test, y_pred)\n",
    "\n",
    "print(\"MEAN ABSOLUTE ERROR:\", mae)\n",
    "print(\"MEAN SQUARED ERROR:\", mse)\n",
    "print(\"ROOT MEAN SQUARED:\", rmse)\n",
    "print(\"R2:\", r2)"
   ]
  },
  {
   "cell_type": "code",
   "execution_count": 86,
   "id": "24efd098-c680-4d2b-9978-ee1d17e2427c",
   "metadata": {},
   "outputs": [
    {
     "data": {
      "image/png": "[encoded data removed]",
      "text/plain": [
       "<Figure size 800x510 with 2 Axes>"
      ]
     },
     "metadata": {},
     "output_type": "display_data"
    }
   ],
   "source": [
    "explainer = shap.TreeExplainer(model_rf)\n",
    "shap_values = explainer.shap_values(X_test)\n",
    "shap.summary_plot(shap_values, X_test)"
   ]
  },
  {
   "cell_type": "markdown",
   "id": "89638419-4485-4022-91f2-cd74ad7b1e02",
   "metadata": {},
   "source": [
    "Percebe-se que das varias new features criadas, apenas Desvio_high e Medias tiveram alguma significancia\n",
    "O modelo teve bons resultando utilizando random forest, sem sequer haver a necessidade de alterar os hiperparametros\n",
    "\n",
    "Segundo o coeficiente de determinação R2, o modelo é capaz de explicar 98% da variacia"
   ]
  },
  {
   "cell_type": "markdown",
   "id": "f790aad4-a99c-4ed4-9d50-71cf3fe9ea59",
   "metadata": {},
   "source": [
    "### Acrescentando media móvel"
   ]
  },
  {
   "cell_type": "code",
   "execution_count": 91,
   "id": "93e6b7db-aa7b-4830-83c4-3ec66c4ef968",
   "metadata": {},
   "outputs": [
    {
     "name": "stdout",
     "output_type": "stream",
     "text": [
      "MEAN ABSOLUTE ERROR: 0.17919839507655078\n",
      "MEAN SQUARED ERROR: 0.060587147098067964\n",
      "ROOT MEAN SQUARED: 0.2461445654449189\n",
      "R2: 0.9815065099573695\n"
     ]
    }
   ],
   "source": [
    "medias = []\n",
    "\n",
    "for item in range(0, len(df_santander)):\n",
    "    medias.append(df_santander.iloc[item, 0:3].mean())\n",
    "\n",
    "media_open = df_santander['Open'].mean()\n",
    "media_high = df_santander['High'].mean()\n",
    "media_low = df_santander['Low'].mean()\n",
    "\n",
    "df_santander['Close_Anterior'] = df_santander['Close'].shift(1)\n",
    "df_santander['Desvio_Open'] = (df_santander['Open'] - media_open).abs() #valores absolutos\n",
    "df_santander['Desvio_High'] = (df_santander['High'] - media_high).abs()\n",
    "df_santander['Desvio_Low'] = (df_santander['Low'] - media_low).abs()\n",
    "\n",
    "#Media movel de 5, 8 e 15 dias\n",
    "df_santander['Media_Movel_5'] = df_santander['Close'].rolling(window=5).mean() \n",
    "df_santander['Media_Movel_8'] = df_santander['Close'].rolling(window=8).mean()\n",
    "df_santander['Media_Movel_15'] = df_santander['Close'].rolling(window=15).mean()\n",
    "\n",
    "\n",
    "\n",
    "df_santander['Medias'] = medias\n",
    "\n",
    "X = df_santander.drop(columns=['Close'])\n",
    "y = df_santander['Close']\n",
    "\n",
    "X_train, X_test, y_train, y_test = train_test_split(X, y, test_size=0.3, random_state=42)\n",
    "\n",
    "model_rf = RandomForestRegressor()\n",
    "model_rf.fit(X_train, y_train)\n",
    "y_pred = model_rf.predict(X_test)\n",
    "\n",
    "mae = mean_absolute_error(y_test, y_pred)\n",
    "mse = mean_squared_error(y_test, y_pred)\n",
    "rmse = np.sqrt(mse)  # Raiz quadrada do MSE\n",
    "r2 = r2_score(y_test, y_pred)\n",
    "\n",
    "print(\"MEAN ABSOLUTE ERROR:\", mae)\n",
    "print(\"MEAN SQUARED ERROR:\", mse)\n",
    "print(\"ROOT MEAN SQUARED:\", rmse)\n",
    "print(\"R2:\", r2)"
   ]
  },
  {
   "cell_type": "code",
   "execution_count": 93,
   "id": "287699bd-55a6-4ddc-91ac-274611aae4df",
   "metadata": {},
   "outputs": [
    {
     "data": {
      "image/png": "[encoded data removed]",
      "text/plain": [
       "<Figure size 800x630 with 2 Axes>"
      ]
     },
     "metadata": {},
     "output_type": "display_data"
    }
   ],
   "source": [
    "explainer = shap.TreeExplainer(model_rf)\n",
    "shap_values = explainer.shap_values(X_test)\n",
    "shap.summary_plot(shap_values, X_test)"
   ]
  },
  {
   "cell_type": "code",
   "execution_count": null,
   "id": "3e6f24bf-5a19-4899-a7dd-ee7e2c70f9b8",
   "metadata": {},
   "outputs": [],
   "source": []
  }
 ],
 "metadata": {
  "kernelspec": {
   "display_name": "Python 3 (ipykernel)",
   "language": "python",
   "name": "python3"
  },
  "language_info": {
   "codemirror_mode": {
    "name": "ipython",
    "version": 3
   },
   "file_extension": ".py",
   "mimetype": "text/x-python",
   "name": "python",
   "nbconvert_exporter": "python",
   "pygments_lexer": "ipython3",
   "version": "3.12.7"
  }
 },
 "nbformat": 4,
 "nbformat_minor": 5
}
