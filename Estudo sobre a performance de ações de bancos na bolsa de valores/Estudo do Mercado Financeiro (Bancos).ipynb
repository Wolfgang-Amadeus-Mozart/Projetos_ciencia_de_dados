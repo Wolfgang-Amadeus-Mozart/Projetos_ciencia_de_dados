{
 "cells": [
  {
   "cell_type": "markdown",
   "id": "7c94c8e7-df7f-452e-826b-87c462d26660",
   "metadata": {},
   "source": [
    "# Estudo do Mercado Financeiro (Bancos) - Este notebook utiliza a biblioteca yfinance e outras para analista algumas ações da bolsa de valores\n",
    "\n",
    "### Site:       https://filipedeabreu.com\n",
    "\n",
    "### Autor:      Filipe de Abreu\n",
    "\n",
    "### Manutenção:  Filipe de Abreu\n",
    "\n",
    "<hr>\n",
    "\n",
    "# Testado em\n",
    "### OS: Windows 11                                      \n",
    "### Versão do python: 3.12.7    \n",
    "\n",
    "## OBS: Se tratando de dados da bolsa de valores, os valores extraidos podem variar dependendo da data em que forem consultados"
   ]
  },
  {
   "cell_type": "markdown",
   "id": "534b20c7-e295-4c23-b835-7ebcaddbeefa",
   "metadata": {},
   "source": [
    "## Etapa de Datawrangling, ou seja, preparação da base de dados para extração de informação"
   ]
  },
  {
   "cell_type": "code",
   "execution_count": 1,
   "id": "de50d25f-aaa9-4b20-9f12-0f022671b36d",
   "metadata": {},
   "outputs": [],
   "source": [
    "import pandas as pd\n",
    "import numpy as np\n",
    "import matplotlib.pyplot as plt\n",
    "import seaborn as sns\n",
    "import yfinance as yf"
   ]
  },
  {
   "cell_type": "code",
   "execution_count": 2,
   "id": "e6d80033-f79f-4496-a2c7-2ee5abbc3205",
   "metadata": {},
   "outputs": [],
   "source": [
    "#Função que retorna informações de um papel com base no input de um usuário\n",
    "def cria_dataframe(acao, periodo):\n",
    "    acao_santander =  yf.Ticker(acao)\n",
    "    data = acao_santander.history(period=periodo)\n",
    "    return data"
   ]
  },
  {
   "cell_type": "markdown",
   "id": "b5df7e0b-cd7a-4384-b40a-35d9f6fe7192",
   "metadata": {},
   "source": [
    "### Consultando a ação do <font color='red'> Santander </font> ('SANB11.SA') no período de 1 ano ('1y')"
   ]
  },
  {
   "cell_type": "code",
   "execution_count": 3,
   "id": "07bbb995-c8b5-4118-8177-74dc6accbf80",
   "metadata": {},
   "outputs": [
    {
     "data": {
      "text/html": [
       "<div>\n",
       "<style scoped>\n",
       "    .dataframe tbody tr th:only-of-type {\n",
       "        vertical-align: middle;\n",
       "    }\n",
       "\n",
       "    .dataframe tbody tr th {\n",
       "        vertical-align: top;\n",
       "    }\n",
       "\n",
       "    .dataframe thead th {\n",
       "        text-align: right;\n",
       "    }\n",
       "</style>\n",
       "<table border=\"1\" class=\"dataframe\">\n",
       "  <thead>\n",
       "    <tr style=\"text-align: right;\">\n",
       "      <th></th>\n",
       "      <th>Open</th>\n",
       "      <th>High</th>\n",
       "      <th>Low</th>\n",
       "      <th>Close</th>\n",
       "      <th>Volume</th>\n",
       "      <th>Dividends</th>\n",
       "      <th>Stock Splits</th>\n",
       "    </tr>\n",
       "    <tr>\n",
       "      <th>Date</th>\n",
       "      <th></th>\n",
       "      <th></th>\n",
       "      <th></th>\n",
       "      <th></th>\n",
       "      <th></th>\n",
       "      <th></th>\n",
       "      <th></th>\n",
       "    </tr>\n",
       "  </thead>\n",
       "  <tbody>\n",
       "    <tr>\n",
       "      <th>2023-11-08 00:00:00-03:00</th>\n",
       "      <td>27.035815</td>\n",
       "      <td>27.593547</td>\n",
       "      <td>26.969644</td>\n",
       "      <td>27.574640</td>\n",
       "      <td>1854200</td>\n",
       "      <td>0.0</td>\n",
       "      <td>0.0</td>\n",
       "    </tr>\n",
       "    <tr>\n",
       "      <th>2023-11-09 00:00:00-03:00</th>\n",
       "      <td>27.792061</td>\n",
       "      <td>27.933856</td>\n",
       "      <td>27.432844</td>\n",
       "      <td>27.612452</td>\n",
       "      <td>1610100</td>\n",
       "      <td>0.0</td>\n",
       "      <td>0.0</td>\n",
       "    </tr>\n",
       "    <tr>\n",
       "      <th>2023-11-10 00:00:00-03:00</th>\n",
       "      <td>27.905499</td>\n",
       "      <td>28.434871</td>\n",
       "      <td>27.489562</td>\n",
       "      <td>28.236357</td>\n",
       "      <td>2451800</td>\n",
       "      <td>0.0</td>\n",
       "      <td>0.0</td>\n",
       "    </tr>\n",
       "    <tr>\n",
       "      <th>2023-11-13 00:00:00-03:00</th>\n",
       "      <td>28.151279</td>\n",
       "      <td>28.425417</td>\n",
       "      <td>27.924405</td>\n",
       "      <td>28.425417</td>\n",
       "      <td>1253600</td>\n",
       "      <td>0.0</td>\n",
       "      <td>0.0</td>\n",
       "    </tr>\n",
       "    <tr>\n",
       "      <th>2023-11-14 00:00:00-03:00</th>\n",
       "      <td>28.586120</td>\n",
       "      <td>29.115492</td>\n",
       "      <td>28.122919</td>\n",
       "      <td>29.115492</td>\n",
       "      <td>2109900</td>\n",
       "      <td>0.0</td>\n",
       "      <td>0.0</td>\n",
       "    </tr>\n",
       "    <tr>\n",
       "      <th>2023-11-16 00:00:00-03:00</th>\n",
       "      <td>29.247836</td>\n",
       "      <td>30.287675</td>\n",
       "      <td>28.916977</td>\n",
       "      <td>30.230955</td>\n",
       "      <td>2510400</td>\n",
       "      <td>0.0</td>\n",
       "      <td>0.0</td>\n",
       "    </tr>\n",
       "    <tr>\n",
       "      <th>2023-11-17 00:00:00-03:00</th>\n",
       "      <td>30.108066</td>\n",
       "      <td>30.193144</td>\n",
       "      <td>29.228929</td>\n",
       "      <td>29.314007</td>\n",
       "      <td>3210000</td>\n",
       "      <td>0.0</td>\n",
       "      <td>0.0</td>\n",
       "    </tr>\n",
       "    <tr>\n",
       "      <th>2023-11-20 00:00:00-03:00</th>\n",
       "      <td>29.219476</td>\n",
       "      <td>29.276194</td>\n",
       "      <td>28.822446</td>\n",
       "      <td>29.276194</td>\n",
       "      <td>2157700</td>\n",
       "      <td>0.0</td>\n",
       "      <td>0.0</td>\n",
       "    </tr>\n",
       "    <tr>\n",
       "      <th>2023-11-21 00:00:00-03:00</th>\n",
       "      <td>29.172211</td>\n",
       "      <td>29.455803</td>\n",
       "      <td>28.973695</td>\n",
       "      <td>29.020962</td>\n",
       "      <td>1872100</td>\n",
       "      <td>0.0</td>\n",
       "      <td>0.0</td>\n",
       "    </tr>\n",
       "    <tr>\n",
       "      <th>2023-11-22 00:00:00-03:00</th>\n",
       "      <td>29.219476</td>\n",
       "      <td>29.588145</td>\n",
       "      <td>29.087133</td>\n",
       "      <td>29.314007</td>\n",
       "      <td>1693400</td>\n",
       "      <td>0.0</td>\n",
       "      <td>0.0</td>\n",
       "    </tr>\n",
       "  </tbody>\n",
       "</table>\n",
       "</div>"
      ],
      "text/plain": [
       "                                Open       High        Low      Close  \\\n",
       "Date                                                                    \n",
       "2023-11-08 00:00:00-03:00  27.035815  27.593547  26.969644  27.574640   \n",
       "2023-11-09 00:00:00-03:00  27.792061  27.933856  27.432844  27.612452   \n",
       "2023-11-10 00:00:00-03:00  27.905499  28.434871  27.489562  28.236357   \n",
       "2023-11-13 00:00:00-03:00  28.151279  28.425417  27.924405  28.425417   \n",
       "2023-11-14 00:00:00-03:00  28.586120  29.115492  28.122919  29.115492   \n",
       "2023-11-16 00:00:00-03:00  29.247836  30.287675  28.916977  30.230955   \n",
       "2023-11-17 00:00:00-03:00  30.108066  30.193144  29.228929  29.314007   \n",
       "2023-11-20 00:00:00-03:00  29.219476  29.276194  28.822446  29.276194   \n",
       "2023-11-21 00:00:00-03:00  29.172211  29.455803  28.973695  29.020962   \n",
       "2023-11-22 00:00:00-03:00  29.219476  29.588145  29.087133  29.314007   \n",
       "\n",
       "                            Volume  Dividends  Stock Splits  \n",
       "Date                                                         \n",
       "2023-11-08 00:00:00-03:00  1854200        0.0           0.0  \n",
       "2023-11-09 00:00:00-03:00  1610100        0.0           0.0  \n",
       "2023-11-10 00:00:00-03:00  2451800        0.0           0.0  \n",
       "2023-11-13 00:00:00-03:00  1253600        0.0           0.0  \n",
       "2023-11-14 00:00:00-03:00  2109900        0.0           0.0  \n",
       "2023-11-16 00:00:00-03:00  2510400        0.0           0.0  \n",
       "2023-11-17 00:00:00-03:00  3210000        0.0           0.0  \n",
       "2023-11-20 00:00:00-03:00  2157700        0.0           0.0  \n",
       "2023-11-21 00:00:00-03:00  1872100        0.0           0.0  \n",
       "2023-11-22 00:00:00-03:00  1693400        0.0           0.0  "
      ]
     },
     "execution_count": 3,
     "metadata": {},
     "output_type": "execute_result"
    }
   ],
   "source": [
    "df_santander = cria_dataframe('SANB11.SA','1y') #Selecionado a ação do santander, no periodo de 1 ano\n",
    "df_santander.head(10)"
   ]
  },
  {
   "cell_type": "code",
   "execution_count": 4,
   "id": "9d0ec9cb-1c96-4781-8bf5-a1bd1c95fc5d",
   "metadata": {},
   "outputs": [
    {
     "data": {
      "text/html": [
       "<div>\n",
       "<style scoped>\n",
       "    .dataframe tbody tr th:only-of-type {\n",
       "        vertical-align: middle;\n",
       "    }\n",
       "\n",
       "    .dataframe tbody tr th {\n",
       "        vertical-align: top;\n",
       "    }\n",
       "\n",
       "    .dataframe thead th {\n",
       "        text-align: right;\n",
       "    }\n",
       "</style>\n",
       "<table border=\"1\" class=\"dataframe\">\n",
       "  <thead>\n",
       "    <tr style=\"text-align: right;\">\n",
       "      <th></th>\n",
       "      <th>Dividends</th>\n",
       "      <th>Stock Splits</th>\n",
       "    </tr>\n",
       "    <tr>\n",
       "      <th>Date</th>\n",
       "      <th></th>\n",
       "      <th></th>\n",
       "    </tr>\n",
       "  </thead>\n",
       "  <tbody>\n",
       "    <tr>\n",
       "      <th>2023-11-08 00:00:00-03:00</th>\n",
       "      <td>0.0</td>\n",
       "      <td>0.0</td>\n",
       "    </tr>\n",
       "    <tr>\n",
       "      <th>2023-11-09 00:00:00-03:00</th>\n",
       "      <td>0.0</td>\n",
       "      <td>0.0</td>\n",
       "    </tr>\n",
       "    <tr>\n",
       "      <th>2023-11-10 00:00:00-03:00</th>\n",
       "      <td>0.0</td>\n",
       "      <td>0.0</td>\n",
       "    </tr>\n",
       "    <tr>\n",
       "      <th>2023-11-13 00:00:00-03:00</th>\n",
       "      <td>0.0</td>\n",
       "      <td>0.0</td>\n",
       "    </tr>\n",
       "    <tr>\n",
       "      <th>2023-11-14 00:00:00-03:00</th>\n",
       "      <td>0.0</td>\n",
       "      <td>0.0</td>\n",
       "    </tr>\n",
       "    <tr>\n",
       "      <th>2023-11-16 00:00:00-03:00</th>\n",
       "      <td>0.0</td>\n",
       "      <td>0.0</td>\n",
       "    </tr>\n",
       "    <tr>\n",
       "      <th>2023-11-17 00:00:00-03:00</th>\n",
       "      <td>0.0</td>\n",
       "      <td>0.0</td>\n",
       "    </tr>\n",
       "    <tr>\n",
       "      <th>2023-11-20 00:00:00-03:00</th>\n",
       "      <td>0.0</td>\n",
       "      <td>0.0</td>\n",
       "    </tr>\n",
       "    <tr>\n",
       "      <th>2023-11-21 00:00:00-03:00</th>\n",
       "      <td>0.0</td>\n",
       "      <td>0.0</td>\n",
       "    </tr>\n",
       "    <tr>\n",
       "      <th>2023-11-22 00:00:00-03:00</th>\n",
       "      <td>0.0</td>\n",
       "      <td>0.0</td>\n",
       "    </tr>\n",
       "    <tr>\n",
       "      <th>2023-11-23 00:00:00-03:00</th>\n",
       "      <td>0.0</td>\n",
       "      <td>0.0</td>\n",
       "    </tr>\n",
       "    <tr>\n",
       "      <th>2023-11-24 00:00:00-03:00</th>\n",
       "      <td>0.0</td>\n",
       "      <td>0.0</td>\n",
       "    </tr>\n",
       "    <tr>\n",
       "      <th>2023-11-27 00:00:00-03:00</th>\n",
       "      <td>0.0</td>\n",
       "      <td>0.0</td>\n",
       "    </tr>\n",
       "    <tr>\n",
       "      <th>2023-11-28 00:00:00-03:00</th>\n",
       "      <td>0.0</td>\n",
       "      <td>0.0</td>\n",
       "    </tr>\n",
       "    <tr>\n",
       "      <th>2023-11-29 00:00:00-03:00</th>\n",
       "      <td>0.0</td>\n",
       "      <td>0.0</td>\n",
       "    </tr>\n",
       "    <tr>\n",
       "      <th>2023-11-30 00:00:00-03:00</th>\n",
       "      <td>0.0</td>\n",
       "      <td>0.0</td>\n",
       "    </tr>\n",
       "    <tr>\n",
       "      <th>2023-12-01 00:00:00-03:00</th>\n",
       "      <td>0.0</td>\n",
       "      <td>0.0</td>\n",
       "    </tr>\n",
       "    <tr>\n",
       "      <th>2023-12-04 00:00:00-03:00</th>\n",
       "      <td>0.0</td>\n",
       "      <td>0.0</td>\n",
       "    </tr>\n",
       "    <tr>\n",
       "      <th>2023-12-05 00:00:00-03:00</th>\n",
       "      <td>0.0</td>\n",
       "      <td>0.0</td>\n",
       "    </tr>\n",
       "    <tr>\n",
       "      <th>2023-12-06 00:00:00-03:00</th>\n",
       "      <td>0.0</td>\n",
       "      <td>0.0</td>\n",
       "    </tr>\n",
       "    <tr>\n",
       "      <th>2023-12-07 00:00:00-03:00</th>\n",
       "      <td>0.0</td>\n",
       "      <td>0.0</td>\n",
       "    </tr>\n",
       "    <tr>\n",
       "      <th>2023-12-08 00:00:00-03:00</th>\n",
       "      <td>0.0</td>\n",
       "      <td>0.0</td>\n",
       "    </tr>\n",
       "    <tr>\n",
       "      <th>2023-12-11 00:00:00-03:00</th>\n",
       "      <td>0.0</td>\n",
       "      <td>0.0</td>\n",
       "    </tr>\n",
       "    <tr>\n",
       "      <th>2023-12-12 00:00:00-03:00</th>\n",
       "      <td>0.0</td>\n",
       "      <td>0.0</td>\n",
       "    </tr>\n",
       "    <tr>\n",
       "      <th>2023-12-13 00:00:00-03:00</th>\n",
       "      <td>0.0</td>\n",
       "      <td>0.0</td>\n",
       "    </tr>\n",
       "    <tr>\n",
       "      <th>2023-12-14 00:00:00-03:00</th>\n",
       "      <td>0.0</td>\n",
       "      <td>0.0</td>\n",
       "    </tr>\n",
       "    <tr>\n",
       "      <th>2023-12-15 00:00:00-03:00</th>\n",
       "      <td>0.0</td>\n",
       "      <td>0.0</td>\n",
       "    </tr>\n",
       "    <tr>\n",
       "      <th>2023-12-18 00:00:00-03:00</th>\n",
       "      <td>0.0</td>\n",
       "      <td>0.0</td>\n",
       "    </tr>\n",
       "    <tr>\n",
       "      <th>2023-12-19 00:00:00-03:00</th>\n",
       "      <td>0.0</td>\n",
       "      <td>0.0</td>\n",
       "    </tr>\n",
       "    <tr>\n",
       "      <th>2023-12-20 00:00:00-03:00</th>\n",
       "      <td>0.0</td>\n",
       "      <td>0.0</td>\n",
       "    </tr>\n",
       "  </tbody>\n",
       "</table>\n",
       "</div>"
      ],
      "text/plain": [
       "                           Dividends  Stock Splits\n",
       "Date                                              \n",
       "2023-11-08 00:00:00-03:00        0.0           0.0\n",
       "2023-11-09 00:00:00-03:00        0.0           0.0\n",
       "2023-11-10 00:00:00-03:00        0.0           0.0\n",
       "2023-11-13 00:00:00-03:00        0.0           0.0\n",
       "2023-11-14 00:00:00-03:00        0.0           0.0\n",
       "2023-11-16 00:00:00-03:00        0.0           0.0\n",
       "2023-11-17 00:00:00-03:00        0.0           0.0\n",
       "2023-11-20 00:00:00-03:00        0.0           0.0\n",
       "2023-11-21 00:00:00-03:00        0.0           0.0\n",
       "2023-11-22 00:00:00-03:00        0.0           0.0\n",
       "2023-11-23 00:00:00-03:00        0.0           0.0\n",
       "2023-11-24 00:00:00-03:00        0.0           0.0\n",
       "2023-11-27 00:00:00-03:00        0.0           0.0\n",
       "2023-11-28 00:00:00-03:00        0.0           0.0\n",
       "2023-11-29 00:00:00-03:00        0.0           0.0\n",
       "2023-11-30 00:00:00-03:00        0.0           0.0\n",
       "2023-12-01 00:00:00-03:00        0.0           0.0\n",
       "2023-12-04 00:00:00-03:00        0.0           0.0\n",
       "2023-12-05 00:00:00-03:00        0.0           0.0\n",
       "2023-12-06 00:00:00-03:00        0.0           0.0\n",
       "2023-12-07 00:00:00-03:00        0.0           0.0\n",
       "2023-12-08 00:00:00-03:00        0.0           0.0\n",
       "2023-12-11 00:00:00-03:00        0.0           0.0\n",
       "2023-12-12 00:00:00-03:00        0.0           0.0\n",
       "2023-12-13 00:00:00-03:00        0.0           0.0\n",
       "2023-12-14 00:00:00-03:00        0.0           0.0\n",
       "2023-12-15 00:00:00-03:00        0.0           0.0\n",
       "2023-12-18 00:00:00-03:00        0.0           0.0\n",
       "2023-12-19 00:00:00-03:00        0.0           0.0\n",
       "2023-12-20 00:00:00-03:00        0.0           0.0"
      ]
     },
     "execution_count": 4,
     "metadata": {},
     "output_type": "execute_result"
    }
   ],
   "source": [
    "df_santander[['Dividends', 'Stock Splits']].head(30)"
   ]
  },
  {
   "cell_type": "code",
   "execution_count": 6,
   "id": "8e590ef1-3489-4b28-a06b-331f2fb6d675",
   "metadata": {},
   "outputs": [
    {
     "data": {
      "text/plain": [
       "Series([], Name: Stock Splits, dtype: float64)"
      ]
     },
     "execution_count": 6,
     "metadata": {},
     "output_type": "execute_result"
    }
   ],
   "source": [
    "df_santander['Stock Splits'][ df_santander['Stock Splits'] != 0]"
   ]
  },
  {
   "cell_type": "code",
   "execution_count": 5,
   "id": "e74959b5-4bb1-4e20-8921-2a43b143fb0c",
   "metadata": {},
   "outputs": [
    {
     "data": {
      "text/plain": [
       "Date\n",
       "2024-01-22 00:00:00-03:00    0.402856\n",
       "2024-04-22 00:00:00-03:00    0.402399\n",
       "2024-07-22 00:00:00-03:00    0.402500\n",
       "2024-10-18 00:00:00-03:00    0.402476\n",
       "Name: Dividends, dtype: float64"
      ]
     },
     "execution_count": 5,
     "metadata": {},
     "output_type": "execute_result"
    }
   ],
   "source": [
    "df_santander['Dividends'][ df_santander['Dividends'] != 0]"
   ]
  },
  {
   "cell_type": "markdown",
   "id": "83f66207-f9ed-4e8c-8216-5dc61d79e73e",
   "metadata": {},
   "source": [
    "### Primeiras impressoes\n",
    "\n",
    "O dataframe apresenta váriaveis quantitativas continuas e não há variaveis categóricas, o index poderia talvez ser reduzido, deixando apenas a data e tirando a hora, já que não pretendo analisar de forma precisa o horário de abertura ou fechamento das ações. Se trata de dados populacionas, portanto, para qualquer analise estatisca, deve se ter em mente que sao dados populacionas, e nao de uma amsotra.\n",
    "\n",
    "As variaveis 'Dividends' e 'Stock Splits' já de ínicio, apresentaram muitos valores iguais a 0, analisando essa variaveis separadamente, observei que apenas a variavel 'Dividends' possui valores diferentes de zero, porém em apenas 4 observações, portanto, irei remover essas variáveis  do dataframe"
   ]
  },
  {
   "cell_type": "code",
   "execution_count": 7,
   "id": "3fe5a48d-38d4-44e4-86d2-704c0b3c2c91",
   "metadata": {},
   "outputs": [],
   "source": [
    "df_santander.drop(['Dividends', 'Stock Splits'], axis = 1, inplace = True)"
   ]
  },
  {
   "cell_type": "markdown",
   "id": "9f75e90a-99ef-47ef-8359-e99db8c4b93d",
   "metadata": {},
   "source": [
    "### Extraindo algumas informações básicas do dataset"
   ]
  },
  {
   "cell_type": "code",
   "execution_count": 8,
   "id": "bba9b6aa-37cf-4925-885e-45c52fb0ba40",
   "metadata": {},
   "outputs": [
    {
     "name": "stdout",
     "output_type": "stream",
     "text": [
      "<class 'pandas.core.frame.DataFrame'>\n",
      "DatetimeIndex: 254 entries, 2023-11-08 00:00:00-03:00 to 2024-11-08 00:00:00-03:00\n",
      "Data columns (total 5 columns):\n",
      " #   Column  Non-Null Count  Dtype  \n",
      "---  ------  --------------  -----  \n",
      " 0   Open    254 non-null    float64\n",
      " 1   High    254 non-null    float64\n",
      " 2   Low     254 non-null    float64\n",
      " 3   Close   254 non-null    float64\n",
      " 4   Volume  254 non-null    int64  \n",
      "dtypes: float64(4), int64(1)\n",
      "memory usage: 11.9 KB\n"
     ]
    }
   ],
   "source": [
    "df_santander.info() #tipos de dados\n",
    "#Não há campos NaN para serem tratados"
   ]
  },
  {
   "cell_type": "code",
   "execution_count": 9,
   "id": "831fb269-13c6-42be-a0c8-53185be4cce0",
   "metadata": {},
   "outputs": [
    {
     "name": "stdout",
     "output_type": "stream",
     "text": [
      "Numero de observações: 254 \n",
      "Número de variáveis: 5\n"
     ]
    }
   ],
   "source": [
    "print(f'Numero de observações: {df_santander.shape[0]} \\nNúmero de variáveis: {df_santander.shape[1]}')  #formato"
   ]
  },
  {
   "cell_type": "markdown",
   "id": "f90ee35f-51da-4698-bcae-0b691e584f51",
   "metadata": {},
   "source": [
    "## Etapa de estatistica descritiva"
   ]
  },
  {
   "cell_type": "code",
   "execution_count": 10,
   "id": "b0b56aa1-f46f-4167-a88f-6dfc810d410c",
   "metadata": {},
   "outputs": [
    {
     "data": {
      "text/html": [
       "<div>\n",
       "<style scoped>\n",
       "    .dataframe tbody tr th:only-of-type {\n",
       "        vertical-align: middle;\n",
       "    }\n",
       "\n",
       "    .dataframe tbody tr th {\n",
       "        vertical-align: top;\n",
       "    }\n",
       "\n",
       "    .dataframe thead th {\n",
       "        text-align: right;\n",
       "    }\n",
       "</style>\n",
       "<table border=\"1\" class=\"dataframe\">\n",
       "  <thead>\n",
       "    <tr style=\"text-align: right;\">\n",
       "      <th></th>\n",
       "      <th>Open</th>\n",
       "      <th>High</th>\n",
       "      <th>Low</th>\n",
       "      <th>Close</th>\n",
       "      <th>Volume</th>\n",
       "    </tr>\n",
       "  </thead>\n",
       "  <tbody>\n",
       "    <tr>\n",
       "      <th>Contagem</th>\n",
       "      <td>254.000</td>\n",
       "      <td>254.000</td>\n",
       "      <td>254.000</td>\n",
       "      <td>254.000</td>\n",
       "      <td>254.000</td>\n",
       "    </tr>\n",
       "    <tr>\n",
       "      <th>Média</th>\n",
       "      <td>28.145</td>\n",
       "      <td>28.416</td>\n",
       "      <td>27.878</td>\n",
       "      <td>28.144</td>\n",
       "      <td>2664909.843</td>\n",
       "    </tr>\n",
       "    <tr>\n",
       "      <th>Desvio Padrão</th>\n",
       "      <td>1.322</td>\n",
       "      <td>1.337</td>\n",
       "      <td>1.322</td>\n",
       "      <td>1.331</td>\n",
       "      <td>4525544.892</td>\n",
       "    </tr>\n",
       "    <tr>\n",
       "      <th>Mínimo</th>\n",
       "      <td>25.475</td>\n",
       "      <td>25.840</td>\n",
       "      <td>25.370</td>\n",
       "      <td>25.418</td>\n",
       "      <td>0.000</td>\n",
       "    </tr>\n",
       "    <tr>\n",
       "      <th>1° Quartil</th>\n",
       "      <td>27.116</td>\n",
       "      <td>27.404</td>\n",
       "      <td>26.904</td>\n",
       "      <td>27.096</td>\n",
       "      <td>1464225.000</td>\n",
       "    </tr>\n",
       "    <tr>\n",
       "      <th>2° Quartil</th>\n",
       "      <td>27.927</td>\n",
       "      <td>28.309</td>\n",
       "      <td>27.726</td>\n",
       "      <td>27.981</td>\n",
       "      <td>1973400.000</td>\n",
       "    </tr>\n",
       "    <tr>\n",
       "      <th>3° Quartil</th>\n",
       "      <td>28.964</td>\n",
       "      <td>29.271</td>\n",
       "      <td>28.708</td>\n",
       "      <td>28.926</td>\n",
       "      <td>2938700.000</td>\n",
       "    </tr>\n",
       "    <tr>\n",
       "      <th>Máximo</th>\n",
       "      <td>31.199</td>\n",
       "      <td>31.534</td>\n",
       "      <td>31.071</td>\n",
       "      <td>31.327</td>\n",
       "      <td>71189700.000</td>\n",
       "    </tr>\n",
       "  </tbody>\n",
       "</table>\n",
       "</div>"
      ],
      "text/plain": [
       "                 Open    High     Low   Close       Volume\n",
       "Contagem      254.000 254.000 254.000 254.000      254.000\n",
       "Média          28.145  28.416  27.878  28.144  2664909.843\n",
       "Desvio Padrão   1.322   1.337   1.322   1.331  4525544.892\n",
       "Mínimo         25.475  25.840  25.370  25.418        0.000\n",
       "1° Quartil     27.116  27.404  26.904  27.096  1464225.000\n",
       "2° Quartil     27.927  28.309  27.726  27.981  1973400.000\n",
       "3° Quartil     28.964  29.271  28.708  28.926  2938700.000\n",
       "Máximo         31.199  31.534  31.071  31.327 71189700.000"
      ]
     },
     "execution_count": 10,
     "metadata": {},
     "output_type": "execute_result"
    }
   ],
   "source": [
    "df_santander_descritivo = df_santander.describe()\n",
    "\n",
    "#Renomeando o index\n",
    "df_santander_descritivo.index = ['Contagem','Média','Desvio Padrão', 'Mínimo', '1° Quartil', '2° Quartil', '3° Quartil', 'Máximo']\n",
    "\n",
    "#Defining o numero de casas decimais para 3\n",
    "pd.set_option('float.format','{:.3f}'.format)\n",
    "\n",
    "#Printando o novo data set\n",
    "df_santander_descritivo"
   ]
  },
  {
   "cell_type": "code",
   "execution_count": 11,
   "id": "59f9d6f9-b773-4127-b0f8-5f99d74d2c9e",
   "metadata": {},
   "outputs": [
    {
     "data": {
      "text/plain": [
       "CV_Open:        4.697%\n",
       "CV_High:        4.707%\n",
       "CV_Low:         4.741%\n",
       "CV_Close:       4.728%\n",
       "CV_Volume:    169.820%\n",
       "dtype: object"
      ]
     },
     "execution_count": 11,
     "metadata": {},
     "output_type": "execute_result"
    }
   ],
   "source": [
    "#Utilizando medidadas de dispersao, coeficiente de variancia\n",
    "\n",
    "\n",
    "#Calculando coeficiente de variação para as variaveis Open, High, Low e Close\n",
    "\n",
    "coeficientes_de_variacao = []\n",
    "for i in range (0,5):\n",
    "    coeficientes_de_variacao.append((df_santander_descritivo.iloc[2, i] / df_santander_descritivo.iloc[1, i]) * 100)\n",
    "\n",
    "#Adcionando a porcentagem, tendo em vista que o coeficiente da variação é obsavardo em porcentagem\n",
    "coeficientes_com_porcentagem = [f\"{coeficientes_de_variacao:.3f}%\" for coeficientes_de_variacao in coeficientes_de_variacao]\n",
    "\n",
    "#CV = Coeficiente de variação\n",
    "pd.Series(coeficientes_com_porcentagem, index=['CV_Open:','CV_High:','CV_Low:','CV_Close:', 'CV_Volume:'])"
   ]
  },
  {
   "cell_type": "code",
   "execution_count": 12,
   "id": "fa7f7332-afe2-4790-a63e-ca39405e1a97",
   "metadata": {},
   "outputs": [
    {
     "data": {
      "text/plain": [
       "[1.7472339945674078,\n",
       " 1.7887719321420887,\n",
       " 1.7471641267145916,\n",
       " 1.770766693473445,\n",
       " 20480556570377.035]"
      ]
     },
     "execution_count": 12,
     "metadata": {},
     "output_type": "execute_result"
    }
   ],
   "source": [
    "variancias = []\n",
    "\n",
    "for i in range(0,5):\n",
    "    variancias.append(df_santander.iloc[:, i].var())\n",
    "\n",
    "variancias"
   ]
  },
  {
   "cell_type": "code",
   "execution_count": 13,
   "id": "5dd48246-82ba-4806-91ae-10e0ac695655",
   "metadata": {},
   "outputs": [
    {
     "data": {
      "text/html": [
       "<div>\n",
       "<style scoped>\n",
       "    .dataframe tbody tr th:only-of-type {\n",
       "        vertical-align: middle;\n",
       "    }\n",
       "\n",
       "    .dataframe tbody tr th {\n",
       "        vertical-align: top;\n",
       "    }\n",
       "\n",
       "    .dataframe thead th {\n",
       "        text-align: right;\n",
       "    }\n",
       "</style>\n",
       "<table border=\"1\" class=\"dataframe\">\n",
       "  <thead>\n",
       "    <tr style=\"text-align: right;\">\n",
       "      <th></th>\n",
       "      <th>Open</th>\n",
       "      <th>High</th>\n",
       "      <th>Low</th>\n",
       "      <th>Close</th>\n",
       "      <th>Volume</th>\n",
       "    </tr>\n",
       "  </thead>\n",
       "  <tbody>\n",
       "    <tr>\n",
       "      <th>Contagem</th>\n",
       "      <td>254.000</td>\n",
       "      <td>254.000</td>\n",
       "      <td>254.000</td>\n",
       "      <td>254.000</td>\n",
       "      <td>254.000</td>\n",
       "    </tr>\n",
       "    <tr>\n",
       "      <th>Média</th>\n",
       "      <td>28.145</td>\n",
       "      <td>28.416</td>\n",
       "      <td>27.878</td>\n",
       "      <td>28.144</td>\n",
       "      <td>2664909.843</td>\n",
       "    </tr>\n",
       "    <tr>\n",
       "      <th>Desvio Padrão</th>\n",
       "      <td>1.322</td>\n",
       "      <td>1.337</td>\n",
       "      <td>1.322</td>\n",
       "      <td>1.331</td>\n",
       "      <td>4525544.892</td>\n",
       "    </tr>\n",
       "    <tr>\n",
       "      <th>Mínimo</th>\n",
       "      <td>25.475</td>\n",
       "      <td>25.840</td>\n",
       "      <td>25.370</td>\n",
       "      <td>25.418</td>\n",
       "      <td>0.000</td>\n",
       "    </tr>\n",
       "    <tr>\n",
       "      <th>1° Quartil</th>\n",
       "      <td>27.116</td>\n",
       "      <td>27.404</td>\n",
       "      <td>26.904</td>\n",
       "      <td>27.096</td>\n",
       "      <td>1464225.000</td>\n",
       "    </tr>\n",
       "    <tr>\n",
       "      <th>2° Quartil</th>\n",
       "      <td>27.927</td>\n",
       "      <td>28.309</td>\n",
       "      <td>27.726</td>\n",
       "      <td>27.981</td>\n",
       "      <td>1973400.000</td>\n",
       "    </tr>\n",
       "    <tr>\n",
       "      <th>3° Quartil</th>\n",
       "      <td>28.964</td>\n",
       "      <td>29.271</td>\n",
       "      <td>28.708</td>\n",
       "      <td>28.926</td>\n",
       "      <td>2938700.000</td>\n",
       "    </tr>\n",
       "    <tr>\n",
       "      <th>Máximo</th>\n",
       "      <td>31.199</td>\n",
       "      <td>31.534</td>\n",
       "      <td>31.071</td>\n",
       "      <td>31.327</td>\n",
       "      <td>71189700.000</td>\n",
       "    </tr>\n",
       "    <tr>\n",
       "      <th>Coeficiente de Variação</th>\n",
       "      <td>4.697%</td>\n",
       "      <td>4.707%</td>\n",
       "      <td>4.741%</td>\n",
       "      <td>4.728%</td>\n",
       "      <td>169.820%</td>\n",
       "    </tr>\n",
       "    <tr>\n",
       "      <th>Variancia</th>\n",
       "      <td>1.747</td>\n",
       "      <td>1.789</td>\n",
       "      <td>1.747</td>\n",
       "      <td>1.771</td>\n",
       "      <td>20480556570377.035</td>\n",
       "    </tr>\n",
       "  </tbody>\n",
       "</table>\n",
       "</div>"
      ],
      "text/plain": [
       "                           Open    High     Low   Close             Volume\n",
       "Contagem                254.000 254.000 254.000 254.000            254.000\n",
       "Média                    28.145  28.416  27.878  28.144        2664909.843\n",
       "Desvio Padrão             1.322   1.337   1.322   1.331        4525544.892\n",
       "Mínimo                   25.475  25.840  25.370  25.418              0.000\n",
       "1° Quartil               27.116  27.404  26.904  27.096        1464225.000\n",
       "2° Quartil               27.927  28.309  27.726  27.981        1973400.000\n",
       "3° Quartil               28.964  29.271  28.708  28.926        2938700.000\n",
       "Máximo                   31.199  31.534  31.071  31.327       71189700.000\n",
       "Coeficiente de Variação  4.697%  4.707%  4.741%  4.728%           169.820%\n",
       "Variancia                 1.747   1.789   1.747   1.771 20480556570377.035"
      ]
     },
     "execution_count": 13,
     "metadata": {},
     "output_type": "execute_result"
    }
   ],
   "source": [
    "#Adcionando os coeficientes de variação ao datagFrame\n",
    "df_santander_descritivo.loc['Coeficiente de Variação'] = coeficientes_com_porcentagem\n",
    "\n",
    "#Adcionando as variancias o ao datagFrame\n",
    "df_santander_descritivo.loc['Variancia'] = variancias\n",
    "\n",
    "df_santander_descritivo"
   ]
  },
  {
   "cell_type": "markdown",
   "id": "cc1387b2-201b-4ecb-a5ca-005df9d74895",
   "metadata": {},
   "source": [
    "### O que se pode observar das estatiscas acima?\n",
    "\n",
    "Em média, o valor de abertura da ação não é muito diferente do valor de fechamento. Tirando a variavel \"Volume\", o coeficiente de variação foi menor que 10% para todas as variaveis que os dados são significativamente homogêneos, ou seja, não são muitos dispersos"
   ]
  },
  {
   "cell_type": "markdown",
   "id": "2a71595e-a89c-4e52-8272-b11ad8230481",
   "metadata": {},
   "source": [
    "### Algumas informações gráficas simples"
   ]
  },
  {
   "cell_type": "code",
   "execution_count": 14,
   "id": "70946b7d-8cb8-4993-9dc7-7a4849fb7b09",
   "metadata": {},
   "outputs": [
    {
     "data": {
      "text/plain": [
       "31.327402114868164"
      ]
     },
     "execution_count": 14,
     "metadata": {},
     "output_type": "execute_result"
    }
   ],
   "source": [
    "df_santander['Close'].max()"
   ]
  },
  {
   "cell_type": "code",
   "execution_count": 15,
   "id": "94c8e813-7177-4730-ac2b-66c36a67cdd6",
   "metadata": {},
   "outputs": [
    {
     "data": {
      "text/plain": [
       "Text(2024-07-29 00:00:00-03:00, 28.244249187679742, 'Média')"
      ]
     },
     "execution_count": 15,
     "metadata": {},
     "output_type": "execute_result"
    },
    {
     "data": {
      "image/png": "[encoded data removed]",
      "text/plain": [
       "<Figure size 1500x800 with 1 Axes>"
      ]
     },
     "metadata": {},
     "output_type": "display_data"
    }
   ],
   "source": [
    "#Analisando apenas a variable \"Close\"\n",
    "\n",
    "#Plotando um graáfico de linha\n",
    "fig = plt.figure(figsize=(15,8))\n",
    "ax = fig.add_axes([0, 0, 1, 1])\n",
    "ax.plot(df_santander.index, df_santander['Close'], linewidth=4)\n",
    "\n",
    "#Traçando uma linha rente ao valor maximo ja atingido lo papel\n",
    "ax.axhline(df_santander['Close'].max(), c= 'r', ls = '--')\n",
    "ax.annotate(\"Máximo\", \n",
    "            (df_santander['Close'].idxmax(), df_santander['Close'].max() + 0.1),\n",
    "            fontsize=15,\n",
    "            c= 'r'\n",
    "           )\n",
    "\n",
    "#Traçando uma linha rente ao valor mínimo ja atingido lo papel\n",
    "ax.axhline(df_santander['Close'].min(), c='g', ls = '--')\n",
    "ax.annotate(\"Mínimo\", \n",
    "            (df_santander['Close'].idxmin(), df_santander['Close'].min() + 0.1),\n",
    "            fontsize=15,\n",
    "            c='g'\n",
    "           )\n",
    "\n",
    "#Traçando uma linha rente a média ja atingido lo papel\n",
    "ax.axhline(df_santander['Close'].mean(), c='y', ls = '--')\n",
    "ax.annotate(\"Média\", \n",
    "            ((df_santander['Close'] - df_santander['Close'].mean()).abs().idxmin(), df_santander['Close'].mean() + 0.1),\n",
    "            fontsize=20,\n",
    "            c='y'\n",
    "           )\n"
   ]
  },
  {
   "cell_type": "code",
   "execution_count": 16,
   "id": "574c7477-f5af-42e8-9999-fe59bae2ea85",
   "metadata": {},
   "outputs": [
    {
     "data": {
      "text/plain": [
       "<Axes: xlabel='Close', ylabel='Count'>"
      ]
     },
     "execution_count": 16,
     "metadata": {},
     "output_type": "execute_result"
    },
    {
     "data": {
      "image/png": "[encoded data removed]",
      "text/plain": [
       "<Figure size 640x480 with 1 Axes>"
      ]
     },
     "metadata": {},
     "output_type": "display_data"
    }
   ],
   "source": [
    "#Analisando a distribuição\n",
    "sns.histplot(df_santander['Close'])"
   ]
  },
  {
   "cell_type": "markdown",
   "id": "ed3ac504-16c2-4ac3-815e-c0256e22c371",
   "metadata": {},
   "source": [
    "### Tratamento do dataframe santander"
   ]
  },
  {
   "cell_type": "code",
   "execution_count": null,
   "id": "edb18660-f96b-4dab-9e19-1541ca1ea554",
   "metadata": {},
   "outputs": [],
   "source": []
  }
 ],
 "metadata": {
  "kernelspec": {
   "display_name": "Python 3 (ipykernel)",
   "language": "python",
   "name": "python3"
  },
  "language_info": {
   "codemirror_mode": {
    "name": "ipython",
    "version": 3
   },
   "file_extension": ".py",
   "mimetype": "text/x-python",
   "name": "python",
   "nbconvert_exporter": "python",
   "pygments_lexer": "ipython3",
   "version": "3.12.7"
  }
 },
 "nbformat": 4,
 "nbformat_minor": 5
}
